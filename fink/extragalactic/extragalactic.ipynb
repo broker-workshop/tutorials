{
 "cells": [
  {
   "cell_type": "markdown",
   "metadata": {},
   "source": [
    "<img src=\"../Fink_PrimaryLogo_WEB.jpg\" width=400 />\n",
    "\n",
    "# Fink case study: extragalactic science"
   ]
  },
  {
   "cell_type": "markdown",
   "metadata": {},
   "source": [
    "## Goal\n",
    "\n",
    "The goal of this notebook is to show how Fink can contribute to extragalactic science. This notebook includes queries for **Active Galactic Nucleii** and **Supernova** science. \n",
    "\n",
    "Real-time analysis for follow-up coordination will be better done through the Fink livestreams which processes and makes available the alert data within minutes of reception. Access through this notebook uses the API access which is not real-time based. We aggregate the data into our API and Science Portal database at the end of each observing night. API access can be useful to analyze last night and older alerts. "
   ]
  },
  {
   "cell_type": "markdown",
   "metadata": {},
   "source": [
    "## What is behind?\n",
    "\n",
    "This notebook will use:\n",
    "- **Fink cross-match** with close by sources in the  [SIMBAD (Wenger et al. 2020)](https://aas.aanda.org/articles/aas/abs/2000/07/ds1821/ds1821.html) catalogue (within 1'') using [xmatch service](http://cdsxmatch.u-strasbg.fr) provided by the Centre de Données astronomiques de Strasbourg (CDS) .\n",
    "- **Fink's machine learning classification** scores \n",
    "    - [SuperNNova](https://github.com/supernnova/SuperNNova) [(Möller & de Boissière 2019)](https://academic.oup.com/mnras/article-abstract/491/3/4277/5651173) to classify SNe at all light-curve epochs\n",
    "    - Random Forest (Leoni et al. in prep) and [(Ishida et al. 2019b)](https://ui.adsabs.harvard.edu/abs/2019MNRAS.483....2I/abstract) to classify early (pre-max) SN candidates\n",
    "- **Fink's extra features** such as color `g-r` or `rate` when possible."
   ]
  },
  {
   "cell_type": "markdown",
   "metadata": {},
   "source": [
    "## Environment set up\n",
    "\n",
    "To run this notebook, you need to import the following libraries (already installed in colab):"
   ]
  },
  {
   "cell_type": "code",
   "execution_count": 1,
   "metadata": {},
   "outputs": [],
   "source": [
    "import requests\n",
    "\n",
    "import pandas as pd\n",
    "import numpy as np\n",
    "\n",
    "import matplotlib.pyplot as plt\n",
    "import seaborn as sns\n",
    "sns.set_context('talk')"
   ]
  },
  {
   "cell_type": "markdown",
   "metadata": {},
   "source": [
    "# 1st case study: known AGNs"
   ]
  },
  {
   "cell_type": "markdown",
   "metadata": {},
   "source": [
    "### <font color='blue'>API query:</font> <font color='orange'> latest alerts</font> associated with known AGNs\n",
    "\n",
    "Each night, alerts are cross-matched in real-time against the CDS SIMBAD database. About 30% of the stream (after applying quality cuts) ends-up with a counter-part. Classified alerts can be then queried using the Fink API service. To know all available classes in SIMBAD, see http://134.158.75.151:24000/api/v1/classes. We will first focus on alerts spatially coincident with an AGN featured in the CDS Simbad catalogue:"
   ]
  },
  {
   "cell_type": "code",
   "execution_count": 2,
   "metadata": {},
   "outputs": [],
   "source": [
    "# Get latests 5 alerts linked to AGNs in a time window\n",
    "r = requests.post(\n",
    "  'http://134.158.75.151:24000/api/v1/latests',\n",
    "  json={\n",
    "    'class': '(SIMBAD) AGN',    # tag from CDSxmatch service\n",
    "    'n': '5' ,                  # number of alerts\n",
    "    'startdate': '2021-03-01',  # use a start date\n",
    "    'stopdate': '2021-03-05',   # use a stop date\n",
    "  }\n",
    ")\n",
    "\n",
    "# Format output in a DataFrame\n",
    "pdf = pd.read_json(r.content)"
   ]
  },
  {
   "cell_type": "markdown",
   "metadata": {},
   "source": [
    "Note that you can also use the `startdate` and `stopdate` arguments in the query. See http://134.158.75.151:24000/api/v1/latests to check all the available arguments. This table contains all alerts linked to a CDS catalogue AGN. This includes\n",
    "- Alert information from ZTF processing (just latest photometry points).\n",
    "- Fink's added values.\n",
    "\n",
    "The table schema is described at http://134.158.75.151:24000/api/v1/columns."
   ]
  },
  {
   "cell_type": "code",
   "execution_count": 3,
   "metadata": {},
   "outputs": [
    {
     "data": {
      "text/html": [
       "<div>\n",
       "<style scoped>\n",
       "    .dataframe tbody tr th:only-of-type {\n",
       "        vertical-align: middle;\n",
       "    }\n",
       "\n",
       "    .dataframe tbody tr th {\n",
       "        vertical-align: top;\n",
       "    }\n",
       "\n",
       "    .dataframe thead th {\n",
       "        text-align: right;\n",
       "    }\n",
       "</style>\n",
       "<table border=\"1\" class=\"dataframe\">\n",
       "  <thead>\n",
       "    <tr style=\"text-align: right;\">\n",
       "      <th></th>\n",
       "      <th>d:cdsxmatch</th>\n",
       "      <th>d:mulens_class_1</th>\n",
       "      <th>d:mulens_class_2</th>\n",
       "      <th>d:rfscore</th>\n",
       "      <th>d:roid</th>\n",
       "      <th>d:snn_sn_vs_all</th>\n",
       "      <th>d:snn_snia_vs_nonia</th>\n",
       "      <th>i:candid</th>\n",
       "      <th>i:chipsf</th>\n",
       "      <th>i:classtar</th>\n",
       "      <th>...</th>\n",
       "      <th>i:ypos</th>\n",
       "      <th>d:knscore</th>\n",
       "      <th>v:classification</th>\n",
       "      <th>v:g-r</th>\n",
       "      <th>v:rate(g-r)</th>\n",
       "      <th>v:dg</th>\n",
       "      <th>v:rate(dg)</th>\n",
       "      <th>v:dr</th>\n",
       "      <th>v:rate(dr)</th>\n",
       "      <th>v:lastdate</th>\n",
       "    </tr>\n",
       "  </thead>\n",
       "  <tbody>\n",
       "    <tr>\n",
       "      <th>0</th>\n",
       "      <td>AGN</td>\n",
       "      <td></td>\n",
       "      <td>VARIABLE</td>\n",
       "      <td>0.051</td>\n",
       "      <td>0</td>\n",
       "      <td>0.576968</td>\n",
       "      <td>0.005594</td>\n",
       "      <td>1522550283115015003</td>\n",
       "      <td>2.139355</td>\n",
       "      <td>0.660</td>\n",
       "      <td>...</td>\n",
       "      <td>1649.2211</td>\n",
       "      <td>0</td>\n",
       "      <td>AGN</td>\n",
       "      <td>NaN</td>\n",
       "      <td>NaN</td>\n",
       "      <td>0</td>\n",
       "      <td>0</td>\n",
       "      <td>-0.014711</td>\n",
       "      <td>-6.230454</td>\n",
       "      <td>2021-03-03 13:12:25.004</td>\n",
       "    </tr>\n",
       "    <tr>\n",
       "      <th>1</th>\n",
       "      <td>AGN</td>\n",
       "      <td></td>\n",
       "      <td>ML</td>\n",
       "      <td>0.050</td>\n",
       "      <td>0</td>\n",
       "      <td>0.708381</td>\n",
       "      <td>0.005782</td>\n",
       "      <td>1522547923115015002</td>\n",
       "      <td>2.369038</td>\n",
       "      <td>0.948</td>\n",
       "      <td>...</td>\n",
       "      <td>1648.0677</td>\n",
       "      <td>0</td>\n",
       "      <td>AGN</td>\n",
       "      <td>NaN</td>\n",
       "      <td>NaN</td>\n",
       "      <td>0</td>\n",
       "      <td>0</td>\n",
       "      <td>0.000000</td>\n",
       "      <td>0.000000</td>\n",
       "      <td>2021-03-03 13:09:00.996</td>\n",
       "    </tr>\n",
       "    <tr>\n",
       "      <th>2</th>\n",
       "      <td>AGN</td>\n",
       "      <td></td>\n",
       "      <td>VARIABLE</td>\n",
       "      <td>0.070</td>\n",
       "      <td>0</td>\n",
       "      <td>0.659850</td>\n",
       "      <td>0.009934</td>\n",
       "      <td>1522544521815015007</td>\n",
       "      <td>1.376921</td>\n",
       "      <td>0.669</td>\n",
       "      <td>...</td>\n",
       "      <td>1103.0751</td>\n",
       "      <td>0</td>\n",
       "      <td>AGN</td>\n",
       "      <td>NaN</td>\n",
       "      <td>NaN</td>\n",
       "      <td>0</td>\n",
       "      <td>0</td>\n",
       "      <td>0.018918</td>\n",
       "      <td>3.223824</td>\n",
       "      <td>2021-03-03 13:04:07.003</td>\n",
       "    </tr>\n",
       "    <tr>\n",
       "      <th>3</th>\n",
       "      <td>AGN</td>\n",
       "      <td></td>\n",
       "      <td>CONSTANT</td>\n",
       "      <td>0.070</td>\n",
       "      <td>0</td>\n",
       "      <td>0.608151</td>\n",
       "      <td>0.009055</td>\n",
       "      <td>1522538651815015010</td>\n",
       "      <td>3.046657</td>\n",
       "      <td>0.997</td>\n",
       "      <td>...</td>\n",
       "      <td>1100.1401</td>\n",
       "      <td>0</td>\n",
       "      <td>AGN</td>\n",
       "      <td>NaN</td>\n",
       "      <td>NaN</td>\n",
       "      <td>0</td>\n",
       "      <td>0</td>\n",
       "      <td>0.000000</td>\n",
       "      <td>0.000000</td>\n",
       "      <td>2021-03-03 12:55:39.999</td>\n",
       "    </tr>\n",
       "    <tr>\n",
       "      <th>4</th>\n",
       "      <td>AGN</td>\n",
       "      <td></td>\n",
       "      <td>CONSTANT</td>\n",
       "      <td>0.056</td>\n",
       "      <td>0</td>\n",
       "      <td>0.804907</td>\n",
       "      <td>0.888029</td>\n",
       "      <td>1522516342115010010</td>\n",
       "      <td>1.272973</td>\n",
       "      <td>0.982</td>\n",
       "      <td>...</td>\n",
       "      <td>2467.9878</td>\n",
       "      <td>0</td>\n",
       "      <td>AGN</td>\n",
       "      <td>NaN</td>\n",
       "      <td>NaN</td>\n",
       "      <td>0</td>\n",
       "      <td>0</td>\n",
       "      <td>0.000000</td>\n",
       "      <td>0.000000</td>\n",
       "      <td>2021-03-03 12:23:32.001</td>\n",
       "    </tr>\n",
       "  </tbody>\n",
       "</table>\n",
       "<p>5 rows × 52 columns</p>\n",
       "</div>"
      ],
      "text/plain": [
       "  d:cdsxmatch d:mulens_class_1 d:mulens_class_2  d:rfscore  d:roid  \\\n",
       "0         AGN                          VARIABLE      0.051       0   \n",
       "1         AGN                                ML      0.050       0   \n",
       "2         AGN                          VARIABLE      0.070       0   \n",
       "3         AGN                          CONSTANT      0.070       0   \n",
       "4         AGN                          CONSTANT      0.056       0   \n",
       "\n",
       "   d:snn_sn_vs_all  d:snn_snia_vs_nonia             i:candid  i:chipsf  \\\n",
       "0         0.576968             0.005594  1522550283115015003  2.139355   \n",
       "1         0.708381             0.005782  1522547923115015002  2.369038   \n",
       "2         0.659850             0.009934  1522544521815015007  1.376921   \n",
       "3         0.608151             0.009055  1522538651815015010  3.046657   \n",
       "4         0.804907             0.888029  1522516342115010010  1.272973   \n",
       "\n",
       "   i:classtar  ...     i:ypos  d:knscore  v:classification  v:g-r  \\\n",
       "0       0.660  ...  1649.2211          0               AGN    NaN   \n",
       "1       0.948  ...  1648.0677          0               AGN    NaN   \n",
       "2       0.669  ...  1103.0751          0               AGN    NaN   \n",
       "3       0.997  ...  1100.1401          0               AGN    NaN   \n",
       "4       0.982  ...  2467.9878          0               AGN    NaN   \n",
       "\n",
       "   v:rate(g-r)  v:dg  v:rate(dg)      v:dr  v:rate(dr)  \\\n",
       "0          NaN     0           0 -0.014711   -6.230454   \n",
       "1          NaN     0           0  0.000000    0.000000   \n",
       "2          NaN     0           0  0.018918    3.223824   \n",
       "3          NaN     0           0  0.000000    0.000000   \n",
       "4          NaN     0           0  0.000000    0.000000   \n",
       "\n",
       "                v:lastdate  \n",
       "0  2021-03-03 13:12:25.004  \n",
       "1  2021-03-03 13:09:00.996  \n",
       "2  2021-03-03 13:04:07.003  \n",
       "3  2021-03-03 12:55:39.999  \n",
       "4  2021-03-03 12:23:32.001  \n",
       "\n",
       "[5 rows x 52 columns]"
      ]
     },
     "execution_count": 3,
     "metadata": {},
     "output_type": "execute_result"
    }
   ],
   "source": [
    "pdf"
   ]
  },
  {
   "cell_type": "markdown",
   "metadata": {},
   "source": [
    "Get objects Ids associated to these alerts (AGNs in ZTF)."
   ]
  },
  {
   "cell_type": "code",
   "execution_count": 4,
   "metadata": {},
   "outputs": [],
   "source": [
    "recent_AGN_objectIds = pdf['i:objectId'].unique()"
   ]
  },
  {
   "cell_type": "markdown",
   "metadata": {},
   "source": [
    "### <font color='blue'>API query:</font> get <font color='orange'> photometry </font> for one of these AGNs\n",
    "\n",
    "You can then use the `objects` API service to get all the photometry about a particular object."
   ]
  },
  {
   "cell_type": "code",
   "execution_count": 5,
   "metadata": {},
   "outputs": [],
   "source": [
    "r = requests.post(\n",
    "  'http://134.158.75.151:24000/api/v1/objects',\n",
    "  json={\n",
    "    'objectId': recent_AGN_objectIds[0],\n",
    "    'output-format': 'json',\n",
    "    'withupperlim': 'True',\n",
    "    'startdate': '2021-03-01', # use a start date\n",
    "    'stopdate': '2021-03-05', # use a stop date\n",
    "  }\n",
    ")\n",
    "\n",
    "# Format output in a DataFrame\n",
    "single_object = pd.read_json(r.content)"
   ]
  },
  {
   "cell_type": "markdown",
   "metadata": {},
   "source": [
    "This query can include upper limits and bad  quality  data associated to this object using the argument `withupperlim`.\n",
    "\n",
    "See http://134.158.75.151:24000/api/v1/objects to get the list of available arguments."
   ]
  },
  {
   "cell_type": "markdown",
   "metadata": {},
   "source": [
    "### <font color='blue'>Plot:</font> light-curve for visualization\n",
    "\n",
    "See the example on http://134.158.75.151:24000/api to plot full lightcurve with layout template.  We implement here an useful function for plotting light-curves in this notebook."
   ]
  },
  {
   "cell_type": "code",
   "execution_count": 6,
   "metadata": {},
   "outputs": [],
   "source": [
    "def plot_lc(pdf):\n",
    "    \"\"\" Plot photometry contains in an alert\n",
    "    \n",
    "    Parameters\n",
    "    ----------\n",
    "    pdf: pandas DataFrame\n",
    "        Pandas DataFrame with single alert row\n",
    "    \"\"\"\n",
    "    fig = plt.figure(figsize=(15, 6))\n",
    "\n",
    "    # Colors to plot\n",
    "    colordic = {1: 'C0', 2: 'C1'}\n",
    "\n",
    "    # Labels of ZTF filters\n",
    "    filtdic = {1: 'g', 2: 'r'}\n",
    "\n",
    "    for filt in np.unique(pdf['i:fid']):\n",
    "        # select data from one filter at a time\n",
    "        maskFilt = pdf['i:fid'] == filt\n",
    "\n",
    "        # The column `d:tag` is used to check data type\n",
    "        maskValid = pdf['d:tag'] == 'valid'\n",
    "        plt.errorbar(\n",
    "            pdf[maskValid & maskFilt]['i:jd'].apply(lambda x: x - 2400000.5),\n",
    "            pdf[maskValid & maskFilt]['i:magpsf'],\n",
    "            pdf[maskValid & maskFilt]['i:sigmapsf'],\n",
    "            ls = '', marker='o', color=colordic[filt], label=filtdic[filt]\n",
    "        )\n",
    "\n",
    "        maskUpper = pdf['d:tag'] == 'upperlim'\n",
    "        plt.plot(\n",
    "            pdf[maskUpper & maskFilt]['i:jd'].apply(lambda x: x - 2400000.5),\n",
    "            pdf[maskUpper & maskFilt]['i:diffmaglim'],\n",
    "            ls='', marker='v', color=colordic[filt], markerfacecolor='none'\n",
    "        )\n",
    "\n",
    "        maskBadquality = pdf['d:tag'] == 'badquality'\n",
    "        plt.errorbar(\n",
    "            pdf[maskBadquality & maskFilt]['i:jd'].apply(lambda x: x - 2400000.5),\n",
    "            pdf[maskBadquality & maskFilt]['i:magpsf'],\n",
    "            pdf[maskBadquality & maskFilt]['i:sigmapsf'],\n",
    "            ls='', marker='^', color=colordic[filt]\n",
    "        )\n",
    "\n",
    "    plt.gca().invert_yaxis()\n",
    "    plt.legend()\n",
    "    plt.title(pdf['i:objectId'][0])\n",
    "    plt.xlabel('Modified Julian Date')\n",
    "    plt.ylabel('Magnitude')\n",
    "    plt.show()\n",
    "    msg = \"\"\"\n",
    "    - Circles (●) with error bars show valid alerts that pass the Fink quality cuts. \n",
    "    - Upper triangles with errors (▲), represent alert measurements that do not satisfy Fink quality cuts, but are nevetheless contained in the history of valid alerts and used by classifiers.\n",
    "    - Lower triangles (▽), represent 5-sigma mag limit in difference image based on PSF-fit photometry contained in the history of valid alerts.\n",
    "    \"\"\"\n",
    "    print(msg)"
   ]
  },
  {
   "cell_type": "code",
   "execution_count": 7,
   "metadata": {},
   "outputs": [
    {
     "data": {
      "image/png": "[encoded data removed]",
      "text/plain": [
       "<Figure size 1080x432 with 1 Axes>"
      ]
     },
     "metadata": {
      "needs_background": "light"
     },
     "output_type": "display_data"
    },
    {
     "name": "stdout",
     "output_type": "stream",
     "text": [
      "\n",
      "    - Circles (●) with error bars show valid alerts that pass the Fink quality cuts. \n",
      "    - Upper triangles with errors (▲), represent alert measurements that do not satisfy Fink quality cuts, but are nevetheless contained in the history of valid alerts and used by classifiers.\n",
      "    - Lower triangles (▽), represent 5-sigma mag limit in difference image based on PSF-fit photometry contained in the history of valid alerts.\n",
      "    \n"
     ]
    }
   ],
   "source": [
    "plot_lc(single_object)"
   ]
  },
  {
   "cell_type": "markdown",
   "metadata": {},
   "source": [
    "# 2nd case study: early supernovae candidates\n",
    "**Early supernova candidates is a tag defined and provided by Fink.** \n",
    "It requires that the alert has no known transient association (from catalogues), it is relatively new (number of previous detections < 20) and when both a [SuperNNova](https://github.com/supernnova/SuperNNova) [(Möller & de Boissière 2019)](https://academic.oup.com/mnras/article-abstract/491/3/4277/5651173) trained to identify SNe Ia or SNe and a Random Forest (Leoni et al. in prep.) based on [(Ishida et al. 2019b)](https://ui.adsabs.harvard.edu/abs/2019MNRAS.483....2I/abstract) trained to select early supernovae have a probability higher than 50% of this object being a SN."
   ]
  },
  {
   "cell_type": "markdown",
   "metadata": {},
   "source": [
    "### <font color='blue'>API query:</font>   <font color='orange'>latest alerts </font>  tagged as early supernovae candidates"
   ]
  },
  {
   "cell_type": "code",
   "execution_count": 32,
   "metadata": {},
   "outputs": [],
   "source": [
    "# Get latests Early SN candidates (200 max)\n",
    "r = requests.post(\n",
    "  'http://134.158.75.151:24000/api/v1/latests',\n",
    "  json={\n",
    "    'class': 'Early SN candidate',\n",
    "    'n': '200',\n",
    "    'startdate': '2021-04-01', # use a start date\n",
    "    'stopdate': '2021-04-13', # use a stop date\n",
    "  }\n",
    ")\n",
    "\n",
    "# Format output in a DataFrame\n",
    "pdf = pd.read_json(r.content)"
   ]
  },
  {
   "cell_type": "markdown",
   "metadata": {},
   "source": [
    "### <font color='blue'>Inspect:</font> <font Color='orange'>color</font>  of these alerts (if there are g and r measurements in the same night)\n",
    "Color `v:g-r` is an added value provided by Fink. It is computed as the subtraction of the `magpsf` in the `g` filter minus its corresponding `magpsf` in the `r` filter for an object in a given night. If no same-night different filter measurements are available, the value of color is `NaN`."
   ]
  },
  {
   "cell_type": "code",
   "execution_count": 33,
   "metadata": {},
   "outputs": [
    {
     "data": {
      "text/html": [
       "<div>\n",
       "<style scoped>\n",
       "    .dataframe tbody tr th:only-of-type {\n",
       "        vertical-align: middle;\n",
       "    }\n",
       "\n",
       "    .dataframe tbody tr th {\n",
       "        vertical-align: top;\n",
       "    }\n",
       "\n",
       "    .dataframe thead th {\n",
       "        text-align: right;\n",
       "    }\n",
       "</style>\n",
       "<table border=\"1\" class=\"dataframe\">\n",
       "  <thead>\n",
       "    <tr style=\"text-align: right;\">\n",
       "      <th></th>\n",
       "      <th>v:lastdate</th>\n",
       "      <th>v:rate(dr)</th>\n",
       "      <th>v:dr</th>\n",
       "      <th>v:rate(dg)</th>\n",
       "      <th>v:dg</th>\n",
       "      <th>v:rate(g-r)</th>\n",
       "      <th>v:g-r</th>\n",
       "      <th>v:classification</th>\n",
       "      <th>i:ypos</th>\n",
       "      <th>i:xpos</th>\n",
       "      <th>...</th>\n",
       "      <th>i:chipsf</th>\n",
       "      <th>i:candid</th>\n",
       "      <th>d:snn_snia_vs_nonia</th>\n",
       "      <th>d:snn_sn_vs_all</th>\n",
       "      <th>d:roid</th>\n",
       "      <th>d:rfscore</th>\n",
       "      <th>d:mulens_class_2</th>\n",
       "      <th>d:mulens_class_1</th>\n",
       "      <th>d:knscore</th>\n",
       "      <th>d:cdsxmatch</th>\n",
       "    </tr>\n",
       "  </thead>\n",
       "  <tbody>\n",
       "    <tr>\n",
       "      <th>4</th>\n",
       "      <td>2021-04-12 05:21:03.001</td>\n",
       "      <td>0.055274</td>\n",
       "      <td>0.166485</td>\n",
       "      <td>0.000000</td>\n",
       "      <td>0.000000</td>\n",
       "      <td>-0.013245</td>\n",
       "      <td>-0.026489</td>\n",
       "      <td>Early SN candidate</td>\n",
       "      <td>2012.3839</td>\n",
       "      <td>1865.0878</td>\n",
       "      <td>...</td>\n",
       "      <td>4.450665</td>\n",
       "      <td>1562222953415015014</td>\n",
       "      <td>0.877312</td>\n",
       "      <td>0.982006</td>\n",
       "      <td>0</td>\n",
       "      <td>0.941</td>\n",
       "      <td></td>\n",
       "      <td></td>\n",
       "      <td>0.0</td>\n",
       "      <td>Unknown</td>\n",
       "    </tr>\n",
       "    <tr>\n",
       "      <th>11</th>\n",
       "      <td>2021-04-12 04:37:05.002</td>\n",
       "      <td>0.000000</td>\n",
       "      <td>0.000000</td>\n",
       "      <td>0.000000</td>\n",
       "      <td>0.000000</td>\n",
       "      <td>0.023008</td>\n",
       "      <td>0.046016</td>\n",
       "      <td>Early SN candidate</td>\n",
       "      <td>1879.5472</td>\n",
       "      <td>1519.9637</td>\n",
       "      <td>...</td>\n",
       "      <td>23.718670</td>\n",
       "      <td>1562192414715015029</td>\n",
       "      <td>0.883226</td>\n",
       "      <td>0.944786</td>\n",
       "      <td>0</td>\n",
       "      <td>0.685</td>\n",
       "      <td></td>\n",
       "      <td></td>\n",
       "      <td>0.0</td>\n",
       "      <td>Unknown</td>\n",
       "    </tr>\n",
       "    <tr>\n",
       "      <th>18</th>\n",
       "      <td>2021-04-11 11:16:46.004</td>\n",
       "      <td>0.000000</td>\n",
       "      <td>0.000000</td>\n",
       "      <td>0.000000</td>\n",
       "      <td>0.000000</td>\n",
       "      <td>-0.064314</td>\n",
       "      <td>-0.128629</td>\n",
       "      <td>Early SN candidate</td>\n",
       "      <td>1532.9552</td>\n",
       "      <td>948.3482</td>\n",
       "      <td>...</td>\n",
       "      <td>1.770178</td>\n",
       "      <td>1561469974015015008</td>\n",
       "      <td>0.873100</td>\n",
       "      <td>0.982564</td>\n",
       "      <td>0</td>\n",
       "      <td>0.587</td>\n",
       "      <td></td>\n",
       "      <td></td>\n",
       "      <td>0.0</td>\n",
       "      <td>Unknown</td>\n",
       "    </tr>\n",
       "    <tr>\n",
       "      <th>33</th>\n",
       "      <td>2021-04-10 04:36:47.998</td>\n",
       "      <td>0.000000</td>\n",
       "      <td>0.000000</td>\n",
       "      <td>0.058326</td>\n",
       "      <td>0.294067</td>\n",
       "      <td>0.001336</td>\n",
       "      <td>0.002672</td>\n",
       "      <td>Early SN candidate</td>\n",
       "      <td>1883.1534</td>\n",
       "      <td>1520.8068</td>\n",
       "      <td>...</td>\n",
       "      <td>14.542282</td>\n",
       "      <td>1560192224715015022</td>\n",
       "      <td>0.866213</td>\n",
       "      <td>0.834682</td>\n",
       "      <td>0</td>\n",
       "      <td>0.711</td>\n",
       "      <td></td>\n",
       "      <td></td>\n",
       "      <td>0.0</td>\n",
       "      <td>Unknown</td>\n",
       "    </tr>\n",
       "    <tr>\n",
       "      <th>41</th>\n",
       "      <td>2021-04-09 07:11:46.003</td>\n",
       "      <td>0.014598</td>\n",
       "      <td>0.028779</td>\n",
       "      <td>0.000000</td>\n",
       "      <td>0.000000</td>\n",
       "      <td>-0.121078</td>\n",
       "      <td>-0.242155</td>\n",
       "      <td>Early SN candidate</td>\n",
       "      <td>1374.2401</td>\n",
       "      <td>694.8143</td>\n",
       "      <td>...</td>\n",
       "      <td>2.466744</td>\n",
       "      <td>1559299830015015010</td>\n",
       "      <td>0.834523</td>\n",
       "      <td>0.819100</td>\n",
       "      <td>0</td>\n",
       "      <td>0.659</td>\n",
       "      <td></td>\n",
       "      <td>ML</td>\n",
       "      <td>0.0</td>\n",
       "      <td>Unknown</td>\n",
       "    </tr>\n",
       "  </tbody>\n",
       "</table>\n",
       "<p>5 rows × 52 columns</p>\n",
       "</div>"
      ],
      "text/plain": [
       "                 v:lastdate  v:rate(dr)      v:dr  v:rate(dg)      v:dg  \\\n",
       "4   2021-04-12 05:21:03.001    0.055274  0.166485    0.000000  0.000000   \n",
       "11  2021-04-12 04:37:05.002    0.000000  0.000000    0.000000  0.000000   \n",
       "18  2021-04-11 11:16:46.004    0.000000  0.000000    0.000000  0.000000   \n",
       "33  2021-04-10 04:36:47.998    0.000000  0.000000    0.058326  0.294067   \n",
       "41  2021-04-09 07:11:46.003    0.014598  0.028779    0.000000  0.000000   \n",
       "\n",
       "    v:rate(g-r)     v:g-r    v:classification     i:ypos     i:xpos  ...  \\\n",
       "4     -0.013245 -0.026489  Early SN candidate  2012.3839  1865.0878  ...   \n",
       "11     0.023008  0.046016  Early SN candidate  1879.5472  1519.9637  ...   \n",
       "18    -0.064314 -0.128629  Early SN candidate  1532.9552   948.3482  ...   \n",
       "33     0.001336  0.002672  Early SN candidate  1883.1534  1520.8068  ...   \n",
       "41    -0.121078 -0.242155  Early SN candidate  1374.2401   694.8143  ...   \n",
       "\n",
       "     i:chipsf             i:candid  d:snn_snia_vs_nonia  d:snn_sn_vs_all  \\\n",
       "4    4.450665  1562222953415015014             0.877312         0.982006   \n",
       "11  23.718670  1562192414715015029             0.883226         0.944786   \n",
       "18   1.770178  1561469974015015008             0.873100         0.982564   \n",
       "33  14.542282  1560192224715015022             0.866213         0.834682   \n",
       "41   2.466744  1559299830015015010             0.834523         0.819100   \n",
       "\n",
       "    d:roid  d:rfscore  d:mulens_class_2  d:mulens_class_1  d:knscore  \\\n",
       "4        0      0.941                                            0.0   \n",
       "11       0      0.685                                            0.0   \n",
       "18       0      0.587                                            0.0   \n",
       "33       0      0.711                                            0.0   \n",
       "41       0      0.659                                  ML        0.0   \n",
       "\n",
       "    d:cdsxmatch  \n",
       "4       Unknown  \n",
       "11      Unknown  \n",
       "18      Unknown  \n",
       "33      Unknown  \n",
       "41      Unknown  \n",
       "\n",
       "[5 rows x 52 columns]"
      ]
     },
     "execution_count": 33,
     "metadata": {},
     "output_type": "execute_result"
    }
   ],
   "source": [
    "# select only valid color measurements\n",
    "candSNe_w_color = pdf[~pdf[\"v:g-r\"].isna()]\n",
    "\n",
    "# display 5 of these alerts with inverted column order\n",
    "candSNe_w_color[candSNe_w_color.columns[::-1]][:5]"
   ]
  },
  {
   "cell_type": "markdown",
   "metadata": {},
   "source": [
    "The table schema is described at http://134.158.75.151:24000/api/v1/columns."
   ]
  },
  {
   "cell_type": "markdown",
   "metadata": {},
   "source": [
    "We may want now to see the distribution of the latest colors of alerts"
   ]
  },
  {
   "cell_type": "code",
   "execution_count": 34,
   "metadata": {},
   "outputs": [
    {
     "data": {
      "text/plain": [
       "Text(0, 0.5, 'number of objects')"
      ]
     },
     "execution_count": 34,
     "metadata": {},
     "output_type": "execute_result"
    },
    {
     "data": {
      "image/png": "[encoded data removed]",
      "text/plain": [
       "<Figure size 1080x432 with 1 Axes>"
      ]
     },
     "metadata": {
      "needs_background": "light"
     },
     "output_type": "display_data"
    }
   ],
   "source": [
    "fig = plt.figure(figsize=(15, 6))\n",
    "\n",
    "plt.hist(candSNe_w_color[\"v:g-r\"], histtype='step')\n",
    "plt.xlabel(\"Color (g-r)\")\n",
    "plt.ylabel('number of objects')"
   ]
  },
  {
   "cell_type": "markdown",
   "metadata": {},
   "source": [
    "### <font color='blue'>Selecting </font>   <font color='orange'>\"bluer\" color</font>  (e.g. g-r >0)\n",
    "\n",
    "An example for a possible query: searching alerts which have positive `v:g-r`. Which is equivalent to loosely saying they are \"bluer\" events."
   ]
  },
  {
   "cell_type": "code",
   "execution_count": 38,
   "metadata": {},
   "outputs": [
    {
     "data": {
      "text/html": [
       "<div>\n",
       "<style scoped>\n",
       "    .dataframe tbody tr th:only-of-type {\n",
       "        vertical-align: middle;\n",
       "    }\n",
       "\n",
       "    .dataframe tbody tr th {\n",
       "        vertical-align: top;\n",
       "    }\n",
       "\n",
       "    .dataframe thead th {\n",
       "        text-align: right;\n",
       "    }\n",
       "</style>\n",
       "<table border=\"1\" class=\"dataframe\">\n",
       "  <thead>\n",
       "    <tr style=\"text-align: right;\">\n",
       "      <th></th>\n",
       "      <th>i:objectId</th>\n",
       "      <th>v:g-r</th>\n",
       "      <th>v:lastdate</th>\n",
       "    </tr>\n",
       "  </thead>\n",
       "  <tbody>\n",
       "    <tr>\n",
       "      <th>11</th>\n",
       "      <td>ZTF21aaqvmix</td>\n",
       "      <td>0.046016</td>\n",
       "      <td>2021-04-12 04:37:05.002</td>\n",
       "    </tr>\n",
       "    <tr>\n",
       "      <th>33</th>\n",
       "      <td>ZTF21aaqvmix</td>\n",
       "      <td>0.002672</td>\n",
       "      <td>2021-04-10 04:36:47.998</td>\n",
       "    </tr>\n",
       "    <tr>\n",
       "      <th>52</th>\n",
       "      <td>ZTF21aapxtqg</td>\n",
       "      <td>0.043254</td>\n",
       "      <td>2021-04-08 04:59:43.002</td>\n",
       "    </tr>\n",
       "    <tr>\n",
       "      <th>61</th>\n",
       "      <td>ZTF21aapkhsc</td>\n",
       "      <td>0.226711</td>\n",
       "      <td>2021-04-07 07:34:31.002</td>\n",
       "    </tr>\n",
       "    <tr>\n",
       "      <th>63</th>\n",
       "      <td>ZTF21aaquhqr</td>\n",
       "      <td>0.456181</td>\n",
       "      <td>2021-04-07 07:04:25.000</td>\n",
       "    </tr>\n",
       "    <tr>\n",
       "      <th>66</th>\n",
       "      <td>ZTF21aaqgrrf</td>\n",
       "      <td>0.062531</td>\n",
       "      <td>2021-04-07 04:58:58.999</td>\n",
       "    </tr>\n",
       "    <tr>\n",
       "      <th>93</th>\n",
       "      <td>ZTF21aaqizwm</td>\n",
       "      <td>0.028593</td>\n",
       "      <td>2021-04-04 06:24:58.003</td>\n",
       "    </tr>\n",
       "    <tr>\n",
       "      <th>98</th>\n",
       "      <td>ZTF21aapxtqg</td>\n",
       "      <td>0.015326</td>\n",
       "      <td>2021-04-04 04:43:44.999</td>\n",
       "    </tr>\n",
       "  </tbody>\n",
       "</table>\n",
       "</div>"
      ],
      "text/plain": [
       "      i:objectId     v:g-r               v:lastdate\n",
       "11  ZTF21aaqvmix  0.046016  2021-04-12 04:37:05.002\n",
       "33  ZTF21aaqvmix  0.002672  2021-04-10 04:36:47.998\n",
       "52  ZTF21aapxtqg  0.043254  2021-04-08 04:59:43.002\n",
       "61  ZTF21aapkhsc  0.226711  2021-04-07 07:34:31.002\n",
       "63  ZTF21aaquhqr  0.456181  2021-04-07 07:04:25.000\n",
       "66  ZTF21aaqgrrf  0.062531  2021-04-07 04:58:58.999\n",
       "93  ZTF21aaqizwm  0.028593  2021-04-04 06:24:58.003\n",
       "98  ZTF21aapxtqg  0.015326  2021-04-04 04:43:44.999"
      ]
     },
     "execution_count": 38,
     "metadata": {},
     "output_type": "execute_result"
    }
   ],
   "source": [
    "color_selected = candSNe_w_color[candSNe_w_color[\"v:g-r\"] > 0]\n",
    "\n",
    "color_selected[['i:objectId', \"v:g-r\", \"v:lastdate\"]]"
   ]
  },
  {
   "cell_type": "markdown",
   "metadata": {},
   "source": [
    "### <font color='blue'>Selecting </font>   <font color='orange'>\"bluer\" brighter</font>    select alerts with given color and brighter than magpsf 19 (either filter)\n",
    "An example for a possible query: searching alerts which have negative `v:g-r` and are brighter than a given magnitude.\n",
    "Please note that this is the latest measured magnitude, not a projection."
   ]
  },
  {
   "cell_type": "code",
   "execution_count": 39,
   "metadata": {},
   "outputs": [
    {
     "data": {
      "text/html": [
       "<div>\n",
       "<style scoped>\n",
       "    .dataframe tbody tr th:only-of-type {\n",
       "        vertical-align: middle;\n",
       "    }\n",
       "\n",
       "    .dataframe tbody tr th {\n",
       "        vertical-align: top;\n",
       "    }\n",
       "\n",
       "    .dataframe thead th {\n",
       "        text-align: right;\n",
       "    }\n",
       "</style>\n",
       "<table border=\"1\" class=\"dataframe\">\n",
       "  <thead>\n",
       "    <tr style=\"text-align: right;\">\n",
       "      <th></th>\n",
       "      <th>i:objectId</th>\n",
       "      <th>i:magpsf</th>\n",
       "      <th>v:g-r</th>\n",
       "      <th>v:rate(g-r)</th>\n",
       "      <th>v:lastdate</th>\n",
       "    </tr>\n",
       "  </thead>\n",
       "  <tbody>\n",
       "    <tr>\n",
       "      <th>11</th>\n",
       "      <td>ZTF21aaqvmix</td>\n",
       "      <td>17.434948</td>\n",
       "      <td>0.046016</td>\n",
       "      <td>0.023008</td>\n",
       "      <td>2021-04-12 04:37:05.002</td>\n",
       "    </tr>\n",
       "    <tr>\n",
       "      <th>33</th>\n",
       "      <td>ZTF21aaqvmix</td>\n",
       "      <td>17.316248</td>\n",
       "      <td>0.002672</td>\n",
       "      <td>0.001336</td>\n",
       "      <td>2021-04-10 04:36:47.998</td>\n",
       "    </tr>\n",
       "    <tr>\n",
       "      <th>52</th>\n",
       "      <td>ZTF21aapxtqg</td>\n",
       "      <td>17.248375</td>\n",
       "      <td>0.043254</td>\n",
       "      <td>0.010813</td>\n",
       "      <td>2021-04-08 04:59:43.002</td>\n",
       "    </tr>\n",
       "    <tr>\n",
       "      <th>61</th>\n",
       "      <td>ZTF21aapkhsc</td>\n",
       "      <td>17.576960</td>\n",
       "      <td>0.226711</td>\n",
       "      <td>0.037785</td>\n",
       "      <td>2021-04-07 07:34:31.002</td>\n",
       "    </tr>\n",
       "    <tr>\n",
       "      <th>63</th>\n",
       "      <td>ZTF21aaquhqr</td>\n",
       "      <td>17.855524</td>\n",
       "      <td>0.456181</td>\n",
       "      <td>0.228091</td>\n",
       "      <td>2021-04-07 07:04:25.000</td>\n",
       "    </tr>\n",
       "    <tr>\n",
       "      <th>66</th>\n",
       "      <td>ZTF21aaqgrrf</td>\n",
       "      <td>18.794737</td>\n",
       "      <td>0.062531</td>\n",
       "      <td>0.031265</td>\n",
       "      <td>2021-04-07 04:58:58.999</td>\n",
       "    </tr>\n",
       "    <tr>\n",
       "      <th>93</th>\n",
       "      <td>ZTF21aaqizwm</td>\n",
       "      <td>18.060432</td>\n",
       "      <td>0.028593</td>\n",
       "      <td>0.014296</td>\n",
       "      <td>2021-04-04 06:24:58.003</td>\n",
       "    </tr>\n",
       "    <tr>\n",
       "      <th>98</th>\n",
       "      <td>ZTF21aapxtqg</td>\n",
       "      <td>17.382480</td>\n",
       "      <td>0.015326</td>\n",
       "      <td>0.007663</td>\n",
       "      <td>2021-04-04 04:43:44.999</td>\n",
       "    </tr>\n",
       "  </tbody>\n",
       "</table>\n",
       "</div>"
      ],
      "text/plain": [
       "      i:objectId   i:magpsf     v:g-r  v:rate(g-r)               v:lastdate\n",
       "11  ZTF21aaqvmix  17.434948  0.046016     0.023008  2021-04-12 04:37:05.002\n",
       "33  ZTF21aaqvmix  17.316248  0.002672     0.001336  2021-04-10 04:36:47.998\n",
       "52  ZTF21aapxtqg  17.248375  0.043254     0.010813  2021-04-08 04:59:43.002\n",
       "61  ZTF21aapkhsc  17.576960  0.226711     0.037785  2021-04-07 07:34:31.002\n",
       "63  ZTF21aaquhqr  17.855524  0.456181     0.228091  2021-04-07 07:04:25.000\n",
       "66  ZTF21aaqgrrf  18.794737  0.062531     0.031265  2021-04-07 04:58:58.999\n",
       "93  ZTF21aaqizwm  18.060432  0.028593     0.014296  2021-04-04 06:24:58.003\n",
       "98  ZTF21aapxtqg  17.382480  0.015326     0.007663  2021-04-04 04:43:44.999"
      ]
     },
     "execution_count": 39,
     "metadata": {},
     "output_type": "execute_result"
    }
   ],
   "source": [
    "bright_candSNe_w_color = color_selected[color_selected[\"i:magpsf\"] < 19]\n",
    "\n",
    "bright_candSNe_w_color[[\"i:objectId\", \"i:magpsf\", \"v:g-r\", \"v:rate(g-r)\", \"v:lastdate\"]]"
   ]
  },
  {
   "cell_type": "markdown",
   "metadata": {},
   "source": [
    "If there has been two consecutive nights with color measurement, the `v:rate(g-r)` would be different from `NaN`. This could be an useful added value to inspect the color evolution of the transient and filter candidates."
   ]
  },
  {
   "cell_type": "markdown",
   "metadata": {},
   "source": [
    "### <font color='blue'> API query:</font>   <font color='orange'>photometry</font>  for one high-probability alert with given color and brighter than magpsf 19 (either filter)\n",
    "An example for a possible query: searching alerts with high-classification probability which have positive `v:g-r` and are brighter than a given magnitude.\n",
    "\n",
    "[SuperNNova](https://github.com/supernnova/SuperNNova) [(Möller & de Boissière 2019)](https://academic.oup.com/mnras/article-abstract/491/3/4277/5651173) can be trained in different ways. Currently we have models trained to disentangle `SNe Ia vs non Ia` `(snn_snia_vs_nonia)` and `SNe vs other transients` `(snn_sn_vs_all)`. These algorithms have been trained using simulations from [(Muthukrishna et al. 2019)](https://arxiv.org/abs/1904.00014)."
   ]
  },
  {
   "cell_type": "code",
   "execution_count": 13,
   "metadata": {},
   "outputs": [],
   "source": [
    "prob_threshold = 0.8 # 80% confidence"
   ]
  },
  {
   "cell_type": "code",
   "execution_count": 14,
   "metadata": {},
   "outputs": [],
   "source": [
    "# select alerts that fit criteria\n",
    "f1 = bright_candSNe_w_color['d:snn_sn_vs_all'] > prob_threshold\n",
    "f2 = bright_candSNe_w_color['d:snn_snia_vs_nonia'] > prob_threshold\n",
    "high_prob_objs = bright_candSNe_w_color[f1 | f2]"
   ]
  },
  {
   "cell_type": "code",
   "execution_count": 15,
   "metadata": {},
   "outputs": [],
   "source": [
    "# select the latests alert and object\n",
    "high_prob_obj = high_prob_objs.sort_values(by=['i:ndethist'])['i:objectId'].iloc[-1]"
   ]
  },
  {
   "cell_type": "code",
   "execution_count": 16,
   "metadata": {},
   "outputs": [],
   "source": [
    "r = requests.post(\n",
    "  'http://134.158.75.151:24000/api/v1/objects',\n",
    "  json={\n",
    "    'objectId': high_prob_obj,\n",
    "    'output-format': 'json',\n",
    "    'withupperlim': 'True',\n",
    "    'startdate': '2021-03-01', # use a start date\n",
    "    'stopdate': '2021-03-05', # use a stop date\n",
    "  }\n",
    ")\n",
    "\n",
    "# Format output in a DataFrame\n",
    "single_object = pd.read_json(r.content)"
   ]
  },
  {
   "cell_type": "code",
   "execution_count": 17,
   "metadata": {},
   "outputs": [
    {
     "data": {
      "image/png": "[encoded data removed]",
      "text/plain": [
       "<Figure size 1080x432 with 1 Axes>"
      ]
     },
     "metadata": {
      "needs_background": "light"
     },
     "output_type": "display_data"
    },
    {
     "name": "stdout",
     "output_type": "stream",
     "text": [
      "\n",
      "    - Circles (●) with error bars show valid alerts that pass the Fink quality cuts. \n",
      "    - Upper triangles with errors (▲), represent alert measurements that do not satisfy Fink quality cuts, but are nevetheless contained in the history of valid alerts and used by classifiers.\n",
      "    - Lower triangles (▽), represent 5-sigma mag limit in difference image based on PSF-fit photometry contained in the history of valid alerts.\n",
      "    \n"
     ]
    }
   ],
   "source": [
    "plot_lc(single_object)"
   ]
  },
  {
   "cell_type": "markdown",
   "metadata": {},
   "source": [
    "###  <font color='orange'>Color evolution </font>  for one high-probability alert with given color and brighter than magpsf 19 (either filter)"
   ]
  },
  {
   "cell_type": "code",
   "execution_count": 19,
   "metadata": {},
   "outputs": [
    {
     "data": {
      "image/png": "[encoded data removed]",
      "text/plain": [
       "<Figure size 1080x432 with 1 Axes>"
      ]
     },
     "metadata": {
      "needs_background": "light"
     },
     "output_type": "display_data"
    }
   ],
   "source": [
    "# plot\n",
    "fig = plt.figure(figsize=(15, 6))\n",
    "sel = single_object[~single_object['v:g-r'].isna()]\n",
    "plt.scatter(sel['i:jd'],sel['v:g-r'],label='color')\n",
    "xarray= np.arange(sel['i:jd'].min(),sel['i:jd'].max(),0.5)\n",
    "plt.plot(xarray, np.zeros(len(xarray)),linestyle='--')\n",
    "plt.xlabel('Modified Julian Date')\n",
    "plt.ylabel('Color g-r')\n",
    "plt.show()"
   ]
  },
  {
   "cell_type": "markdown",
   "metadata": {},
   "source": [
    "# 3rd case study: spectroscopically classified type Ia supernovae in Fink\n",
    "\n",
    "In Fink, we cross-match objects against the [TNS database](https://www.wis-tns.org/). This database provides spectroscopically classified transients with a strong bias for SNe. This is an interesting sample to analyze since many of these SNe have been detected as well by ZTF.\n",
    "\n",
    "To know all available classes available in TNS see http://134.158.75.151:24000/api/v1/classes"
   ]
  },
  {
   "cell_type": "markdown",
   "metadata": {},
   "source": [
    "### <font color='blue'> API query:</font>   <font color='orange'>latest alerts</font> associated with known type Ia SNe"
   ]
  },
  {
   "cell_type": "markdown",
   "metadata": {},
   "source": [
    "You can query recent spectroscopically classified SNe in TNS.\n",
    "For example, query all objects classified as `SN Ia` in TNS between `2020/12/01` and `2021/04/05`, with a maximum of `n alerts` search inside the database"
   ]
  },
  {
   "cell_type": "code",
   "execution_count": 20,
   "metadata": {},
   "outputs": [
    {
     "name": "stdout",
     "output_type": "stream",
     "text": [
      "0    ZTF18abncdhd\n",
      "1    ZTF18abcoxmc\n",
      "2    ZTF18abvuceu\n",
      "3    ZTF18acjxyak\n",
      "4    ZTF21aamwzfi\n",
      "5    ZTF21aafdxca\n",
      "6    ZTF21aaqwjlz\n",
      "7    ZTF21aaplooj\n",
      "8    ZTF21aapvsxv\n",
      "9    ZTF21aaplnxw\n",
      "Name: i:objectId, dtype: object\n"
     ]
    }
   ],
   "source": [
    "r = requests.post(\n",
    "  'http://134.158.75.151:24000/api/v1/latests',\n",
    "  json={\n",
    "    'class': '(TNS) SN Ia',        # TNS classification\n",
    "    'n': '10',                     # n alerts to query in database\n",
    "    'startdate': '2020-12-01',     # start TNS classification\n",
    "    'stopdate': '2021-04-05',      # end TNS classification\n",
    "  }\n",
    ")\n",
    "\n",
    "# Format output in a DataFrame\n",
    "pdf = pd.read_json(r.content)\n",
    "\n",
    "print(pdf['i:objectId'])"
   ]
  },
  {
   "cell_type": "markdown",
   "metadata": {},
   "source": [
    "### <font color='blue'> API query:</font>   <font color='orange'>photometry</font> of one known type Ia SNe"
   ]
  },
  {
   "cell_type": "markdown",
   "metadata": {},
   "source": [
    "You can then use the `objects` API service to get all the photometry about a particular object and plot it with limits as in http://134.158.75.151:24000/api."
   ]
  },
  {
   "cell_type": "code",
   "execution_count": 21,
   "metadata": {},
   "outputs": [],
   "source": [
    "selected_SNeIa = pdf['i:objectId'].iloc[-1]"
   ]
  },
  {
   "cell_type": "code",
   "execution_count": 22,
   "metadata": {},
   "outputs": [],
   "source": [
    "r = requests.post(\n",
    "  'http://134.158.75.151:24000/api/v1/objects',\n",
    "  json={\n",
    "    'objectId': selected_SNeIa,\n",
    "    'output-format': 'json',\n",
    "    'withupperlim': 'True'\n",
    "  }\n",
    ")\n",
    "\n",
    "# Format output in a DataFrame\n",
    "single_object = pd.read_json(r.content)"
   ]
  },
  {
   "cell_type": "code",
   "execution_count": 23,
   "metadata": {},
   "outputs": [
    {
     "data": {
      "image/png": "[encoded data removed]",
      "text/plain": [
       "<Figure size 1080x432 with 1 Axes>"
      ]
     },
     "metadata": {
      "needs_background": "light"
     },
     "output_type": "display_data"
    },
    {
     "name": "stdout",
     "output_type": "stream",
     "text": [
      "\n",
      "    - Circles (●) with error bars show valid alerts that pass the Fink quality cuts. \n",
      "    - Upper triangles with errors (▲), represent alert measurements that do not satisfy Fink quality cuts, but are nevetheless contained in the history of valid alerts and used by classifiers.\n",
      "    - Lower triangles (▽), represent 5-sigma mag limit in difference image based on PSF-fit photometry contained in the history of valid alerts.\n",
      "    \n"
     ]
    }
   ],
   "source": [
    "plot_lc(single_object)"
   ]
  },
  {
   "cell_type": "markdown",
   "metadata": {},
   "source": [
    "### <font color='blue'> Visualizing:</font> <font color='orange'>Latest ML scores</font> associated with known type Ia SNe"
   ]
  },
  {
   "cell_type": "markdown",
   "metadata": {},
   "source": [
    "A more general query could be to analyze the ML classification algorithm scores for these recent SNe Ia. To do this we plot the last classification score obtained for the SNe Ia in our list."
   ]
  },
  {
   "cell_type": "code",
   "execution_count": 24,
   "metadata": {},
   "outputs": [
    {
     "data": {
      "image/png": "[encoded data removed]",
      "text/plain": [
       "<Figure size 1080x432 with 1 Axes>"
      ]
     },
     "metadata": {
      "needs_background": "light"
     },
     "output_type": "display_data"
    }
   ],
   "source": [
    "fig = plt.figure(figsize=(15, 6))\n",
    "\n",
    "for score in ['d:snn_sn_vs_all', 'd:snn_snia_vs_nonia', 'd:rfscore']:\n",
    "    plt.hist(pdf[score], histtype='step', label=score)\n",
    "plt.xlabel('sn score probability')\n",
    "plt.ylabel('number of objects')\n",
    "plt.legend()\n",
    "plt.show()"
   ]
  },
  {
   "cell_type": "markdown",
   "metadata": {},
   "source": [
    "Many of these SNe Ia are post-peak since spectroscopic follow-up is usually done around maximum brightness. Note that:\n",
    "- **'rfscore' is designed only for early SNe classification**, therefore it should not provide high scores for post-peak brightness SNe.\n",
    "- While SuperNNova scores should be valid post-maximum, some of these light-curves may be on the detection tail of the object and/or not have the SN light anymore (e.g. spurious detetions). "
   ]
  },
  {
   "cell_type": "markdown",
   "metadata": {},
   "source": [
    "### <font color='blue'> Selecting:</font>   <font color='orange'>SNe with close-by galaxies</font> (not necessarily their host-galaxies)"
   ]
  },
  {
   "cell_type": "markdown",
   "metadata": {},
   "source": [
    "For your science case, it may be useful to check if there is a close-by galaxy to the spectroscopically classified SNe Ia.\n",
    "\n",
    "Fink cross-matches each alert to the closest source (within 1'' radius) in the SIMBAD xmatch service providing `d:cdsxmatch` tag."
   ]
  },
  {
   "cell_type": "code",
   "execution_count": 25,
   "metadata": {},
   "outputs": [],
   "source": [
    "# select alerts that have a cross-matched Galaxy\n",
    "with_closeby_gal = pdf[pdf['d:cdsxmatch'] == 'Galaxy']"
   ]
  },
  {
   "cell_type": "markdown",
   "metadata": {},
   "source": [
    "You can expand this query to any type of galaxy present in the SIMBAD catalogue, see http://simbad.u-strasbg.fr/simbad/sim-display?data=otypes  like clusters, Seyfert, etc."
   ]
  },
  {
   "cell_type": "markdown",
   "metadata": {},
   "source": [
    "ZTF alert stream also provides useful information of close neighbours:\n",
    "\n",
    "-`i:distnr`: distance to nearest source in reference image PSF-catalog within 30 arcsec [pixels]\n",
    "\n",
    "-`i:magnr`: magnitude of nearest source in reference image PSF-catalog within 30 arcsec [mag]"
   ]
  },
  {
   "cell_type": "code",
   "execution_count": 26,
   "metadata": {
    "scrolled": true
   },
   "outputs": [
    {
     "data": {
      "text/html": [
       "<div>\n",
       "<style scoped>\n",
       "    .dataframe tbody tr th:only-of-type {\n",
       "        vertical-align: middle;\n",
       "    }\n",
       "\n",
       "    .dataframe tbody tr th {\n",
       "        vertical-align: top;\n",
       "    }\n",
       "\n",
       "    .dataframe thead th {\n",
       "        text-align: right;\n",
       "    }\n",
       "</style>\n",
       "<table border=\"1\" class=\"dataframe\">\n",
       "  <thead>\n",
       "    <tr style=\"text-align: right;\">\n",
       "      <th></th>\n",
       "      <th>i:objectId</th>\n",
       "      <th>i:distnr</th>\n",
       "      <th>i:magnr</th>\n",
       "    </tr>\n",
       "  </thead>\n",
       "  <tbody>\n",
       "    <tr>\n",
       "      <th>3</th>\n",
       "      <td>ZTF18acjxyak</td>\n",
       "      <td>0.669415</td>\n",
       "      <td>15.710999</td>\n",
       "    </tr>\n",
       "    <tr>\n",
       "      <th>7</th>\n",
       "      <td>ZTF21aaplooj</td>\n",
       "      <td>0.928013</td>\n",
       "      <td>16.910000</td>\n",
       "    </tr>\n",
       "  </tbody>\n",
       "</table>\n",
       "</div>"
      ],
      "text/plain": [
       "     i:objectId  i:distnr    i:magnr\n",
       "3  ZTF18acjxyak  0.669415  15.710999\n",
       "7  ZTF21aaplooj  0.928013  16.910000"
      ]
     },
     "execution_count": 26,
     "metadata": {},
     "output_type": "execute_result"
    }
   ],
   "source": [
    "with_closeby_gal[['i:objectId', 'i:distnr', 'i:magnr']]"
   ]
  },
  {
   "cell_type": "markdown",
   "metadata": {},
   "source": [
    "### <font color='blue'> API query:</font>   <font color='orange'>thumbnails</font> of one known type Ia SNe\n",
    "It may be useful to visualize in the ZTF provided stamps or thumbnails centered on the transient."
   ]
  },
  {
   "cell_type": "code",
   "execution_count": 27,
   "metadata": {},
   "outputs": [],
   "source": [
    "# transfer cutout data\n",
    "r = requests.post(\n",
    "  'http://134.158.75.151:24000/api/v1/objects',\n",
    "  json={\n",
    "    'objectId': with_closeby_gal['i:objectId'].iloc[0],\n",
    "    'withcutouts': 'True'\n",
    "  }\n",
    ")\n",
    "\n",
    "# Format output in a DataFrame\n",
    "pdf = pd.read_json(r.content)"
   ]
  },
  {
   "cell_type": "code",
   "execution_count": 28,
   "metadata": {},
   "outputs": [
    {
     "data": {
      "image/png": "[encoded data removed]",
      "text/plain": [
       "<Figure size 1080x432 with 3 Axes>"
      ]
     },
     "metadata": {
      "needs_background": "light"
     },
     "output_type": "display_data"
    }
   ],
   "source": [
    "fig, axes = plt.subplots(1, 3, figsize=(15, 6))\n",
    "\n",
    "columns = [\n",
    "    'b:cutoutScience_stampData',\n",
    "    'b:cutoutTemplate_stampData',\n",
    "    'b:cutoutDifference_stampData'\n",
    "]\n",
    "for index, col in enumerate(columns):\n",
    "    # 2D array\n",
    "    data = pdf[col].values[0]\n",
    "\n",
    "    # You could optimize the color range to highlight the galaxy\n",
    "    axes[index].imshow(data)\n",
    "    axes[index].set_title(col)\n",
    "plt.show()"
   ]
  },
  {
   "cell_type": "markdown",
   "metadata": {},
   "source": [
    "Alternatively for displaying images, you can use our cutout service (see http://134.158.75.151:24000/api/v1/cutouts for the list of available arguments):"
   ]
  },
  {
   "cell_type": "code",
   "execution_count": 29,
   "metadata": {},
   "outputs": [
    {
     "data": {
      "image/png": "[encoded data removed]",
      "text/plain": [
       "<PIL.Image.Image image mode=L size=400x400 at 0x7FA1B4AB35C0>"
      ]
     },
     "execution_count": 29,
     "metadata": {},
     "output_type": "execute_result"
    }
   ],
   "source": [
    "import io\n",
    "from PIL import Image as im\n",
    "\n",
    "# get processed image data\n",
    "r = requests.post(\n",
    "    'http://134.158.75.151:24000/api/v1/cutouts',\n",
    "    json={\n",
    "        'objectId': with_closeby_gal['i:objectId'].iloc[0],\n",
    "        'kind': 'Science', # Science, Template, Difference\n",
    "    }\n",
    ")\n",
    "\n",
    "image = im.open(io.BytesIO(r.content))\n",
    "image.resize((400, 400))"
   ]
  },
  {
   "cell_type": "markdown",
   "metadata": {},
   "source": [
    "# Summary\n",
    "In this notebook we have searched for AGNs and SNe:\n",
    "- Querying Fink's API for latest alerts using known catalogue types, e.g. from SIMBAD or TNS.\n",
    "- Querying Fink's API for candidate SNe selected using our ML algorithms.\n",
    "- Filtering all of these alerts according to your science case.\n",
    "- Querying Fink's API for photometry and thumbnails for a given object."
   ]
  },
  {
   "cell_type": "markdown",
   "metadata": {},
   "source": [
    "## An issue to report, or a question to ask: contact@fink-broker.org!"
   ]
  },
  {
   "cell_type": "markdown",
   "metadata": {},
   "source": []
  }
 ],
 "metadata": {
  "kernelspec": {
   "display_name": "Python 3",
   "language": "python",
   "name": "python3"
  },
  "language_info": {
   "codemirror_mode": {
    "name": "ipython",
    "version": 3
   },
   "file_extension": ".py",
   "mimetype": "text/x-python",
   "name": "python",
   "nbconvert_exporter": "python",
   "pygments_lexer": "ipython3",
   "version": "3.7.1"
  }
 },
 "nbformat": 4,
 "nbformat_minor": 4
}
