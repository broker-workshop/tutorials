{
 "cells": [
  {
   "cell_type": "markdown",
   "metadata": {
    "id": "udjHiBZb0cIR"
   },
   "source": [
    "![](https://github.com/broker-workshop/tutorials/blob/main/ALeRCE/alerce_logo.png?raw=1)"
   ]
  },
  {
   "cell_type": "markdown",
   "metadata": {
    "id": "OHKxx4EPDLgq"
   },
   "source": [
    "# ALeRCE Galactic starter notebook\n",
    "\n",
    "```Authors: Alejandra Muñoz Arancibia, Lorena Hernandez Garcia, Last updated: 20210412```\n",
    "\n",
    "ALeRCE starter notebook for variable stars science using the alerce client, and a direct database connection.\n",
    "For more information about the ALeRCE broker, please visit http://alerce.science/, or take a look to our presentation paper: Förster et al. 2021 (AJ accepted, https://arxiv.org/abs/2008.03303)."
   ]
  },
  {
   "cell_type": "markdown",
   "metadata": {
    "id": "5NkklB2vaM_Y"
   },
   "source": [
    "We provide a Python client for easier access to the ALeRCE API services. It can be installed via pip and is documented in https://alerce.readthedocs.io/en/latest/."
   ]
  },
  {
   "cell_type": "code",
   "execution_count": 1,
   "metadata": {
    "colab": {
     "base_uri": "https://localhost:8080/"
    },
    "id": "Prc419wGaL2g",
    "outputId": "62a477f0-f0bc-4fd9-896e-56cf9d9eb575"
   },
   "outputs": [
    {
     "name": "stdout",
     "output_type": "stream",
     "text": [
      "Collecting alerce\n",
      "  Downloading https://files.pythonhosted.org/packages/b9/ab/ae3d5e4de376b8a52a4edee60b2de1004179fa7f603741ff72b01311d526/alerce-1.0.1-py3-none-any.whl\n",
      "Requirement already satisfied, skipping upgrade: astropy>=4.0.1 in /usr/local/lib/python3.7/dist-packages (from alerce) (4.2)\n",
      "Requirement already satisfied, skipping upgrade: pandas>=1.1.2 in /usr/local/lib/python3.7/dist-packages (from alerce) (1.1.5)\n",
      "Collecting requests>=2.24.0\n",
      "\u001b[?25l  Downloading https://files.pythonhosted.org/packages/29/c1/24814557f1d22c56d50280771a17307e6bf87b70727d975fd6b2ce6b014a/requests-2.25.1-py2.py3-none-any.whl (61kB)\n",
      "\u001b[K     |████████████████████████████████| 61kB 2.5MB/s \n",
      "\u001b[?25hRequirement already satisfied, skipping upgrade: numpy>=1.17 in /usr/local/lib/python3.7/dist-packages (from astropy>=4.0.1->alerce) (1.19.5)\n",
      "Requirement already satisfied, skipping upgrade: pyerfa in /usr/local/lib/python3.7/dist-packages (from astropy>=4.0.1->alerce) (1.7.2)\n",
      "Requirement already satisfied, skipping upgrade: pytz>=2017.2 in /usr/local/lib/python3.7/dist-packages (from pandas>=1.1.2->alerce) (2018.9)\n",
      "Requirement already satisfied, skipping upgrade: python-dateutil>=2.7.3 in /usr/local/lib/python3.7/dist-packages (from pandas>=1.1.2->alerce) (2.8.1)\n",
      "Requirement already satisfied, skipping upgrade: idna<3,>=2.5 in /usr/local/lib/python3.7/dist-packages (from requests>=2.24.0->alerce) (2.10)\n",
      "Requirement already satisfied, skipping upgrade: chardet<5,>=3.0.2 in /usr/local/lib/python3.7/dist-packages (from requests>=2.24.0->alerce) (3.0.4)\n",
      "Requirement already satisfied, skipping upgrade: urllib3<1.27,>=1.21.1 in /usr/local/lib/python3.7/dist-packages (from requests>=2.24.0->alerce) (1.24.3)\n",
      "Requirement already satisfied, skipping upgrade: certifi>=2017.4.17 in /usr/local/lib/python3.7/dist-packages (from requests>=2.24.0->alerce) (2020.12.5)\n",
      "Requirement already satisfied, skipping upgrade: six>=1.5 in /usr/local/lib/python3.7/dist-packages (from python-dateutil>=2.7.3->pandas>=1.1.2->alerce) (1.15.0)\n",
      "\u001b[31mERROR: google-colab 1.0.0 has requirement requests~=2.23.0, but you'll have requests 2.25.1 which is incompatible.\u001b[0m\n",
      "\u001b[31mERROR: datascience 0.10.6 has requirement folium==0.2.1, but you'll have folium 0.8.3 which is incompatible.\u001b[0m\n",
      "Installing collected packages: requests, alerce\n",
      "  Found existing installation: requests 2.23.0\n",
      "    Uninstalling requests-2.23.0:\n",
      "      Successfully uninstalled requests-2.23.0\n",
      "Successfully installed alerce-1.0.1 requests-2.25.1\n"
     ]
    }
   ],
   "source": [
    "!pip install --upgrade alerce"
   ]
  },
  {
   "cell_type": "markdown",
   "metadata": {
    "id": "KGejeoRlDLhA"
   },
   "source": [
    "# Requirements <a class=\"anchor\" id=\"req\"></a>"
   ]
  },
  {
   "cell_type": "markdown",
   "metadata": {
    "id": "C1Civ_BxDLhD"
   },
   "source": [
    "In the following we specify the required packages to run this Notebook. Some of the packages are included in Python and others require installation. Uncomment in case you need to install."
   ]
  },
  {
   "cell_type": "markdown",
   "metadata": {
    "id": "qgmYfUF0DLhF"
   },
   "source": [
    "Basic Requirements"
   ]
  },
  {
   "cell_type": "code",
   "execution_count": 2,
   "metadata": {
    "id": "QjP1ysbJDLhH"
   },
   "outputs": [],
   "source": [
    "import pandas as pd\n",
    "import numpy as np\n",
    "import matplotlib.pyplot as plt"
   ]
  },
  {
   "cell_type": "markdown",
   "metadata": {
    "id": "7ldYO094DLhK"
   },
   "source": [
    "Astropy and astroquery"
   ]
  },
  {
   "cell_type": "code",
   "execution_count": 3,
   "metadata": {
    "colab": {
     "base_uri": "https://localhost:8080/"
    },
    "id": "vKC_DDJJDLhL",
    "outputId": "b86d44f4-22ea-4ab0-f54e-81cbe99f9fe0"
   },
   "outputs": [
    {
     "name": "stdout",
     "output_type": "stream",
     "text": [
      "Collecting astroquery\n",
      "\u001b[?25l  Downloading https://files.pythonhosted.org/packages/1b/f8/4690523783691ed816b3469c3ec611af3798594d37ade510dd918d59f57e/astroquery-0.4.1.tar.gz (6.5MB)\n",
      "\u001b[K     |████████████████████████████████| 6.5MB 5.0MB/s \n",
      "\u001b[?25hRequirement already satisfied: numpy in /usr/local/lib/python3.7/dist-packages (from astroquery) (1.19.5)\n",
      "Requirement already satisfied: astropy>=3.1 in /usr/local/lib/python3.7/dist-packages (from astroquery) (4.2)\n",
      "Requirement already satisfied: requests>=2.4.3 in /usr/local/lib/python3.7/dist-packages (from astroquery) (2.25.1)\n",
      "Collecting keyring>=4.0\n",
      "  Downloading https://files.pythonhosted.org/packages/26/f9/41230ac47f738f1ba66676dc8d3b30ca5b1f9eb0230fc204bcd9836c4ae9/keyring-23.0.1-py3-none-any.whl\n",
      "Requirement already satisfied: beautifulsoup4>=4.3.2 in /usr/local/lib/python3.7/dist-packages (from astroquery) (4.6.3)\n",
      "Requirement already satisfied: html5lib>=0.999 in /usr/local/lib/python3.7/dist-packages (from astroquery) (1.0.1)\n",
      "Requirement already satisfied: six in /usr/local/lib/python3.7/dist-packages (from astroquery) (1.15.0)\n",
      "Requirement already satisfied: pyerfa in /usr/local/lib/python3.7/dist-packages (from astropy>=3.1->astroquery) (1.7.2)\n",
      "Requirement already satisfied: certifi>=2017.4.17 in /usr/local/lib/python3.7/dist-packages (from requests>=2.4.3->astroquery) (2020.12.5)\n",
      "Requirement already satisfied: idna<3,>=2.5 in /usr/local/lib/python3.7/dist-packages (from requests>=2.4.3->astroquery) (2.10)\n",
      "Requirement already satisfied: chardet<5,>=3.0.2 in /usr/local/lib/python3.7/dist-packages (from requests>=2.4.3->astroquery) (3.0.4)\n",
      "Requirement already satisfied: urllib3<1.27,>=1.21.1 in /usr/local/lib/python3.7/dist-packages (from requests>=2.4.3->astroquery) (1.24.3)\n",
      "Collecting SecretStorage>=3.2; sys_platform == \"linux\"\n",
      "  Downloading https://files.pythonhosted.org/packages/d9/1e/29cd69fdac7391aa51510dfd42aa70b4e6a826c8cd019ee2a8ab9ec0777f/SecretStorage-3.3.1-py3-none-any.whl\n",
      "Collecting jeepney>=0.4.2; sys_platform == \"linux\"\n",
      "\u001b[?25l  Downloading https://files.pythonhosted.org/packages/51/b0/a6ea72741aaac3f37fb96d195e4ee576a103c4c04e279bc6b446a70960e1/jeepney-0.6.0-py3-none-any.whl (45kB)\n",
      "\u001b[K     |████████████████████████████████| 51kB 4.1MB/s \n",
      "\u001b[?25hRequirement already satisfied: importlib-metadata>=3.6 in /usr/local/lib/python3.7/dist-packages (from keyring>=4.0->astroquery) (3.8.1)\n",
      "Requirement already satisfied: webencodings in /usr/local/lib/python3.7/dist-packages (from html5lib>=0.999->astroquery) (0.5.1)\n",
      "Collecting cryptography>=2.0\n",
      "\u001b[?25l  Downloading https://files.pythonhosted.org/packages/b2/26/7af637e6a7e87258b963f1731c5982fb31cd507f0d90d91836e446955d02/cryptography-3.4.7-cp36-abi3-manylinux2014_x86_64.whl (3.2MB)\n",
      "\u001b[K     |████████████████████████████████| 3.2MB 43.3MB/s \n",
      "\u001b[?25hRequirement already satisfied: zipp>=0.5 in /usr/local/lib/python3.7/dist-packages (from importlib-metadata>=3.6->keyring>=4.0->astroquery) (3.4.1)\n",
      "Requirement already satisfied: typing-extensions>=3.6.4; python_version < \"3.8\" in /usr/local/lib/python3.7/dist-packages (from importlib-metadata>=3.6->keyring>=4.0->astroquery) (3.7.4.3)\n",
      "Requirement already satisfied: cffi>=1.12 in /usr/local/lib/python3.7/dist-packages (from cryptography>=2.0->SecretStorage>=3.2; sys_platform == \"linux\"->keyring>=4.0->astroquery) (1.14.5)\n",
      "Requirement already satisfied: pycparser in /usr/local/lib/python3.7/dist-packages (from cffi>=1.12->cryptography>=2.0->SecretStorage>=3.2; sys_platform == \"linux\"->keyring>=4.0->astroquery) (2.20)\n",
      "Building wheels for collected packages: astroquery\n",
      "  Building wheel for astroquery (setup.py) ... \u001b[?25l\u001b[?25hdone\n",
      "  Created wheel for astroquery: filename=astroquery-0.4.1-cp37-none-any.whl size=3831874 sha256=c36717cf6bacbe0d2bc2b268006949974e8b8d2713a15676c3553357e525080a\n",
      "  Stored in directory: /root/.cache/pip/wheels/88/f8/b7/a254cd96e808f708bc0b7d755a8e095c56fbbe94099d7b464f\n",
      "Successfully built astroquery\n",
      "Installing collected packages: jeepney, cryptography, SecretStorage, keyring, astroquery\n",
      "Successfully installed SecretStorage-3.3.1 astroquery-0.4.1 cryptography-3.4.7 jeepney-0.6.0 keyring-23.0.1\n"
     ]
    }
   ],
   "source": [
    "!pip install astroquery"
   ]
  },
  {
   "cell_type": "code",
   "execution_count": 4,
   "metadata": {
    "id": "ziI_mMWxDLhN"
   },
   "outputs": [],
   "source": [
    "import astropy.units as u\n",
    "from astropy import coordinates\n",
    "from astropy.time import Time\n",
    "from astropy.table import Table, Column\n",
    "from astroquery.irsa_dust import IrsaDust\n",
    "from astroquery.simbad import Simbad"
   ]
  },
  {
   "cell_type": "markdown",
   "metadata": {
    "id": "onv-ddB1DLhO"
   },
   "source": [
    "Install psycopg2 https://github.com/psycopg/psycopg2"
   ]
  },
  {
   "cell_type": "code",
   "execution_count": 5,
   "metadata": {
    "colab": {
     "base_uri": "https://localhost:8080/"
    },
    "id": "weq5IQjBDLhQ",
    "outputId": "11bdea03-bde8-488b-dbd3-7f0e233ec3bd"
   },
   "outputs": [
    {
     "name": "stderr",
     "output_type": "stream",
     "text": [
      "/usr/local/lib/python3.7/dist-packages/psycopg2/__init__.py:144: UserWarning: The psycopg2 wheel package will be renamed from release 2.8; in order to keep installing from binary please use \"pip install psycopg2-binary\" instead. For details see: <http://initd.org/psycopg/docs/install.html#binary-install-from-pypi>.\n",
      "  \"\"\")\n"
     ]
    }
   ],
   "source": [
    "#!pip install psycopg2-binary\n",
    "import psycopg2"
   ]
  },
  {
   "cell_type": "markdown",
   "metadata": {
    "id": "0PB2HWOkDLhW"
   },
   "source": [
    "Install P4J (https://pypi.org/project/P4J/). Note that this notebook uses a experimental version of P4J, which can be cloned and installed (python setup.py install --user) from https://github.com/phuijse/P4J/."
   ]
  },
  {
   "cell_type": "code",
   "execution_count": 6,
   "metadata": {
    "colab": {
     "base_uri": "https://localhost:8080/"
    },
    "id": "u4HYHqTMDLhX",
    "outputId": "2154d295-6401-4fb0-f5ef-43766f2ef862"
   },
   "outputs": [
    {
     "name": "stdout",
     "output_type": "stream",
     "text": [
      "Collecting git+https://github.com/phuijse/P4J/\n",
      "  Cloning https://github.com/phuijse/P4J/ to /tmp/pip-req-build-hk9t73j5\n",
      "  Running command git clone -q https://github.com/phuijse/P4J/ /tmp/pip-req-build-hk9t73j5\n",
      "Requirement already satisfied: numpy>=1.9.0 in /usr/local/lib/python3.7/dist-packages (from P4J==1.0.0) (1.19.5)\n",
      "Building wheels for collected packages: P4J\n",
      "  Building wheel for P4J (setup.py) ... \u001b[?25l\u001b[?25hdone\n",
      "  Created wheel for P4J: filename=P4J-1.0.0-cp37-cp37m-linux_x86_64.whl size=1339329 sha256=45c44c5d7a86afdefb5e7c0a261e386e095aae23260b7e3b207b0e7e4c279a4f\n",
      "  Stored in directory: /tmp/pip-ephem-wheel-cache-q36c5ib_/wheels/31/92/f9/82793ff4e2057ffad1e0bb6d6d155687878627ccf056008edf\n",
      "Successfully built P4J\n",
      "Installing collected packages: P4J\n",
      "Successfully installed P4J-1.0.0\n"
     ]
    }
   ],
   "source": [
    "!pip install git+https://github.com/phuijse/P4J/\n",
    "import P4J"
   ]
  },
  {
   "cell_type": "markdown",
   "metadata": {
    "id": "UR1J84DVDLhY"
   },
   "source": [
    "Other"
   ]
  },
  {
   "cell_type": "code",
   "execution_count": 7,
   "metadata": {
    "id": "-xzWTA2zDLhZ"
   },
   "outputs": [],
   "source": [
    "from IPython.display import HTML\n",
    "from ipywidgets import Layout, Box, widgets"
   ]
  },
  {
   "cell_type": "markdown",
   "metadata": {
    "id": "QvBYRUD3DLhZ"
   },
   "source": [
    "# ALeRCE client <a class=\"anchor\" id=\"client\"></a>"
   ]
  },
  {
   "cell_type": "markdown",
   "metadata": {
    "id": "ri6GBYxhDLhd"
   },
   "source": [
    "To import the ALeRCE API client:"
   ]
  },
  {
   "cell_type": "code",
   "execution_count": 8,
   "metadata": {
    "id": "aBqSUm75DLhd"
   },
   "outputs": [],
   "source": [
    "from alerce.core import Alerce\n",
    "alerce_client = Alerce()"
   ]
  },
  {
   "cell_type": "code",
   "execution_count": 9,
   "metadata": {
    "id": "RZLy2AqrDLhf"
   },
   "outputs": [],
   "source": [
    "# color blind friendly green and red \n",
    "colors = {1: '#56E03A', 2: '#D42F4B'}"
   ]
  },
  {
   "cell_type": "markdown",
   "metadata": {
    "id": "Xvkb4y-oDLhx"
   },
   "source": [
    "# Table of contents:\n",
    "* [Introduction](#intro)\n",
    "* [Query one target](#onetarget)\n",
    "    * [Light curve](#advancedlightcurve)\n",
    "    * [Simple period](#simpleperiod)\n",
    "    * [Show possible counterparts from SIMBAD](#crossmatch)\n",
    "    * [Query image from Aladin](#crossmatch)\n",
    "* [Query a sample of targets](#sampletarget)\n",
    "    * [Example using the ALeRCE client to query a sample of RRL](#clientrrl)\n",
    "    * [Examples using the ALeRCE database (DB) to query a sample of RRL](#dbrrl)\n",
    "        * [Query object computed features](#featuresrrl)"
   ]
  },
  {
   "cell_type": "markdown",
   "metadata": {
    "id": "yFm5cgpCDLhz"
   },
   "source": [
    "# Introduction <a class=\"anchor\" id=\"intro\"></a>"
   ]
  },
  {
   "cell_type": "markdown",
   "metadata": {
    "id": "mvMyJ2PHDLhz"
   },
   "source": [
    "ALeRCE started to systematically classify the ZTF stream using machine learning with astrophysically motivated taxonomies\n",
    "based on their light curves (Sánchez-Sáez et al. 2021, AJ, 161, 141, https://arxiv.org/abs/2008.03311) since March 2019, and on their image stamps (Carrasco-Davis et al. 2020, AJ submitted, https://arxiv.org/abs/2008.03309) since July 2019. These classifiers are designed to balance the needs for a fast and simple classification with a subsequent, but more complex classification.\n",
    "\n",
    "The hierarchical taxonomy used by the ALeRCE broker for classifying light curves is shown in the figure below (v1.0.0). In total, the ALeRCE broker classifies objects into a taxonomy that has expanded into 15 classes, and with continuously improving precision and purity. Note that all of ALeRCE's data products can be accessed freely via several dashboards, APIs, or a direct database connection."
   ]
  },
  {
   "cell_type": "markdown",
   "metadata": {
    "id": "nYkXrQvwDLh0"
   },
   "source": [
    "![taxonomy_tree](https://github.com/alercebroker/usecases/blob/master/notebooks/variablestars_figures/taxonomy_tree.png?raw=1)"
   ]
  },
  {
   "cell_type": "markdown",
   "metadata": {
    "id": "CsPaszhj52Na"
   },
   "source": [
    "In particular, the light curve classifier considers the following classes of periodic variable stars:\n",
    "\n",
    "- Long-Period Variable (`LPV`; includes regular, semi-regular, and irregular variable stars)\n",
    "\n",
    "- RR Lyrae (`RRL`)\n",
    "\n",
    "- Cepheid (`CEP`)\n",
    "\n",
    "- Eclipsing binary (`E`)\n",
    "\n",
    "- Delta Scuti (`DSCT`)\n",
    "\n",
    "- Other periodic variable star (`Periodic-Other`; that includes classes of variable stars that are not well represented in the labeled set, e.g., sources classified as Hump, Misc, PCEB, Rotational, and RS CVn in CRTS).\n",
    "\n",
    "And the following classes of stochastic variable stars:\n",
    "\n",
    "- Young Stellar Objects (`YSO`)\n",
    "\n",
    "- Nova/Cataclismic Variable (`CV/Nova`)"
   ]
  },
  {
   "cell_type": "markdown",
   "metadata": {
    "id": "cxXVqsNlDLh9"
   },
   "source": [
    "In this notebook we will query data from a single variable star in order to plot its light curve, which can be corrected by extinction. Because these stars show periodic variability, we will plot their folded light curve and periodograms, thus we will be able to estimate their period. We will also see its image stamp, display posible counterparts from a public database, and visualize it in Aladin to explore its environment.\n",
    "\n",
    "Then, we will show how to query a sample of variable stars using the ALeRCE client or the database (for big samples), showing their light curves and plotting different properties of the sample."
   ]
  },
  {
   "cell_type": "markdown",
   "metadata": {
    "id": "EuCthi06DLh_"
   },
   "source": [
    "# Query one target <a class=\"anchor\" id=\"onetarget\"></a>"
   ]
  },
  {
   "cell_type": "markdown",
   "metadata": {
    "id": "AIs3ZsWKDLh_"
   },
   "source": [
    "For this example, we selected a star classified as RR Lyrae in The Catalina Surveys RR Lyrae Data Release (http://nesssi.cacr.caltech.edu/DataRelease/RRL.html). The name of the star is V0420_Peg__ (CSS_J000018.2+193253 in the catalog). The RRL is located at RA = 00:00:18.200, DEC = +19:32:55.46.\n",
    "\n",
    "Drake et al. (2013, ApJ, 763, 32) analyzed this survey, concentrated on the data taken by the Catalina Survey Schmidt 0.7m telescope (CSS) between April 2005 and June 2011, and reported the following properties for the star:\n",
    "\n",
    "V magnitude = 15.664  mag\n",
    "\n",
    "Period = 0.5454725 days (they find that the periods at generally accurate to sigma = 0.002%)\n",
    "\n",
    "Amplitude = 0.85  mag\n",
    "\n",
    "Number of points in the light curve = 211   \n",
    "\n",
    "Distance = 9.73 kpc\n",
    "\n",
    "Extinction = 0.088 mag\n",
    "\n",
    "The name of this RRL in the ZTF is ZTF18abnznbm. Note that this light curve and the properties of this star can also be accessed through the Explorer: https://alerce.online/object/ZTF18abnznbm\n",
    "\n",
    "In the following we will obtain and analyze the ZTF light curve of ZTF18abnznbm processed by the ALeRCE broker, and we will be able to compare the physical properties derived from this analysis with those already available in the literature."
   ]
  },
  {
   "cell_type": "markdown",
   "metadata": {
    "id": "jGtCFjOFDLiA"
   },
   "source": [
    "## Light curve <a class=\"anchor\" id=\"simplecurve\"></a>"
   ]
  },
  {
   "cell_type": "markdown",
   "metadata": {
    "id": "B6BgZw3ZDLiB"
   },
   "source": [
    "We start by manually defining the object identifier (oid) of the source we want to explore with the ALeRCE client:"
   ]
  },
  {
   "cell_type": "code",
   "execution_count": 10,
   "metadata": {
    "id": "2sKym-O3DLiC"
   },
   "outputs": [],
   "source": [
    "seloid = \"ZTF18abnznbm\""
   ]
  },
  {
   "cell_type": "markdown",
   "metadata": {
    "id": "J5MBa8DBDLiF"
   },
   "source": [
    "To obtain the apparent magnitude light curve (an estimate of the science images light curve), the ALeRCE pipeline sums up the flux measured in the difference images ($f_{\\rm diff}$) and the flux measured from the template image ($f_{\\rm ref}$), taking into account whether the difference between the science and reference image in a given epoch ($\\rm sgn$) is positive or negative (for more details, see the appendix A in Förster et al. 2021):\n",
    "\n",
    "$$\n",
    "    \\hat f_{\\rm sci} = f_{\\rm ref} + {\\rm sgn}~ f_{\\rm diff}\n",
    "$$"
   ]
  },
  {
   "cell_type": "markdown",
   "metadata": {
    "id": "AEWcg_GUDLiG"
   },
   "source": [
    "We create a function to plot the light curve, that can be corrected for extinction using extinction mapping from a dictionary with attenuations due to Galactic extinction. Note that we use astroquery SIMBAD objects, as well as mag units."
   ]
  },
  {
   "cell_type": "code",
   "execution_count": 11,
   "metadata": {
    "id": "Tn9LAWtADLiW"
   },
   "outputs": [],
   "source": [
    "def plotLCcorr(oid, VS_det, A=None):\n",
    "    \n",
    "    fig, ax = plt.subplots(figsize=(12, 6))\n",
    "    labels = {1: 'g', 2: 'r'}\n",
    "    markers = {1: 'o', 2: 's'}\n",
    "    sizes = {1: 30, 2: 40}\n",
    "    \n",
    "    # loop the passbands\n",
    "    for fid in [1, 2]:\n",
    "        \n",
    "        # galactic extinction in the given band\n",
    "        if A is not None:\n",
    "            A_fid = A[labels[fid]]\n",
    "        else:\n",
    "            A_fid = 0\n",
    "\n",
    "        # plot detections if available\n",
    "        mask = VS_det.fid == fid\n",
    "        if np.sum(mask) > 0:\n",
    "            \n",
    "            # note that the detections index is candid and that we are plotting the psf corrected magnitudes\n",
    "            if A_fid != 0:\n",
    "                # plot attenuated light curve with small alpha\n",
    "                ax.errorbar(VS_det[mask].mjd, VS_det[mask].magpsf_corr,\n",
    "                    yerr=VS_det[mask].sigmapsf_corr_ext, c=colors[fid], marker=markers[fid], label=labels[fid],\n",
    "                    alpha=0.1, linestyle='None')\n",
    "                # show dust attenuation corrected light curve\n",
    "                ax.errorbar(VS_det[mask].mjd, VS_det[mask].magpsf_corr - A_fid, \n",
    "                    yerr=VS_det[mask].sigmapsf_corr_ext, c=colors[fid], marker=markers[fid],\n",
    "                    label=\"%s (ext. corr.)\" % labels[fid], linestyle='None')\n",
    "            else:\n",
    "                # plot attenuated light curve\n",
    "                ax.errorbar(VS_det[mask].mjd, VS_det[mask].magpsf_corr,\n",
    "                    yerr=VS_det[mask].sigmapsf_corr_ext, c=colors[fid], marker=markers[fid], label=labels[fid],\n",
    "                    linestyle='None')\n",
    "    \n",
    "    # labels\n",
    "    if A is not None:\n",
    "        ax.set_title(\"%s ($A_g=%.3f, A_r=%.3f$)\" % (oid, A[\"g\"], A[\"r\"]))\n",
    "    else:\n",
    "        ax.set_title(oid)\n",
    "        \n",
    "    ax.set_xlabel(\"MJD\")\n",
    "    ax.set_ylabel(\"Apparent magnitude\")\n",
    "    ax.legend()\n",
    "    ax.set_ylim(ax.get_ylim()[::-1])"
   ]
  },
  {
   "cell_type": "markdown",
   "metadata": {
    "id": "Kb9ng3z_DLiW"
   },
   "source": [
    "Then, we create a function that, given the object id (oid), gets the light curve data and plots the light curve if required, the results are then returned to the user as a dictionary. Note that we use the client to query the detections and that we return the results in pandas format (default is votable).\n",
    "In particular, we can get the following information:\n",
    "\n",
    "\n",
    " - get the basic VS statistics, this includes the position in the sky (using the ALeRCE client)\n",
    " - get the detections (using the ALeRCE client)\n",
    " - get the dust attenuation at the given position in the sky (using astroquery IrsaDust)\n",
    " - get a cross-match with SIMBAD for a given search radius (using astroquery Simbad)\n",
    " - plot the apparent magnitude light curve corrected for dust attenuation (using the previously defined function)\n",
    " - plot the first image stamps associated to this VS (using the ALeRCE client)"
   ]
  },
  {
   "cell_type": "code",
   "execution_count": 12,
   "metadata": {
    "id": "jtdlwtA9DLiX"
   },
   "outputs": [],
   "source": [
    "def getVSdatacorr(oid, doLC=False, doext=False, dostamp=False, dosimbad=False, showlink=False):\n",
    "\n",
    "    results = {\"oid\": oid}\n",
    "    \n",
    "    # query basic stats\n",
    "    VS_stats = alerce_client.query_object(oid, format='pandas')\n",
    "    results[\"stats\"] = VS_stats\n",
    "    \n",
    "    # query magnitude stats\n",
    "    VS_magstats = alerce_client.query_magstats(oid, format='pandas')\n",
    "    results[\"magstats\"] = VS_magstats\n",
    "    \n",
    "    # query detections\n",
    "    VS_det = alerce_client.query_detections(oid, format='pandas')\n",
    "    VS_det = VS_det.sort_values(\"mjd\")\n",
    "    results[\"lc_det\"] = VS_det\n",
    "        \n",
    "    # object coordinates\n",
    "    co = coordinates.SkyCoord(ra=float(VS_stats.meanra), dec=float(VS_stats.meandec), unit=(u.deg, u.deg),\n",
    "                              frame='icrs')\n",
    "    \n",
    "    # get SIMBAD query\n",
    "    if dosimbad:\n",
    "        Simbad_table = Simbad.query_region(co, radius=0.01 * u.deg, equinox=2000)\n",
    "        display(Simbad_table)\n",
    "        results[\"simbad_table\"] = Simbad_table\n",
    "    \n",
    "    # get Galactic extinction\n",
    "    if doext:\n",
    "        # Galactic extinction (use SFD = D.J. Schlegel, D.P. Finkbeiner, & M. Davis (1998, ApJ, 500, 525))\n",
    "        table = IrsaDust.get_extinction_table(co)\n",
    "        A = {\"g\": float(table[table[\"Filter_name\"] == \"SDSS g\"][\"A_SFD\"]),\n",
    "             \"r\": float(table[table[\"Filter_name\"] == \"SDSS r\"][\"A_SFD\"])}\n",
    "        results[\"attenuation\"] = A\n",
    "\n",
    "    # plot the LC\n",
    "    if doLC:\n",
    "        if doext:\n",
    "            plotLCcorr(oid, VS_det, A)\n",
    "        else:\n",
    "            plotLCcorr(oid, VS_det)        \n",
    "    \n",
    "    if showlink:\n",
    "        display(HTML(\"<a href='http://alerce.online/object/%s' target=\\\"_blank\\\"> %s <a>\" % (oid, oid)))\n",
    "    \n",
    "    # show the first image stamp\n",
    "    if dostamp:\n",
    "        candid = results[\"lc_det\"].loc[results[\"lc_det\"].has_stamp].candid.min()\n",
    "        stamps = alerce_client.get_stamps(oid, candid)\n",
    "        science, ref, difference = stamps[0].data, stamps[1].data, stamps[2].data\n",
    "        fig, ax = plt.subplots(ncols=3, figsize=(12, 6))\n",
    "        for idx, im in enumerate([np.log(science), np.log(ref), difference]):\n",
    "            ax[idx].imshow(im, cmap='viridis') # Log scale for visualization\n",
    "            ax[idx].axes.get_xaxis().set_visible(False)\n",
    "            ax[idx].axes.get_yaxis().set_visible(False)\n",
    "        ax[0].set_title(\"oid: %s, candid: %s (science, reference and difference)\" % (oid, candid), loc='left')\n",
    "        fig.subplots_adjust(wspace=0, hspace=0)\n",
    "        \n",
    "    return results"
   ]
  },
  {
   "cell_type": "markdown",
   "metadata": {
    "id": "YuNSv-rUDLiZ"
   },
   "source": [
    "And now we can show the light curve (without extinction corrections):"
   ]
  },
  {
   "cell_type": "code",
   "execution_count": 13,
   "metadata": {
    "colab": {
     "base_uri": "https://localhost:8080/",
     "height": 404
    },
    "id": "T6l6FNILKcKz",
    "outputId": "2ebe9514-a236-422d-c797-57f9dbad9923"
   },
   "outputs": [
    {
     "data": {
      "image/png": "[encoded data removed]",
      "text/plain": [
       "<Figure size 864x432 with 1 Axes>"
      ]
     },
     "metadata": {
      "needs_background": "light",
      "tags": []
     },
     "output_type": "display_data"
    }
   ],
   "source": [
    "results = getVSdatacorr(seloid, doLC=True)"
   ]
  },
  {
   "cell_type": "markdown",
   "metadata": {
    "id": "kPpMQ-q7guVJ"
   },
   "source": [
    "We can also plot the extinction corrected light curve, as well as the first stamps and the link to the ALeRCE explorer:"
   ]
  },
  {
   "cell_type": "code",
   "execution_count": 14,
   "metadata": {
    "colab": {
     "base_uri": "https://localhost:8080/",
     "height": 718
    },
    "id": "A1Lan88VDLia",
    "outputId": "8d6d2e39-081c-4cf1-be29-5fa6ac96c64a"
   },
   "outputs": [
    {
     "data": {
      "text/html": [
       "<a href='http://alerce.online/object/ZTF18abnznbm' target=\"_blank\"> ZTF18abnznbm <a>"
      ],
      "text/plain": [
       "<IPython.core.display.HTML object>"
      ]
     },
     "metadata": {
      "tags": []
     },
     "output_type": "display_data"
    },
    {
     "name": "stderr",
     "output_type": "stream",
     "text": [
      "WARNING: VerifyWarning: Keyword name 'STAMP_TYPE' is greater than 8 characters or contains characters not allowed by the FITS standard; a HIERARCH card will be created. [astropy.io.fits.card]\n"
     ]
    },
    {
     "data": {
      "image/png": "[encoded data removed]",
      "text/plain": [
       "<Figure size 864x432 with 1 Axes>"
      ]
     },
     "metadata": {
      "needs_background": "light",
      "tags": []
     },
     "output_type": "display_data"
    },
    {
     "data": {
      "image/png": "[encoded data removed]",
      "text/plain": [
       "<Figure size 864x432 with 3 Axes>"
      ]
     },
     "metadata": {
      "needs_background": "light",
      "tags": []
     },
     "output_type": "display_data"
    }
   ],
   "source": [
    "results = getVSdatacorr(seloid, doLC=True, doext=True, dostamp=True, showlink=True)"
   ]
  },
  {
   "cell_type": "markdown",
   "metadata": {
    "id": "FOnFZX93DLib"
   },
   "source": [
    "## Simple period <a class=\"anchor\" id=\"simpleperiod\"></a>"
   ]
  },
  {
   "cell_type": "markdown",
   "metadata": {
    "id": "1jEpRqyyDLib"
   },
   "source": [
    "Because RRL are periodic objects, the light curve shown above is not too informative, thus we will plot the folded light curve and obtain three different periodograms, the multiband period, the period in the g filter, and in the r filter.\n",
    "\n",
    "We will use P4J to calculate the periodograms (https://github.com/phuijse/P4J). P4J is a python package for period detection on irregularly sampled and heteroscedastic time series based on Information Theoretic objective functions. P4J was developed for astronomical light curves, irregularly sampled time series of stellar magnitude or flux. The core of the used package is a class called periodogram that sweeps an array of periods/frequencies looking for the one that maximizes a given criterion. The main contribution of this work is a criterion for period detection based on the maximization of Cauchy-Schwarz Quadratic Mutual Information (Huijse et al. 2018, ApJS, 236, 12). Information theoretic criteria incorporate information on the whole probability density function of the process and are more robust than classical second-order statistics based criteria (Principe 2010). For comparison P4J also incorporates other period detection methods used in astronomy such as the Phase Dispersion Minimization periodogram (Stellingwerf 1973), Lafler-Kinman's string length (Clarke 2002) and the Orthogonal multiharmonic Analysis of Variance periodogram (Schwarzenberg-Czerny 1996).\n",
    "\n",
    "We will obtain the multiband period using the Multi Harmonic Analysis of Variance (MHAOV) periodogram (Mondrik et al. 2015, ApJL, 811, L34), using both g and r bands at the same time. We use this method since it provides a good trade-off between performance and computational complexity (see Sánchez-Sáez et al. 2021 for details), and for comparison purposes."
   ]
  },
  {
   "cell_type": "markdown",
   "metadata": {
    "id": "TszmWAS4DLic"
   },
   "source": [
    "First we define the function to get the period of the star:\n",
    "\n",
    "Note here that the user can modify the values of the parameters `fmin`, `fmax`, `fresolution` and `n_local_optima`."
   ]
  },
  {
   "cell_type": "code",
   "execution_count": 15,
   "metadata": {
    "id": "ELipOGQSDLic"
   },
   "outputs": [],
   "source": [
    "def doperiod_multiband(VS_det, showperiod=False):\n",
    "    \n",
    "    mjds, mags, errs, fids = VS_det[[\"mjd\", \"magpsf_corr\", \"sigmapsf_corr_ext\", \"fid\"]].dropna().values.T\n",
    "    \n",
    "    # Compute periodogram\n",
    "    my_per = P4J.MultiBandPeriodogram(method='MHAOV')\n",
    "    my_per.set_data(mjds, mags, errs, fids)        \n",
    "    my_per.frequency_grid_evaluation(fmin=1e-3, fmax=20.0, fresolution=1e-3)\n",
    "    my_per.finetune_best_frequencies(fresolution=1e-4, n_local_optima=10)\n",
    "    \n",
    "    best_freq, best_per = my_per.get_best_frequencies()\n",
    "    freq_mb, per_mb = my_per.get_periodogram()\n",
    "    period_mb = 1.0 / best_freq[0]\n",
    "    \n",
    "    if showperiod:\n",
    "        print('Multiband period: %.6f days' % period_mb)\n",
    "    \n",
    "    period = {}\n",
    "    freq = {}\n",
    "    per = {}\n",
    "    labels = {1: 'g', 2: 'r'}\n",
    "    \n",
    "    for fid in [1, 2]:\n",
    "        freq[fid], per[fid] = my_per.get_periodogram(fid)\n",
    "        best_freq = my_per.get_best_frequency(fid)\n",
    "        period[fid] = 1. / best_freq\n",
    "        \n",
    "        if showperiod:\n",
    "            print(\"Period %s: %.6f days\" % (labels[fid], period[fid]))\n",
    "    \n",
    "    return period_mb, freq_mb, per_mb, period, freq, per"
   ]
  },
  {
   "cell_type": "markdown",
   "metadata": {
    "id": "ebcw4speDLid"
   },
   "source": [
    "Now define the function to be plotted:"
   ]
  },
  {
   "cell_type": "code",
   "execution_count": 16,
   "metadata": {
    "id": "eIkrNy4MDLi1"
   },
   "outputs": [],
   "source": [
    "def plotperiod_multiband(oid, VS_det, dofold=False, showperiodograms=False,\n",
    "                         period_mb=None, freq_mb=None, per_mb=None,\n",
    "                         period=None, freq=None, per=None):\n",
    "\n",
    "    fig, ax = plt.subplots(figsize=(12, 6))\n",
    "    labels = {1: 'g', 2: 'r'}\n",
    "    markers = {1: 'o', 2: 's'}\n",
    "    sizes = {1: 30, 2: 40}\n",
    "    \n",
    "    for idx, fid in enumerate([1, 2]):\n",
    "        maskdet = VS_det.fid == fid\n",
    "        \n",
    "        if dofold:\n",
    "            phase = np.mod(VS_det[maskdet].mjd, period_mb) / period_mb\n",
    "            for nphase in [0, 1]:\n",
    "                if nphase == 0:\n",
    "                    label = labels[fid]\n",
    "                else:\n",
    "                    label = None\n",
    "                ax.errorbar(phase + nphase, VS_det[maskdet].magpsf_corr, \n",
    "                        yerr = VS_det[maskdet].sigmapsf_corr_ext, c=colors[fid], marker=markers[fid], label=label,\n",
    "                        markersize=5, linestyle='None')\n",
    "        else:\n",
    "            ax.errorbar(VS_det[maskdet].mjd, VS_det[maskdet].magpsf_corr, \n",
    "                    yerr=VS_det[maskdet].sigmapsf_corr_ext, c=colors[fid], marker=markers[fid], label=labels[fid],\n",
    "                    linestyle='None')\n",
    "    \n",
    "    if dofold:\n",
    "        ax.set_title(\"%s (multiband period: %.6f days)\" % (oid, period_mb))\n",
    "        ax.set_xlabel(\"phase\")\n",
    "    else:\n",
    "        ax.set_title(oid)\n",
    "        ax.set_xlabel(\"MJD\")\n",
    "    ax.set_ylabel(\"Magnitude\")\n",
    "    ax.legend()\n",
    "    ax.set_ylim(ax.get_ylim()[::-1])\n",
    "    \n",
    "    if dofold and showperiodograms:\n",
    "        fig, ax = plt.subplots(ncols=3, figsize=(14, 4))\n",
    "        \n",
    "        for idx, fid in enumerate([0, 1, 2]):\n",
    "            if idx==0:\n",
    "                ax[idx].plot(freq_mb, per_mb)\n",
    "                ax[idx].set_title(\"Multiband periodogram\")\n",
    "                ax[idx].set_xlabel(\"frequency [1/days]\")\n",
    "            else:\n",
    "                ax[idx].plot(freq[fid], per[fid])\n",
    "                ax[idx].set_title(\"Periodogram %s (period: %.6f days)\" % (labels[fid], period[fid]))\n",
    "                ax[idx].set_xlabel(\"frequency [1/days]\")"
   ]
  },
  {
   "cell_type": "markdown",
   "metadata": {
    "id": "s50uh1ngDLi2"
   },
   "source": [
    "Get data, fold, and plot:"
   ]
  },
  {
   "cell_type": "code",
   "execution_count": 17,
   "metadata": {
    "id": "1cvfXmz3DLi3"
   },
   "outputs": [],
   "source": [
    "def getLCdata(oid, results, doplot=False, dofold=False, showperiod=False, showperiodograms=False):\n",
    "    if dofold:\n",
    "        # get period\n",
    "        period_mb, freq_mb, per_mb, period, freq, per = doperiod_multiband(results[\"lc_det\"],\n",
    "                                                                           showperiod=showperiod)\n",
    "        results[\"period_multiband\"] = period_mb\n",
    "        results[\"period_band\"] = period\n",
    "    else:\n",
    "        period = None; freq = None; per = None\n",
    "        period_mb = None; freq_mb = None; per_mb = None\n",
    "    \n",
    "    if doplot:\n",
    "        plotperiod_multiband(oid, results[\"lc_det\"], dofold, showperiodograms,\n",
    "                             period_mb=period_mb, freq_mb=freq_mb, per_mb=per_mb,\n",
    "                             period=period, freq=freq, per=per)\n",
    "        \n",
    "    return results"
   ]
  },
  {
   "cell_type": "markdown",
   "metadata": {
    "id": "AVf5iGCLDLi4"
   },
   "source": [
    "We can plot the folded light curve and periodograms, and the respective periods are shown:"
   ]
  },
  {
   "cell_type": "code",
   "execution_count": 18,
   "metadata": {
    "colab": {
     "base_uri": "https://localhost:8080/",
     "height": 734
    },
    "id": "MxQdGN2zDLi5",
    "outputId": "1f727daa-aa15-44be-883b-ed932be84bd8",
    "scrolled": true
   },
   "outputs": [
    {
     "name": "stdout",
     "output_type": "stream",
     "text": [
      "Multiband period: 0.545494 days\n",
      "Period g: 0.545494 days\n",
      "Period r: 0.545494 days\n"
     ]
    },
    {
     "data": {
      "image/png": "[encoded data removed]",
      "text/plain": [
       "<Figure size 864x432 with 1 Axes>"
      ]
     },
     "metadata": {
      "needs_background": "light",
      "tags": []
     },
     "output_type": "display_data"
    },
    {
     "data": {
      "image/png": "[encoded data removed]",
      "text/plain": [
       "<Figure size 1008x288 with 3 Axes>"
      ]
     },
     "metadata": {
      "needs_background": "light",
      "tags": []
     },
     "output_type": "display_data"
    }
   ],
   "source": [
    "results = getVSdatacorr(seloid)\n",
    "periodogram = getLCdata(seloid, results, doplot=True, dofold=True, showperiod=True, showperiodograms=True)"
   ]
  },
  {
   "cell_type": "markdown",
   "metadata": {
    "id": "rQ_jY7iRDLi6"
   },
   "source": [
    "We estimated the period using the multiband periodogram, as well as individual periodograms for the filters g and r, and in all cases we obtained Period = 0.545494 days. If we compare with the work by Drake et al. (2013), they obtained Period = 0.5454725 days, thus in very good agreement. We can also check how does our light curve look adopting the period given by Drake et al. (2013):"
   ]
  },
  {
   "cell_type": "code",
   "execution_count": 19,
   "metadata": {
    "colab": {
     "base_uri": "https://localhost:8080/",
     "height": 404
    },
    "id": "vklK9E2WDLi7",
    "outputId": "6a79d19a-417c-4b3b-deab-74fa5e911c7f"
   },
   "outputs": [
    {
     "data": {
      "image/png": "[encoded data removed]",
      "text/plain": [
       "<Figure size 864x432 with 1 Axes>"
      ]
     },
     "metadata": {
      "needs_background": "light",
      "tags": []
     },
     "output_type": "display_data"
    }
   ],
   "source": [
    "period_mb_test = 0.5454725\n",
    "results = getVSdatacorr(seloid)\n",
    "plotperiod_multiband(seloid, results[\"lc_det\"], dofold=True, period_mb=period_mb_test)"
   ]
  },
  {
   "cell_type": "markdown",
   "metadata": {
    "id": "GK5SBjH7DLi_"
   },
   "source": [
    "This RRL is also present in ASAS-SN: https://asas-sn.osu.edu/variables/ebab1536-9eea-5846-8981-6937bc875eb2 which shows results in very good agreement with those reported here.\n",
    "\n",
    "From our analysis, we can state that this is an ab-type RR Lyrae star, as noted by its typical sawtooth-shaped light curve, period of order half a day, fast rise time (time between minimum and maximum), and shock-related bump before minimum light. \n",
    "Note that the color (g-r) can be directly inferred from the g and r light curves. The resulting values are typical of an RR Lyrae star that is not heavily affected by extinction, and which changes smoothly as a function of phase, as expected for this class of pulsating stars."
   ]
  },
  {
   "cell_type": "markdown",
   "metadata": {
    "id": "dEhaL6ZSDLjA"
   },
   "source": [
    "## Show possible counterparts from SIMBAD <a class=\"anchor\" id=\"crossmatch\"></a>"
   ]
  },
  {
   "cell_type": "markdown",
   "metadata": {
    "id": "QEE4uCfnDLjB"
   },
   "source": [
    "We can display a table with cross-match(es) in the SIMBAD public database for our adopted search radius (0.01 deg)."
   ]
  },
  {
   "cell_type": "code",
   "execution_count": 20,
   "metadata": {
    "colab": {
     "base_uri": "https://localhost:8080/",
     "height": 122
    },
    "id": "EpMjQ5DSDLjC",
    "outputId": "a3863791-4d46-4b63-93ba-2d89c68f81c7"
   },
   "outputs": [
    {
     "data": {
      "text/html": [
       "<i>Table length=1</i>\n",
       "<table id=\"table139889820678992\" class=\"table-striped table-bordered table-condensed\">\n",
       "<thead><tr><th>MAIN_ID</th><th>RA</th><th>DEC</th><th>RA_PREC</th><th>DEC_PREC</th><th>COO_ERR_MAJA</th><th>COO_ERR_MINA</th><th>COO_ERR_ANGLE</th><th>COO_QUAL</th><th>COO_WAVELENGTH</th><th>COO_BIBCODE</th></tr></thead>\n",
       "<thead><tr><th></th><th>&quot;h:m:s&quot;</th><th>&quot;d:m:s&quot;</th><th></th><th></th><th>mas</th><th>mas</th><th>deg</th><th></th><th></th><th></th></tr></thead>\n",
       "<thead><tr><th>object</th><th>str13</th><th>str13</th><th>int16</th><th>int16</th><th>float32</th><th>float32</th><th>int16</th><th>str1</th><th>str1</th><th>object</th></tr></thead>\n",
       "<tr><td>V* V420 Peg</td><td>00 00 18.1975</td><td>+19 32 55.448</td><td>14</td><td>14</td><td>0.051</td><td>0.024</td><td>90</td><td>A</td><td>O</td><td>2018yCat.1345....0G</td></tr>\n",
       "</table>"
      ],
      "text/plain": [
       "<Table length=1>\n",
       "  MAIN_ID         RA           DEC      ... COO_WAVELENGTH     COO_BIBCODE    \n",
       "               \"h:m:s\"       \"d:m:s\"    ...                                   \n",
       "   object       str13         str13     ...      str1             object      \n",
       "----------- ------------- ------------- ... -------------- -------------------\n",
       "V* V420 Peg 00 00 18.1975 +19 32 55.448 ...              O 2018yCat.1345....0G"
      ]
     },
     "metadata": {
      "tags": []
     },
     "output_type": "display_data"
    }
   ],
   "source": [
    "results = getVSdatacorr(seloid, dosimbad=True)"
   ]
  },
  {
   "cell_type": "markdown",
   "metadata": {
    "id": "YO-5SfgjDLjC"
   },
   "source": [
    "## Query image from Aladin <a class=\"anchor\" id=\"crossmatch\"></a>"
   ]
  },
  {
   "cell_type": "markdown",
   "metadata": {
    "id": "NA9FAtmlDLjC"
   },
   "source": [
    "We can show an image from Aladin to see the star and its environment from a PanSTARRS DR1 image."
   ]
  },
  {
   "cell_type": "code",
   "execution_count": 21,
   "metadata": {
    "id": "uUOxDzsRDLjD"
   },
   "outputs": [],
   "source": [
    "def show_image(results):\n",
    "    query = \"\"\"\n",
    "<!-- include Aladin Lite CSS file in the head section of your page -->\n",
    "<link rel=\"stylesheet\" href=\"https://aladin.u-strasbg.fr/AladinLite/api/v2/latest/aladin.min.css\" />\n",
    " \n",
    "<!-- you can skip the following line if your page already integrates the jQuery library -->\n",
    "<script type=\"text/javascript\" src=\"https://code.jquery.com/jquery-1.12.1.min.js\" charset=\"utf-8\"></script>\n",
    " \n",
    "<!-- insert this snippet where you want Aladin Lite viewer to appear and after the loading of jQuery -->\n",
    "<div id=\"aladin-lite-div\" style=\"width:800px;height:400px;\"></div>\n",
    "<script type=\"text/javascript\" src=\"https://aladin.u-strasbg.fr/AladinLite/api/v2/latest/aladin.min.js\" charset=\"utf-8\"></script>\n",
    "<script type=\"text/javascript\">\n",
    "    var aladin = A.aladin('#aladin-lite-div', {survey: \"P/PanSTARRS/DR1/color-z-zg-g\", fov:0.04, target: \"%s, %s\"});\n",
    "</script>\n",
    "\"\"\" % (float(results[\"stats\"].meanra), float(results[\"stats\"].meandec))\n",
    "    display(HTML(query))\n",
    "    #print(query)"
   ]
  },
  {
   "cell_type": "code",
   "execution_count": 22,
   "metadata": {
    "colab": {
     "base_uri": "https://localhost:8080/",
     "height": 420
    },
    "id": "xLovJC3YDLjE",
    "outputId": "b127bc21-1a84-496e-89d0-d5a2f01b0c3c",
    "scrolled": true
   },
   "outputs": [
    {
     "data": {
      "text/html": [
       "\n",
       "<!-- include Aladin Lite CSS file in the head section of your page -->\n",
       "<link rel=\"stylesheet\" href=\"https://aladin.u-strasbg.fr/AladinLite/api/v2/latest/aladin.min.css\" />\n",
       " \n",
       "<!-- you can skip the following line if your page already integrates the jQuery library -->\n",
       "<script type=\"text/javascript\" src=\"https://code.jquery.com/jquery-1.12.1.min.js\" charset=\"utf-8\"></script>\n",
       " \n",
       "<!-- insert this snippet where you want Aladin Lite viewer to appear and after the loading of jQuery -->\n",
       "<div id=\"aladin-lite-div\" style=\"width:800px;height:400px;\"></div>\n",
       "<script type=\"text/javascript\" src=\"https://aladin.u-strasbg.fr/AladinLite/api/v2/latest/aladin.min.js\" charset=\"utf-8\"></script>\n",
       "<script type=\"text/javascript\">\n",
       "    var aladin = A.aladin('#aladin-lite-div', {survey: \"P/PanSTARRS/DR1/color-z-zg-g\", fov:0.04, target: \"0.07583340466472303, 19.548743079300294\"});\n",
       "</script>\n"
      ],
      "text/plain": [
       "<IPython.core.display.HTML object>"
      ]
     },
     "metadata": {
      "tags": []
     },
     "output_type": "display_data"
    }
   ],
   "source": [
    "results = getVSdatacorr(seloid)\n",
    "show_image(results)"
   ]
  },
  {
   "cell_type": "markdown",
   "metadata": {
    "id": "3oPB4ztYDLjG"
   },
   "source": [
    "# Query a sample of targets <a class=\"anchor\" id=\"sampletarget\"></a>"
   ]
  },
  {
   "cell_type": "markdown",
   "metadata": {
    "id": "JgUrA_5TDLjG"
   },
   "source": [
    "As explained in the [Introduction](#intro), ALeRCE systematically classifies the sources into a hierarchical [taxonomy](#classifiers), based on a stamp classifier which classifies in five subclasses, and a light curve classifier that is used when at least six detections are obtained in the light curve, which provides a more detailed classification up to 15 classes. In this part of the notebook we will show examples using the ALeRCE client and the database to query different samples of variable stars."
   ]
  },
  {
   "cell_type": "markdown",
   "metadata": {
    "id": "k3tf79hCDLji"
   },
   "source": [
    "### Example using the ALeRCE client to query a sample of RRL <a class=\"anchor\" id=\"clientrrl\"></a>"
   ]
  },
  {
   "cell_type": "markdown",
   "metadata": {
    "id": "RZOxctaqDLji"
   },
   "source": [
    "In this example we will access the ALeRCE client to do a simple query to get information about a sample of 100 targets first detected at least 100 days after ZTF's 1st light, with a probability of being classified as RRL by the light curve classifier larger than 0.8, with a minimum of 100 detections, that will be ordered by their probability. We will output the result of the query directly as a pandas dataframe:"
   ]
  },
  {
   "cell_type": "code",
   "execution_count": 23,
   "metadata": {
    "colab": {
     "base_uri": "https://localhost:8080/",
     "height": 244
    },
    "id": "bvq6GhfaDLji",
    "outputId": "b3d340a4-7f5b-4c7d-8379-2148457a2206"
   },
   "outputs": [
    {
     "name": "stdout",
     "output_type": "stream",
     "text": [
      "(100, 23)\n"
     ]
    },
    {
     "data": {
      "text/html": [
       "<div>\n",
       "<style scoped>\n",
       "    .dataframe tbody tr th:only-of-type {\n",
       "        vertical-align: middle;\n",
       "    }\n",
       "\n",
       "    .dataframe tbody tr th {\n",
       "        vertical-align: top;\n",
       "    }\n",
       "\n",
       "    .dataframe thead th {\n",
       "        text-align: right;\n",
       "    }\n",
       "</style>\n",
       "<table border=\"1\" class=\"dataframe\">\n",
       "  <thead>\n",
       "    <tr style=\"text-align: right;\">\n",
       "      <th></th>\n",
       "      <th>oid</th>\n",
       "      <th>ndethist</th>\n",
       "      <th>ncovhist</th>\n",
       "      <th>mjdstarthist</th>\n",
       "      <th>mjdendhist</th>\n",
       "      <th>corrected</th>\n",
       "      <th>stellar</th>\n",
       "      <th>ndet</th>\n",
       "      <th>g_r_max</th>\n",
       "      <th>g_r_max_corr</th>\n",
       "      <th>g_r_mean</th>\n",
       "      <th>g_r_mean_corr</th>\n",
       "      <th>firstmjd</th>\n",
       "      <th>lastmjd</th>\n",
       "      <th>deltajd</th>\n",
       "      <th>meanra</th>\n",
       "      <th>meandec</th>\n",
       "      <th>sigmara</th>\n",
       "      <th>sigmadec</th>\n",
       "      <th>class</th>\n",
       "      <th>classifier</th>\n",
       "      <th>probability</th>\n",
       "      <th>step_id_corr</th>\n",
       "    </tr>\n",
       "  </thead>\n",
       "  <tbody>\n",
       "    <tr>\n",
       "      <th>0</th>\n",
       "      <td>ZTF17aaadoqd</td>\n",
       "      <td>181</td>\n",
       "      <td>336</td>\n",
       "      <td>58274.356319</td>\n",
       "      <td>59190.114768</td>\n",
       "      <td>True</td>\n",
       "      <td>True</td>\n",
       "      <td>148</td>\n",
       "      <td>-0.358578</td>\n",
       "      <td>-0.046480</td>\n",
       "      <td>-0.121367</td>\n",
       "      <td>0.250028</td>\n",
       "      <td>58349.209965</td>\n",
       "      <td>59190.114768</td>\n",
       "      <td>840.904803</td>\n",
       "      <td>313.176026</td>\n",
       "      <td>-1.164794</td>\n",
       "      <td>0.000040</td>\n",
       "      <td>0.000052</td>\n",
       "      <td>RRL</td>\n",
       "      <td>lc_classifier</td>\n",
       "      <td>0.937008</td>\n",
       "      <td>corr_bulk_0.0.1</td>\n",
       "    </tr>\n",
       "    <tr>\n",
       "      <th>1</th>\n",
       "      <td>ZTF18abvwpht</td>\n",
       "      <td>210</td>\n",
       "      <td>311</td>\n",
       "      <td>58305.398461</td>\n",
       "      <td>59188.093345</td>\n",
       "      <td>True</td>\n",
       "      <td>True</td>\n",
       "      <td>142</td>\n",
       "      <td>-0.470036</td>\n",
       "      <td>-0.082203</td>\n",
       "      <td>0.074167</td>\n",
       "      <td>0.177482</td>\n",
       "      <td>58375.282083</td>\n",
       "      <td>59188.093345</td>\n",
       "      <td>812.811262</td>\n",
       "      <td>313.335708</td>\n",
       "      <td>-7.730580</td>\n",
       "      <td>0.000045</td>\n",
       "      <td>0.000049</td>\n",
       "      <td>RRL</td>\n",
       "      <td>lc_classifier</td>\n",
       "      <td>0.919680</td>\n",
       "      <td>corr_bulk_0.0.1</td>\n",
       "    </tr>\n",
       "    <tr>\n",
       "      <th>2</th>\n",
       "      <td>ZTF17aabwvyk</td>\n",
       "      <td>282</td>\n",
       "      <td>566</td>\n",
       "      <td>58333.359618</td>\n",
       "      <td>59218.132407</td>\n",
       "      <td>True</td>\n",
       "      <td>True</td>\n",
       "      <td>161</td>\n",
       "      <td>-0.732367</td>\n",
       "      <td>-0.151859</td>\n",
       "      <td>-0.069006</td>\n",
       "      <td>0.159725</td>\n",
       "      <td>58351.403310</td>\n",
       "      <td>59218.132407</td>\n",
       "      <td>866.729097</td>\n",
       "      <td>345.198407</td>\n",
       "      <td>6.282067</td>\n",
       "      <td>0.000057</td>\n",
       "      <td>0.000069</td>\n",
       "      <td>RRL</td>\n",
       "      <td>lc_classifier</td>\n",
       "      <td>0.915848</td>\n",
       "      <td>corr_bulk_0.0.1</td>\n",
       "    </tr>\n",
       "    <tr>\n",
       "      <th>3</th>\n",
       "      <td>ZTF18acsvnpf</td>\n",
       "      <td>214</td>\n",
       "      <td>345</td>\n",
       "      <td>58303.377442</td>\n",
       "      <td>59204.127222</td>\n",
       "      <td>True</td>\n",
       "      <td>True</td>\n",
       "      <td>136</td>\n",
       "      <td>-0.533981</td>\n",
       "      <td>-0.121360</td>\n",
       "      <td>0.142076</td>\n",
       "      <td>0.103969</td>\n",
       "      <td>58456.068426</td>\n",
       "      <td>59204.127222</td>\n",
       "      <td>748.058796</td>\n",
       "      <td>329.346451</td>\n",
       "      <td>-11.588441</td>\n",
       "      <td>0.000054</td>\n",
       "      <td>0.000053</td>\n",
       "      <td>RRL</td>\n",
       "      <td>lc_classifier</td>\n",
       "      <td>0.913900</td>\n",
       "      <td>corr_bulk_0.0.1</td>\n",
       "    </tr>\n",
       "    <tr>\n",
       "      <th>4</th>\n",
       "      <td>ZTF18abtjpzd</td>\n",
       "      <td>203</td>\n",
       "      <td>390</td>\n",
       "      <td>58305.398461</td>\n",
       "      <td>59186.094063</td>\n",
       "      <td>True</td>\n",
       "      <td>True</td>\n",
       "      <td>141</td>\n",
       "      <td>-0.605967</td>\n",
       "      <td>-0.063493</td>\n",
       "      <td>0.019688</td>\n",
       "      <td>0.154505</td>\n",
       "      <td>58366.315683</td>\n",
       "      <td>59186.094063</td>\n",
       "      <td>819.778380</td>\n",
       "      <td>312.517945</td>\n",
       "      <td>-8.409144</td>\n",
       "      <td>0.000043</td>\n",
       "      <td>0.000051</td>\n",
       "      <td>RRL</td>\n",
       "      <td>lc_classifier</td>\n",
       "      <td>0.913872</td>\n",
       "      <td>corr_bulk_0.0.1</td>\n",
       "    </tr>\n",
       "  </tbody>\n",
       "</table>\n",
       "</div>"
      ],
      "text/plain": [
       "            oid ndethist  ncovhist  ...     classifier  probability     step_id_corr\n",
       "0  ZTF17aaadoqd      181       336  ...  lc_classifier     0.937008  corr_bulk_0.0.1\n",
       "1  ZTF18abvwpht      210       311  ...  lc_classifier     0.919680  corr_bulk_0.0.1\n",
       "2  ZTF17aabwvyk      282       566  ...  lc_classifier     0.915848  corr_bulk_0.0.1\n",
       "3  ZTF18acsvnpf      214       345  ...  lc_classifier     0.913900  corr_bulk_0.0.1\n",
       "4  ZTF18abtjpzd      203       390  ...  lc_classifier     0.913872  corr_bulk_0.0.1\n",
       "\n",
       "[5 rows x 23 columns]"
      ]
     },
     "execution_count": 23,
     "metadata": {
      "tags": []
     },
     "output_type": "execute_result"
    }
   ],
   "source": [
    "min_firstmjd = Time(\"2017-11-01T00:00:00\", format=\"isot\", scale=\"utc\").mjd + 100\n",
    "\n",
    "VSs = alerce_client.query_objects(classifier=\"lc_classifier\",\n",
    "                                  class_name=\"RRL\", \n",
    "                                  probability=0.8,\n",
    "                                  ndet=[100,None],\n",
    "                                  order_by=\"probability\",\n",
    "                                  order_mode=\"DESC\",\n",
    "                                  first_mjd=[min_firstmjd, None],\n",
    "                                  count=False,\n",
    "                                  page_size=100, format='pandas')\n",
    "print(VSs.shape)\n",
    "VSs.head()"
   ]
  },
  {
   "cell_type": "markdown",
   "metadata": {
    "id": "IitqGmkJDLjo"
   },
   "source": [
    "For example we can make an histogram of the number of detections for the sample:"
   ]
  },
  {
   "cell_type": "code",
   "execution_count": 24,
   "metadata": {
    "colab": {
     "base_uri": "https://localhost:8080/",
     "height": 296
    },
    "id": "JavpNtqwDLjp",
    "outputId": "82ad8b21-81a0-4a00-d54f-d85a89f4fa99"
   },
   "outputs": [
    {
     "data": {
      "text/plain": [
       "Text(0.5, 0, 'N. detections')"
      ]
     },
     "execution_count": 24,
     "metadata": {
      "tags": []
     },
     "output_type": "execute_result"
    },
    {
     "data": {
      "image/png": "[encoded data removed]",
      "text/plain": [
       "<Figure size 432x288 with 1 Axes>"
      ]
     },
     "metadata": {
      "needs_background": "light",
      "tags": []
     },
     "output_type": "display_data"
    }
   ],
   "source": [
    "fig, ax = plt.subplots()\n",
    "VSs.ndet.plot.hist(ax=ax)\n",
    "ax.set_xlabel(\"N. detections\")"
   ]
  },
  {
   "cell_type": "markdown",
   "metadata": {
    "id": "SBOqAMEaSgxn"
   },
   "source": [
    "We define a function to plot different properties of the stars:"
   ]
  },
  {
   "cell_type": "code",
   "execution_count": 25,
   "metadata": {
    "id": "iF7B1q8mSbhh"
   },
   "outputs": [],
   "source": [
    "def plot_properties(propx, propy, propx_label, propy_label, dodiag=False):\n",
    "    fig, ax = plt.subplots(figsize=(12, 6))\n",
    "    ax.scatter(propx, propy, alpha=0.5)\n",
    "    ax.set_xlabel(\"%s\" % propx_label)\n",
    "    ax.set_ylabel(\"%s\" % propy_label)\n",
    "    \n",
    "    if dodiag:\n",
    "        t = np.arange(min(propx)-0.1, max(propx)+0.1, 0.01)\n",
    "        s = t\n",
    "        ax.plot(t, s,color='gray', linestyle='--',label=\"y=x\")\n",
    "        ax.legend()"
   ]
  },
  {
   "cell_type": "markdown",
   "metadata": {
    "id": "IhEl3oEJDLjp"
   },
   "source": [
    "For example, we can plot their mean corrected colors, g_r_mean_corr, versus their maximum corrected colors, g_r_max_corr:"
   ]
  },
  {
   "cell_type": "code",
   "execution_count": 26,
   "metadata": {
    "colab": {
     "base_uri": "https://localhost:8080/",
     "height": 388
    },
    "id": "rqaT69hZDLjq",
    "outputId": "fcb9259f-199c-4922-f616-3d8b6cb7adbc"
   },
   "outputs": [
    {
     "data": {
      "image/png": "[encoded data removed]",
      "text/plain": [
       "<Figure size 864x432 with 1 Axes>"
      ]
     },
     "metadata": {
      "needs_background": "light",
      "tags": []
     },
     "output_type": "display_data"
    }
   ],
   "source": [
    "plot_properties(propx=VSs.g_r_mean_corr, propy=VSs.g_r_max_corr,\n",
    "                propx_label=\"mean(g-r)\", propy_label=\"g-r @ max\", dodiag=True)"
   ]
  },
  {
   "cell_type": "markdown",
   "metadata": {
    "id": "nki3wLUtDLjq"
   },
   "source": [
    "As expected, the maximum colors are bluer that the mean values. This is because the stars move in diagonal loops in color-magnitude plots.\n"
   ]
  },
  {
   "cell_type": "markdown",
   "metadata": {
    "id": "5M__zeSkDLjy"
   },
   "source": [
    "### Examples using the ALeRCE database (DB) to query a sample of RRL <a class=\"anchor\" id=\"dbrrl\"></a>"
   ]
  },
  {
   "cell_type": "markdown",
   "metadata": {
    "id": "5lipyofsDLjy"
   },
   "source": [
    "The previous way of querying candidates is good for relatively simple queries. However, if we want to do more complex queries the best solution may be to connect directly to the DB. We show how to do this here. You will need to use the read only credentials available in the repository"
   ]
  },
  {
   "cell_type": "code",
   "execution_count": 27,
   "metadata": {
    "id": "WzEFtl6WDLjz"
   },
   "outputs": [],
   "source": [
    "import requests\n",
    "url = \"https://raw.githubusercontent.com/alercebroker/usecases/master/alercereaduser_v4.json\"\n",
    "params = requests.get(url).json()['params']"
   ]
  },
  {
   "cell_type": "markdown",
   "metadata": {
    "id": "5nO7uJ1hDLj0"
   },
   "source": [
    "Now we open a connection to the DB"
   ]
  },
  {
   "cell_type": "code",
   "execution_count": 28,
   "metadata": {
    "id": "rPIfFCvPDLj0"
   },
   "outputs": [],
   "source": [
    "conn = psycopg2.connect(dbname=params['dbname'], user=params['user'], host=params['host'], password=params['password'])"
   ]
  },
  {
   "cell_type": "markdown",
   "metadata": {
    "id": "QfGS5OdjDLj1"
   },
   "source": [
    "And we show all the available tables"
   ]
  },
  {
   "cell_type": "code",
   "execution_count": 29,
   "metadata": {
    "colab": {
     "base_uri": "https://localhost:8080/",
     "height": 802
    },
    "id": "EiExcH-nDLj2",
    "outputId": "e7103c39-7bb1-441d-f9e0-60766562dd9a"
   },
   "outputs": [
    {
     "data": {
      "text/html": [
       "<div>\n",
       "<style scoped>\n",
       "    .dataframe tbody tr th:only-of-type {\n",
       "        vertical-align: middle;\n",
       "    }\n",
       "\n",
       "    .dataframe tbody tr th {\n",
       "        vertical-align: top;\n",
       "    }\n",
       "\n",
       "    .dataframe thead th {\n",
       "        text-align: right;\n",
       "    }\n",
       "</style>\n",
       "<table border=\"1\" class=\"dataframe\">\n",
       "  <thead>\n",
       "    <tr style=\"text-align: right;\">\n",
       "      <th></th>\n",
       "      <th>table_name</th>\n",
       "    </tr>\n",
       "  </thead>\n",
       "  <tbody>\n",
       "    <tr>\n",
       "      <th>0</th>\n",
       "      <td>allwise</td>\n",
       "    </tr>\n",
       "    <tr>\n",
       "      <th>1</th>\n",
       "      <td>dataquality</td>\n",
       "    </tr>\n",
       "    <tr>\n",
       "      <th>2</th>\n",
       "      <td>detection</td>\n",
       "    </tr>\n",
       "    <tr>\n",
       "      <th>3</th>\n",
       "      <td>feature</td>\n",
       "    </tr>\n",
       "    <tr>\n",
       "      <th>4</th>\n",
       "      <td>feature_version</td>\n",
       "    </tr>\n",
       "    <tr>\n",
       "      <th>5</th>\n",
       "      <td>gaia_ztf</td>\n",
       "    </tr>\n",
       "    <tr>\n",
       "      <th>6</th>\n",
       "      <td>lc_classifier</td>\n",
       "    </tr>\n",
       "    <tr>\n",
       "      <th>7</th>\n",
       "      <td>lc_classifier_periodic</td>\n",
       "    </tr>\n",
       "    <tr>\n",
       "      <th>8</th>\n",
       "      <td>lc_classifier_stochastic</td>\n",
       "    </tr>\n",
       "    <tr>\n",
       "      <th>9</th>\n",
       "      <td>lc_classifier_top</td>\n",
       "    </tr>\n",
       "    <tr>\n",
       "      <th>10</th>\n",
       "      <td>lc_classifier_transient</td>\n",
       "    </tr>\n",
       "    <tr>\n",
       "      <th>11</th>\n",
       "      <td>magstat</td>\n",
       "    </tr>\n",
       "    <tr>\n",
       "      <th>12</th>\n",
       "      <td>non_detection</td>\n",
       "    </tr>\n",
       "    <tr>\n",
       "      <th>13</th>\n",
       "      <td>object</td>\n",
       "    </tr>\n",
       "    <tr>\n",
       "      <th>14</th>\n",
       "      <td>outlier</td>\n",
       "    </tr>\n",
       "    <tr>\n",
       "      <th>15</th>\n",
       "      <td>pipeline</td>\n",
       "    </tr>\n",
       "    <tr>\n",
       "      <th>16</th>\n",
       "      <td>probability</td>\n",
       "    </tr>\n",
       "    <tr>\n",
       "      <th>17</th>\n",
       "      <td>ps1_ztf</td>\n",
       "    </tr>\n",
       "    <tr>\n",
       "      <th>18</th>\n",
       "      <td>reference</td>\n",
       "    </tr>\n",
       "    <tr>\n",
       "      <th>19</th>\n",
       "      <td>ss_ztf</td>\n",
       "    </tr>\n",
       "    <tr>\n",
       "      <th>20</th>\n",
       "      <td>stamp_classifier</td>\n",
       "    </tr>\n",
       "    <tr>\n",
       "      <th>21</th>\n",
       "      <td>step</td>\n",
       "    </tr>\n",
       "    <tr>\n",
       "      <th>22</th>\n",
       "      <td>taxonomy</td>\n",
       "    </tr>\n",
       "    <tr>\n",
       "      <th>23</th>\n",
       "      <td>xmatch</td>\n",
       "    </tr>\n",
       "  </tbody>\n",
       "</table>\n",
       "</div>"
      ],
      "text/plain": [
       "                  table_name\n",
       "0                    allwise\n",
       "1                dataquality\n",
       "2                  detection\n",
       "3                    feature\n",
       "4            feature_version\n",
       "5                   gaia_ztf\n",
       "6              lc_classifier\n",
       "7     lc_classifier_periodic\n",
       "8   lc_classifier_stochastic\n",
       "9          lc_classifier_top\n",
       "10   lc_classifier_transient\n",
       "11                   magstat\n",
       "12             non_detection\n",
       "13                    object\n",
       "14                   outlier\n",
       "15                  pipeline\n",
       "16               probability\n",
       "17                   ps1_ztf\n",
       "18                 reference\n",
       "19                    ss_ztf\n",
       "20          stamp_classifier\n",
       "21                      step\n",
       "22                  taxonomy\n",
       "23                    xmatch"
      ]
     },
     "execution_count": 29,
     "metadata": {
      "tags": []
     },
     "output_type": "execute_result"
    }
   ],
   "source": [
    "query = \"\"\"\n",
    "SELECT table_name FROM information_schema.tables\n",
    "WHERE table_schema='alerce'\n",
    "ORDER BY table_name;\n",
    "\"\"\"\n",
    "tables = pd.read_sql_query(query, conn)\n",
    "tables.sort_values(by=\"table_name\")"
   ]
  },
  {
   "cell_type": "markdown",
   "metadata": {
    "id": "XEYqIIpLDLj2"
   },
   "source": [
    "You can see all the tables used in the new version of our database. The most relevant tables are, moving from less to more aggregation:\n",
    "\n",
    "* `non_detection`: one row per non-detection per object, the limiting magnitudes\n",
    "* `detections`: one row per detection, light curves and other relevant time dependent information\n",
    "* `dataquality`: one row per detection, data quality related time dependent information\n",
    "* `magstat`: one row per object per filter, statistics per bandpass per object\n",
    "* `object`: one row per object, basic object statistics\n",
    "* `probability`: one row per object per classifier and class, the probabilities of every object\n",
    "* `reference`: one row per object per reference image, object statistics for every reference image used\n",
    "* `feature`: one row per object per feature, object computed features\n",
    "* `xmatch`: one row per object per external catalog, the table that points to the detailed xmatch tables\n",
    "* `allwise, ps1_ztf, gaia_ztf, ss_stf`: one row per object, xmatch tables\n"
   ]
  },
  {
   "cell_type": "markdown",
   "metadata": {
    "id": "7m3sI8n3DLj4"
   },
   "source": [
    "For completeness, we now show all columns available in all tables:"
   ]
  },
  {
   "cell_type": "code",
   "execution_count": 30,
   "metadata": {
    "colab": {
     "base_uri": "https://localhost:8080/",
     "height": 1000
    },
    "id": "om5eRNPaDLj4",
    "outputId": "24611b6e-a7ed-4214-f718-599e93efdb0f"
   },
   "outputs": [
    {
     "data": {
      "text/html": [
       "<div>\n",
       "<style scoped>\n",
       "    .dataframe tbody tr th:only-of-type {\n",
       "        vertical-align: middle;\n",
       "    }\n",
       "\n",
       "    .dataframe tbody tr th {\n",
       "        vertical-align: top;\n",
       "    }\n",
       "\n",
       "    .dataframe thead th {\n",
       "        text-align: right;\n",
       "    }\n",
       "</style>\n",
       "<table border=\"1\" class=\"dataframe\">\n",
       "  <thead>\n",
       "    <tr style=\"text-align: right;\">\n",
       "      <th></th>\n",
       "      <th>table</th>\n",
       "      <th>column_name</th>\n",
       "      <th>data_type</th>\n",
       "    </tr>\n",
       "  </thead>\n",
       "  <tbody>\n",
       "    <tr>\n",
       "      <th>0</th>\n",
       "      <td>allwise</td>\n",
       "      <td>k_msig_2mass</td>\n",
       "      <td>double precision</td>\n",
       "    </tr>\n",
       "    <tr>\n",
       "      <th>1</th>\n",
       "      <td>allwise</td>\n",
       "      <td>ra</td>\n",
       "      <td>double precision</td>\n",
       "    </tr>\n",
       "    <tr>\n",
       "      <th>2</th>\n",
       "      <td>allwise</td>\n",
       "      <td>dec</td>\n",
       "      <td>double precision</td>\n",
       "    </tr>\n",
       "    <tr>\n",
       "      <th>3</th>\n",
       "      <td>allwise</td>\n",
       "      <td>w1mpro</td>\n",
       "      <td>double precision</td>\n",
       "    </tr>\n",
       "    <tr>\n",
       "      <th>4</th>\n",
       "      <td>allwise</td>\n",
       "      <td>w2mpro</td>\n",
       "      <td>double precision</td>\n",
       "    </tr>\n",
       "    <tr>\n",
       "      <th>5</th>\n",
       "      <td>allwise</td>\n",
       "      <td>w3mpro</td>\n",
       "      <td>double precision</td>\n",
       "    </tr>\n",
       "    <tr>\n",
       "      <th>6</th>\n",
       "      <td>allwise</td>\n",
       "      <td>w4mpro</td>\n",
       "      <td>double precision</td>\n",
       "    </tr>\n",
       "    <tr>\n",
       "      <th>7</th>\n",
       "      <td>allwise</td>\n",
       "      <td>w1sigmpro</td>\n",
       "      <td>double precision</td>\n",
       "    </tr>\n",
       "    <tr>\n",
       "      <th>8</th>\n",
       "      <td>allwise</td>\n",
       "      <td>w2sigmpro</td>\n",
       "      <td>double precision</td>\n",
       "    </tr>\n",
       "    <tr>\n",
       "      <th>9</th>\n",
       "      <td>allwise</td>\n",
       "      <td>w3sigmpro</td>\n",
       "      <td>double precision</td>\n",
       "    </tr>\n",
       "    <tr>\n",
       "      <th>10</th>\n",
       "      <td>allwise</td>\n",
       "      <td>w4sigmpro</td>\n",
       "      <td>double precision</td>\n",
       "    </tr>\n",
       "    <tr>\n",
       "      <th>11</th>\n",
       "      <td>allwise</td>\n",
       "      <td>j_m_2mass</td>\n",
       "      <td>double precision</td>\n",
       "    </tr>\n",
       "    <tr>\n",
       "      <th>12</th>\n",
       "      <td>allwise</td>\n",
       "      <td>h_m_2mass</td>\n",
       "      <td>double precision</td>\n",
       "    </tr>\n",
       "    <tr>\n",
       "      <th>13</th>\n",
       "      <td>allwise</td>\n",
       "      <td>k_m_2mass</td>\n",
       "      <td>double precision</td>\n",
       "    </tr>\n",
       "    <tr>\n",
       "      <th>14</th>\n",
       "      <td>allwise</td>\n",
       "      <td>j_msig_2mass</td>\n",
       "      <td>double precision</td>\n",
       "    </tr>\n",
       "    <tr>\n",
       "      <th>15</th>\n",
       "      <td>allwise</td>\n",
       "      <td>h_msig_2mass</td>\n",
       "      <td>double precision</td>\n",
       "    </tr>\n",
       "    <tr>\n",
       "      <th>16</th>\n",
       "      <td>allwise</td>\n",
       "      <td>oid_catalog</td>\n",
       "      <td>character varying</td>\n",
       "    </tr>\n",
       "    <tr>\n",
       "      <th>0</th>\n",
       "      <td>dataquality</td>\n",
       "      <td>exptime</td>\n",
       "      <td>real</td>\n",
       "    </tr>\n",
       "    <tr>\n",
       "      <th>1</th>\n",
       "      <td>dataquality</td>\n",
       "      <td>candid</td>\n",
       "      <td>bigint</td>\n",
       "    </tr>\n",
       "    <tr>\n",
       "      <th>2</th>\n",
       "      <td>dataquality</td>\n",
       "      <td>fid</td>\n",
       "      <td>integer</td>\n",
       "    </tr>\n",
       "    <tr>\n",
       "      <th>3</th>\n",
       "      <td>dataquality</td>\n",
       "      <td>xpos</td>\n",
       "      <td>real</td>\n",
       "    </tr>\n",
       "    <tr>\n",
       "      <th>4</th>\n",
       "      <td>dataquality</td>\n",
       "      <td>ypos</td>\n",
       "      <td>real</td>\n",
       "    </tr>\n",
       "    <tr>\n",
       "      <th>5</th>\n",
       "      <td>dataquality</td>\n",
       "      <td>chipsf</td>\n",
       "      <td>real</td>\n",
       "    </tr>\n",
       "    <tr>\n",
       "      <th>6</th>\n",
       "      <td>dataquality</td>\n",
       "      <td>sky</td>\n",
       "      <td>real</td>\n",
       "    </tr>\n",
       "    <tr>\n",
       "      <th>7</th>\n",
       "      <td>dataquality</td>\n",
       "      <td>fwhm</td>\n",
       "      <td>real</td>\n",
       "    </tr>\n",
       "    <tr>\n",
       "      <th>8</th>\n",
       "      <td>dataquality</td>\n",
       "      <td>classtar</td>\n",
       "      <td>real</td>\n",
       "    </tr>\n",
       "    <tr>\n",
       "      <th>9</th>\n",
       "      <td>dataquality</td>\n",
       "      <td>mindtoedge</td>\n",
       "      <td>real</td>\n",
       "    </tr>\n",
       "    <tr>\n",
       "      <th>10</th>\n",
       "      <td>dataquality</td>\n",
       "      <td>seeratio</td>\n",
       "      <td>real</td>\n",
       "    </tr>\n",
       "    <tr>\n",
       "      <th>11</th>\n",
       "      <td>dataquality</td>\n",
       "      <td>aimage</td>\n",
       "      <td>real</td>\n",
       "    </tr>\n",
       "    <tr>\n",
       "      <th>12</th>\n",
       "      <td>dataquality</td>\n",
       "      <td>bimage</td>\n",
       "      <td>real</td>\n",
       "    </tr>\n",
       "    <tr>\n",
       "      <th>13</th>\n",
       "      <td>dataquality</td>\n",
       "      <td>aimagerat</td>\n",
       "      <td>real</td>\n",
       "    </tr>\n",
       "    <tr>\n",
       "      <th>14</th>\n",
       "      <td>dataquality</td>\n",
       "      <td>bimagerat</td>\n",
       "      <td>real</td>\n",
       "    </tr>\n",
       "    <tr>\n",
       "      <th>15</th>\n",
       "      <td>dataquality</td>\n",
       "      <td>nneg</td>\n",
       "      <td>integer</td>\n",
       "    </tr>\n",
       "    <tr>\n",
       "      <th>16</th>\n",
       "      <td>dataquality</td>\n",
       "      <td>nbad</td>\n",
       "      <td>integer</td>\n",
       "    </tr>\n",
       "    <tr>\n",
       "      <th>17</th>\n",
       "      <td>dataquality</td>\n",
       "      <td>sumrat</td>\n",
       "      <td>real</td>\n",
       "    </tr>\n",
       "    <tr>\n",
       "      <th>18</th>\n",
       "      <td>dataquality</td>\n",
       "      <td>scorr</td>\n",
       "      <td>double precision</td>\n",
       "    </tr>\n",
       "    <tr>\n",
       "      <th>19</th>\n",
       "      <td>dataquality</td>\n",
       "      <td>dsnrms</td>\n",
       "      <td>real</td>\n",
       "    </tr>\n",
       "    <tr>\n",
       "      <th>20</th>\n",
       "      <td>dataquality</td>\n",
       "      <td>ssnrms</td>\n",
       "      <td>real</td>\n",
       "    </tr>\n",
       "    <tr>\n",
       "      <th>21</th>\n",
       "      <td>dataquality</td>\n",
       "      <td>magzpsci</td>\n",
       "      <td>real</td>\n",
       "    </tr>\n",
       "    <tr>\n",
       "      <th>22</th>\n",
       "      <td>dataquality</td>\n",
       "      <td>magzpsciunc</td>\n",
       "      <td>real</td>\n",
       "    </tr>\n",
       "    <tr>\n",
       "      <th>23</th>\n",
       "      <td>dataquality</td>\n",
       "      <td>magzpscirms</td>\n",
       "      <td>real</td>\n",
       "    </tr>\n",
       "    <tr>\n",
       "      <th>24</th>\n",
       "      <td>dataquality</td>\n",
       "      <td>nmatches</td>\n",
       "      <td>integer</td>\n",
       "    </tr>\n",
       "    <tr>\n",
       "      <th>25</th>\n",
       "      <td>dataquality</td>\n",
       "      <td>clrcoeff</td>\n",
       "      <td>real</td>\n",
       "    </tr>\n",
       "    <tr>\n",
       "      <th>26</th>\n",
       "      <td>dataquality</td>\n",
       "      <td>clrcounc</td>\n",
       "      <td>real</td>\n",
       "    </tr>\n",
       "    <tr>\n",
       "      <th>27</th>\n",
       "      <td>dataquality</td>\n",
       "      <td>zpclrcov</td>\n",
       "      <td>real</td>\n",
       "    </tr>\n",
       "    <tr>\n",
       "      <th>28</th>\n",
       "      <td>dataquality</td>\n",
       "      <td>zpmed</td>\n",
       "      <td>real</td>\n",
       "    </tr>\n",
       "    <tr>\n",
       "      <th>29</th>\n",
       "      <td>dataquality</td>\n",
       "      <td>clrmed</td>\n",
       "      <td>real</td>\n",
       "    </tr>\n",
       "    <tr>\n",
       "      <th>30</th>\n",
       "      <td>dataquality</td>\n",
       "      <td>clrrms</td>\n",
       "      <td>real</td>\n",
       "    </tr>\n",
       "    <tr>\n",
       "      <th>31</th>\n",
       "      <td>dataquality</td>\n",
       "      <td>oid</td>\n",
       "      <td>character varying</td>\n",
       "    </tr>\n",
       "    <tr>\n",
       "      <th>0</th>\n",
       "      <td>detection</td>\n",
       "      <td>dubious</td>\n",
       "      <td>boolean</td>\n",
       "    </tr>\n",
       "    <tr>\n",
       "      <th>1</th>\n",
       "      <td>detection</td>\n",
       "      <td>parent_candid</td>\n",
       "      <td>bigint</td>\n",
       "    </tr>\n",
       "    <tr>\n",
       "      <th>2</th>\n",
       "      <td>detection</td>\n",
       "      <td>has_stamp</td>\n",
       "      <td>boolean</td>\n",
       "    </tr>\n",
       "    <tr>\n",
       "      <th>3</th>\n",
       "      <td>detection</td>\n",
       "      <td>fid</td>\n",
       "      <td>integer</td>\n",
       "    </tr>\n",
       "    <tr>\n",
       "      <th>4</th>\n",
       "      <td>detection</td>\n",
       "      <td>pid</td>\n",
       "      <td>bigint</td>\n",
       "    </tr>\n",
       "    <tr>\n",
       "      <th>5</th>\n",
       "      <td>detection</td>\n",
       "      <td>diffmaglim</td>\n",
       "      <td>real</td>\n",
       "    </tr>\n",
       "    <tr>\n",
       "      <th>6</th>\n",
       "      <td>detection</td>\n",
       "      <td>isdiffpos</td>\n",
       "      <td>smallint</td>\n",
       "    </tr>\n",
       "    <tr>\n",
       "      <th>7</th>\n",
       "      <td>detection</td>\n",
       "      <td>nid</td>\n",
       "      <td>integer</td>\n",
       "    </tr>\n",
       "    <tr>\n",
       "      <th>8</th>\n",
       "      <td>detection</td>\n",
       "      <td>ra</td>\n",
       "      <td>double precision</td>\n",
       "    </tr>\n",
       "    <tr>\n",
       "      <th>9</th>\n",
       "      <td>detection</td>\n",
       "      <td>dec</td>\n",
       "      <td>double precision</td>\n",
       "    </tr>\n",
       "    <tr>\n",
       "      <th>10</th>\n",
       "      <td>detection</td>\n",
       "      <td>magpsf</td>\n",
       "      <td>real</td>\n",
       "    </tr>\n",
       "    <tr>\n",
       "      <th>11</th>\n",
       "      <td>detection</td>\n",
       "      <td>sigmapsf</td>\n",
       "      <td>real</td>\n",
       "    </tr>\n",
       "    <tr>\n",
       "      <th>12</th>\n",
       "      <td>detection</td>\n",
       "      <td>magap</td>\n",
       "      <td>real</td>\n",
       "    </tr>\n",
       "    <tr>\n",
       "      <th>13</th>\n",
       "      <td>detection</td>\n",
       "      <td>sigmagap</td>\n",
       "      <td>real</td>\n",
       "    </tr>\n",
       "    <tr>\n",
       "      <th>14</th>\n",
       "      <td>detection</td>\n",
       "      <td>distnr</td>\n",
       "      <td>real</td>\n",
       "    </tr>\n",
       "    <tr>\n",
       "      <th>15</th>\n",
       "      <td>detection</td>\n",
       "      <td>rb</td>\n",
       "      <td>real</td>\n",
       "    </tr>\n",
       "    <tr>\n",
       "      <th>16</th>\n",
       "      <td>detection</td>\n",
       "      <td>candid</td>\n",
       "      <td>bigint</td>\n",
       "    </tr>\n",
       "    <tr>\n",
       "      <th>17</th>\n",
       "      <td>detection</td>\n",
       "      <td>drb</td>\n",
       "      <td>real</td>\n",
       "    </tr>\n",
       "    <tr>\n",
       "      <th>18</th>\n",
       "      <td>detection</td>\n",
       "      <td>mjd</td>\n",
       "      <td>double precision</td>\n",
       "    </tr>\n",
       "    <tr>\n",
       "      <th>19</th>\n",
       "      <td>detection</td>\n",
       "      <td>magapbig</td>\n",
       "      <td>real</td>\n",
       "    </tr>\n",
       "    <tr>\n",
       "      <th>20</th>\n",
       "      <td>detection</td>\n",
       "      <td>sigmagapbig</td>\n",
       "      <td>real</td>\n",
       "    </tr>\n",
       "    <tr>\n",
       "      <th>21</th>\n",
       "      <td>detection</td>\n",
       "      <td>rfid</td>\n",
       "      <td>bigint</td>\n",
       "    </tr>\n",
       "    <tr>\n",
       "      <th>22</th>\n",
       "      <td>detection</td>\n",
       "      <td>magpsf_corr</td>\n",
       "      <td>real</td>\n",
       "    </tr>\n",
       "    <tr>\n",
       "      <th>23</th>\n",
       "      <td>detection</td>\n",
       "      <td>sigmapsf_corr</td>\n",
       "      <td>real</td>\n",
       "    </tr>\n",
       "    <tr>\n",
       "      <th>24</th>\n",
       "      <td>detection</td>\n",
       "      <td>sigmapsf_corr_ext</td>\n",
       "      <td>real</td>\n",
       "    </tr>\n",
       "    <tr>\n",
       "      <th>25</th>\n",
       "      <td>detection</td>\n",
       "      <td>corrected</td>\n",
       "      <td>boolean</td>\n",
       "    </tr>\n",
       "    <tr>\n",
       "      <th>26</th>\n",
       "      <td>detection</td>\n",
       "      <td>step_id_corr</td>\n",
       "      <td>character varying</td>\n",
       "    </tr>\n",
       "    <tr>\n",
       "      <th>27</th>\n",
       "      <td>detection</td>\n",
       "      <td>rbversion</td>\n",
       "      <td>character varying</td>\n",
       "    </tr>\n",
       "    <tr>\n",
       "      <th>28</th>\n",
       "      <td>detection</td>\n",
       "      <td>drbversion</td>\n",
       "      <td>character varying</td>\n",
       "    </tr>\n",
       "    <tr>\n",
       "      <th>29</th>\n",
       "      <td>detection</td>\n",
       "      <td>oid</td>\n",
       "      <td>character varying</td>\n",
       "    </tr>\n",
       "    <tr>\n",
       "      <th>0</th>\n",
       "      <td>feature</td>\n",
       "      <td>value</td>\n",
       "      <td>double precision</td>\n",
       "    </tr>\n",
       "    <tr>\n",
       "      <th>1</th>\n",
       "      <td>feature</td>\n",
       "      <td>fid</td>\n",
       "      <td>integer</td>\n",
       "    </tr>\n",
       "    <tr>\n",
       "      <th>2</th>\n",
       "      <td>feature</td>\n",
       "      <td>oid</td>\n",
       "      <td>character varying</td>\n",
       "    </tr>\n",
       "    <tr>\n",
       "      <th>3</th>\n",
       "      <td>feature</td>\n",
       "      <td>name</td>\n",
       "      <td>character varying</td>\n",
       "    </tr>\n",
       "    <tr>\n",
       "      <th>4</th>\n",
       "      <td>feature</td>\n",
       "      <td>version</td>\n",
       "      <td>character varying</td>\n",
       "    </tr>\n",
       "    <tr>\n",
       "      <th>0</th>\n",
       "      <td>feature_version</td>\n",
       "      <td>version</td>\n",
       "      <td>text</td>\n",
       "    </tr>\n",
       "    <tr>\n",
       "      <th>1</th>\n",
       "      <td>feature_version</td>\n",
       "      <td>step_id_feature</td>\n",
       "      <td>text</td>\n",
       "    </tr>\n",
       "    <tr>\n",
       "      <th>2</th>\n",
       "      <td>feature_version</td>\n",
       "      <td>step_id_preprocess</td>\n",
       "      <td>text</td>\n",
       "    </tr>\n",
       "    <tr>\n",
       "      <th>0</th>\n",
       "      <td>gaia_ztf</td>\n",
       "      <td>neargaiabright</td>\n",
       "      <td>real</td>\n",
       "    </tr>\n",
       "    <tr>\n",
       "      <th>1</th>\n",
       "      <td>gaia_ztf</td>\n",
       "      <td>candid</td>\n",
       "      <td>bigint</td>\n",
       "    </tr>\n",
       "    <tr>\n",
       "      <th>2</th>\n",
       "      <td>gaia_ztf</td>\n",
       "      <td>neargaia</td>\n",
       "      <td>real</td>\n",
       "    </tr>\n",
       "    <tr>\n",
       "      <th>3</th>\n",
       "      <td>gaia_ztf</td>\n",
       "      <td>unique1</td>\n",
       "      <td>boolean</td>\n",
       "    </tr>\n",
       "    <tr>\n",
       "      <th>4</th>\n",
       "      <td>gaia_ztf</td>\n",
       "      <td>maggaia</td>\n",
       "      <td>real</td>\n",
       "    </tr>\n",
       "    <tr>\n",
       "      <th>5</th>\n",
       "      <td>gaia_ztf</td>\n",
       "      <td>maggaiabright</td>\n",
       "      <td>real</td>\n",
       "    </tr>\n",
       "    <tr>\n",
       "      <th>6</th>\n",
       "      <td>gaia_ztf</td>\n",
       "      <td>oid</td>\n",
       "      <td>character varying</td>\n",
       "    </tr>\n",
       "    <tr>\n",
       "      <th>0</th>\n",
       "      <td>lc_classifier</td>\n",
       "      <td>probability</td>\n",
       "      <td>real</td>\n",
       "    </tr>\n",
       "    <tr>\n",
       "      <th>1</th>\n",
       "      <td>lc_classifier</td>\n",
       "      <td>ranking</td>\n",
       "      <td>smallint</td>\n",
       "    </tr>\n",
       "    <tr>\n",
       "      <th>2</th>\n",
       "      <td>lc_classifier</td>\n",
       "      <td>last_updated</td>\n",
       "      <td>double precision</td>\n",
       "    </tr>\n",
       "    <tr>\n",
       "      <th>3</th>\n",
       "      <td>lc_classifier</td>\n",
       "      <td>oid</td>\n",
       "      <td>character varying</td>\n",
       "    </tr>\n",
       "    <tr>\n",
       "      <th>4</th>\n",
       "      <td>lc_classifier</td>\n",
       "      <td>class_name</td>\n",
       "      <td>character varying</td>\n",
       "    </tr>\n",
       "    <tr>\n",
       "      <th>5</th>\n",
       "      <td>lc_classifier</td>\n",
       "      <td>classifier_name</td>\n",
       "      <td>character varying</td>\n",
       "    </tr>\n",
       "    <tr>\n",
       "      <th>6</th>\n",
       "      <td>lc_classifier</td>\n",
       "      <td>classifier_version</td>\n",
       "      <td>character varying</td>\n",
       "    </tr>\n",
       "    <tr>\n",
       "      <th>0</th>\n",
       "      <td>lc_classifier_periodic</td>\n",
       "      <td>probability</td>\n",
       "      <td>real</td>\n",
       "    </tr>\n",
       "    <tr>\n",
       "      <th>1</th>\n",
       "      <td>lc_classifier_periodic</td>\n",
       "      <td>ranking</td>\n",
       "      <td>smallint</td>\n",
       "    </tr>\n",
       "    <tr>\n",
       "      <th>2</th>\n",
       "      <td>lc_classifier_periodic</td>\n",
       "      <td>last_updated</td>\n",
       "      <td>double precision</td>\n",
       "    </tr>\n",
       "    <tr>\n",
       "      <th>3</th>\n",
       "      <td>lc_classifier_periodic</td>\n",
       "      <td>oid</td>\n",
       "      <td>character varying</td>\n",
       "    </tr>\n",
       "    <tr>\n",
       "      <th>4</th>\n",
       "      <td>lc_classifier_periodic</td>\n",
       "      <td>class_name</td>\n",
       "      <td>character varying</td>\n",
       "    </tr>\n",
       "    <tr>\n",
       "      <th>5</th>\n",
       "      <td>lc_classifier_periodic</td>\n",
       "      <td>classifier_name</td>\n",
       "      <td>character varying</td>\n",
       "    </tr>\n",
       "    <tr>\n",
       "      <th>6</th>\n",
       "      <td>lc_classifier_periodic</td>\n",
       "      <td>classifier_version</td>\n",
       "      <td>character varying</td>\n",
       "    </tr>\n",
       "    <tr>\n",
       "      <th>0</th>\n",
       "      <td>lc_classifier_stochastic</td>\n",
       "      <td>probability</td>\n",
       "      <td>real</td>\n",
       "    </tr>\n",
       "    <tr>\n",
       "      <th>1</th>\n",
       "      <td>lc_classifier_stochastic</td>\n",
       "      <td>ranking</td>\n",
       "      <td>smallint</td>\n",
       "    </tr>\n",
       "    <tr>\n",
       "      <th>2</th>\n",
       "      <td>lc_classifier_stochastic</td>\n",
       "      <td>last_updated</td>\n",
       "      <td>double precision</td>\n",
       "    </tr>\n",
       "    <tr>\n",
       "      <th>3</th>\n",
       "      <td>lc_classifier_stochastic</td>\n",
       "      <td>oid</td>\n",
       "      <td>character varying</td>\n",
       "    </tr>\n",
       "    <tr>\n",
       "      <th>4</th>\n",
       "      <td>lc_classifier_stochastic</td>\n",
       "      <td>class_name</td>\n",
       "      <td>character varying</td>\n",
       "    </tr>\n",
       "    <tr>\n",
       "      <th>5</th>\n",
       "      <td>lc_classifier_stochastic</td>\n",
       "      <td>classifier_name</td>\n",
       "      <td>character varying</td>\n",
       "    </tr>\n",
       "    <tr>\n",
       "      <th>6</th>\n",
       "      <td>lc_classifier_stochastic</td>\n",
       "      <td>classifier_version</td>\n",
       "      <td>character varying</td>\n",
       "    </tr>\n",
       "    <tr>\n",
       "      <th>0</th>\n",
       "      <td>lc_classifier_top</td>\n",
       "      <td>probability</td>\n",
       "      <td>real</td>\n",
       "    </tr>\n",
       "    <tr>\n",
       "      <th>1</th>\n",
       "      <td>lc_classifier_top</td>\n",
       "      <td>ranking</td>\n",
       "      <td>smallint</td>\n",
       "    </tr>\n",
       "    <tr>\n",
       "      <th>2</th>\n",
       "      <td>lc_classifier_top</td>\n",
       "      <td>last_updated</td>\n",
       "      <td>double precision</td>\n",
       "    </tr>\n",
       "    <tr>\n",
       "      <th>3</th>\n",
       "      <td>lc_classifier_top</td>\n",
       "      <td>oid</td>\n",
       "      <td>character varying</td>\n",
       "    </tr>\n",
       "    <tr>\n",
       "      <th>4</th>\n",
       "      <td>lc_classifier_top</td>\n",
       "      <td>class_name</td>\n",
       "      <td>character varying</td>\n",
       "    </tr>\n",
       "    <tr>\n",
       "      <th>5</th>\n",
       "      <td>lc_classifier_top</td>\n",
       "      <td>classifier_name</td>\n",
       "      <td>character varying</td>\n",
       "    </tr>\n",
       "    <tr>\n",
       "      <th>6</th>\n",
       "      <td>lc_classifier_top</td>\n",
       "      <td>classifier_version</td>\n",
       "      <td>character varying</td>\n",
       "    </tr>\n",
       "    <tr>\n",
       "      <th>0</th>\n",
       "      <td>lc_classifier_transient</td>\n",
       "      <td>probability</td>\n",
       "      <td>real</td>\n",
       "    </tr>\n",
       "    <tr>\n",
       "      <th>1</th>\n",
       "      <td>lc_classifier_transient</td>\n",
       "      <td>ranking</td>\n",
       "      <td>smallint</td>\n",
       "    </tr>\n",
       "    <tr>\n",
       "      <th>2</th>\n",
       "      <td>lc_classifier_transient</td>\n",
       "      <td>last_updated</td>\n",
       "      <td>double precision</td>\n",
       "    </tr>\n",
       "    <tr>\n",
       "      <th>3</th>\n",
       "      <td>lc_classifier_transient</td>\n",
       "      <td>oid</td>\n",
       "      <td>character varying</td>\n",
       "    </tr>\n",
       "    <tr>\n",
       "      <th>4</th>\n",
       "      <td>lc_classifier_transient</td>\n",
       "      <td>class_name</td>\n",
       "      <td>character varying</td>\n",
       "    </tr>\n",
       "    <tr>\n",
       "      <th>5</th>\n",
       "      <td>lc_classifier_transient</td>\n",
       "      <td>classifier_name</td>\n",
       "      <td>character varying</td>\n",
       "    </tr>\n",
       "    <tr>\n",
       "      <th>6</th>\n",
       "      <td>lc_classifier_transient</td>\n",
       "      <td>classifier_version</td>\n",
       "      <td>character varying</td>\n",
       "    </tr>\n",
       "    <tr>\n",
       "      <th>0</th>\n",
       "      <td>magstat</td>\n",
       "      <td>saturation_rate</td>\n",
       "      <td>real</td>\n",
       "    </tr>\n",
       "    <tr>\n",
       "      <th>1</th>\n",
       "      <td>magstat</td>\n",
       "      <td>fid</td>\n",
       "      <td>integer</td>\n",
       "    </tr>\n",
       "    <tr>\n",
       "      <th>2</th>\n",
       "      <td>magstat</td>\n",
       "      <td>stellar</td>\n",
       "      <td>boolean</td>\n",
       "    </tr>\n",
       "    <tr>\n",
       "      <th>3</th>\n",
       "      <td>magstat</td>\n",
       "      <td>corrected</td>\n",
       "      <td>boolean</td>\n",
       "    </tr>\n",
       "    <tr>\n",
       "      <th>4</th>\n",
       "      <td>magstat</td>\n",
       "      <td>ndet</td>\n",
       "      <td>integer</td>\n",
       "    </tr>\n",
       "    <tr>\n",
       "      <th>5</th>\n",
       "      <td>magstat</td>\n",
       "      <td>ndubious</td>\n",
       "      <td>integer</td>\n",
       "    </tr>\n",
       "    <tr>\n",
       "      <th>6</th>\n",
       "      <td>magstat</td>\n",
       "      <td>dmdt_first</td>\n",
       "      <td>real</td>\n",
       "    </tr>\n",
       "    <tr>\n",
       "      <th>7</th>\n",
       "      <td>magstat</td>\n",
       "      <td>dm_first</td>\n",
       "      <td>real</td>\n",
       "    </tr>\n",
       "    <tr>\n",
       "      <th>8</th>\n",
       "      <td>magstat</td>\n",
       "      <td>sigmadm_first</td>\n",
       "      <td>real</td>\n",
       "    </tr>\n",
       "    <tr>\n",
       "      <th>9</th>\n",
       "      <td>magstat</td>\n",
       "      <td>dt_first</td>\n",
       "      <td>real</td>\n",
       "    </tr>\n",
       "    <tr>\n",
       "      <th>10</th>\n",
       "      <td>magstat</td>\n",
       "      <td>magmean</td>\n",
       "      <td>real</td>\n",
       "    </tr>\n",
       "    <tr>\n",
       "      <th>11</th>\n",
       "      <td>magstat</td>\n",
       "      <td>magmedian</td>\n",
       "      <td>real</td>\n",
       "    </tr>\n",
       "    <tr>\n",
       "      <th>12</th>\n",
       "      <td>magstat</td>\n",
       "      <td>magmax</td>\n",
       "      <td>real</td>\n",
       "    </tr>\n",
       "    <tr>\n",
       "      <th>13</th>\n",
       "      <td>magstat</td>\n",
       "      <td>magmin</td>\n",
       "      <td>real</td>\n",
       "    </tr>\n",
       "    <tr>\n",
       "      <th>14</th>\n",
       "      <td>magstat</td>\n",
       "      <td>magsigma</td>\n",
       "      <td>real</td>\n",
       "    </tr>\n",
       "    <tr>\n",
       "      <th>15</th>\n",
       "      <td>magstat</td>\n",
       "      <td>maglast</td>\n",
       "      <td>real</td>\n",
       "    </tr>\n",
       "    <tr>\n",
       "      <th>16</th>\n",
       "      <td>magstat</td>\n",
       "      <td>magfirst</td>\n",
       "      <td>real</td>\n",
       "    </tr>\n",
       "    <tr>\n",
       "      <th>17</th>\n",
       "      <td>magstat</td>\n",
       "      <td>magmean_corr</td>\n",
       "      <td>real</td>\n",
       "    </tr>\n",
       "    <tr>\n",
       "      <th>18</th>\n",
       "      <td>magstat</td>\n",
       "      <td>magmedian_corr</td>\n",
       "      <td>real</td>\n",
       "    </tr>\n",
       "    <tr>\n",
       "      <th>19</th>\n",
       "      <td>magstat</td>\n",
       "      <td>magmax_corr</td>\n",
       "      <td>real</td>\n",
       "    </tr>\n",
       "    <tr>\n",
       "      <th>20</th>\n",
       "      <td>magstat</td>\n",
       "      <td>magmin_corr</td>\n",
       "      <td>real</td>\n",
       "    </tr>\n",
       "    <tr>\n",
       "      <th>21</th>\n",
       "      <td>magstat</td>\n",
       "      <td>magsigma_corr</td>\n",
       "      <td>real</td>\n",
       "    </tr>\n",
       "    <tr>\n",
       "      <th>22</th>\n",
       "      <td>magstat</td>\n",
       "      <td>maglast_corr</td>\n",
       "      <td>real</td>\n",
       "    </tr>\n",
       "    <tr>\n",
       "      <th>23</th>\n",
       "      <td>magstat</td>\n",
       "      <td>magfirst_corr</td>\n",
       "      <td>real</td>\n",
       "    </tr>\n",
       "    <tr>\n",
       "      <th>24</th>\n",
       "      <td>magstat</td>\n",
       "      <td>firstmjd</td>\n",
       "      <td>real</td>\n",
       "    </tr>\n",
       "    <tr>\n",
       "      <th>25</th>\n",
       "      <td>magstat</td>\n",
       "      <td>lastmjd</td>\n",
       "      <td>real</td>\n",
       "    </tr>\n",
       "    <tr>\n",
       "      <th>26</th>\n",
       "      <td>magstat</td>\n",
       "      <td>step_id_corr</td>\n",
       "      <td>character varying</td>\n",
       "    </tr>\n",
       "    <tr>\n",
       "      <th>27</th>\n",
       "      <td>magstat</td>\n",
       "      <td>oid</td>\n",
       "      <td>character varying</td>\n",
       "    </tr>\n",
       "    <tr>\n",
       "      <th>0</th>\n",
       "      <td>non_detection</td>\n",
       "      <td>mjd</td>\n",
       "      <td>double precision</td>\n",
       "    </tr>\n",
       "    <tr>\n",
       "      <th>1</th>\n",
       "      <td>non_detection</td>\n",
       "      <td>fid</td>\n",
       "      <td>integer</td>\n",
       "    </tr>\n",
       "    <tr>\n",
       "      <th>2</th>\n",
       "      <td>non_detection</td>\n",
       "      <td>diffmaglim</td>\n",
       "      <td>real</td>\n",
       "    </tr>\n",
       "    <tr>\n",
       "      <th>3</th>\n",
       "      <td>non_detection</td>\n",
       "      <td>oid</td>\n",
       "      <td>character varying</td>\n",
       "    </tr>\n",
       "    <tr>\n",
       "      <th>0</th>\n",
       "      <td>object</td>\n",
       "      <td>reference_change</td>\n",
       "      <td>boolean</td>\n",
       "    </tr>\n",
       "    <tr>\n",
       "      <th>1</th>\n",
       "      <td>object</td>\n",
       "      <td>ndethist</td>\n",
       "      <td>integer</td>\n",
       "    </tr>\n",
       "    <tr>\n",
       "      <th>2</th>\n",
       "      <td>object</td>\n",
       "      <td>ncovhist</td>\n",
       "      <td>integer</td>\n",
       "    </tr>\n",
       "    <tr>\n",
       "      <th>3</th>\n",
       "      <td>object</td>\n",
       "      <td>mjdstarthist</td>\n",
       "      <td>double precision</td>\n",
       "    </tr>\n",
       "    <tr>\n",
       "      <th>4</th>\n",
       "      <td>object</td>\n",
       "      <td>mjdendhist</td>\n",
       "      <td>double precision</td>\n",
       "    </tr>\n",
       "    <tr>\n",
       "      <th>5</th>\n",
       "      <td>object</td>\n",
       "      <td>corrected</td>\n",
       "      <td>boolean</td>\n",
       "    </tr>\n",
       "    <tr>\n",
       "      <th>6</th>\n",
       "      <td>object</td>\n",
       "      <td>stellar</td>\n",
       "      <td>boolean</td>\n",
       "    </tr>\n",
       "    <tr>\n",
       "      <th>7</th>\n",
       "      <td>object</td>\n",
       "      <td>ndet</td>\n",
       "      <td>integer</td>\n",
       "    </tr>\n",
       "    <tr>\n",
       "      <th>8</th>\n",
       "      <td>object</td>\n",
       "      <td>g_r_max</td>\n",
       "      <td>real</td>\n",
       "    </tr>\n",
       "    <tr>\n",
       "      <th>9</th>\n",
       "      <td>object</td>\n",
       "      <td>g_r_max_corr</td>\n",
       "      <td>real</td>\n",
       "    </tr>\n",
       "    <tr>\n",
       "      <th>10</th>\n",
       "      <td>object</td>\n",
       "      <td>g_r_mean</td>\n",
       "      <td>real</td>\n",
       "    </tr>\n",
       "    <tr>\n",
       "      <th>11</th>\n",
       "      <td>object</td>\n",
       "      <td>g_r_mean_corr</td>\n",
       "      <td>real</td>\n",
       "    </tr>\n",
       "    <tr>\n",
       "      <th>12</th>\n",
       "      <td>object</td>\n",
       "      <td>meanra</td>\n",
       "      <td>double precision</td>\n",
       "    </tr>\n",
       "    <tr>\n",
       "      <th>13</th>\n",
       "      <td>object</td>\n",
       "      <td>meandec</td>\n",
       "      <td>double precision</td>\n",
       "    </tr>\n",
       "    <tr>\n",
       "      <th>14</th>\n",
       "      <td>object</td>\n",
       "      <td>sigmara</td>\n",
       "      <td>double precision</td>\n",
       "    </tr>\n",
       "    <tr>\n",
       "      <th>15</th>\n",
       "      <td>object</td>\n",
       "      <td>sigmadec</td>\n",
       "      <td>double precision</td>\n",
       "    </tr>\n",
       "    <tr>\n",
       "      <th>16</th>\n",
       "      <td>object</td>\n",
       "      <td>deltajd</td>\n",
       "      <td>double precision</td>\n",
       "    </tr>\n",
       "    <tr>\n",
       "      <th>17</th>\n",
       "      <td>object</td>\n",
       "      <td>firstmjd</td>\n",
       "      <td>double precision</td>\n",
       "    </tr>\n",
       "    <tr>\n",
       "      <th>18</th>\n",
       "      <td>object</td>\n",
       "      <td>lastmjd</td>\n",
       "      <td>double precision</td>\n",
       "    </tr>\n",
       "    <tr>\n",
       "      <th>19</th>\n",
       "      <td>object</td>\n",
       "      <td>diffpos</td>\n",
       "      <td>boolean</td>\n",
       "    </tr>\n",
       "    <tr>\n",
       "      <th>20</th>\n",
       "      <td>object</td>\n",
       "      <td>oid</td>\n",
       "      <td>character varying</td>\n",
       "    </tr>\n",
       "    <tr>\n",
       "      <th>21</th>\n",
       "      <td>object</td>\n",
       "      <td>step_id_corr</td>\n",
       "      <td>character varying</td>\n",
       "    </tr>\n",
       "    <tr>\n",
       "      <th>0</th>\n",
       "      <td>outlier</td>\n",
       "      <td>score</td>\n",
       "      <td>double precision</td>\n",
       "    </tr>\n",
       "    <tr>\n",
       "      <th>1</th>\n",
       "      <td>outlier</td>\n",
       "      <td>oid</td>\n",
       "      <td>character varying</td>\n",
       "    </tr>\n",
       "    <tr>\n",
       "      <th>2</th>\n",
       "      <td>outlier</td>\n",
       "      <td>class_name</td>\n",
       "      <td>character varying</td>\n",
       "    </tr>\n",
       "    <tr>\n",
       "      <th>3</th>\n",
       "      <td>outlier</td>\n",
       "      <td>outlier_version</td>\n",
       "      <td>character varying</td>\n",
       "    </tr>\n",
       "    <tr>\n",
       "      <th>0</th>\n",
       "      <td>pipeline</td>\n",
       "      <td>date</td>\n",
       "      <td>date</td>\n",
       "    </tr>\n",
       "    <tr>\n",
       "      <th>1</th>\n",
       "      <td>pipeline</td>\n",
       "      <td>step_id_corr</td>\n",
       "      <td>character varying</td>\n",
       "    </tr>\n",
       "    <tr>\n",
       "      <th>2</th>\n",
       "      <td>pipeline</td>\n",
       "      <td>step_id_feat</td>\n",
       "      <td>character varying</td>\n",
       "    </tr>\n",
       "    <tr>\n",
       "      <th>3</th>\n",
       "      <td>pipeline</td>\n",
       "      <td>pipeline_id</td>\n",
       "      <td>character varying</td>\n",
       "    </tr>\n",
       "    <tr>\n",
       "      <th>4</th>\n",
       "      <td>pipeline</td>\n",
       "      <td>step_id_out</td>\n",
       "      <td>character varying</td>\n",
       "    </tr>\n",
       "    <tr>\n",
       "      <th>5</th>\n",
       "      <td>pipeline</td>\n",
       "      <td>step_id_stamp</td>\n",
       "      <td>character varying</td>\n",
       "    </tr>\n",
       "    <tr>\n",
       "      <th>6</th>\n",
       "      <td>pipeline</td>\n",
       "      <td>step_id_clf</td>\n",
       "      <td>character varying</td>\n",
       "    </tr>\n",
       "    <tr>\n",
       "      <th>0</th>\n",
       "      <td>probability</td>\n",
       "      <td>probability</td>\n",
       "      <td>real</td>\n",
       "    </tr>\n",
       "    <tr>\n",
       "      <th>1</th>\n",
       "      <td>probability</td>\n",
       "      <td>ranking</td>\n",
       "      <td>smallint</td>\n",
       "    </tr>\n",
       "    <tr>\n",
       "      <th>2</th>\n",
       "      <td>probability</td>\n",
       "      <td>last_updated</td>\n",
       "      <td>double precision</td>\n",
       "    </tr>\n",
       "    <tr>\n",
       "      <th>3</th>\n",
       "      <td>probability</td>\n",
       "      <td>oid</td>\n",
       "      <td>character varying</td>\n",
       "    </tr>\n",
       "    <tr>\n",
       "      <th>4</th>\n",
       "      <td>probability</td>\n",
       "      <td>class_name</td>\n",
       "      <td>character varying</td>\n",
       "    </tr>\n",
       "    <tr>\n",
       "      <th>5</th>\n",
       "      <td>probability</td>\n",
       "      <td>classifier_name</td>\n",
       "      <td>character varying</td>\n",
       "    </tr>\n",
       "    <tr>\n",
       "      <th>6</th>\n",
       "      <td>probability</td>\n",
       "      <td>classifier_version</td>\n",
       "      <td>character varying</td>\n",
       "    </tr>\n",
       "    <tr>\n",
       "      <th>0</th>\n",
       "      <td>ps1_ztf</td>\n",
       "      <td>unique3</td>\n",
       "      <td>boolean</td>\n",
       "    </tr>\n",
       "    <tr>\n",
       "      <th>1</th>\n",
       "      <td>ps1_ztf</td>\n",
       "      <td>candid</td>\n",
       "      <td>bigint</td>\n",
       "    </tr>\n",
       "    <tr>\n",
       "      <th>2</th>\n",
       "      <td>ps1_ztf</td>\n",
       "      <td>objectidps1</td>\n",
       "      <td>bigint</td>\n",
       "    </tr>\n",
       "    <tr>\n",
       "      <th>3</th>\n",
       "      <td>ps1_ztf</td>\n",
       "      <td>sgmag1</td>\n",
       "      <td>real</td>\n",
       "    </tr>\n",
       "    <tr>\n",
       "      <th>4</th>\n",
       "      <td>ps1_ztf</td>\n",
       "      <td>srmag1</td>\n",
       "      <td>real</td>\n",
       "    </tr>\n",
       "    <tr>\n",
       "      <th>5</th>\n",
       "      <td>ps1_ztf</td>\n",
       "      <td>simag1</td>\n",
       "      <td>real</td>\n",
       "    </tr>\n",
       "    <tr>\n",
       "      <th>6</th>\n",
       "      <td>ps1_ztf</td>\n",
       "      <td>szmag1</td>\n",
       "      <td>real</td>\n",
       "    </tr>\n",
       "    <tr>\n",
       "      <th>7</th>\n",
       "      <td>ps1_ztf</td>\n",
       "      <td>sgscore1</td>\n",
       "      <td>real</td>\n",
       "    </tr>\n",
       "    <tr>\n",
       "      <th>8</th>\n",
       "      <td>ps1_ztf</td>\n",
       "      <td>distpsnr1</td>\n",
       "      <td>real</td>\n",
       "    </tr>\n",
       "    <tr>\n",
       "      <th>9</th>\n",
       "      <td>ps1_ztf</td>\n",
       "      <td>objectidps2</td>\n",
       "      <td>bigint</td>\n",
       "    </tr>\n",
       "    <tr>\n",
       "      <th>10</th>\n",
       "      <td>ps1_ztf</td>\n",
       "      <td>sgmag2</td>\n",
       "      <td>real</td>\n",
       "    </tr>\n",
       "    <tr>\n",
       "      <th>11</th>\n",
       "      <td>ps1_ztf</td>\n",
       "      <td>srmag2</td>\n",
       "      <td>real</td>\n",
       "    </tr>\n",
       "    <tr>\n",
       "      <th>12</th>\n",
       "      <td>ps1_ztf</td>\n",
       "      <td>simag2</td>\n",
       "      <td>real</td>\n",
       "    </tr>\n",
       "    <tr>\n",
       "      <th>13</th>\n",
       "      <td>ps1_ztf</td>\n",
       "      <td>szmag2</td>\n",
       "      <td>real</td>\n",
       "    </tr>\n",
       "    <tr>\n",
       "      <th>14</th>\n",
       "      <td>ps1_ztf</td>\n",
       "      <td>sgscore2</td>\n",
       "      <td>real</td>\n",
       "    </tr>\n",
       "    <tr>\n",
       "      <th>15</th>\n",
       "      <td>ps1_ztf</td>\n",
       "      <td>distpsnr2</td>\n",
       "      <td>real</td>\n",
       "    </tr>\n",
       "    <tr>\n",
       "      <th>16</th>\n",
       "      <td>ps1_ztf</td>\n",
       "      <td>objectidps3</td>\n",
       "      <td>bigint</td>\n",
       "    </tr>\n",
       "    <tr>\n",
       "      <th>17</th>\n",
       "      <td>ps1_ztf</td>\n",
       "      <td>sgmag3</td>\n",
       "      <td>real</td>\n",
       "    </tr>\n",
       "    <tr>\n",
       "      <th>18</th>\n",
       "      <td>ps1_ztf</td>\n",
       "      <td>srmag3</td>\n",
       "      <td>real</td>\n",
       "    </tr>\n",
       "    <tr>\n",
       "      <th>19</th>\n",
       "      <td>ps1_ztf</td>\n",
       "      <td>simag3</td>\n",
       "      <td>real</td>\n",
       "    </tr>\n",
       "    <tr>\n",
       "      <th>20</th>\n",
       "      <td>ps1_ztf</td>\n",
       "      <td>szmag3</td>\n",
       "      <td>real</td>\n",
       "    </tr>\n",
       "    <tr>\n",
       "      <th>21</th>\n",
       "      <td>ps1_ztf</td>\n",
       "      <td>sgscore3</td>\n",
       "      <td>real</td>\n",
       "    </tr>\n",
       "    <tr>\n",
       "      <th>22</th>\n",
       "      <td>ps1_ztf</td>\n",
       "      <td>distpsnr3</td>\n",
       "      <td>real</td>\n",
       "    </tr>\n",
       "    <tr>\n",
       "      <th>23</th>\n",
       "      <td>ps1_ztf</td>\n",
       "      <td>nmtchps</td>\n",
       "      <td>integer</td>\n",
       "    </tr>\n",
       "    <tr>\n",
       "      <th>24</th>\n",
       "      <td>ps1_ztf</td>\n",
       "      <td>unique1</td>\n",
       "      <td>boolean</td>\n",
       "    </tr>\n",
       "    <tr>\n",
       "      <th>25</th>\n",
       "      <td>ps1_ztf</td>\n",
       "      <td>unique2</td>\n",
       "      <td>boolean</td>\n",
       "    </tr>\n",
       "    <tr>\n",
       "      <th>26</th>\n",
       "      <td>ps1_ztf</td>\n",
       "      <td>oid</td>\n",
       "      <td>character varying</td>\n",
       "    </tr>\n",
       "    <tr>\n",
       "      <th>0</th>\n",
       "      <td>reference</td>\n",
       "      <td>nframesref</td>\n",
       "      <td>integer</td>\n",
       "    </tr>\n",
       "    <tr>\n",
       "      <th>1</th>\n",
       "      <td>reference</td>\n",
       "      <td>rfid</td>\n",
       "      <td>bigint</td>\n",
       "    </tr>\n",
       "    <tr>\n",
       "      <th>2</th>\n",
       "      <td>reference</td>\n",
       "      <td>candid</td>\n",
       "      <td>bigint</td>\n",
       "    </tr>\n",
       "    <tr>\n",
       "      <th>3</th>\n",
       "      <td>reference</td>\n",
       "      <td>fid</td>\n",
       "      <td>integer</td>\n",
       "    </tr>\n",
       "    <tr>\n",
       "      <th>4</th>\n",
       "      <td>reference</td>\n",
       "      <td>rcid</td>\n",
       "      <td>integer</td>\n",
       "    </tr>\n",
       "    <tr>\n",
       "      <th>5</th>\n",
       "      <td>reference</td>\n",
       "      <td>field</td>\n",
       "      <td>integer</td>\n",
       "    </tr>\n",
       "    <tr>\n",
       "      <th>6</th>\n",
       "      <td>reference</td>\n",
       "      <td>magnr</td>\n",
       "      <td>real</td>\n",
       "    </tr>\n",
       "    <tr>\n",
       "      <th>7</th>\n",
       "      <td>reference</td>\n",
       "      <td>sigmagnr</td>\n",
       "      <td>real</td>\n",
       "    </tr>\n",
       "    <tr>\n",
       "      <th>8</th>\n",
       "      <td>reference</td>\n",
       "      <td>chinr</td>\n",
       "      <td>real</td>\n",
       "    </tr>\n",
       "    <tr>\n",
       "      <th>9</th>\n",
       "      <td>reference</td>\n",
       "      <td>sharpnr</td>\n",
       "      <td>real</td>\n",
       "    </tr>\n",
       "    <tr>\n",
       "      <th>10</th>\n",
       "      <td>reference</td>\n",
       "      <td>ranr</td>\n",
       "      <td>double precision</td>\n",
       "    </tr>\n",
       "    <tr>\n",
       "      <th>11</th>\n",
       "      <td>reference</td>\n",
       "      <td>decnr</td>\n",
       "      <td>double precision</td>\n",
       "    </tr>\n",
       "    <tr>\n",
       "      <th>12</th>\n",
       "      <td>reference</td>\n",
       "      <td>mjdstartref</td>\n",
       "      <td>double precision</td>\n",
       "    </tr>\n",
       "    <tr>\n",
       "      <th>13</th>\n",
       "      <td>reference</td>\n",
       "      <td>mjdendref</td>\n",
       "      <td>double precision</td>\n",
       "    </tr>\n",
       "    <tr>\n",
       "      <th>14</th>\n",
       "      <td>reference</td>\n",
       "      <td>oid</td>\n",
       "      <td>character varying</td>\n",
       "    </tr>\n",
       "    <tr>\n",
       "      <th>0</th>\n",
       "      <td>ss_ztf</td>\n",
       "      <td>candid</td>\n",
       "      <td>bigint</td>\n",
       "    </tr>\n",
       "    <tr>\n",
       "      <th>1</th>\n",
       "      <td>ss_ztf</td>\n",
       "      <td>ssdistnr</td>\n",
       "      <td>real</td>\n",
       "    </tr>\n",
       "    <tr>\n",
       "      <th>2</th>\n",
       "      <td>ss_ztf</td>\n",
       "      <td>ssmagnr</td>\n",
       "      <td>real</td>\n",
       "    </tr>\n",
       "    <tr>\n",
       "      <th>3</th>\n",
       "      <td>ss_ztf</td>\n",
       "      <td>oid</td>\n",
       "      <td>character varying</td>\n",
       "    </tr>\n",
       "    <tr>\n",
       "      <th>4</th>\n",
       "      <td>ss_ztf</td>\n",
       "      <td>ssnamenr</td>\n",
       "      <td>character varying</td>\n",
       "    </tr>\n",
       "    <tr>\n",
       "      <th>0</th>\n",
       "      <td>stamp_classifier</td>\n",
       "      <td>probability</td>\n",
       "      <td>real</td>\n",
       "    </tr>\n",
       "    <tr>\n",
       "      <th>1</th>\n",
       "      <td>stamp_classifier</td>\n",
       "      <td>ranking</td>\n",
       "      <td>smallint</td>\n",
       "    </tr>\n",
       "    <tr>\n",
       "      <th>2</th>\n",
       "      <td>stamp_classifier</td>\n",
       "      <td>last_updated</td>\n",
       "      <td>double precision</td>\n",
       "    </tr>\n",
       "    <tr>\n",
       "      <th>3</th>\n",
       "      <td>stamp_classifier</td>\n",
       "      <td>oid</td>\n",
       "      <td>character varying</td>\n",
       "    </tr>\n",
       "    <tr>\n",
       "      <th>4</th>\n",
       "      <td>stamp_classifier</td>\n",
       "      <td>class_name</td>\n",
       "      <td>character varying</td>\n",
       "    </tr>\n",
       "    <tr>\n",
       "      <th>5</th>\n",
       "      <td>stamp_classifier</td>\n",
       "      <td>classifier_name</td>\n",
       "      <td>character varying</td>\n",
       "    </tr>\n",
       "    <tr>\n",
       "      <th>6</th>\n",
       "      <td>stamp_classifier</td>\n",
       "      <td>classifier_version</td>\n",
       "      <td>character varying</td>\n",
       "    </tr>\n",
       "    <tr>\n",
       "      <th>0</th>\n",
       "      <td>step</td>\n",
       "      <td>date</td>\n",
       "      <td>date</td>\n",
       "    </tr>\n",
       "    <tr>\n",
       "      <th>1</th>\n",
       "      <td>step</td>\n",
       "      <td>step_id</td>\n",
       "      <td>character varying</td>\n",
       "    </tr>\n",
       "    <tr>\n",
       "      <th>2</th>\n",
       "      <td>step</td>\n",
       "      <td>name</td>\n",
       "      <td>character varying</td>\n",
       "    </tr>\n",
       "    <tr>\n",
       "      <th>3</th>\n",
       "      <td>step</td>\n",
       "      <td>version</td>\n",
       "      <td>character varying</td>\n",
       "    </tr>\n",
       "    <tr>\n",
       "      <th>4</th>\n",
       "      <td>step</td>\n",
       "      <td>comments</td>\n",
       "      <td>character varying</td>\n",
       "    </tr>\n",
       "    <tr>\n",
       "      <th>0</th>\n",
       "      <td>taxonomy</td>\n",
       "      <td>classifier_name</td>\n",
       "      <td>character varying</td>\n",
       "    </tr>\n",
       "    <tr>\n",
       "      <th>1</th>\n",
       "      <td>taxonomy</td>\n",
       "      <td>classifier_version</td>\n",
       "      <td>character varying</td>\n",
       "    </tr>\n",
       "    <tr>\n",
       "      <th>2</th>\n",
       "      <td>taxonomy</td>\n",
       "      <td>classes</td>\n",
       "      <td>ARRAY</td>\n",
       "    </tr>\n",
       "    <tr>\n",
       "      <th>0</th>\n",
       "      <td>xmatch</td>\n",
       "      <td>dist</td>\n",
       "      <td>double precision</td>\n",
       "    </tr>\n",
       "    <tr>\n",
       "      <th>1</th>\n",
       "      <td>xmatch</td>\n",
       "      <td>period</td>\n",
       "      <td>double precision</td>\n",
       "    </tr>\n",
       "    <tr>\n",
       "      <th>2</th>\n",
       "      <td>xmatch</td>\n",
       "      <td>oid</td>\n",
       "      <td>character varying</td>\n",
       "    </tr>\n",
       "    <tr>\n",
       "      <th>3</th>\n",
       "      <td>xmatch</td>\n",
       "      <td>catid</td>\n",
       "      <td>character varying</td>\n",
       "    </tr>\n",
       "    <tr>\n",
       "      <th>4</th>\n",
       "      <td>xmatch</td>\n",
       "      <td>oid_catalog</td>\n",
       "      <td>character varying</td>\n",
       "    </tr>\n",
       "    <tr>\n",
       "      <th>5</th>\n",
       "      <td>xmatch</td>\n",
       "      <td>class_catalog</td>\n",
       "      <td>character varying</td>\n",
       "    </tr>\n",
       "  </tbody>\n",
       "</table>\n",
       "</div>"
      ],
      "text/plain": [
       "                       table         column_name          data_type\n",
       "0                    allwise        k_msig_2mass   double precision\n",
       "1                    allwise                  ra   double precision\n",
       "2                    allwise                 dec   double precision\n",
       "3                    allwise              w1mpro   double precision\n",
       "4                    allwise              w2mpro   double precision\n",
       "5                    allwise              w3mpro   double precision\n",
       "6                    allwise              w4mpro   double precision\n",
       "7                    allwise           w1sigmpro   double precision\n",
       "8                    allwise           w2sigmpro   double precision\n",
       "9                    allwise           w3sigmpro   double precision\n",
       "10                   allwise           w4sigmpro   double precision\n",
       "11                   allwise           j_m_2mass   double precision\n",
       "12                   allwise           h_m_2mass   double precision\n",
       "13                   allwise           k_m_2mass   double precision\n",
       "14                   allwise        j_msig_2mass   double precision\n",
       "15                   allwise        h_msig_2mass   double precision\n",
       "16                   allwise         oid_catalog  character varying\n",
       "0                dataquality             exptime               real\n",
       "1                dataquality              candid             bigint\n",
       "2                dataquality                 fid            integer\n",
       "3                dataquality                xpos               real\n",
       "4                dataquality                ypos               real\n",
       "5                dataquality              chipsf               real\n",
       "6                dataquality                 sky               real\n",
       "7                dataquality                fwhm               real\n",
       "8                dataquality            classtar               real\n",
       "9                dataquality          mindtoedge               real\n",
       "10               dataquality            seeratio               real\n",
       "11               dataquality              aimage               real\n",
       "12               dataquality              bimage               real\n",
       "13               dataquality           aimagerat               real\n",
       "14               dataquality           bimagerat               real\n",
       "15               dataquality                nneg            integer\n",
       "16               dataquality                nbad            integer\n",
       "17               dataquality              sumrat               real\n",
       "18               dataquality               scorr   double precision\n",
       "19               dataquality              dsnrms               real\n",
       "20               dataquality              ssnrms               real\n",
       "21               dataquality            magzpsci               real\n",
       "22               dataquality         magzpsciunc               real\n",
       "23               dataquality         magzpscirms               real\n",
       "24               dataquality            nmatches            integer\n",
       "25               dataquality            clrcoeff               real\n",
       "26               dataquality            clrcounc               real\n",
       "27               dataquality            zpclrcov               real\n",
       "28               dataquality               zpmed               real\n",
       "29               dataquality              clrmed               real\n",
       "30               dataquality              clrrms               real\n",
       "31               dataquality                 oid  character varying\n",
       "0                  detection             dubious            boolean\n",
       "1                  detection       parent_candid             bigint\n",
       "2                  detection           has_stamp            boolean\n",
       "3                  detection                 fid            integer\n",
       "4                  detection                 pid             bigint\n",
       "5                  detection          diffmaglim               real\n",
       "6                  detection           isdiffpos           smallint\n",
       "7                  detection                 nid            integer\n",
       "8                  detection                  ra   double precision\n",
       "9                  detection                 dec   double precision\n",
       "10                 detection              magpsf               real\n",
       "11                 detection            sigmapsf               real\n",
       "12                 detection               magap               real\n",
       "13                 detection            sigmagap               real\n",
       "14                 detection              distnr               real\n",
       "15                 detection                  rb               real\n",
       "16                 detection              candid             bigint\n",
       "17                 detection                 drb               real\n",
       "18                 detection                 mjd   double precision\n",
       "19                 detection            magapbig               real\n",
       "20                 detection         sigmagapbig               real\n",
       "21                 detection                rfid             bigint\n",
       "22                 detection         magpsf_corr               real\n",
       "23                 detection       sigmapsf_corr               real\n",
       "24                 detection   sigmapsf_corr_ext               real\n",
       "25                 detection           corrected            boolean\n",
       "26                 detection        step_id_corr  character varying\n",
       "27                 detection           rbversion  character varying\n",
       "28                 detection          drbversion  character varying\n",
       "29                 detection                 oid  character varying\n",
       "0                    feature               value   double precision\n",
       "1                    feature                 fid            integer\n",
       "2                    feature                 oid  character varying\n",
       "3                    feature                name  character varying\n",
       "4                    feature             version  character varying\n",
       "0            feature_version             version               text\n",
       "1            feature_version     step_id_feature               text\n",
       "2            feature_version  step_id_preprocess               text\n",
       "0                   gaia_ztf      neargaiabright               real\n",
       "1                   gaia_ztf              candid             bigint\n",
       "2                   gaia_ztf            neargaia               real\n",
       "3                   gaia_ztf             unique1            boolean\n",
       "4                   gaia_ztf             maggaia               real\n",
       "5                   gaia_ztf       maggaiabright               real\n",
       "6                   gaia_ztf                 oid  character varying\n",
       "0              lc_classifier         probability               real\n",
       "1              lc_classifier             ranking           smallint\n",
       "2              lc_classifier        last_updated   double precision\n",
       "3              lc_classifier                 oid  character varying\n",
       "4              lc_classifier          class_name  character varying\n",
       "5              lc_classifier     classifier_name  character varying\n",
       "6              lc_classifier  classifier_version  character varying\n",
       "0     lc_classifier_periodic         probability               real\n",
       "1     lc_classifier_periodic             ranking           smallint\n",
       "2     lc_classifier_periodic        last_updated   double precision\n",
       "3     lc_classifier_periodic                 oid  character varying\n",
       "4     lc_classifier_periodic          class_name  character varying\n",
       "5     lc_classifier_periodic     classifier_name  character varying\n",
       "6     lc_classifier_periodic  classifier_version  character varying\n",
       "0   lc_classifier_stochastic         probability               real\n",
       "1   lc_classifier_stochastic             ranking           smallint\n",
       "2   lc_classifier_stochastic        last_updated   double precision\n",
       "3   lc_classifier_stochastic                 oid  character varying\n",
       "4   lc_classifier_stochastic          class_name  character varying\n",
       "5   lc_classifier_stochastic     classifier_name  character varying\n",
       "6   lc_classifier_stochastic  classifier_version  character varying\n",
       "0          lc_classifier_top         probability               real\n",
       "1          lc_classifier_top             ranking           smallint\n",
       "2          lc_classifier_top        last_updated   double precision\n",
       "3          lc_classifier_top                 oid  character varying\n",
       "4          lc_classifier_top          class_name  character varying\n",
       "5          lc_classifier_top     classifier_name  character varying\n",
       "6          lc_classifier_top  classifier_version  character varying\n",
       "0    lc_classifier_transient         probability               real\n",
       "1    lc_classifier_transient             ranking           smallint\n",
       "2    lc_classifier_transient        last_updated   double precision\n",
       "3    lc_classifier_transient                 oid  character varying\n",
       "4    lc_classifier_transient          class_name  character varying\n",
       "5    lc_classifier_transient     classifier_name  character varying\n",
       "6    lc_classifier_transient  classifier_version  character varying\n",
       "0                    magstat     saturation_rate               real\n",
       "1                    magstat                 fid            integer\n",
       "2                    magstat             stellar            boolean\n",
       "3                    magstat           corrected            boolean\n",
       "4                    magstat                ndet            integer\n",
       "5                    magstat            ndubious            integer\n",
       "6                    magstat          dmdt_first               real\n",
       "7                    magstat            dm_first               real\n",
       "8                    magstat       sigmadm_first               real\n",
       "9                    magstat            dt_first               real\n",
       "10                   magstat             magmean               real\n",
       "11                   magstat           magmedian               real\n",
       "12                   magstat              magmax               real\n",
       "13                   magstat              magmin               real\n",
       "14                   magstat            magsigma               real\n",
       "15                   magstat             maglast               real\n",
       "16                   magstat            magfirst               real\n",
       "17                   magstat        magmean_corr               real\n",
       "18                   magstat      magmedian_corr               real\n",
       "19                   magstat         magmax_corr               real\n",
       "20                   magstat         magmin_corr               real\n",
       "21                   magstat       magsigma_corr               real\n",
       "22                   magstat        maglast_corr               real\n",
       "23                   magstat       magfirst_corr               real\n",
       "24                   magstat            firstmjd               real\n",
       "25                   magstat             lastmjd               real\n",
       "26                   magstat        step_id_corr  character varying\n",
       "27                   magstat                 oid  character varying\n",
       "0              non_detection                 mjd   double precision\n",
       "1              non_detection                 fid            integer\n",
       "2              non_detection          diffmaglim               real\n",
       "3              non_detection                 oid  character varying\n",
       "0                     object    reference_change            boolean\n",
       "1                     object            ndethist            integer\n",
       "2                     object            ncovhist            integer\n",
       "3                     object        mjdstarthist   double precision\n",
       "4                     object          mjdendhist   double precision\n",
       "5                     object           corrected            boolean\n",
       "6                     object             stellar            boolean\n",
       "7                     object                ndet            integer\n",
       "8                     object             g_r_max               real\n",
       "9                     object        g_r_max_corr               real\n",
       "10                    object            g_r_mean               real\n",
       "11                    object       g_r_mean_corr               real\n",
       "12                    object              meanra   double precision\n",
       "13                    object             meandec   double precision\n",
       "14                    object             sigmara   double precision\n",
       "15                    object            sigmadec   double precision\n",
       "16                    object             deltajd   double precision\n",
       "17                    object            firstmjd   double precision\n",
       "18                    object             lastmjd   double precision\n",
       "19                    object             diffpos            boolean\n",
       "20                    object                 oid  character varying\n",
       "21                    object        step_id_corr  character varying\n",
       "0                    outlier               score   double precision\n",
       "1                    outlier                 oid  character varying\n",
       "2                    outlier          class_name  character varying\n",
       "3                    outlier     outlier_version  character varying\n",
       "0                   pipeline                date               date\n",
       "1                   pipeline        step_id_corr  character varying\n",
       "2                   pipeline        step_id_feat  character varying\n",
       "3                   pipeline         pipeline_id  character varying\n",
       "4                   pipeline         step_id_out  character varying\n",
       "5                   pipeline       step_id_stamp  character varying\n",
       "6                   pipeline         step_id_clf  character varying\n",
       "0                probability         probability               real\n",
       "1                probability             ranking           smallint\n",
       "2                probability        last_updated   double precision\n",
       "3                probability                 oid  character varying\n",
       "4                probability          class_name  character varying\n",
       "5                probability     classifier_name  character varying\n",
       "6                probability  classifier_version  character varying\n",
       "0                    ps1_ztf             unique3            boolean\n",
       "1                    ps1_ztf              candid             bigint\n",
       "2                    ps1_ztf         objectidps1             bigint\n",
       "3                    ps1_ztf              sgmag1               real\n",
       "4                    ps1_ztf              srmag1               real\n",
       "5                    ps1_ztf              simag1               real\n",
       "6                    ps1_ztf              szmag1               real\n",
       "7                    ps1_ztf            sgscore1               real\n",
       "8                    ps1_ztf           distpsnr1               real\n",
       "9                    ps1_ztf         objectidps2             bigint\n",
       "10                   ps1_ztf              sgmag2               real\n",
       "11                   ps1_ztf              srmag2               real\n",
       "12                   ps1_ztf              simag2               real\n",
       "13                   ps1_ztf              szmag2               real\n",
       "14                   ps1_ztf            sgscore2               real\n",
       "15                   ps1_ztf           distpsnr2               real\n",
       "16                   ps1_ztf         objectidps3             bigint\n",
       "17                   ps1_ztf              sgmag3               real\n",
       "18                   ps1_ztf              srmag3               real\n",
       "19                   ps1_ztf              simag3               real\n",
       "20                   ps1_ztf              szmag3               real\n",
       "21                   ps1_ztf            sgscore3               real\n",
       "22                   ps1_ztf           distpsnr3               real\n",
       "23                   ps1_ztf             nmtchps            integer\n",
       "24                   ps1_ztf             unique1            boolean\n",
       "25                   ps1_ztf             unique2            boolean\n",
       "26                   ps1_ztf                 oid  character varying\n",
       "0                  reference          nframesref            integer\n",
       "1                  reference                rfid             bigint\n",
       "2                  reference              candid             bigint\n",
       "3                  reference                 fid            integer\n",
       "4                  reference                rcid            integer\n",
       "5                  reference               field            integer\n",
       "6                  reference               magnr               real\n",
       "7                  reference            sigmagnr               real\n",
       "8                  reference               chinr               real\n",
       "9                  reference             sharpnr               real\n",
       "10                 reference                ranr   double precision\n",
       "11                 reference               decnr   double precision\n",
       "12                 reference         mjdstartref   double precision\n",
       "13                 reference           mjdendref   double precision\n",
       "14                 reference                 oid  character varying\n",
       "0                     ss_ztf              candid             bigint\n",
       "1                     ss_ztf            ssdistnr               real\n",
       "2                     ss_ztf             ssmagnr               real\n",
       "3                     ss_ztf                 oid  character varying\n",
       "4                     ss_ztf            ssnamenr  character varying\n",
       "0           stamp_classifier         probability               real\n",
       "1           stamp_classifier             ranking           smallint\n",
       "2           stamp_classifier        last_updated   double precision\n",
       "3           stamp_classifier                 oid  character varying\n",
       "4           stamp_classifier          class_name  character varying\n",
       "5           stamp_classifier     classifier_name  character varying\n",
       "6           stamp_classifier  classifier_version  character varying\n",
       "0                       step                date               date\n",
       "1                       step             step_id  character varying\n",
       "2                       step                name  character varying\n",
       "3                       step             version  character varying\n",
       "4                       step            comments  character varying\n",
       "0                   taxonomy     classifier_name  character varying\n",
       "1                   taxonomy  classifier_version  character varying\n",
       "2                   taxonomy             classes              ARRAY\n",
       "0                     xmatch                dist   double precision\n",
       "1                     xmatch              period   double precision\n",
       "2                     xmatch                 oid  character varying\n",
       "3                     xmatch               catid  character varying\n",
       "4                     xmatch         oid_catalog  character varying\n",
       "5                     xmatch       class_catalog  character varying"
      ]
     },
     "metadata": {
      "tags": []
     },
     "output_type": "display_data"
    }
   ],
   "source": [
    "alltabs = []\n",
    "for tab in sorted(tables.table_name):\n",
    "    cols = pd.DataFrame()\n",
    "    query = \"select column_name, data_type from information_schema.columns where table_name = '%s';\" % tab\n",
    "    results = pd.read_sql_query(query, conn)\n",
    "    results[\"table\"] = tab\n",
    "    alltabs.append(results)\n",
    "dftab = pd.concat(alltabs)\n",
    "pd.options.display.max_rows = 999\n",
    "display(dftab[[\"table\", \"column_name\", \"data_type\"]])\n",
    "pd.options.display.max_rows = 101\n",
    "\n"
   ]
  },
  {
   "cell_type": "markdown",
   "metadata": {
    "id": "6gWBgAVDDLj5"
   },
   "source": [
    "Now we can do a query asking for RRL candidates. For this it is important to understand the `probability` table. This table contains all the classifications probabilities, for every object, every classifier, and every available class. An object will be in many rows of this table, with the idea of being flexible to future changes in the taxonomy.\n",
    "\n",
    "For example, an object classified by the light curve classifier (classifier_name = lc_classifier) will appear in all the available classes, e.g., class_name = 'SNIa' or class_name = 'AGN', independently of whether this is the most likely class. The most likely class can be quickly obtained with the ranking column (ranking = 1). For example, if we want to find the probabilities of the objects most likely to be RR Lyrae, we would look for objects with classifier_name = 'lc_classifier', class_name = 'RRL' and ranking = 1. The probabilities will be given by the probability column.\n",
    "\n",
    "We will query objects that are most likely to be RRL with a probability larger than 0.55 and have 100 or more detections. For this we will do a complex query, including an inner join between object and probability."
   ]
  },
  {
   "cell_type": "code",
   "execution_count": 31,
   "metadata": {
    "colab": {
     "base_uri": "https://localhost:8080/",
     "height": 412
    },
    "id": "r1wSikkjDLj5",
    "outputId": "12d90da0-da56-4673-c640-c8cb64abb5ff"
   },
   "outputs": [
    {
     "name": "stdout",
     "output_type": "stream",
     "text": [
      "(14983, 11)\n"
     ]
    },
    {
     "data": {
      "text/html": [
       "<div>\n",
       "<style scoped>\n",
       "    .dataframe tbody tr th:only-of-type {\n",
       "        vertical-align: middle;\n",
       "    }\n",
       "\n",
       "    .dataframe tbody tr th {\n",
       "        vertical-align: top;\n",
       "    }\n",
       "\n",
       "    .dataframe thead th {\n",
       "        text-align: right;\n",
       "    }\n",
       "</style>\n",
       "<table border=\"1\" class=\"dataframe\">\n",
       "  <thead>\n",
       "    <tr style=\"text-align: right;\">\n",
       "      <th></th>\n",
       "      <th>meanra</th>\n",
       "      <th>meandec</th>\n",
       "      <th>ndet</th>\n",
       "      <th>firstmjd</th>\n",
       "      <th>deltajd</th>\n",
       "      <th>g_r_max</th>\n",
       "      <th>classifier_name</th>\n",
       "      <th>class_name</th>\n",
       "      <th>ranking</th>\n",
       "      <th>probability</th>\n",
       "    </tr>\n",
       "    <tr>\n",
       "      <th>oid</th>\n",
       "      <th></th>\n",
       "      <th></th>\n",
       "      <th></th>\n",
       "      <th></th>\n",
       "      <th></th>\n",
       "      <th></th>\n",
       "      <th></th>\n",
       "      <th></th>\n",
       "      <th></th>\n",
       "      <th></th>\n",
       "    </tr>\n",
       "  </thead>\n",
       "  <tbody>\n",
       "    <tr>\n",
       "      <th>ZTF17aaarqcg</th>\n",
       "      <td>32.910534</td>\n",
       "      <td>-11.202156</td>\n",
       "      <td>122</td>\n",
       "      <td>58365.439549</td>\n",
       "      <td>890.709271</td>\n",
       "      <td>-0.587400</td>\n",
       "      <td>lc_classifier</td>\n",
       "      <td>RRL</td>\n",
       "      <td>1</td>\n",
       "      <td>0.550128</td>\n",
       "    </tr>\n",
       "    <tr>\n",
       "      <th>ZTF17aabowfg</th>\n",
       "      <td>330.712946</td>\n",
       "      <td>36.099635</td>\n",
       "      <td>263</td>\n",
       "      <td>58351.408009</td>\n",
       "      <td>958.104074</td>\n",
       "      <td>-0.172728</td>\n",
       "      <td>lc_classifier</td>\n",
       "      <td>RRL</td>\n",
       "      <td>1</td>\n",
       "      <td>0.550128</td>\n",
       "    </tr>\n",
       "    <tr>\n",
       "      <th>ZTF18acrxoko</th>\n",
       "      <td>138.364344</td>\n",
       "      <td>-10.939626</td>\n",
       "      <td>154</td>\n",
       "      <td>58450.463194</td>\n",
       "      <td>865.707500</td>\n",
       "      <td>-0.290621</td>\n",
       "      <td>lc_classifier</td>\n",
       "      <td>RRL</td>\n",
       "      <td>1</td>\n",
       "      <td>0.550128</td>\n",
       "    </tr>\n",
       "    <tr>\n",
       "      <th>ZTF18aaybsfm</th>\n",
       "      <td>242.629575</td>\n",
       "      <td>11.040569</td>\n",
       "      <td>167</td>\n",
       "      <td>58274.293681</td>\n",
       "      <td>1034.086424</td>\n",
       "      <td>-0.088782</td>\n",
       "      <td>lc_classifier</td>\n",
       "      <td>RRL</td>\n",
       "      <td>1</td>\n",
       "      <td>0.550128</td>\n",
       "    </tr>\n",
       "    <tr>\n",
       "      <th>ZTF17aaarxcm</th>\n",
       "      <td>63.055905</td>\n",
       "      <td>77.868521</td>\n",
       "      <td>245</td>\n",
       "      <td>58375.455868</td>\n",
       "      <td>930.743391</td>\n",
       "      <td>-0.336003</td>\n",
       "      <td>lc_classifier</td>\n",
       "      <td>RRL</td>\n",
       "      <td>1</td>\n",
       "      <td>0.550128</td>\n",
       "    </tr>\n",
       "    <tr>\n",
       "      <th>ZTF18aaltdsb</th>\n",
       "      <td>240.759602</td>\n",
       "      <td>66.544721</td>\n",
       "      <td>352</td>\n",
       "      <td>58243.326482</td>\n",
       "      <td>1070.158275</td>\n",
       "      <td>-0.499054</td>\n",
       "      <td>lc_classifier</td>\n",
       "      <td>RRL</td>\n",
       "      <td>1</td>\n",
       "      <td>0.550128</td>\n",
       "    </tr>\n",
       "    <tr>\n",
       "      <th>ZTF18abcoxqv</th>\n",
       "      <td>330.604845</td>\n",
       "      <td>20.213578</td>\n",
       "      <td>233</td>\n",
       "      <td>58290.440787</td>\n",
       "      <td>1026.063750</td>\n",
       "      <td>0.555733</td>\n",
       "      <td>lc_classifier</td>\n",
       "      <td>RRL</td>\n",
       "      <td>1</td>\n",
       "      <td>0.550128</td>\n",
       "    </tr>\n",
       "    <tr>\n",
       "      <th>ZTF18abodevs</th>\n",
       "      <td>8.459911</td>\n",
       "      <td>16.786416</td>\n",
       "      <td>253</td>\n",
       "      <td>58352.463322</td>\n",
       "      <td>903.669641</td>\n",
       "      <td>-0.129900</td>\n",
       "      <td>lc_classifier</td>\n",
       "      <td>RRL</td>\n",
       "      <td>1</td>\n",
       "      <td>0.550128</td>\n",
       "    </tr>\n",
       "    <tr>\n",
       "      <th>ZTF18aapgrxm</th>\n",
       "      <td>281.362836</td>\n",
       "      <td>44.946572</td>\n",
       "      <td>142</td>\n",
       "      <td>58247.388553</td>\n",
       "      <td>1064.099526</td>\n",
       "      <td>-0.048290</td>\n",
       "      <td>lc_classifier</td>\n",
       "      <td>RRL</td>\n",
       "      <td>1</td>\n",
       "      <td>0.550144</td>\n",
       "    </tr>\n",
       "    <tr>\n",
       "      <th>ZTF18aapngng</th>\n",
       "      <td>285.268974</td>\n",
       "      <td>31.220599</td>\n",
       "      <td>164</td>\n",
       "      <td>58247.366493</td>\n",
       "      <td>1069.120532</td>\n",
       "      <td>0.035988</td>\n",
       "      <td>lc_classifier</td>\n",
       "      <td>RRL</td>\n",
       "      <td>1</td>\n",
       "      <td>0.550160</td>\n",
       "    </tr>\n",
       "  </tbody>\n",
       "</table>\n",
       "</div>"
      ],
      "text/plain": [
       "                  meanra    meandec  ndet  ...  class_name  ranking  probability\n",
       "oid                                        ...                                  \n",
       "ZTF17aaarqcg   32.910534 -11.202156   122  ...         RRL        1     0.550128\n",
       "ZTF17aabowfg  330.712946  36.099635   263  ...         RRL        1     0.550128\n",
       "ZTF18acrxoko  138.364344 -10.939626   154  ...         RRL        1     0.550128\n",
       "ZTF18aaybsfm  242.629575  11.040569   167  ...         RRL        1     0.550128\n",
       "ZTF17aaarxcm   63.055905  77.868521   245  ...         RRL        1     0.550128\n",
       "ZTF18aaltdsb  240.759602  66.544721   352  ...         RRL        1     0.550128\n",
       "ZTF18abcoxqv  330.604845  20.213578   233  ...         RRL        1     0.550128\n",
       "ZTF18abodevs    8.459911  16.786416   253  ...         RRL        1     0.550128\n",
       "ZTF18aapgrxm  281.362836  44.946572   142  ...         RRL        1     0.550144\n",
       "ZTF18aapngng  285.268974  31.220599   164  ...         RRL        1     0.550160\n",
       "\n",
       "[10 rows x 10 columns]"
      ]
     },
     "execution_count": 31,
     "metadata": {
      "tags": []
     },
     "output_type": "execute_result"
    }
   ],
   "source": [
    "query='''\n",
    "SELECT\n",
    "    object.oid, object.meanra, object.meandec, object.ndet,\n",
    "    object.firstMJD, object.deltajd, object.g_r_max,\n",
    "    probability.classifier_name, probability.class_name,\n",
    "    probability.ranking, probability.probability\n",
    "FROM\n",
    "    object INNER JOIN probability\n",
    "    ON object.oid = probability.oid\n",
    "WHERE\n",
    "    probability.classifier_name = 'lc_classifier'\n",
    "    AND probability.class_name IN ('RRL')\n",
    "    AND probability.ranking = 1\n",
    "    AND probability.probability > 0.55\n",
    "    AND object.ndet >= 100\n",
    "'''\n",
    "\n",
    "rrl_sample = pd.read_sql_query(query, conn)\n",
    "print(rrl_sample.shape)\n",
    "rrl_sample.set_index('oid', inplace=True)\n",
    "rrl_sample.head(10)"
   ]
  },
  {
   "cell_type": "markdown",
   "metadata": {
    "id": "sC4j6HU0DLkE"
   },
   "source": [
    "Now we plot an histogram of the source probabilities of being finally classified as RRL:"
   ]
  },
  {
   "cell_type": "code",
   "execution_count": 32,
   "metadata": {
    "colab": {
     "base_uri": "https://localhost:8080/",
     "height": 296
    },
    "id": "tmMHUNugDLkE",
    "outputId": "23107ada-6e92-4625-b52c-a67d95b6f58a"
   },
   "outputs": [
    {
     "data": {
      "text/plain": [
       "Text(0, 0.5, 'Frequency')"
      ]
     },
     "execution_count": 32,
     "metadata": {
      "tags": []
     },
     "output_type": "execute_result"
    },
    {
     "data": {
      "image/png": "[encoded data removed]",
      "text/plain": [
       "<Figure size 432x288 with 1 Axes>"
      ]
     },
     "metadata": {
      "needs_background": "light",
      "tags": []
     },
     "output_type": "display_data"
    }
   ],
   "source": [
    "fig, ax = plt.subplots()\n",
    "ax.hist(rrl_sample.probability, bins=30)\n",
    "ax.set_xlabel(\"RRL prob\")\n",
    "ax.set_ylabel(\"Frequency\")"
   ]
  },
  {
   "cell_type": "markdown",
   "metadata": {
    "id": "JjqXpmK4DLkI"
   },
   "source": [
    "#### Query object computed features<a class=\"anchor\" id=\"features\"></a>"
   ]
  },
  {
   "cell_type": "markdown",
   "metadata": {
    "id": "k2pIg4uGDLkI"
   },
   "source": [
    "Computing the amplitude from the detection magnitudes and the multiband period in the way shown previously can be time consuming for a large sample of sources; the light curve classifier uses variability features computed from the ZTF alert stream. Two relevant features are `Multiband_period`, which is a period obtained using the MHAOV periodogram mentioned before, and `Amplitude`, which is defined as the half of the difference between the median of the maximum 5 percent and the median of the minimum 5 percent magnitudes (then we use twice the obtained value as the light curve amplitude). Let's query the feature names from the `feature` table."
   ]
  },
  {
   "cell_type": "code",
   "execution_count": 33,
   "metadata": {
    "colab": {
     "base_uri": "https://localhost:8080/",
     "height": 238
    },
    "id": "9k2kiBF3DLkJ",
    "outputId": "b83f7d51-1471-4b7e-83c2-784a25b69879"
   },
   "outputs": [
    {
     "data": {
      "text/html": [
       "<div>\n",
       "<style scoped>\n",
       "    .dataframe tbody tr th:only-of-type {\n",
       "        vertical-align: middle;\n",
       "    }\n",
       "\n",
       "    .dataframe tbody tr th {\n",
       "        vertical-align: top;\n",
       "    }\n",
       "\n",
       "    .dataframe thead th {\n",
       "        text-align: right;\n",
       "    }\n",
       "</style>\n",
       "<table border=\"1\" class=\"dataframe\">\n",
       "  <thead>\n",
       "    <tr style=\"text-align: right;\">\n",
       "      <th></th>\n",
       "      <th>name</th>\n",
       "      <th>value</th>\n",
       "      <th>fid</th>\n",
       "      <th>version</th>\n",
       "    </tr>\n",
       "    <tr>\n",
       "      <th>oid</th>\n",
       "      <th></th>\n",
       "      <th></th>\n",
       "      <th></th>\n",
       "      <th></th>\n",
       "    </tr>\n",
       "  </thead>\n",
       "  <tbody>\n",
       "    <tr>\n",
       "      <th>ZTF17aaaaaya</th>\n",
       "      <td>Amplitude</td>\n",
       "      <td>0.523865</td>\n",
       "      <td>1</td>\n",
       "      <td>feature_0.0.1</td>\n",
       "    </tr>\n",
       "    <tr>\n",
       "      <th>ZTF17aaaaaya</th>\n",
       "      <td>Amplitude</td>\n",
       "      <td>0.365857</td>\n",
       "      <td>2</td>\n",
       "      <td>feature_0.0.1</td>\n",
       "    </tr>\n",
       "    <tr>\n",
       "      <th>ZTF17aaaaaya</th>\n",
       "      <td>Multiband_period</td>\n",
       "      <td>0.566604</td>\n",
       "      <td>12</td>\n",
       "      <td>feature_0.0.1</td>\n",
       "    </tr>\n",
       "    <tr>\n",
       "      <th>ZTF17aaaabhx</th>\n",
       "      <td>Amplitude</td>\n",
       "      <td>0.644241</td>\n",
       "      <td>1</td>\n",
       "      <td>feature_0.0.1</td>\n",
       "    </tr>\n",
       "    <tr>\n",
       "      <th>ZTF17aaaabhx</th>\n",
       "      <td>Amplitude</td>\n",
       "      <td>0.417650</td>\n",
       "      <td>2</td>\n",
       "      <td>feature_0.0.1</td>\n",
       "    </tr>\n",
       "  </tbody>\n",
       "</table>\n",
       "</div>"
      ],
      "text/plain": [
       "                          name     value  fid        version\n",
       "oid                                                         \n",
       "ZTF17aaaaaya         Amplitude  0.523865    1  feature_0.0.1\n",
       "ZTF17aaaaaya         Amplitude  0.365857    2  feature_0.0.1\n",
       "ZTF17aaaaaya  Multiband_period  0.566604   12  feature_0.0.1\n",
       "ZTF17aaaabhx         Amplitude  0.644241    1  feature_0.0.1\n",
       "ZTF17aaaabhx         Amplitude  0.417650    2  feature_0.0.1"
      ]
     },
     "execution_count": 33,
     "metadata": {
      "tags": []
     },
     "output_type": "execute_result"
    }
   ],
   "source": [
    "rrl_oids = rrl_sample.index.values\n",
    "\n",
    "query='''\n",
    "SELECT\n",
    "    *\n",
    "FROM\n",
    "    feature\n",
    "WHERE\n",
    "    (name='Amplitude'\n",
    "    OR name='Multiband_period')\n",
    "    AND oid in (%s)\n",
    "''' % \",\".join([\"'%s'\" % oid for oid in rrl_oids])\n",
    "\n",
    "rrl_features = pd.read_sql_query(query, conn)\n",
    "rrl_features.set_index('oid', inplace=True)\n",
    "rrl_features.head()"
   ]
  },
  {
   "cell_type": "markdown",
   "metadata": {
    "id": "veteKaknDLkK"
   },
   "source": [
    "With these features we can plot the amplitude for each filter as a function of the multiband period:"
   ]
  },
  {
   "cell_type": "code",
   "execution_count": 34,
   "metadata": {
    "id": "7N2czbOaDLkK"
   },
   "outputs": [],
   "source": [
    "mask = rrl_features.name == \"Multiband_period\"\n",
    "rrl_period_mb = rrl_features.loc[mask]\n",
    "\n",
    "mask = (rrl_features.name == \"Amplitude\") & (rrl_features.fid==1)\n",
    "rrl_amplitude_g = rrl_features.loc[mask]\n",
    "\n",
    "mask = (rrl_features.name == \"Amplitude\") & (rrl_features.fid==2)\n",
    "rrl_amplitude_r = rrl_features.loc[mask]"
   ]
  },
  {
   "cell_type": "code",
   "execution_count": 35,
   "metadata": {
    "colab": {
     "base_uri": "https://localhost:8080/",
     "height": 351
    },
    "id": "XUoZlqmlDLkK",
    "outputId": "5043d370-968b-418e-debf-31bd0446e736",
    "scrolled": true
   },
   "outputs": [
    {
     "data": {
      "text/plain": [
       "Text(0, 0.5, 'Amplitude (mag)')"
      ]
     },
     "execution_count": 35,
     "metadata": {
      "tags": []
     },
     "output_type": "execute_result"
    },
    {
     "data": {
      "image/png": "[encoded data removed]",
      "text/plain": [
       "<Figure size 720x360 with 1 Axes>"
      ]
     },
     "metadata": {
      "needs_background": "light",
      "tags": []
     },
     "output_type": "display_data"
    }
   ],
   "source": [
    "labels = {1: 'g', 2: 'r'}\n",
    "markers = {1: 'o', 2: 's'}\n",
    "\n",
    "fig, ax = plt.subplots(figsize = (10, 5))\n",
    "\n",
    "for fid in [1, 2]:\n",
    "    if fid==1:\n",
    "        amplitude = rrl_amplitude_g.value*2.\n",
    "    else:\n",
    "        amplitude = rrl_amplitude_r.value*2.\n",
    "    \n",
    "    ax.scatter(np.log10(rrl_period_mb.value), amplitude, c=colors[fid], marker=markers[fid],\n",
    "               label=labels[fid], alpha=0.5)\n",
    "\n",
    "ax.legend()\n",
    "ax.set_xlabel(\"log(Multiband period (days))\")\n",
    "ax.set_ylabel(\"Amplitude (mag)\")"
   ]
  },
  {
   "cell_type": "markdown",
   "metadata": {
    "id": "6e1Xi9tHDLkM"
   },
   "source": [
    "From our plot we can distinguish two RRL sub-populations, namely ab-type and c-type RRL, which lie around log(multiband period) values of -0.25 and -0.5, respectively. Note that the number of sources classified as ab-type RRL is far larger than that of c-type RRL. For details see Sánchez-Sáez et al. (2021).\n",
    "\n",
    "We can now display example light curves for each sub-population, taking e.g. the source with the (current) largest number of detections and log(multiband period) around the values mentioned before. First we gather the data in a pandas dataframe, and create subsets of sources for given log(multiband period) intervals:"
   ]
  },
  {
   "cell_type": "code",
   "execution_count": 36,
   "metadata": {
    "colab": {
     "base_uri": "https://localhost:8080/",
     "height": 226
    },
    "id": "8ZcD0we1DLkM",
    "outputId": "99b16b54-a582-4fbf-af34-0aae3846af89"
   },
   "outputs": [
    {
     "data": {
      "text/html": [
       "<div>\n",
       "<style scoped>\n",
       "    .dataframe tbody tr th:only-of-type {\n",
       "        vertical-align: middle;\n",
       "    }\n",
       "\n",
       "    .dataframe tbody tr th {\n",
       "        vertical-align: top;\n",
       "    }\n",
       "\n",
       "    .dataframe thead th {\n",
       "        text-align: right;\n",
       "    }\n",
       "</style>\n",
       "<table border=\"1\" class=\"dataframe\">\n",
       "  <thead>\n",
       "    <tr style=\"text-align: right;\">\n",
       "      <th></th>\n",
       "      <th>meanra</th>\n",
       "      <th>meandec</th>\n",
       "      <th>ndet</th>\n",
       "      <th>firstmjd</th>\n",
       "      <th>deltajd</th>\n",
       "      <th>g_r_max</th>\n",
       "      <th>classifier_name</th>\n",
       "      <th>class_name</th>\n",
       "      <th>ranking</th>\n",
       "      <th>probability</th>\n",
       "      <th>Multiband_period</th>\n",
       "      <th>Amplitude_g</th>\n",
       "      <th>Amplitude_r</th>\n",
       "    </tr>\n",
       "  </thead>\n",
       "  <tbody>\n",
       "    <tr>\n",
       "      <th>ZTF17aaaaaya</th>\n",
       "      <td>326.800433</td>\n",
       "      <td>49.066387</td>\n",
       "      <td>518</td>\n",
       "      <td>58277.450602</td>\n",
       "      <td>954.685590</td>\n",
       "      <td>0.308760</td>\n",
       "      <td>lc_classifier</td>\n",
       "      <td>RRL</td>\n",
       "      <td>1</td>\n",
       "      <td>0.573104</td>\n",
       "      <td>0.566604</td>\n",
       "      <td>0.523865</td>\n",
       "      <td>0.365857</td>\n",
       "    </tr>\n",
       "    <tr>\n",
       "      <th>ZTF17aaaabhx</th>\n",
       "      <td>76.596246</td>\n",
       "      <td>53.758432</td>\n",
       "      <td>441</td>\n",
       "      <td>58345.429410</td>\n",
       "      <td>968.770822</td>\n",
       "      <td>0.227606</td>\n",
       "      <td>lc_classifier</td>\n",
       "      <td>RRL</td>\n",
       "      <td>1</td>\n",
       "      <td>0.644680</td>\n",
       "      <td>0.592242</td>\n",
       "      <td>0.644241</td>\n",
       "      <td>0.417650</td>\n",
       "    </tr>\n",
       "    <tr>\n",
       "      <th>ZTF17aaaabtj</th>\n",
       "      <td>30.542630</td>\n",
       "      <td>32.079499</td>\n",
       "      <td>261</td>\n",
       "      <td>58361.451007</td>\n",
       "      <td>912.721551</td>\n",
       "      <td>-0.104700</td>\n",
       "      <td>lc_classifier</td>\n",
       "      <td>RRL</td>\n",
       "      <td>1</td>\n",
       "      <td>0.556308</td>\n",
       "      <td>0.325850</td>\n",
       "      <td>0.294114</td>\n",
       "      <td>0.208779</td>\n",
       "    </tr>\n",
       "    <tr>\n",
       "      <th>ZTF17aaaadgd</th>\n",
       "      <td>54.010452</td>\n",
       "      <td>1.561411</td>\n",
       "      <td>190</td>\n",
       "      <td>58450.414491</td>\n",
       "      <td>829.755683</td>\n",
       "      <td>-0.420796</td>\n",
       "      <td>lc_classifier</td>\n",
       "      <td>RRL</td>\n",
       "      <td>1</td>\n",
       "      <td>0.713012</td>\n",
       "      <td>0.464706</td>\n",
       "      <td>0.759756</td>\n",
       "      <td>0.557304</td>\n",
       "    </tr>\n",
       "    <tr>\n",
       "      <th>ZTF17aaaaeti</th>\n",
       "      <td>30.542627</td>\n",
       "      <td>32.079500</td>\n",
       "      <td>265</td>\n",
       "      <td>58361.451007</td>\n",
       "      <td>914.705428</td>\n",
       "      <td>-0.104618</td>\n",
       "      <td>lc_classifier</td>\n",
       "      <td>RRL</td>\n",
       "      <td>1</td>\n",
       "      <td>0.564880</td>\n",
       "      <td>0.325850</td>\n",
       "      <td>0.293546</td>\n",
       "      <td>0.208786</td>\n",
       "    </tr>\n",
       "  </tbody>\n",
       "</table>\n",
       "</div>"
      ],
      "text/plain": [
       "                  meanra    meandec  ...  Amplitude_g  Amplitude_r\n",
       "ZTF17aaaaaya  326.800433  49.066387  ...     0.523865     0.365857\n",
       "ZTF17aaaabhx   76.596246  53.758432  ...     0.644241     0.417650\n",
       "ZTF17aaaabtj   30.542630  32.079499  ...     0.294114     0.208779\n",
       "ZTF17aaaadgd   54.010452   1.561411  ...     0.759756     0.557304\n",
       "ZTF17aaaaeti   30.542627  32.079500  ...     0.293546     0.208786\n",
       "\n",
       "[5 rows x 13 columns]"
      ]
     },
     "execution_count": 36,
     "metadata": {
      "tags": []
     },
     "output_type": "execute_result"
    }
   ],
   "source": [
    "rrl_period_mb = rrl_period_mb.drop(columns=['name', 'fid', 'version'])\n",
    "rrl_period_mb.rename(columns={'value': 'Multiband_period'}, inplace=True)\n",
    "rrl_amplitude_g = rrl_amplitude_g.drop(columns=['name', 'fid', 'version'])\n",
    "rrl_amplitude_g.rename(columns={'value': 'Amplitude_g'}, inplace=True)\n",
    "rrl_amplitude_r = rrl_amplitude_r.drop(columns=['name', 'fid', 'version'])\n",
    "rrl_amplitude_r.rename(columns={'value': 'Amplitude_r'}, inplace=True)\n",
    "rrl_sample_features = pd.concat([rrl_sample, rrl_period_mb, rrl_amplitude_g, rrl_amplitude_r],\n",
    "                                axis=1, sort=True)\n",
    "rrl_sample_features.head()"
   ]
  },
  {
   "cell_type": "code",
   "execution_count": 37,
   "metadata": {
    "id": "ThGI6NhdDLkN"
   },
   "outputs": [],
   "source": [
    "rrlab_logperiod_typical = -0.25\n",
    "rrlc_logperiod_typical = -0.5\n",
    "delta_logperiod = 0.02\n",
    "\n",
    "rrlab = rrl_sample_features[:][(np.log10(rrl_sample_features.Multiband_period)>rrlab_logperiod_typical-delta_logperiod) &\n",
    "    (np.log10(rrl_sample_features.Multiband_period)<rrlab_logperiod_typical+delta_logperiod)]\n",
    "\n",
    "rrlc = rrl_sample_features[:][(np.log10(rrl_sample_features.Multiband_period)>rrlc_logperiod_typical-delta_logperiod) &\n",
    "    (np.log10(rrl_sample_features.Multiband_period)<rrlc_logperiod_typical+delta_logperiod)]"
   ]
  },
  {
   "cell_type": "markdown",
   "metadata": {
    "id": "YT7u1v3zDLkN"
   },
   "source": [
    "Now we find the identifiers of the sources having the largest number of detections in each subset, and plot their folded light curves:"
   ]
  },
  {
   "cell_type": "code",
   "execution_count": 38,
   "metadata": {
    "colab": {
     "base_uri": "https://localhost:8080/",
     "height": 132
    },
    "id": "2txyV8IsDLkO",
    "outputId": "b298e41b-e812-4c1f-f8e0-0c30628070cb"
   },
   "outputs": [
    {
     "data": {
      "text/html": [
       "<div>\n",
       "<style scoped>\n",
       "    .dataframe tbody tr th:only-of-type {\n",
       "        vertical-align: middle;\n",
       "    }\n",
       "\n",
       "    .dataframe tbody tr th {\n",
       "        vertical-align: top;\n",
       "    }\n",
       "\n",
       "    .dataframe thead th {\n",
       "        text-align: right;\n",
       "    }\n",
       "</style>\n",
       "<table border=\"1\" class=\"dataframe\">\n",
       "  <thead>\n",
       "    <tr style=\"text-align: right;\">\n",
       "      <th></th>\n",
       "      <th>meanra</th>\n",
       "      <th>meandec</th>\n",
       "      <th>ndet</th>\n",
       "      <th>firstmjd</th>\n",
       "      <th>deltajd</th>\n",
       "      <th>g_r_max</th>\n",
       "      <th>classifier_name</th>\n",
       "      <th>class_name</th>\n",
       "      <th>ranking</th>\n",
       "      <th>probability</th>\n",
       "      <th>Multiband_period</th>\n",
       "      <th>Amplitude_g</th>\n",
       "      <th>Amplitude_r</th>\n",
       "    </tr>\n",
       "  </thead>\n",
       "  <tbody>\n",
       "    <tr>\n",
       "      <th>ZTF17aaaecwh</th>\n",
       "      <td>340.560324</td>\n",
       "      <td>51.300518</td>\n",
       "      <td>1785</td>\n",
       "      <td>58272.466192</td>\n",
       "      <td>1041.038924</td>\n",
       "      <td>-0.24789</td>\n",
       "      <td>lc_classifier</td>\n",
       "      <td>RRL</td>\n",
       "      <td>1</td>\n",
       "      <td>0.787072</td>\n",
       "      <td>0.579307</td>\n",
       "      <td>0.517271</td>\n",
       "      <td>0.370632</td>\n",
       "    </tr>\n",
       "    <tr>\n",
       "      <th>ZTF18aarkchp</th>\n",
       "      <td>293.786306</td>\n",
       "      <td>60.520148</td>\n",
       "      <td>801</td>\n",
       "      <td>58245.452951</td>\n",
       "      <td>1069.038900</td>\n",
       "      <td>-0.27442</td>\n",
       "      <td>lc_classifier</td>\n",
       "      <td>RRL</td>\n",
       "      <td>1</td>\n",
       "      <td>0.562800</td>\n",
       "      <td>0.311100</td>\n",
       "      <td>0.288611</td>\n",
       "      <td>0.198865</td>\n",
       "    </tr>\n",
       "  </tbody>\n",
       "</table>\n",
       "</div>"
      ],
      "text/plain": [
       "                  meanra    meandec  ...  Amplitude_g  Amplitude_r\n",
       "ZTF17aaaecwh  340.560324  51.300518  ...     0.517271     0.370632\n",
       "ZTF18aarkchp  293.786306  60.520148  ...     0.288611     0.198865\n",
       "\n",
       "[2 rows x 13 columns]"
      ]
     },
     "execution_count": 38,
     "metadata": {
      "tags": []
     },
     "output_type": "execute_result"
    }
   ],
   "source": [
    "oid_rrlab_example = rrlab.ndet.idxmax()\n",
    "oid_rrlc_example = rrlc.ndet.idxmax()\n",
    "seloid = [oid_rrlab_example, oid_rrlc_example]\n",
    "\n",
    "rrl_sample_features.loc[seloid].head()"
   ]
  },
  {
   "cell_type": "code",
   "execution_count": 39,
   "metadata": {
    "colab": {
     "base_uri": "https://localhost:8080/",
     "height": 826
    },
    "id": "_4tV3c-GDLkO",
    "outputId": "a224a8da-4623-4859-9753-ab1505d2e890"
   },
   "outputs": [
    {
     "name": "stderr",
     "output_type": "stream",
     "text": [
      "/usr/local/lib/python3.7/dist-packages/P4J/periodograms.py:64: RuntimeWarning: invalid value encountered in true_divide\n",
      "  per_single_band.update({filter_name : (d2/d1)*per/(self.cython_per[filter_name].wvar-per)})\n"
     ]
    },
    {
     "data": {
      "image/png": "[encoded data removed]",
      "text/plain": [
       "<Figure size 864x432 with 1 Axes>"
      ]
     },
     "metadata": {
      "needs_background": "light",
      "tags": []
     },
     "output_type": "display_data"
    },
    {
     "data": {
      "image/png": "[encoded data removed]",
      "text/plain": [
       "<Figure size 864x432 with 1 Axes>"
      ]
     },
     "metadata": {
      "needs_background": "light",
      "tags": []
     },
     "output_type": "display_data"
    }
   ],
   "source": [
    "for oid in seloid:\n",
    "    results = getVSdatacorr(oid)\n",
    "    periodogram = getLCdata(oid, results, doplot=True, dofold=True)"
   ]
  },
  {
   "cell_type": "markdown",
   "metadata": {
    "id": "WSlIOpjrDLkO"
   },
   "source": [
    "Finally, we close the connection to the DB:"
   ]
  },
  {
   "cell_type": "code",
   "execution_count": 40,
   "metadata": {
    "id": "96egJSJ0DLkP"
   },
   "outputs": [],
   "source": [
    "conn.close()"
   ]
  },
  {
   "cell_type": "markdown",
   "metadata": {
    "id": "TmqVwxo9sBpW"
   },
   "source": [
    "An extended version of this notebook can be found in https://github.com/alercebroker/usecases/blob/master/notebooks/ALeRCE_ZTF_VariableStars.ipynb."
   ]
  }
 ],
 "metadata": {
  "colab": {
   "collapsed_sections": [],
   "name": "ALeRCE_Galactic_notebook_brokers_workshop_2021.ipynb",
   "provenance": []
  },
  "kernelspec": {
   "display_name": "Python 3",
   "language": "python",
   "name": "python3"
  },
  "language_info": {
   "codemirror_mode": {
    "name": "ipython",
    "version": 3
   },
   "file_extension": ".py",
   "mimetype": "text/x-python",
   "name": "python",
   "nbconvert_exporter": "python",
   "pygments_lexer": "ipython3",
   "version": "3.7.5"
  },
  "toc": {
   "base_numbering": 1,
   "nav_menu": {},
   "number_sections": true,
   "sideBar": true,
   "skip_h1_title": false,
   "title_cell": "Table of Contents",
   "title_sidebar": "Contents",
   "toc_cell": false,
   "toc_position": {},
   "toc_section_display": true,
   "toc_window_display": true
  }
 },
 "nbformat": 4,
 "nbformat_minor": 1
}
