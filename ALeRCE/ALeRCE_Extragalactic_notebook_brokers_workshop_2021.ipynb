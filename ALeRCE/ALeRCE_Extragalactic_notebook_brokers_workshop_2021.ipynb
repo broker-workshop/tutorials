{
 "cells": [
  {
   "cell_type": "markdown",
   "metadata": {
    "id": "eGjPtq8qTo_x"
   },
   "source": [
    "![](https://github.com/broker-workshop/tutorials/blob/main/ALeRCE/alerce_logo.png?raw=1)"
   ]
  },
  {
   "cell_type": "markdown",
   "metadata": {
    "id": "lUC1je1Aif19"
   },
   "source": [
    "# ALeRCE Extragalactic starter notebook\n",
    "\n",
    "```Authors: Francisco Förster, Paula Sánchez-Sáez, Last updated: 20210412```\n",
    "\n",
    "ALeRCE starter notebook for Extragalactic science using the ALeRCE client, and a direct database connection.\n",
    "\n",
    "For more information about the ALeRCE broker, please visit http://alerce.science/, or read our publications:\n",
    "* The Automatic Learning for the Rapid Classification of Events (ALeRCE) Alert Broker, [Förster et al. 2021, in press, AJ](https://arxiv.org/abs/2008.03303)\n",
    "* Alert Classification for the ALeRCE Broker System: The Real-time Stamp Classifier, [Carrasco-Davis et al. 2021, submitted to AJ](https://arxiv.org/abs/2008.03309)\n",
    "* Alert Classification for the ALeRCE Broker System: The Light Curve Classifier, [Sánchez-Sáez et al. 2021, AJ, 161, 141](https://ui.adsabs.harvard.edu/abs/2021AJ....161..141S/abstract)\n",
    "\n",
    "Note that this notebook uses the ALeRCE Python client, which can be installed with pip (`pip install alerce`). For more information about this API and about the ALeRCE database visit http://alerce.science/."
   ]
  },
  {
   "cell_type": "markdown",
   "metadata": {
    "id": "p8rIdU_knJxp"
   },
   "source": [
    "# Table of contents:\n",
    "* [ALeRCE client](#client)\n",
    "* [Requirements](#req)\n",
    "* [Simple functions to plot light curves using the client](#simplefunctions)\n",
    "* [Query many AGN, QSO, and Blazar candidates using a direct DB connection](#agndb)\n",
    "* [Query AGN, QSO, and Blazar features using a direct DB connection](#agndbother)"
   ]
  },
  {
   "cell_type": "markdown",
   "metadata": {
    "id": "SE-ST2l3ncXr"
   },
   "source": [
    "# ALeRCE client <a class=\"anchor\" id=\"client\"></a>"
   ]
  },
  {
   "cell_type": "markdown",
   "metadata": {
    "id": "kM6p_yRdnuzN"
   },
   "source": [
    "Install and import the alerce client"
   ]
  },
  {
   "cell_type": "code",
   "execution_count": 1,
   "metadata": {
    "ExecuteTime": {
     "end_time": "2021-04-12T20:34:21.784764Z",
     "start_time": "2021-04-12T20:34:19.461971Z"
    },
    "colab": {
     "base_uri": "https://localhost:8080/"
    },
    "id": "3kRkzDyMhpib",
    "outputId": "ae8b86ff-8eaa-4593-f3c7-61ba7846843d"
   },
   "outputs": [
    {
     "name": "stdout",
     "output_type": "stream",
     "text": [
      "Requirement already satisfied: alerce in /home/fforster/anaconda3/lib/python3.6/site-packages/alerce-1.0.1-py3.6.egg (1.0.1)\n",
      "Requirement already satisfied: pandas>=1.1.2 in /home/fforster/anaconda3/lib/python3.6/site-packages (from alerce) (1.1.5)\n",
      "Requirement already satisfied: astropy>=4.0.1 in /home/fforster/anaconda3/lib/python3.6/site-packages (from alerce) (4.1)\n",
      "Requirement already satisfied: requests>=2.24.0 in /home/fforster/anaconda3/lib/python3.6/site-packages (from alerce) (2.25.1)\n",
      "Requirement already satisfied: python-dateutil>=2.7.3 in /home/fforster/anaconda3/lib/python3.6/site-packages (from pandas>=1.1.2->alerce) (2.7.3)\n",
      "Requirement already satisfied: numpy>=1.15.4 in /home/fforster/anaconda3/lib/python3.6/site-packages (from pandas>=1.1.2->alerce) (1.19.5)\n",
      "Requirement already satisfied: pytz>=2017.2 in /home/fforster/anaconda3/lib/python3.6/site-packages (from pandas>=1.1.2->alerce) (2018.4)\n",
      "Requirement already satisfied: chardet<5,>=3.0.2 in /home/fforster/anaconda3/lib/python3.6/site-packages (from requests>=2.24.0->alerce) (3.0.4)\n",
      "Requirement already satisfied: urllib3<1.27,>=1.21.1 in /home/fforster/anaconda3/lib/python3.6/site-packages (from requests>=2.24.0->alerce) (1.22)\n",
      "Requirement already satisfied: certifi>=2017.4.17 in /home/fforster/anaconda3/lib/python3.6/site-packages (from requests>=2.24.0->alerce) (2020.4.5.1)\n",
      "Requirement already satisfied: idna<3,>=2.5 in /home/fforster/anaconda3/lib/python3.6/site-packages (from requests>=2.24.0->alerce) (2.6)\n",
      "Requirement already satisfied: six>=1.5 in /home/fforster/anaconda3/lib/python3.6/site-packages (from python-dateutil>=2.7.3->pandas>=1.1.2->alerce) (1.15.0)\n",
      "\u001b[33mWARNING: You are using pip version 20.2.4; however, version 21.0.1 is available.\n",
      "You should consider upgrading via the '/home/fforster/anaconda3/bin/python -m pip install --upgrade pip' command.\u001b[0m\n"
     ]
    }
   ],
   "source": [
    "!pip install alerce"
   ]
  },
  {
   "cell_type": "code",
   "execution_count": 2,
   "metadata": {
    "ExecuteTime": {
     "end_time": "2021-04-12T20:34:22.650398Z",
     "start_time": "2021-04-12T20:34:21.786593Z"
    },
    "id": "o65fVw_On31Z"
   },
   "outputs": [],
   "source": [
    "from alerce.core import Alerce\n",
    "alerce_client = Alerce()"
   ]
  },
  {
   "cell_type": "markdown",
   "metadata": {
    "id": "dwrHt-BfoMDW"
   },
   "source": [
    "# Requirements <a class=\"anchor\" id=\"req\"></a>"
   ]
  },
  {
   "cell_type": "markdown",
   "metadata": {
    "id": "3zwD-yTnoPmd"
   },
   "source": [
    "Basic requirements "
   ]
  },
  {
   "cell_type": "code",
   "execution_count": 3,
   "metadata": {
    "ExecuteTime": {
     "end_time": "2021-04-12T20:34:23.162279Z",
     "start_time": "2021-04-12T20:34:22.652620Z"
    },
    "id": "ev1M2enBoM5v"
   },
   "outputs": [],
   "source": [
    "import sys\n",
    "import pandas as pd\n",
    "import numpy as np\n",
    "import matplotlib.pyplot as plt\n",
    "import seaborn as sns"
   ]
  },
  {
   "cell_type": "code",
   "execution_count": 4,
   "metadata": {
    "ExecuteTime": {
     "end_time": "2021-04-12T20:34:23.180473Z",
     "start_time": "2021-04-12T20:34:23.164165Z"
    },
    "colab": {
     "base_uri": "https://localhost:8080/"
    },
    "id": "oHi6TcA_oi5F",
    "outputId": "75876aca-88ed-48d2-c104-6dca6da893a2"
   },
   "outputs": [],
   "source": [
    "import psycopg2\n",
    "import json\n",
    "import requests\n",
    "from IPython.core.display import display, HTML"
   ]
  },
  {
   "cell_type": "code",
   "execution_count": 5,
   "metadata": {
    "ExecuteTime": {
     "end_time": "2021-04-12T20:34:25.746247Z",
     "start_time": "2021-04-12T20:34:23.182098Z"
    },
    "colab": {
     "base_uri": "https://localhost:8080/"
    },
    "id": "m-09f8Id7McE",
    "outputId": "0695565c-420f-4794-80b2-cce078c5c275"
   },
   "outputs": [
    {
     "name": "stdout",
     "output_type": "stream",
     "text": [
      "Requirement already satisfied: astroquery in /home/fforster/anaconda3/lib/python3.6/site-packages (0.4.1)\n",
      "Requirement already satisfied: six in /home/fforster/anaconda3/lib/python3.6/site-packages (from astroquery) (1.15.0)\n",
      "Requirement already satisfied: numpy in /home/fforster/anaconda3/lib/python3.6/site-packages (from astroquery) (1.19.5)\n",
      "Requirement already satisfied: html5lib>=0.999 in /home/fforster/.local/lib/python3.6/site-packages (from astroquery) (0.9999999)\n",
      "Requirement already satisfied: astropy>=3.1 in /home/fforster/anaconda3/lib/python3.6/site-packages (from astroquery) (4.1)\n",
      "Requirement already satisfied: beautifulsoup4>=4.3.2 in /home/fforster/anaconda3/lib/python3.6/site-packages (from astroquery) (4.6.0)\n",
      "Requirement already satisfied: requests>=2.4.3 in /home/fforster/anaconda3/lib/python3.6/site-packages (from astroquery) (2.25.1)\n",
      "Requirement already satisfied: keyring>=4.0 in /home/fforster/anaconda3/lib/python3.6/site-packages (from astroquery) (19.0.2)\n",
      "Requirement already satisfied: idna<3,>=2.5 in /home/fforster/anaconda3/lib/python3.6/site-packages (from requests>=2.4.3->astroquery) (2.6)\n",
      "Requirement already satisfied: chardet<5,>=3.0.2 in /home/fforster/anaconda3/lib/python3.6/site-packages (from requests>=2.4.3->astroquery) (3.0.4)\n",
      "Requirement already satisfied: certifi>=2017.4.17 in /home/fforster/anaconda3/lib/python3.6/site-packages (from requests>=2.4.3->astroquery) (2020.4.5.1)\n",
      "Requirement already satisfied: urllib3<1.27,>=1.21.1 in /home/fforster/anaconda3/lib/python3.6/site-packages (from requests>=2.4.3->astroquery) (1.22)\n",
      "Requirement already satisfied: secretstorage; sys_platform == \"linux\" in /home/fforster/anaconda3/lib/python3.6/site-packages (from keyring>=4.0->astroquery) (3.1.1)\n",
      "Requirement already satisfied: entrypoints in /home/fforster/anaconda3/lib/python3.6/site-packages (from keyring>=4.0->astroquery) (0.2.3)\n",
      "Requirement already satisfied: cryptography in /home/fforster/anaconda3/lib/python3.6/site-packages (from secretstorage; sys_platform == \"linux\"->keyring>=4.0->astroquery) (2.2.2)\n",
      "Requirement already satisfied: jeepney in /home/fforster/anaconda3/lib/python3.6/site-packages (from secretstorage; sys_platform == \"linux\"->keyring>=4.0->astroquery) (0.4)\n",
      "Requirement already satisfied: asn1crypto>=0.21.0 in /home/fforster/anaconda3/lib/python3.6/site-packages (from cryptography->secretstorage; sys_platform == \"linux\"->keyring>=4.0->astroquery) (0.24.0)\n",
      "Requirement already satisfied: cffi>=1.7 in /home/fforster/anaconda3/lib/python3.6/site-packages (from cryptography->secretstorage; sys_platform == \"linux\"->keyring>=4.0->astroquery) (1.11.5)\n",
      "Requirement already satisfied: pycparser in /home/fforster/anaconda3/lib/python3.6/site-packages (from cffi>=1.7->cryptography->secretstorage; sys_platform == \"linux\"->keyring>=4.0->astroquery) (2.18)\n",
      "\u001b[33mWARNING: You are using pip version 20.2.4; however, version 21.0.1 is available.\n",
      "You should consider upgrading via the '/home/fforster/anaconda3/bin/python -m pip install --upgrade pip' command.\u001b[0m\n"
     ]
    }
   ],
   "source": [
    "!pip install astroquery\n",
    "from astroquery.ned import Ned\n",
    "from astroquery.irsa_dust import IrsaDust"
   ]
  },
  {
   "cell_type": "code",
   "execution_count": 6,
   "metadata": {
    "ExecuteTime": {
     "end_time": "2021-04-12T20:34:25.758189Z",
     "start_time": "2021-04-12T20:34:25.747773Z"
    },
    "id": "H8i_7V3k07Ha"
   },
   "outputs": [],
   "source": [
    "import astropy.units as u\n",
    "from astropy import coordinates\n",
    "from astropy.time import Time \n",
    "from astropy.table import Table, Column\n",
    "from astropy.coordinates import Distance\n",
    "from astropy.cosmology import WMAP7"
   ]
  },
  {
   "cell_type": "code",
   "execution_count": 7,
   "metadata": {
    "ExecuteTime": {
     "end_time": "2021-04-12T20:34:25.763622Z",
     "start_time": "2021-04-12T20:34:25.760082Z"
    },
    "id": "7_ZqoN0JT54c"
   },
   "outputs": [],
   "source": [
    "# color blind friendly green and red \n",
    "colors = {1: '#56E03A', 2: '#D42F4B'} "
   ]
  },
  {
   "cell_type": "markdown",
   "metadata": {
    "id": "6cSpDnm4pLJK"
   },
   "source": [
    "# Using the client to get basic data and plot light curves  <a class=\"anchor\" id=\"simplefunctions\"></a>\n"
   ]
  },
  {
   "cell_type": "markdown",
   "metadata": {
    "id": "tVy4bIsRpi1V"
   },
   "source": [
    "Let's select a known Type Ia supernova and show it in the ALeRCE explorer "
   ]
  },
  {
   "cell_type": "code",
   "execution_count": 8,
   "metadata": {
    "ExecuteTime": {
     "end_time": "2021-04-12T20:34:25.771153Z",
     "start_time": "2021-04-12T20:34:25.765606Z"
    },
    "colab": {
     "base_uri": "https://localhost:8080/",
     "height": 34
    },
    "id": "OaBX1O-gpK02",
    "outputId": "5486f1db-1500-46c5-a830-f93d33827c22"
   },
   "outputs": [
    {
     "data": {
      "text/html": [
       "<a href=\"https://alerce.online/object/ZTF18acpfwmm\">ZTF18acpfwmm</a>"
      ],
      "text/plain": [
       "<IPython.core.display.HTML object>"
      ]
     },
     "metadata": {},
     "output_type": "display_data"
    }
   ],
   "source": [
    "oid = 'ZTF18acpfwmm'\n",
    "display(HTML(\"<a href=\\\"https://alerce.online/object/%s\\\">%s</a>\" % (oid, oid)))\n",
    "# control-left click to open in new tab"
   ]
  },
  {
   "cell_type": "markdown",
   "metadata": {
    "id": "w6UjyvB5tdY-"
   },
   "source": [
    "### Basic object properties"
   ]
  },
  {
   "cell_type": "code",
   "execution_count": 9,
   "metadata": {
    "ExecuteTime": {
     "end_time": "2021-04-12T20:34:27.244596Z",
     "start_time": "2021-04-12T20:34:25.772987Z"
    },
    "colab": {
     "base_uri": "https://localhost:8080/",
     "height": 100
    },
    "id": "tCD9l1zhthIx",
    "outputId": "838fd6c9-089e-422f-9c4e-ea9aa73ac5c3"
   },
   "outputs": [
    {
     "data": {
      "text/html": [
       "<div>\n",
       "<style scoped>\n",
       "    .dataframe tbody tr th:only-of-type {\n",
       "        vertical-align: middle;\n",
       "    }\n",
       "\n",
       "    .dataframe tbody tr th {\n",
       "        vertical-align: top;\n",
       "    }\n",
       "\n",
       "    .dataframe thead th {\n",
       "        text-align: right;\n",
       "    }\n",
       "</style>\n",
       "<table border=\"1\" class=\"dataframe\">\n",
       "  <thead>\n",
       "    <tr style=\"text-align: right;\">\n",
       "      <th></th>\n",
       "      <th>oid</th>\n",
       "      <th>ndethist</th>\n",
       "      <th>ncovhist</th>\n",
       "      <th>mjdstarthist</th>\n",
       "      <th>mjdendhist</th>\n",
       "      <th>corrected</th>\n",
       "      <th>stellar</th>\n",
       "      <th>ndet</th>\n",
       "      <th>g_r_max</th>\n",
       "      <th>g_r_max_corr</th>\n",
       "      <th>...</th>\n",
       "      <th>lastmjd</th>\n",
       "      <th>deltajd</th>\n",
       "      <th>meanra</th>\n",
       "      <th>meandec</th>\n",
       "      <th>sigmara</th>\n",
       "      <th>sigmadec</th>\n",
       "      <th>class</th>\n",
       "      <th>classifier</th>\n",
       "      <th>probability</th>\n",
       "      <th>step_id_corr</th>\n",
       "    </tr>\n",
       "  </thead>\n",
       "  <tbody>\n",
       "    <tr>\n",
       "      <th>0</th>\n",
       "      <td>ZTF18acpfwmm</td>\n",
       "      <td>38</td>\n",
       "      <td>91</td>\n",
       "      <td>58440.423854</td>\n",
       "      <td>58493.277963</td>\n",
       "      <td>False</td>\n",
       "      <td>False</td>\n",
       "      <td>17</td>\n",
       "      <td>-0.127781</td>\n",
       "      <td>0.428657</td>\n",
       "      <td>...</td>\n",
       "      <td>58493.277963</td>\n",
       "      <td>52.760451</td>\n",
       "      <td>112.802315</td>\n",
       "      <td>53.698235</td>\n",
       "      <td>0.00008</td>\n",
       "      <td>0.000041</td>\n",
       "      <td>SNIa</td>\n",
       "      <td>lc_classifier</td>\n",
       "      <td>0.425148</td>\n",
       "      <td>corr_bulk_0.0.1</td>\n",
       "    </tr>\n",
       "  </tbody>\n",
       "</table>\n",
       "<p>1 rows × 23 columns</p>\n",
       "</div>"
      ],
      "text/plain": [
       "            oid ndethist  ncovhist  mjdstarthist    mjdendhist  corrected  \\\n",
       "0  ZTF18acpfwmm       38        91  58440.423854  58493.277963      False   \n",
       "\n",
       "   stellar  ndet   g_r_max  g_r_max_corr  ...       lastmjd    deltajd  \\\n",
       "0    False    17 -0.127781      0.428657  ...  58493.277963  52.760451   \n",
       "\n",
       "       meanra    meandec  sigmara  sigmadec  class     classifier  \\\n",
       "0  112.802315  53.698235  0.00008  0.000041   SNIa  lc_classifier   \n",
       "\n",
       "   probability     step_id_corr  \n",
       "0     0.425148  corr_bulk_0.0.1  \n",
       "\n",
       "[1 rows x 23 columns]"
      ]
     },
     "execution_count": 9,
     "metadata": {},
     "output_type": "execute_result"
    }
   ],
   "source": [
    "alerce_client.query_objects(oid=oid, format='pandas')"
   ]
  },
  {
   "cell_type": "markdown",
   "metadata": {
    "id": "Jg61UtvytkZF"
   },
   "source": [
    "This table shows basic object statistics in one row per object, given by its unique identifier `oid`. Some of the properties shown are the coordinates `meanra`, `meandec`, colors at maximum `g_r_max`, or first and last detection times `firstmjd`, `lastmjd`."
   ]
  },
  {
   "cell_type": "markdown",
   "metadata": {
    "id": "utdJFbz7t5qT"
   },
   "source": [
    "### Basic band dependent statistics"
   ]
  },
  {
   "cell_type": "markdown",
   "metadata": {
    "id": "-f6O11wjRGNf"
   },
   "source": [
    "Let's query basic objects properties and statistics per band"
   ]
  },
  {
   "cell_type": "code",
   "execution_count": 10,
   "metadata": {
    "ExecuteTime": {
     "end_time": "2021-04-12T20:34:27.525620Z",
     "start_time": "2021-04-12T20:34:27.246330Z"
    },
    "colab": {
     "base_uri": "https://localhost:8080/",
     "height": 111
    },
    "id": "zs17gnPvRNHx",
    "outputId": "1d280d0f-0aa3-4fbc-d1db-79cc41526a43"
   },
   "outputs": [
    {
     "data": {
      "text/html": [
       "<div>\n",
       "<style scoped>\n",
       "    .dataframe tbody tr th:only-of-type {\n",
       "        vertical-align: middle;\n",
       "    }\n",
       "\n",
       "    .dataframe tbody tr th {\n",
       "        vertical-align: top;\n",
       "    }\n",
       "\n",
       "    .dataframe thead th {\n",
       "        text-align: right;\n",
       "    }\n",
       "</style>\n",
       "<table border=\"1\" class=\"dataframe\">\n",
       "  <thead>\n",
       "    <tr style=\"text-align: right;\">\n",
       "      <th></th>\n",
       "      <th>fid</th>\n",
       "      <th>stellar</th>\n",
       "      <th>corrected</th>\n",
       "      <th>ndet</th>\n",
       "      <th>ndubious</th>\n",
       "      <th>magmean</th>\n",
       "      <th>magmedian</th>\n",
       "      <th>magmax</th>\n",
       "      <th>magmin</th>\n",
       "      <th>magsigma</th>\n",
       "      <th>maglast</th>\n",
       "      <th>magfirst</th>\n",
       "      <th>firstmjd</th>\n",
       "      <th>lastmjd</th>\n",
       "      <th>step_id_corr</th>\n",
       "    </tr>\n",
       "  </thead>\n",
       "  <tbody>\n",
       "    <tr>\n",
       "      <th>0</th>\n",
       "      <td>1</td>\n",
       "      <td>False</td>\n",
       "      <td>True</td>\n",
       "      <td>3</td>\n",
       "      <td>1</td>\n",
       "      <td>18.038502</td>\n",
       "      <td>18.222103</td>\n",
       "      <td>18.303806</td>\n",
       "      <td>17.589598</td>\n",
       "      <td>None</td>\n",
       "      <td>18.222103</td>\n",
       "      <td>18.303806</td>\n",
       "      <td>58443.527</td>\n",
       "      <td>58464.320</td>\n",
       "      <td>bulk_version_0.0.1</td>\n",
       "    </tr>\n",
       "    <tr>\n",
       "      <th>1</th>\n",
       "      <td>2</td>\n",
       "      <td>False</td>\n",
       "      <td>False</td>\n",
       "      <td>14</td>\n",
       "      <td>2</td>\n",
       "      <td>18.460432</td>\n",
       "      <td>18.453360</td>\n",
       "      <td>19.476646</td>\n",
       "      <td>17.717379</td>\n",
       "      <td>None</td>\n",
       "      <td>19.476646</td>\n",
       "      <td>19.457125</td>\n",
       "      <td>58440.516</td>\n",
       "      <td>58493.277</td>\n",
       "      <td>bulk_version_0.0.1</td>\n",
       "    </tr>\n",
       "  </tbody>\n",
       "</table>\n",
       "</div>"
      ],
      "text/plain": [
       "   fid  stellar  corrected  ndet  ndubious    magmean  magmedian     magmax  \\\n",
       "0    1    False       True     3         1  18.038502  18.222103  18.303806   \n",
       "1    2    False      False    14         2  18.460432  18.453360  19.476646   \n",
       "\n",
       "      magmin magsigma    maglast   magfirst   firstmjd    lastmjd  \\\n",
       "0  17.589598     None  18.222103  18.303806  58443.527  58464.320   \n",
       "1  17.717379     None  19.476646  19.457125  58440.516  58493.277   \n",
       "\n",
       "         step_id_corr  \n",
       "0  bulk_version_0.0.1  \n",
       "1  bulk_version_0.0.1  "
      ]
     },
     "execution_count": 10,
     "metadata": {},
     "output_type": "execute_result"
    }
   ],
   "source": [
    "alerce_client.query_magstats(oid=oid, format='pandas')"
   ]
  },
  {
   "cell_type": "markdown",
   "metadata": {
    "id": "vn5dIh81uAZo"
   },
   "source": [
    "This table shows some band dependent statistics per object, with as many rows per object as bands available. The *g* and *r* bands are associated to unique filter ids `fid=1` and `fid=2`, respectively. Apart of some basic statistics per band, we also indicate wheter we believe the object is an isolated point source (`stellar`), whether we provide a reference corrected light curve (`corrected`), the number of detections associated to a given band (`ndet`), or whether some detections show possible inconsistencies when doing the correction (`ndubious`)."
   ]
  },
  {
   "cell_type": "markdown",
   "metadata": {
    "id": "tUmvYnuTvOKk"
   },
   "source": [
    "### Query detections"
   ]
  },
  {
   "cell_type": "code",
   "execution_count": 11,
   "metadata": {
    "ExecuteTime": {
     "end_time": "2021-04-12T20:34:30.526290Z",
     "start_time": "2021-04-12T20:34:30.210741Z"
    },
    "colab": {
     "base_uri": "https://localhost:8080/",
     "height": 224
    },
    "id": "xc6k9zPavnRT",
    "outputId": "1cac41d4-1912-419b-81e3-3f0d567e344c"
   },
   "outputs": [
    {
     "data": {
      "text/html": [
       "<div>\n",
       "<style scoped>\n",
       "    .dataframe tbody tr th:only-of-type {\n",
       "        vertical-align: middle;\n",
       "    }\n",
       "\n",
       "    .dataframe tbody tr th {\n",
       "        vertical-align: top;\n",
       "    }\n",
       "\n",
       "    .dataframe thead th {\n",
       "        text-align: right;\n",
       "    }\n",
       "</style>\n",
       "<table border=\"1\" class=\"dataframe\">\n",
       "  <thead>\n",
       "    <tr style=\"text-align: right;\">\n",
       "      <th></th>\n",
       "      <th>mjd</th>\n",
       "      <th>candid</th>\n",
       "      <th>fid</th>\n",
       "      <th>pid</th>\n",
       "      <th>diffmaglim</th>\n",
       "      <th>isdiffpos</th>\n",
       "      <th>nid</th>\n",
       "      <th>distnr</th>\n",
       "      <th>magpsf</th>\n",
       "      <th>magpsf_corr</th>\n",
       "      <th>...</th>\n",
       "      <th>magapbig</th>\n",
       "      <th>sigmagapbig</th>\n",
       "      <th>rfid</th>\n",
       "      <th>has_stamp</th>\n",
       "      <th>corrected</th>\n",
       "      <th>dubious</th>\n",
       "      <th>candid_alert</th>\n",
       "      <th>step_id_corr</th>\n",
       "      <th>phase</th>\n",
       "      <th>parent_candid</th>\n",
       "    </tr>\n",
       "  </thead>\n",
       "  <tbody>\n",
       "    <tr>\n",
       "      <th>0</th>\n",
       "      <td>58440.517512</td>\n",
       "      <td>686517512615015030</td>\n",
       "      <td>2</td>\n",
       "      <td>686517512615</td>\n",
       "      <td>20.629270</td>\n",
       "      <td>1</td>\n",
       "      <td>686</td>\n",
       "      <td>1.525596</td>\n",
       "      <td>19.457125</td>\n",
       "      <td>NaN</td>\n",
       "      <td>...</td>\n",
       "      <td>19.0107</td>\n",
       "      <td>0.1401</td>\n",
       "      <td>783120226</td>\n",
       "      <td>False</td>\n",
       "      <td>False</td>\n",
       "      <td>False</td>\n",
       "      <td>None</td>\n",
       "      <td>bulk_1.0.0</td>\n",
       "      <td>None</td>\n",
       "      <td>689422682615015005</td>\n",
       "    </tr>\n",
       "    <tr>\n",
       "      <th>1</th>\n",
       "      <td>58443.422685</td>\n",
       "      <td>689422682615015005</td>\n",
       "      <td>2</td>\n",
       "      <td>689422682615</td>\n",
       "      <td>20.114145</td>\n",
       "      <td>1</td>\n",
       "      <td>689</td>\n",
       "      <td>1.431517</td>\n",
       "      <td>18.422926</td>\n",
       "      <td>NaN</td>\n",
       "      <td>...</td>\n",
       "      <td>18.2876</td>\n",
       "      <td>0.1094</td>\n",
       "      <td>783120226</td>\n",
       "      <td>False</td>\n",
       "      <td>False</td>\n",
       "      <td>False</td>\n",
       "      <td>None</td>\n",
       "      <td>bulk_1.0.0</td>\n",
       "      <td>None</td>\n",
       "      <td>689528702615015010</td>\n",
       "    </tr>\n",
       "    <tr>\n",
       "      <th>2</th>\n",
       "      <td>58443.528704</td>\n",
       "      <td>689528702615015010</td>\n",
       "      <td>1</td>\n",
       "      <td>689528702615</td>\n",
       "      <td>20.806282</td>\n",
       "      <td>1</td>\n",
       "      <td>689</td>\n",
       "      <td>1.387523</td>\n",
       "      <td>18.303806</td>\n",
       "      <td>17.065723</td>\n",
       "      <td>...</td>\n",
       "      <td>18.2917</td>\n",
       "      <td>0.0566</td>\n",
       "      <td>783120126</td>\n",
       "      <td>False</td>\n",
       "      <td>True</td>\n",
       "      <td>False</td>\n",
       "      <td>None</td>\n",
       "      <td>bulk_1.0.0</td>\n",
       "      <td>None</td>\n",
       "      <td>707518782615015003</td>\n",
       "    </tr>\n",
       "    <tr>\n",
       "      <th>3</th>\n",
       "      <td>58447.415405</td>\n",
       "      <td>693415402615015002</td>\n",
       "      <td>2</td>\n",
       "      <td>693415402615</td>\n",
       "      <td>19.465282</td>\n",
       "      <td>1</td>\n",
       "      <td>693</td>\n",
       "      <td>1.451031</td>\n",
       "      <td>17.893667</td>\n",
       "      <td>NaN</td>\n",
       "      <td>...</td>\n",
       "      <td>17.7657</td>\n",
       "      <td>0.0896</td>\n",
       "      <td>783120226</td>\n",
       "      <td>False</td>\n",
       "      <td>False</td>\n",
       "      <td>False</td>\n",
       "      <td>None</td>\n",
       "      <td>bulk_1.0.0</td>\n",
       "      <td>None</td>\n",
       "      <td>720339622615015001</td>\n",
       "    </tr>\n",
       "    <tr>\n",
       "      <th>4</th>\n",
       "      <td>58447.503901</td>\n",
       "      <td>693503902615015005</td>\n",
       "      <td>2</td>\n",
       "      <td>693503902615</td>\n",
       "      <td>19.454613</td>\n",
       "      <td>1</td>\n",
       "      <td>693</td>\n",
       "      <td>1.576274</td>\n",
       "      <td>17.831804</td>\n",
       "      <td>NaN</td>\n",
       "      <td>...</td>\n",
       "      <td>18.0974</td>\n",
       "      <td>0.1201</td>\n",
       "      <td>783120226</td>\n",
       "      <td>False</td>\n",
       "      <td>False</td>\n",
       "      <td>False</td>\n",
       "      <td>None</td>\n",
       "      <td>bulk_1.0.0</td>\n",
       "      <td>None</td>\n",
       "      <td>720339622615015001</td>\n",
       "    </tr>\n",
       "  </tbody>\n",
       "</table>\n",
       "<p>5 rows × 33 columns</p>\n",
       "</div>"
      ],
      "text/plain": [
       "            mjd              candid  fid           pid  diffmaglim  isdiffpos  \\\n",
       "0  58440.517512  686517512615015030    2  686517512615   20.629270          1   \n",
       "1  58443.422685  689422682615015005    2  689422682615   20.114145          1   \n",
       "2  58443.528704  689528702615015010    1  689528702615   20.806282          1   \n",
       "3  58447.415405  693415402615015002    2  693415402615   19.465282          1   \n",
       "4  58447.503901  693503902615015005    2  693503902615   19.454613          1   \n",
       "\n",
       "   nid    distnr     magpsf  magpsf_corr  ... magapbig  sigmagapbig  \\\n",
       "0  686  1.525596  19.457125          NaN  ...  19.0107       0.1401   \n",
       "1  689  1.431517  18.422926          NaN  ...  18.2876       0.1094   \n",
       "2  689  1.387523  18.303806    17.065723  ...  18.2917       0.0566   \n",
       "3  693  1.451031  17.893667          NaN  ...  17.7657       0.0896   \n",
       "4  693  1.576274  17.831804          NaN  ...  18.0974       0.1201   \n",
       "\n",
       "        rfid  has_stamp  corrected  dubious  candid_alert step_id_corr  phase  \\\n",
       "0  783120226      False      False    False          None   bulk_1.0.0   None   \n",
       "1  783120226      False      False    False          None   bulk_1.0.0   None   \n",
       "2  783120126      False       True    False          None   bulk_1.0.0   None   \n",
       "3  783120226      False      False    False          None   bulk_1.0.0   None   \n",
       "4  783120226      False      False    False          None   bulk_1.0.0   None   \n",
       "\n",
       "        parent_candid  \n",
       "0  689422682615015005  \n",
       "1  689528702615015010  \n",
       "2  707518782615015003  \n",
       "3  720339622615015001  \n",
       "4  720339622615015001  \n",
       "\n",
       "[5 rows x 33 columns]"
      ]
     },
     "execution_count": 11,
     "metadata": {},
     "output_type": "execute_result"
    }
   ],
   "source": [
    "alerce_client.query_detections(oid, format=\"pandas\").head()"
   ]
  },
  {
   "cell_type": "markdown",
   "metadata": {
    "id": "dNph-4ebwCrN"
   },
   "source": [
    "You can see the entire light curve of the object, where every detection has a unique identifier `candid` and where time is given in Modified Julian Date `mjd`. The psf and aperture difference magnitudes (`magpsf` and `magap`), as well as their reference-corrected versions (`magpsf_corr` and `magap_corr`) are shown. The correcttion is only done when `distnr` < 1.4\". We also show the difference image limiting magnitude (`diffmaglim`), whether the difference is positive or negative (`isdiffpos`), whether the detection has an associated stamp (`has_stamp`) and if not (some detections are only reported in subsequent alerts), what was the parent alert (`parent_candid`)."
   ]
  },
  {
   "cell_type": "markdown",
   "metadata": {
    "id": "p32wXJO8xlpc"
   },
   "source": [
    "### Query non detections"
   ]
  },
  {
   "cell_type": "code",
   "execution_count": 12,
   "metadata": {
    "ExecuteTime": {
     "end_time": "2021-04-12T20:34:53.107400Z",
     "start_time": "2021-04-12T20:34:52.812773Z"
    },
    "colab": {
     "base_uri": "https://localhost:8080/",
     "height": 204
    },
    "id": "dee0SiWixoXy",
    "outputId": "9f3bd036-52c8-4e0a-d859-ddca6165f943"
   },
   "outputs": [
    {
     "data": {
      "text/html": [
       "<div>\n",
       "<style scoped>\n",
       "    .dataframe tbody tr th:only-of-type {\n",
       "        vertical-align: middle;\n",
       "    }\n",
       "\n",
       "    .dataframe tbody tr th {\n",
       "        vertical-align: top;\n",
       "    }\n",
       "\n",
       "    .dataframe thead th {\n",
       "        text-align: right;\n",
       "    }\n",
       "</style>\n",
       "<table border=\"1\" class=\"dataframe\">\n",
       "  <thead>\n",
       "    <tr style=\"text-align: right;\">\n",
       "      <th></th>\n",
       "      <th>mjd</th>\n",
       "      <th>fid</th>\n",
       "      <th>diffmaglim</th>\n",
       "    </tr>\n",
       "  </thead>\n",
       "  <tbody>\n",
       "    <tr>\n",
       "      <th>0</th>\n",
       "      <td>58428.342893</td>\n",
       "      <td>1</td>\n",
       "      <td>20.8078</td>\n",
       "    </tr>\n",
       "    <tr>\n",
       "      <th>1</th>\n",
       "      <td>58431.460880</td>\n",
       "      <td>1</td>\n",
       "      <td>20.3734</td>\n",
       "    </tr>\n",
       "    <tr>\n",
       "      <th>2</th>\n",
       "      <td>58434.422095</td>\n",
       "      <td>1</td>\n",
       "      <td>20.3354</td>\n",
       "    </tr>\n",
       "    <tr>\n",
       "      <th>3</th>\n",
       "      <td>58434.443634</td>\n",
       "      <td>2</td>\n",
       "      <td>20.0710</td>\n",
       "    </tr>\n",
       "    <tr>\n",
       "      <th>4</th>\n",
       "      <td>58437.386100</td>\n",
       "      <td>2</td>\n",
       "      <td>20.3885</td>\n",
       "    </tr>\n",
       "  </tbody>\n",
       "</table>\n",
       "</div>"
      ],
      "text/plain": [
       "            mjd  fid  diffmaglim\n",
       "0  58428.342893    1     20.8078\n",
       "1  58431.460880    1     20.3734\n",
       "2  58434.422095    1     20.3354\n",
       "3  58434.443634    2     20.0710\n",
       "4  58437.386100    2     20.3885"
      ]
     },
     "execution_count": 12,
     "metadata": {},
     "output_type": "execute_result"
    }
   ],
   "source": [
    "alerce_client.query_non_detections(oid, format=\"pandas\").head()"
   ]
  },
  {
   "cell_type": "markdown",
   "metadata": {
    "id": "HGabRsoExpv7"
   },
   "source": [
    "Here we see all the difference image limiting magnitudes reported for an object. Note that during ZTF phase I non-detections are only reported for the last 30 days before or at a given alert time. This means that if an object is reported only once, you will only see the previous non-detections. "
   ]
  },
  {
   "cell_type": "markdown",
   "metadata": {
    "id": "G9KaH9BQyBEk"
   },
   "source": [
    "### Query probabilities"
   ]
  },
  {
   "cell_type": "code",
   "execution_count": 13,
   "metadata": {
    "ExecuteTime": {
     "end_time": "2021-04-12T20:34:54.105423Z",
     "start_time": "2021-04-12T20:34:53.816490Z"
    },
    "colab": {
     "base_uri": "https://localhost:8080/",
     "height": 111
    },
    "id": "p68FIc_nyCuv",
    "outputId": "925da9a6-fdf8-4f29-b817-cfd52574ace3"
   },
   "outputs": [
    {
     "data": {
      "text/html": [
       "<div>\n",
       "<style scoped>\n",
       "    .dataframe tbody tr th:only-of-type {\n",
       "        vertical-align: middle;\n",
       "    }\n",
       "\n",
       "    .dataframe tbody tr th {\n",
       "        vertical-align: top;\n",
       "    }\n",
       "\n",
       "    .dataframe thead th {\n",
       "        text-align: right;\n",
       "    }\n",
       "</style>\n",
       "<table border=\"1\" class=\"dataframe\">\n",
       "  <thead>\n",
       "    <tr style=\"text-align: right;\">\n",
       "      <th></th>\n",
       "      <th>classifier_name</th>\n",
       "      <th>classifier_version</th>\n",
       "      <th>class_name</th>\n",
       "      <th>probability</th>\n",
       "      <th>ranking</th>\n",
       "    </tr>\n",
       "  </thead>\n",
       "  <tbody>\n",
       "    <tr>\n",
       "      <th>11</th>\n",
       "      <td>lc_classifier</td>\n",
       "      <td>hierarchical_random_forest_1.0.0</td>\n",
       "      <td>SNIa</td>\n",
       "      <td>0.425148</td>\n",
       "      <td>1</td>\n",
       "    </tr>\n",
       "    <tr>\n",
       "      <th>36</th>\n",
       "      <td>stamp_classifier</td>\n",
       "      <td>stamp_classifier_1.0.0</td>\n",
       "      <td>SN</td>\n",
       "      <td>0.724642</td>\n",
       "      <td>1</td>\n",
       "    </tr>\n",
       "  </tbody>\n",
       "</table>\n",
       "</div>"
      ],
      "text/plain": [
       "     classifier_name                classifier_version class_name  \\\n",
       "11     lc_classifier  hierarchical_random_forest_1.0.0       SNIa   \n",
       "36  stamp_classifier            stamp_classifier_1.0.0         SN   \n",
       "\n",
       "    probability  ranking  \n",
       "11     0.425148        1  \n",
       "36     0.724642        1  "
      ]
     },
     "execution_count": 13,
     "metadata": {},
     "output_type": "execute_result"
    }
   ],
   "source": [
    "df = alerce_client.query_probabilities(oid, format='pandas')\n",
    "df.loc[df.classifier_name.isin(['stamp_classifier', 'lc_classifier']) & (df.ranking==1)]"
   ]
  },
  {
   "cell_type": "markdown",
   "metadata": {
    "id": "LTIzeLeVyPbo"
   },
   "source": [
    "The `probability` table has very detailed information about the classification probabilities for a given object. It shows the classifier name, classifier version, class name, classification probability and classification ranking for **every** classified object, classifier name and version, and for all available classes for that particular classifier (the entire classification taxonomy). For simplicity, we select two particular classifiers and show only the most likely classes (`ranking=1`) for that object and classifier. In this case, the object was classified as SN by the stamp classifier and as SN Ia by the light curve classifier."
   ]
  },
  {
   "cell_type": "markdown",
   "metadata": {
    "id": "JIAlKvEKz2tr"
   },
   "source": [
    "### Plot the image stamps"
   ]
  },
  {
   "cell_type": "code",
   "execution_count": 15,
   "metadata": {
    "ExecuteTime": {
     "end_time": "2021-04-12T20:35:10.823316Z",
     "start_time": "2021-04-12T20:35:10.619640Z"
    },
    "colab": {
     "base_uri": "https://localhost:8080/",
     "height": 447
    },
    "id": "Ycw2dBUwz4i0",
    "outputId": "687ccc26-0ca8-46f6-8c84-14dbb89c3377"
   },
   "outputs": [
    {
     "data": {
      "text/html": [
       "<style>.container { height:80% !important; }</style>"
      ],
      "text/plain": [
       "<IPython.core.display.HTML object>"
      ]
     },
     "metadata": {},
     "output_type": "display_data"
    },
    {
     "data": {
      "text/html": [
       "\n",
       "        <div>ZTF oid: ZTF18acpfwmm, candid: 739277962615015011</div>\n",
       "        <div>&emsp;&emsp;&emsp;&emsp;&emsp;\n",
       "        Science\n",
       "        &emsp;&emsp;&emsp;&emsp;&emsp;&emsp;&emsp;&emsp;&emsp;&emsp;&emsp;&emsp;\n",
       "        Template\n",
       "        &emsp;&emsp;&emsp;&emsp;&emsp;&emsp;&emsp;&emsp;&emsp;&emsp;&emsp;&emsp;\n",
       "        Difference\n",
       "        <div class=\"container\">\n",
       "        <div style=\"float:left;width:20%\"><img src=\"https://avro.alerce.online/get_stamp?oid=ZTF18acpfwmm&candid=739277962615015011&type=science&format=png\"></div>\n",
       "        <div style=\"float:left;width:20%\"><img src=\"https://avro.alerce.online/get_stamp?oid=ZTF18acpfwmm&candid=739277962615015011&type=template&format=png\"></div>\n",
       "        <div style=\"float:left;width:20%\"><img src=\"https://avro.alerce.online/get_stamp?oid=ZTF18acpfwmm&candid=739277962615015011&type=difference&format=png\"></div>\n",
       "        </div>\n",
       "        "
      ],
      "text/plain": [
       "<IPython.core.display.HTML object>"
      ]
     },
     "metadata": {},
     "output_type": "display_data"
    }
   ],
   "source": [
    "display(HTML(\"<style>.container { width:150% !important; }</style>\"))\n",
    "alerce_client.plot_stamps(oid)"
   ]
  },
  {
   "cell_type": "markdown",
   "metadata": {
    "id": "RGQ-dNoGz8HF"
   },
   "source": [
    "We plotted the first image stamps associated to the given object. The convolutional neural network behind the stamp classifier was able to detect an extended source in the science and reference images and used this information to determine that this was most likely a SN object (an extragalactic transient)."
   ]
  },
  {
   "cell_type": "markdown",
   "metadata": {
    "id": "KQsORdfV0Qgd"
   },
   "source": [
    "### Plot the light curve"
   ]
  },
  {
   "cell_type": "markdown",
   "metadata": {
    "id": "_1ycCBu-0TED"
   },
   "source": [
    "We will create two functions:\n",
    "* `getSNdata`: get the light curve and additional data used to correct it such as the Milky Way attenuation and the redshift.\n",
    "* `plotLC`: plot the light curve using all the information gathered by getSNdata.\n",
    "\n",
    "Note that plotLC plots the difference magnitude light curve, as well as the non-detection diffmaglims (limiting magnitudes in the difference images). The difference magnitudes are obtained from \"magpsf\" and their errors from \"sigmapsf\". If you need to plot the apparent (or corrected) magnitude light curve, replace these variables by \"magpsf_corr\" and \"sigmapsf_corr_ext\", respectively. "
   ]
  },
  {
   "cell_type": "code",
   "execution_count": 15,
   "metadata": {
    "ExecuteTime": {
     "end_time": "2020-08-11T21:13:19.364642Z",
     "start_time": "2020-08-11T21:13:19.292807Z"
    },
    "id": "_GY9MmuQT540"
   },
   "outputs": [],
   "source": [
    "def plotLC(oid, SN_det, SN_nondet, A=None, redshift=None):\n",
    "    \n",
    "    fig, ax = plt.subplots(figsize = (14, 7))\n",
    "    labels = {1: 'g', 2: 'r'}\n",
    "    markers = {1: 'o', 2: 's'}\n",
    "    sizes = {1: 30, 2: 60}\n",
    "    \n",
    "    # distmod: distance modulus, reftime: reference time\n",
    "    if redshift is not None:\n",
    "        distmod = float(Distance(z=redshift, cosmology=WMAP7).distmod / u.mag)\n",
    "        reftime = SN_det.mjd.loc[SN_det.magpsf.argmin()]\n",
    "    else:\n",
    "        distmod = 0\n",
    "        reftime = 0\n",
    "        redshift = 0\n",
    "        \n",
    "    # loop the passbands\n",
    "    for fid in [1, 2]:\n",
    "        \n",
    "        # galactic extinction in the given band\n",
    "        if A is not None:\n",
    "            A_fid = A[labels[fid]]\n",
    "        else:\n",
    "            A_fid = 0\n",
    "\n",
    "        # plot detections if available\n",
    "        mask = SN_det.fid == fid\n",
    "        if np.sum(mask) > 0:\n",
    "            \n",
    "            # change time to restframe days if redshift is not zero\n",
    "            times = (SN_det[mask].mjd - reftime) / (1. + redshift)\n",
    "            \n",
    "            # note that the detections index is candid and that we are plotting the psf corrected magnitudes\n",
    "            if A_fid != 0:\n",
    "                # plot attenuated light curve with small alpha\n",
    "                ax.errorbar(times, SN_det[mask].magpsf - distmod, \n",
    "                    yerr=SN_det[mask].sigmapsf, c=colors[fid], marker=markers[fid], label=labels[fid], alpha=0.1)\n",
    "                # show dust and distance attenuation corrected light curve\n",
    "                ax.errorbar(times, SN_det[mask].magpsf - A_fid - distmod, \n",
    "                    yerr=SN_det[mask].sigmapsf, c=colors[fid], marker=markers[fid], label=\"%s (ext. corr.)\" % labels[fid])\n",
    "            else:\n",
    "                # correct only for redshift\n",
    "                ax.errorbar(times, SN_det[mask].magpsf - distmod, \n",
    "                    yerr=SN_det[mask].sigmapsf, c=colors[fid], marker=markers[fid], label=labels[fid])\n",
    "        \n",
    "        # plot non detections if available (and correct for dust and distance attenuation)\n",
    "        mask = (SN_nondet.fid == fid) & (SN_nondet.diffmaglim > -900)\n",
    "        if np.sum(mask) > 0:     \n",
    "            times = (SN_nondet[mask].mjd - reftime) / (1. + redshift)\n",
    "            # non detections index is mjd\n",
    "            ax.scatter(times, SN_nondet[mask].diffmaglim - A_fid - distmod, c = colors[fid], alpha = 0.5,\n",
    "                marker='v', label=\"lim.mag. %s\" % labels[fid], s=sizes[fid])\n",
    "            \n",
    "    # labels\n",
    "    if A is not None and redshift != 0:\n",
    "        ax.set_title(\"%s ($A_g=%.3f, A_r=%.3f$, z=%.4f)\" % (oid, A[\"g\"], A[\"r\"], redshift))\n",
    "    elif redshift != 0:\n",
    "        ax.set_title(\"%s (z=%.4f)\" % (oid, redshift))\n",
    "    elif A is not None:\n",
    "        ax.set_title(\"%s ($A_g=%.3f, A_r=%.3f$)\" % (oid, A[\"g\"], A[\"r\"]))\n",
    "    else:\n",
    "        ax.set_title(oid)\n",
    "        \n",
    "    if redshift == 0:\n",
    "        ax.set_xlabel(\"MJD\")\n",
    "        ax.set_ylabel(\"Apparent magnitude\")\n",
    "    else:\n",
    "        ax.set_xlabel(\"Restframe time [days]\")\n",
    "        ax.set_ylabel(\"Absolute magnitude (no K-corr.)\")\n",
    "    ax.legend()\n",
    "    ax.set_ylim(ax.get_ylim()[::-1])"
   ]
  },
  {
   "cell_type": "code",
   "execution_count": 16,
   "metadata": {
    "id": "BH0dn18t1Rfd"
   },
   "outputs": [],
   "source": [
    "def getSNdata(oid, doLC=False, doext=False, dostamp=False, doNED=False, doredshift=False):\n",
    "\n",
    "    results = {\"oid\": oid}\n",
    "    \n",
    "    # query basic stats\n",
    "    SN_stats = alerce_client.query_object(oid, format='pandas')\n",
    "    results[\"stats\"] = SN_stats\n",
    "    \n",
    "    # query detections\n",
    "    SN_det = alerce_client.query_detections(oid, format='pandas')\n",
    "    SN_det = SN_det.sort_values(\"mjd\")\n",
    "    results[\"lc_det\"] = SN_det\n",
    "        \n",
    "    # query non detections\n",
    "    SN_nondet = alerce_client.query_non_detections(oid, format='pandas')\n",
    "    SN_nondet = SN_nondet.sort_values(\"mjd\")\n",
    "    results[\"lc_nondet\"] = SN_nondet\n",
    "    \n",
    "    # object coordinates\n",
    "    co = coordinates.SkyCoord(ra=float(SN_stats.meanra), dec=float(SN_stats.meandec), unit=(u.deg, u.deg), frame='icrs')\n",
    "    \n",
    "    # get galactic extinction\n",
    "    if doext:\n",
    "        # Galactic extinction (use SFD = D.J. Schlegel, D.P. Finkbeiner, & M. Davis (1998, ApJ, 500, 525))\n",
    "        table = IrsaDust.get_extinction_table(co)\n",
    "        A = {\"g\": float(table[table[\"Filter_name\"] == \"SDSS g\"][\"A_SFD\"]), \"r\": float(table[table[\"Filter_name\"] == \"SDSS r\"][\"A_SFD\"])}\n",
    "        results[\"attenuation\"] = A\n",
    "    else:\n",
    "        A = {\"g\": 0, \"r\": 0}\n",
    "\n",
    "    # plot the LC\n",
    "    if doLC:\n",
    "        if doext:\n",
    "            plotLC(oid, SN_det, SN_nondet, A)\n",
    "        else:\n",
    "            plotLC(oid, SN_det, SN_nondet)\n",
    "            \n",
    "    # find NED galaxies\n",
    "    if doNED:\n",
    "        Ned_table = Ned.query_region(co, radius=0.01 * u.deg, equinox='J2000.0')\n",
    "        display(Ned_table)\n",
    "        results[\"ned_table\"] = Ned_table\n",
    "        \n",
    "        # save closest redshift if any\n",
    "        df_ned = Ned_table.to_pandas()\n",
    "        mask=df_ned.Redshift.notna()\n",
    "        if mask.sum() > 0:\n",
    "            results[\"redshift\"] = df_ned.loc[df_ned.loc[mask].Separation.idxmin()].Redshift\n",
    "            print(\"Redshift found: %s\" % results[\"redshift\"])\n",
    "            \n",
    "    # plot absolute magnitudes (without K-corrections)\n",
    "    if doredshift:\n",
    "        if type(doredshift) == float and doredshift > 0:\n",
    "            results[\"redshift\"] = doredshift\n",
    "        if \"redshift\" in results.keys():\n",
    "            if doext:\n",
    "                plotLC(oid, SN_det, SN_nondet, A, results[\"redshift\"])\n",
    "            else:\n",
    "                plotLC(oid, SN_det, SN_nondet, results[\"redshift\"])            \n",
    "    \n",
    "    \n",
    "    # show link\n",
    "    display(HTML(\"<a href='http://alerce.online/object/%s' target=\\\"_blank\\\"> %s <a>\" % (oid, oid)))\n",
    "\n",
    "    # return data\n",
    "    return results"
   ]
  },
  {
   "cell_type": "code",
   "execution_count": 17,
   "metadata": {
    "colab": {
     "base_uri": "https://localhost:8080/",
     "height": 1000
    },
    "id": "ixvh-AsP10Hk",
    "outputId": "4c8d8227-b435-45f7-a0ea-6935d303dd6d"
   },
   "outputs": [
    {
     "data": {
      "text/html": [
       "<i>Table length=7</i>\n",
       "<table id=\"table140353751632976\" class=\"table-striped table-bordered table-condensed\">\n",
       "<thead><tr><th>No.</th><th>Object Name</th><th>RA</th><th>DEC</th><th>Type</th><th>Velocity</th><th>Redshift</th><th>Redshift Flag</th><th>Magnitude and Filter</th><th>Separation</th><th>References</th><th>Notes</th><th>Photometry Points</th><th>Positions</th><th>Redshift Points</th><th>Diameter Points</th><th>Associations</th></tr></thead>\n",
       "<thead><tr><th></th><th></th><th>degrees</th><th>degrees</th><th></th><th>km / s</th><th></th><th></th><th></th><th>arcmin</th><th></th><th></th><th></th><th></th><th></th><th></th><th></th></tr></thead>\n",
       "<thead><tr><th>int32</th><th>str30</th><th>float64</th><th>float64</th><th>object</th><th>float64</th><th>float64</th><th>object</th><th>object</th><th>float64</th><th>int32</th><th>int32</th><th>int32</th><th>int32</th><th>int32</th><th>int32</th><th>int32</th></tr></thead>\n",
       "<tr><td>1</td><td>WISEA J073109.69+534143.6</td><td>112.79039</td><td>53.69547</td><td>IrS</td><td>--</td><td>--</td><td></td><td></td><td>0.455</td><td>0</td><td>0</td><td>12</td><td>1</td><td>0</td><td>0</td><td>0</td></tr>\n",
       "<tr><td>2</td><td>WISEA J073112.05+534203.2</td><td>112.79992</td><td>53.70097</td><td>G</td><td>--</td><td>--</td><td></td><td></td><td>0.185</td><td>0</td><td>0</td><td>27</td><td>3</td><td>0</td><td>2</td><td>0</td></tr>\n",
       "<tr><td>3</td><td>WISEA J073112.21+534221.9</td><td>112.80091</td><td>53.70609</td><td>IrS</td><td>--</td><td>--</td><td></td><td></td><td>0.474</td><td>0</td><td>0</td><td>12</td><td>1</td><td>0</td><td>0</td><td>0</td></tr>\n",
       "<tr><td>4</td><td>SN 2018iui</td><td>112.80233</td><td>53.69821</td><td>SN</td><td>--</td><td>--</td><td></td><td></td><td>0.001</td><td>1</td><td>0</td><td>0</td><td>1</td><td>0</td><td>0</td><td>0</td></tr>\n",
       "<tr><td>5</td><td>WISEA J073112.64+534152.3</td><td>112.80271</td><td>53.69786</td><td>G</td><td>14781.0</td><td>0.049304</td><td></td><td></td><td>0.026</td><td>1</td><td>0</td><td>27</td><td>4</td><td>2</td><td>2</td><td>0</td></tr>\n",
       "<tr><td>6</td><td>WISEA J073113.74+534201.8</td><td>112.80727</td><td>53.70051</td><td>IrS</td><td>--</td><td>--</td><td></td><td></td><td>0.223</td><td>0</td><td>0</td><td>12</td><td>1</td><td>0</td><td>0</td><td>0</td></tr>\n",
       "<tr><td>7</td><td>WISEA J073115.75+534132.2</td><td>112.81565</td><td>53.69228</td><td>IrS</td><td>--</td><td>--</td><td></td><td></td><td>0.593</td><td>0</td><td>0</td><td>12</td><td>1</td><td>0</td><td>0</td><td>0</td></tr>\n",
       "</table>"
      ],
      "text/plain": [
       "<Table length=7>\n",
       " No.         Object Name            RA     ... Diameter Points Associations\n",
       "                                 degrees   ...                             \n",
       "int32           str30            float64   ...      int32         int32    \n",
       "----- ------------------------- ---------- ... --------------- ------------\n",
       "    1 WISEA J073109.69+534143.6  112.79039 ...               0            0\n",
       "    2 WISEA J073112.05+534203.2  112.79992 ...               2            0\n",
       "    3 WISEA J073112.21+534221.9  112.80091 ...               0            0\n",
       "    4                SN 2018iui  112.80233 ...               0            0\n",
       "    5 WISEA J073112.64+534152.3  112.80271 ...               2            0\n",
       "    6 WISEA J073113.74+534201.8  112.80727 ...               0            0\n",
       "    7 WISEA J073115.75+534132.2  112.81565 ...               0            0"
      ]
     },
     "metadata": {
      "tags": []
     },
     "output_type": "display_data"
    },
    {
     "name": "stdout",
     "output_type": "stream",
     "text": [
      "Redshift found: 0.049304\n"
     ]
    },
    {
     "data": {
      "text/html": [
       "<a href='http://alerce.online/object/ZTF18acpfwmm' target=\"_blank\"> ZTF18acpfwmm <a>"
      ],
      "text/plain": [
       "<IPython.core.display.HTML object>"
      ]
     },
     "metadata": {
      "tags": []
     },
     "output_type": "display_data"
    },
    {
     "data": {
      "image/png": "[encoded data removed]",
      "text/plain": [
       "<Figure size 1008x504 with 1 Axes>"
      ]
     },
     "metadata": {
      "needs_background": "light",
      "tags": []
     },
     "output_type": "display_data"
    },
    {
     "data": {
      "image/png": "[encoded data removed]",
      "text/plain": [
       "<Figure size 1008x504 with 1 Axes>"
      ]
     },
     "metadata": {
      "needs_background": "light",
      "tags": []
     },
     "output_type": "display_data"
    }
   ],
   "source": [
    "results = getSNdata(oid, doLC=True, doext=True, dostamp=True, doNED=True, doredshift=True);"
   ]
  },
  {
   "cell_type": "markdown",
   "metadata": {
    "id": "duUgSZdT2oKE"
   },
   "source": [
    "We show three things: a table with NED crossmatches, from where we extract a redshift automatically; the apparent magnitude corrected and uncorrected by Milkly Way dust; and the absolute magnitude, assuming no K-corrections, against the restframe time from maximum. The peak magnitude is right where we expect it for a Type Ia Supernova."
   ]
  },
  {
   "cell_type": "markdown",
   "metadata": {
    "id": "aYV3xZlv3cUN"
   },
   "source": [
    "### Querying features"
   ]
  },
  {
   "cell_type": "markdown",
   "metadata": {
    "id": "9Z4gL6gg3eeo"
   },
   "source": [
    "The light curve classifier uses manually defined features to classify objects. The most important features for SN light curves are the parameters of a modified version of the Villar et al. 2019 SN parametric model. We use the following modification:\n",
    "\n",
    "$$\n",
    "\\Large\n",
    "F = \\begin{cases}\n",
    "        \\cfrac{A \\left(1 - \\beta' \\frac{t - t_0}{t_1 - t_0}\\right)}{1 + \\exp{\\left(-\\frac{t - t_0}{\\tau_{\\rm rise}}\\right)}} & \\mbox{if} \\; t < t_1  \\\\ \n",
    "        \\\\\n",
    "        \\cfrac{A (1 - \\beta') \\exp{\\left(-\\frac{t - t_1}{\\tau_{\\rm fall}}\\right)}}{1 + \\exp{\\left(-\\frac{t - t_0}{\\tau_{\\rm rise}}\\right)}} & \\mbox{if} \\; t \\ge t_1,\n",
    "  \\end{cases}\n",
    "$$\n",
    "\n",
    "These parameters are stored as features with the SPM (Supernova Parametric Model) prefix. Let's get them for this SN:"
   ]
  },
  {
   "cell_type": "code",
   "execution_count": 18,
   "metadata": {
    "colab": {
     "base_uri": "https://localhost:8080/",
     "height": 204
    },
    "id": "mo_AJs3m4LYD",
    "outputId": "e1e53d6f-db4e-476b-8860-528956fdff92"
   },
   "outputs": [
    {
     "data": {
      "text/html": [
       "<div>\n",
       "<style scoped>\n",
       "    .dataframe tbody tr th:only-of-type {\n",
       "        vertical-align: middle;\n",
       "    }\n",
       "\n",
       "    .dataframe tbody tr th {\n",
       "        vertical-align: top;\n",
       "    }\n",
       "\n",
       "    .dataframe thead th {\n",
       "        text-align: right;\n",
       "    }\n",
       "</style>\n",
       "<table border=\"1\" class=\"dataframe\">\n",
       "  <thead>\n",
       "    <tr style=\"text-align: right;\">\n",
       "      <th></th>\n",
       "      <th>name</th>\n",
       "      <th>value</th>\n",
       "      <th>fid</th>\n",
       "      <th>version</th>\n",
       "    </tr>\n",
       "  </thead>\n",
       "  <tbody>\n",
       "    <tr>\n",
       "      <th>0</th>\n",
       "      <td>Amplitude</td>\n",
       "      <td>NaN</td>\n",
       "      <td>1</td>\n",
       "      <td>feature_0.0.1</td>\n",
       "    </tr>\n",
       "    <tr>\n",
       "      <th>1</th>\n",
       "      <td>Amplitude</td>\n",
       "      <td>0.879634</td>\n",
       "      <td>2</td>\n",
       "      <td>feature_0.0.1</td>\n",
       "    </tr>\n",
       "    <tr>\n",
       "      <th>2</th>\n",
       "      <td>AndersonDarling</td>\n",
       "      <td>NaN</td>\n",
       "      <td>1</td>\n",
       "      <td>feature_0.0.1</td>\n",
       "    </tr>\n",
       "    <tr>\n",
       "      <th>3</th>\n",
       "      <td>AndersonDarling</td>\n",
       "      <td>0.335959</td>\n",
       "      <td>2</td>\n",
       "      <td>feature_0.0.1</td>\n",
       "    </tr>\n",
       "    <tr>\n",
       "      <th>4</th>\n",
       "      <td>Autocor_length</td>\n",
       "      <td>NaN</td>\n",
       "      <td>1</td>\n",
       "      <td>feature_0.0.1</td>\n",
       "    </tr>\n",
       "  </tbody>\n",
       "</table>\n",
       "</div>"
      ],
      "text/plain": [
       "              name     value  fid        version\n",
       "0        Amplitude       NaN    1  feature_0.0.1\n",
       "1        Amplitude  0.879634    2  feature_0.0.1\n",
       "2  AndersonDarling       NaN    1  feature_0.0.1\n",
       "3  AndersonDarling  0.335959    2  feature_0.0.1\n",
       "4   Autocor_length       NaN    1  feature_0.0.1"
      ]
     },
     "execution_count": 18,
     "metadata": {
      "tags": []
     },
     "output_type": "execute_result"
    }
   ],
   "source": [
    "features = alerce_client.query_features(oid, format='pandas')\n",
    "features.head()"
   ]
  },
  {
   "cell_type": "markdown",
   "metadata": {
    "id": "eHqNpYkO5N6j"
   },
   "source": [
    "Let's look at the features starting with SPM"
   ]
  },
  {
   "cell_type": "code",
   "execution_count": 19,
   "metadata": {
    "colab": {
     "base_uri": "https://localhost:8080/",
     "height": 483
    },
    "id": "WXsvcyLe42Y_",
    "outputId": "cff9a070-a7dd-4886-b2c3-2cde9b550d30"
   },
   "outputs": [
    {
     "data": {
      "text/html": [
       "<div>\n",
       "<style scoped>\n",
       "    .dataframe tbody tr th:only-of-type {\n",
       "        vertical-align: middle;\n",
       "    }\n",
       "\n",
       "    .dataframe tbody tr th {\n",
       "        vertical-align: top;\n",
       "    }\n",
       "\n",
       "    .dataframe thead th {\n",
       "        text-align: right;\n",
       "    }\n",
       "</style>\n",
       "<table border=\"1\" class=\"dataframe\">\n",
       "  <thead>\n",
       "    <tr style=\"text-align: right;\">\n",
       "      <th></th>\n",
       "      <th>name</th>\n",
       "      <th>value</th>\n",
       "      <th>fid</th>\n",
       "      <th>version</th>\n",
       "    </tr>\n",
       "  </thead>\n",
       "  <tbody>\n",
       "    <tr>\n",
       "      <th>100</th>\n",
       "      <td>SPM_A</td>\n",
       "      <td>0.747551</td>\n",
       "      <td>1</td>\n",
       "      <td>feature_0.0.1</td>\n",
       "    </tr>\n",
       "    <tr>\n",
       "      <th>101</th>\n",
       "      <td>SPM_A</td>\n",
       "      <td>0.463471</td>\n",
       "      <td>2</td>\n",
       "      <td>feature_0.0.1</td>\n",
       "    </tr>\n",
       "    <tr>\n",
       "      <th>102</th>\n",
       "      <td>SPM_beta</td>\n",
       "      <td>0.892598</td>\n",
       "      <td>1</td>\n",
       "      <td>feature_0.0.1</td>\n",
       "    </tr>\n",
       "    <tr>\n",
       "      <th>103</th>\n",
       "      <td>SPM_beta</td>\n",
       "      <td>0.535324</td>\n",
       "      <td>2</td>\n",
       "      <td>feature_0.0.1</td>\n",
       "    </tr>\n",
       "    <tr>\n",
       "      <th>104</th>\n",
       "      <td>SPM_chi</td>\n",
       "      <td>NaN</td>\n",
       "      <td>1</td>\n",
       "      <td>feature_0.0.1</td>\n",
       "    </tr>\n",
       "    <tr>\n",
       "      <th>105</th>\n",
       "      <td>SPM_chi</td>\n",
       "      <td>0.308865</td>\n",
       "      <td>2</td>\n",
       "      <td>feature_0.0.1</td>\n",
       "    </tr>\n",
       "    <tr>\n",
       "      <th>106</th>\n",
       "      <td>SPM_gamma</td>\n",
       "      <td>15.407110</td>\n",
       "      <td>1</td>\n",
       "      <td>feature_0.0.1</td>\n",
       "    </tr>\n",
       "    <tr>\n",
       "      <th>107</th>\n",
       "      <td>SPM_gamma</td>\n",
       "      <td>15.274305</td>\n",
       "      <td>2</td>\n",
       "      <td>feature_0.0.1</td>\n",
       "    </tr>\n",
       "    <tr>\n",
       "      <th>108</th>\n",
       "      <td>SPM_t0</td>\n",
       "      <td>9.116030</td>\n",
       "      <td>1</td>\n",
       "      <td>feature_0.0.1</td>\n",
       "    </tr>\n",
       "    <tr>\n",
       "      <th>109</th>\n",
       "      <td>SPM_t0</td>\n",
       "      <td>2.864484</td>\n",
       "      <td>2</td>\n",
       "      <td>feature_0.0.1</td>\n",
       "    </tr>\n",
       "    <tr>\n",
       "      <th>110</th>\n",
       "      <td>SPM_tau_fall</td>\n",
       "      <td>44.838554</td>\n",
       "      <td>1</td>\n",
       "      <td>feature_0.0.1</td>\n",
       "    </tr>\n",
       "    <tr>\n",
       "      <th>111</th>\n",
       "      <td>SPM_tau_fall</td>\n",
       "      <td>25.664795</td>\n",
       "      <td>2</td>\n",
       "      <td>feature_0.0.1</td>\n",
       "    </tr>\n",
       "    <tr>\n",
       "      <th>112</th>\n",
       "      <td>SPM_tau_rise</td>\n",
       "      <td>5.294229</td>\n",
       "      <td>1</td>\n",
       "      <td>feature_0.0.1</td>\n",
       "    </tr>\n",
       "    <tr>\n",
       "      <th>113</th>\n",
       "      <td>SPM_tau_rise</td>\n",
       "      <td>3.530202</td>\n",
       "      <td>2</td>\n",
       "      <td>feature_0.0.1</td>\n",
       "    </tr>\n",
       "  </tbody>\n",
       "</table>\n",
       "</div>"
      ],
      "text/plain": [
       "             name      value  fid        version\n",
       "100         SPM_A   0.747551    1  feature_0.0.1\n",
       "101         SPM_A   0.463471    2  feature_0.0.1\n",
       "102      SPM_beta   0.892598    1  feature_0.0.1\n",
       "103      SPM_beta   0.535324    2  feature_0.0.1\n",
       "104       SPM_chi        NaN    1  feature_0.0.1\n",
       "105       SPM_chi   0.308865    2  feature_0.0.1\n",
       "106     SPM_gamma  15.407110    1  feature_0.0.1\n",
       "107     SPM_gamma  15.274305    2  feature_0.0.1\n",
       "108        SPM_t0   9.116030    1  feature_0.0.1\n",
       "109        SPM_t0   2.864484    2  feature_0.0.1\n",
       "110  SPM_tau_fall  44.838554    1  feature_0.0.1\n",
       "111  SPM_tau_fall  25.664795    2  feature_0.0.1\n",
       "112  SPM_tau_rise   5.294229    1  feature_0.0.1\n",
       "113  SPM_tau_rise   3.530202    2  feature_0.0.1"
      ]
     },
     "execution_count": 19,
     "metadata": {
      "tags": []
     },
     "output_type": "execute_result"
    }
   ],
   "source": [
    "features.loc[features.name.apply(lambda row: row.startswith(\"SPM\"))]"
   ]
  },
  {
   "cell_type": "markdown",
   "metadata": {
    "id": "YmyvgqZ35UxZ"
   },
   "source": [
    "Note that these features are organized per band, i.e. an independent fit is performed per band. Also note that if there are very few detections per band some of the fields may be NaN."
   ]
  },
  {
   "cell_type": "markdown",
   "metadata": {
    "id": "lQ3wxBL-5klw"
   },
   "source": [
    "If you want to learn more about extragalactic transients with ALeRCE, please visit the following notebooks:\n",
    "* https://github.com/alercebroker/usecases/blob/master/notebooks/ALeRCE_ZTF_Supernova.ipynb: detailed SN notebook, including complex queries to the database.\n",
    "* https://github.com/alercebroker/usecases/blob/master/notebooks/ALeRCE_ZTF_forecasting_SNe.ipynb: forecasting API, which uses the SN parametric model to predict the magnitudes of SN light curves.\n",
    "* https://github.com/alercebroker/usecases/blob/master/notebooks/ALeRCE_ZTF_watchlist.ipynb: watchlist for finding young SN around given locations in the sky.\n",
    "\n",
    "\n",
    "You can install the following [Chrome extension](https://chrome.google.com/webstore/detail/open-in-colab/iogfkhleblhcpcekbiedikdehleodpjo?hl=en) or [Firefox extension](https://addons.mozilla.org/en-US/firefox/addon/open-in-colab/) to directly open them in Colab. "
   ]
  },
  {
   "cell_type": "markdown",
   "metadata": {
    "id": "kzrvB_hJrEQY"
   },
   "source": [
    "# Query many AGN, QSO, and Blazar candidates using a direct DB connection <a class=\"anchor\" id=\"agndb\"></a>"
   ]
  },
  {
   "cell_type": "markdown",
   "metadata": {
    "id": "g18Ic-FPrKwE"
   },
   "source": [
    "We can query candidates using the ALeRCE client, which is good for relatively simple queries. However, if we want to do more complex queries the best solution may be to connect directly to the DB. We show how to do this here.\n",
    "\n",
    "First you need to use the read only ALeRCE credentials available in the ALeRCE usecases github repository (https://github.com/alercebroker/usecases)."
   ]
  },
  {
   "cell_type": "code",
   "execution_count": 20,
   "metadata": {
    "id": "4g2F07Ulqs9W"
   },
   "outputs": [],
   "source": [
    "url = \"https://raw.githubusercontent.com/alercebroker/usecases/master/alercereaduser_v4.json\"\n",
    "params = requests.get(url).json()['params']"
   ]
  },
  {
   "cell_type": "code",
   "execution_count": 21,
   "metadata": {
    "id": "g4ben2Dsqmtn"
   },
   "outputs": [],
   "source": [
    "conn = psycopg2.connect(dbname=params['dbname'], user=params['user'], host=params['host'], password=params['password'])"
   ]
  },
  {
   "cell_type": "markdown",
   "metadata": {
    "id": "4FBzpq4Zr-cu"
   },
   "source": [
    "The most relevant tables are, moving from less to more aggregation:\n",
    "\n",
    "* `non_detection`: one row per non-detection per object, the limiting magnitudes\n",
    "* `detection`: one row per detection, light curves and other relevant time dependent information\n",
    "* `data_quality`: one row per detection, data quality related time dependent information\n",
    "* `magstat`: one row per object per filter, statistics per bandpass per object\n",
    "* `object`: one row per object, basic object statistics\n",
    "* `probability`: one row per object per classifier and class, the probabilities of every object\n",
    "* `reference`: one row per object per reference image, object statistics for every reference image used\n",
    "* `feature`: one row per object per feature, object computed features\n",
    "* `xmatch`: one row per object per external catalog, the table that points to the detailed xmatch tables\n",
    "* `allwise, ps1_ztf, gaia_ztf, ss_stf`: one row per object, xmatch tables"
   ]
  },
  {
   "cell_type": "markdown",
   "metadata": {
    "id": "OABi5iiVmJ_j"
   },
   "source": [
    "The ALeRCE light curve classifier (Sánchez-Sáez et al. 2021) considers the following classes of active galaxies: \n",
    "\n",
    "* AGN: type 1 Seyfert galaxies (i.e., galaxies whose emission is dominated by the host galaxy), selected from MILLIQUAS (broad type \"A\"), and from Oh et al. 2015. \n",
    "\n",
    "* QSO: type 1 nucleus-dominated active galaxies (i.e., galaxies whose emission is dominated by their active nuclei), selected from MILLIQUAS (broad type \"Q\").\n",
    "\n",
    "* Blazar: BL Lac objects and Flat Spectrum Radio Quasars (FSRQ), selected from ROMABZCAT and MILLIQUAS."
   ]
  },
  {
   "cell_type": "markdown",
   "metadata": {
    "id": "5UAkR-xrsF_0"
   },
   "source": [
    "We can do a query asking for sources classfied as AGN, QSO or Blazar by the ALeRCE light curve classifier. We define a minimum number of detections (ndet), and a minimum time span between the first and the last detection (deltajd), in order to ensure the detection of a variable signal from the light curves.  We also filter out sources by their predicted class probability. WARNING: this might take some time to run...\n"
   ]
  },
  {
   "cell_type": "code",
   "execution_count": 22,
   "metadata": {
    "colab": {
     "base_uri": "https://localhost:8080/",
     "height": 252
    },
    "id": "ZAzN_OfMsQK5",
    "outputId": "41c06c60-d3fe-40ea-f47b-5b42da607aa1"
   },
   "outputs": [
    {
     "name": "stdout",
     "output_type": "stream",
     "text": [
      "(25220, 11)\n"
     ]
    },
    {
     "data": {
      "text/html": [
       "<div>\n",
       "<style scoped>\n",
       "    .dataframe tbody tr th:only-of-type {\n",
       "        vertical-align: middle;\n",
       "    }\n",
       "\n",
       "    .dataframe tbody tr th {\n",
       "        vertical-align: top;\n",
       "    }\n",
       "\n",
       "    .dataframe thead th {\n",
       "        text-align: right;\n",
       "    }\n",
       "</style>\n",
       "<table border=\"1\" class=\"dataframe\">\n",
       "  <thead>\n",
       "    <tr style=\"text-align: right;\">\n",
       "      <th></th>\n",
       "      <th>meanra</th>\n",
       "      <th>meandec</th>\n",
       "      <th>ndet</th>\n",
       "      <th>firstmjd</th>\n",
       "      <th>deltajd</th>\n",
       "      <th>g_r_mean_corr</th>\n",
       "      <th>classifier_name</th>\n",
       "      <th>class_name</th>\n",
       "      <th>ranking</th>\n",
       "      <th>probability</th>\n",
       "    </tr>\n",
       "    <tr>\n",
       "      <th>oid</th>\n",
       "      <th></th>\n",
       "      <th></th>\n",
       "      <th></th>\n",
       "      <th></th>\n",
       "      <th></th>\n",
       "      <th></th>\n",
       "      <th></th>\n",
       "      <th></th>\n",
       "      <th></th>\n",
       "      <th></th>\n",
       "    </tr>\n",
       "  </thead>\n",
       "  <tbody>\n",
       "    <tr>\n",
       "      <th>ZTF18acvtjlu</th>\n",
       "      <td>106.000655</td>\n",
       "      <td>34.140721</td>\n",
       "      <td>108</td>\n",
       "      <td>58895.158009</td>\n",
       "      <td>411.000440</td>\n",
       "      <td>0.100317</td>\n",
       "      <td>lc_classifier</td>\n",
       "      <td>QSO</td>\n",
       "      <td>1</td>\n",
       "      <td>0.569088</td>\n",
       "    </tr>\n",
       "    <tr>\n",
       "      <th>ZTF19abypwkv</th>\n",
       "      <td>52.879835</td>\n",
       "      <td>-0.951153</td>\n",
       "      <td>34</td>\n",
       "      <td>58722.460498</td>\n",
       "      <td>534.669132</td>\n",
       "      <td>0.245700</td>\n",
       "      <td>lc_classifier</td>\n",
       "      <td>QSO</td>\n",
       "      <td>1</td>\n",
       "      <td>0.636956</td>\n",
       "    </tr>\n",
       "    <tr>\n",
       "      <th>ZTF19abeyxmu</th>\n",
       "      <td>357.580628</td>\n",
       "      <td>35.875529</td>\n",
       "      <td>77</td>\n",
       "      <td>58663.461829</td>\n",
       "      <td>566.697188</td>\n",
       "      <td>0.391540</td>\n",
       "      <td>lc_classifier</td>\n",
       "      <td>QSO</td>\n",
       "      <td>1</td>\n",
       "      <td>0.706624</td>\n",
       "    </tr>\n",
       "    <tr>\n",
       "      <th>ZTF20aaxcwje</th>\n",
       "      <td>256.209850</td>\n",
       "      <td>48.376110</td>\n",
       "      <td>35</td>\n",
       "      <td>58941.493657</td>\n",
       "      <td>369.953507</td>\n",
       "      <td>NaN</td>\n",
       "      <td>lc_classifier</td>\n",
       "      <td>QSO</td>\n",
       "      <td>1</td>\n",
       "      <td>0.735456</td>\n",
       "    </tr>\n",
       "    <tr>\n",
       "      <th>ZTF19acblzma</th>\n",
       "      <td>55.737639</td>\n",
       "      <td>-24.623923</td>\n",
       "      <td>75</td>\n",
       "      <td>58733.480185</td>\n",
       "      <td>521.645498</td>\n",
       "      <td>0.230239</td>\n",
       "      <td>lc_classifier</td>\n",
       "      <td>QSO</td>\n",
       "      <td>1</td>\n",
       "      <td>0.562972</td>\n",
       "    </tr>\n",
       "  </tbody>\n",
       "</table>\n",
       "</div>"
      ],
      "text/plain": [
       "                  meanra    meandec  ndet  ...  class_name  ranking  probability\n",
       "oid                                        ...                                  \n",
       "ZTF18acvtjlu  106.000655  34.140721   108  ...         QSO        1     0.569088\n",
       "ZTF19abypwkv   52.879835  -0.951153    34  ...         QSO        1     0.636956\n",
       "ZTF19abeyxmu  357.580628  35.875529    77  ...         QSO        1     0.706624\n",
       "ZTF20aaxcwje  256.209850  48.376110    35  ...         QSO        1     0.735456\n",
       "ZTF19acblzma   55.737639 -24.623923    75  ...         QSO        1     0.562972\n",
       "\n",
       "[5 rows x 10 columns]"
      ]
     },
     "execution_count": 22,
     "metadata": {
      "tags": []
     },
     "output_type": "execute_result"
    }
   ],
   "source": [
    "#defining the query\n",
    "query='''\n",
    "SELECT\n",
    "    object.oid, object.meanra, object.meandec, object.ndet,\n",
    "    object.firstMJD, object.deltajd, object.g_r_mean_corr,\n",
    "    probability_oid.classifier_name, probability_oid.class_name,\n",
    "    probability_oid.ranking, probability_oid.probability\n",
    "FROM\n",
    "    object INNER JOIN (\n",
    "    SELECT\n",
    "        oid, classifier_name, class_name, ranking, probability\n",
    "    FROM\n",
    "        probability\n",
    "    WHERE\n",
    "        classifier_name='lc_classifier'\n",
    "        AND class_name IN ('AGN', 'QSO', 'Blazar')\n",
    "        AND probability > 0.5\n",
    "\n",
    "    ) AS probability_oid\n",
    "    ON object.oid=probability_oid.oid\n",
    "WHERE\n",
    "    probability_oid.classifier_name='lc_classifier'\n",
    "    AND object.deltajd > 200\n",
    "    AND object.ndet > 30\n",
    "'''\n",
    "\n",
    "#implementing the query\n",
    "objects = pd.read_sql_query(query, conn)\n",
    "print(objects.shape)\n",
    "#defining obj as index\n",
    "objects.set_index('oid', inplace=True)\n",
    "objects.head()"
   ]
  },
  {
   "cell_type": "markdown",
   "metadata": {
    "id": "sS3C7yXPse2F"
   },
   "source": [
    "How many sources are classified as QSOs, AGNs or Blazars?"
   ]
  },
  {
   "cell_type": "code",
   "execution_count": 23,
   "metadata": {
    "colab": {
     "base_uri": "https://localhost:8080/"
    },
    "id": "xtMJ0276sfVv",
    "outputId": "e5c20e6f-f957-44cb-d636-e317323be2d6"
   },
   "outputs": [
    {
     "name": "stdout",
     "output_type": "stream",
     "text": [
      "QSO:  16742\n",
      "AGN:  6603\n",
      "Blazar:  1875\n"
     ]
    }
   ],
   "source": [
    "print(\"QSO: \", len(objects.loc[objects[\"class_name\"]==\"QSO\"]))\n",
    "print(\"AGN: \", len(objects.loc[objects[\"class_name\"]==\"AGN\"]))\n",
    "print(\"Blazar: \", len(objects.loc[objects[\"class_name\"]==\"Blazar\"]))\n"
   ]
  },
  {
   "cell_type": "markdown",
   "metadata": {
    "id": "tSkFX1nzsluB"
   },
   "source": [
    "We save the object IDs (oid) of each source, which will be used in the next sections:"
   ]
  },
  {
   "cell_type": "code",
   "execution_count": 24,
   "metadata": {
    "colab": {
     "base_uri": "https://localhost:8080/"
    },
    "id": "eEe5Sc2ksmJw",
    "outputId": "d3a99d7c-e330-4823-f1a9-d8f7e55ead03"
   },
   "outputs": [
    {
     "name": "stdout",
     "output_type": "stream",
     "text": [
      "25220\n",
      "['ZTF18acvtjlu' 'ZTF19abypwkv' 'ZTF19abeyxmu' ... 'ZTF19aapunpm'\n",
      " 'ZTF19acpxvjq' 'ZTF20aapbhhj']\n"
     ]
    }
   ],
   "source": [
    "oids_objects =  objects.index.values\n",
    "print(len(oids_objects))\n",
    "print(oids_objects)"
   ]
  },
  {
   "cell_type": "markdown",
   "metadata": {
    "id": "bnnWCiBSs8bL"
   },
   "source": [
    "# Query AGN, QSO, and Blazar features using a direct DB connection <a class=\"anchor\" id=\"agndbother\"></a>"
   ]
  },
  {
   "cell_type": "markdown",
   "metadata": {
    "id": "9HbDE7vItQg0"
   },
   "source": [
    "We will query some relevant features for active galaxies from the feature table, like GP_DRW_sigma and GP_DRW_tau, ExcessVar, and the Structure Function features. These features are described in detail in Sánchez-Sáez et al. 2021. WARNING: this might take some time to run..."
   ]
  },
  {
   "cell_type": "code",
   "execution_count": 25,
   "metadata": {
    "colab": {
     "base_uri": "https://localhost:8080/",
     "height": 204
    },
    "id": "cEK1zv_-tTlN",
    "outputId": "dfd118b5-2ab5-4287-bbd7-4287513c651d"
   },
   "outputs": [
    {
     "data": {
      "text/html": [
       "<div>\n",
       "<style scoped>\n",
       "    .dataframe tbody tr th:only-of-type {\n",
       "        vertical-align: middle;\n",
       "    }\n",
       "\n",
       "    .dataframe tbody tr th {\n",
       "        vertical-align: top;\n",
       "    }\n",
       "\n",
       "    .dataframe thead th {\n",
       "        text-align: right;\n",
       "    }\n",
       "</style>\n",
       "<table border=\"1\" class=\"dataframe\">\n",
       "  <thead>\n",
       "    <tr style=\"text-align: right;\">\n",
       "      <th></th>\n",
       "      <th>oid</th>\n",
       "      <th>name</th>\n",
       "      <th>value</th>\n",
       "      <th>fid</th>\n",
       "      <th>version</th>\n",
       "    </tr>\n",
       "  </thead>\n",
       "  <tbody>\n",
       "    <tr>\n",
       "      <th>0</th>\n",
       "      <td>ZTF17aaachjt</td>\n",
       "      <td>Amplitude</td>\n",
       "      <td>0.552537</td>\n",
       "      <td>1</td>\n",
       "      <td>feature_0.0.1</td>\n",
       "    </tr>\n",
       "    <tr>\n",
       "      <th>1</th>\n",
       "      <td>ZTF17aaachjt</td>\n",
       "      <td>Amplitude</td>\n",
       "      <td>0.457832</td>\n",
       "      <td>2</td>\n",
       "      <td>feature_0.0.1</td>\n",
       "    </tr>\n",
       "    <tr>\n",
       "      <th>2</th>\n",
       "      <td>ZTF17aaachjt</td>\n",
       "      <td>AndersonDarling</td>\n",
       "      <td>1.000000</td>\n",
       "      <td>1</td>\n",
       "      <td>feature_0.0.1</td>\n",
       "    </tr>\n",
       "    <tr>\n",
       "      <th>3</th>\n",
       "      <td>ZTF17aaachjt</td>\n",
       "      <td>AndersonDarling</td>\n",
       "      <td>0.999999</td>\n",
       "      <td>2</td>\n",
       "      <td>feature_0.0.1</td>\n",
       "    </tr>\n",
       "    <tr>\n",
       "      <th>4</th>\n",
       "      <td>ZTF17aaachjt</td>\n",
       "      <td>Autocor_length</td>\n",
       "      <td>3.000000</td>\n",
       "      <td>1</td>\n",
       "      <td>feature_0.0.1</td>\n",
       "    </tr>\n",
       "  </tbody>\n",
       "</table>\n",
       "</div>"
      ],
      "text/plain": [
       "            oid             name     value  fid        version\n",
       "0  ZTF17aaachjt        Amplitude  0.552537    1  feature_0.0.1\n",
       "1  ZTF17aaachjt        Amplitude  0.457832    2  feature_0.0.1\n",
       "2  ZTF17aaachjt  AndersonDarling  1.000000    1  feature_0.0.1\n",
       "3  ZTF17aaachjt  AndersonDarling  0.999999    2  feature_0.0.1\n",
       "4  ZTF17aaachjt   Autocor_length  3.000000    1  feature_0.0.1"
      ]
     },
     "execution_count": 25,
     "metadata": {
      "tags": []
     },
     "output_type": "execute_result"
    }
   ],
   "source": [
    "#defining the query\n",
    "query='''\n",
    "SELECT\n",
    "    *\n",
    "FROM\n",
    "    feature\n",
    "WHERE\n",
    "     oid in (%s)\n",
    "''' % \",\".join([\"'%s'\" % oid for oid in oids_objects])\n",
    "\n",
    "#implementing the query\n",
    "features = pd.read_sql_query(query, conn)\n",
    "features.head()"
   ]
  },
  {
   "cell_type": "markdown",
   "metadata": {
    "id": "tpISOsOnte1n"
   },
   "source": [
    "Let's save these features in a new dataframe to make their manipulation easier "
   ]
  },
  {
   "cell_type": "code",
   "execution_count": 26,
   "metadata": {
    "colab": {
     "base_uri": "https://localhost:8080/",
     "height": 301
    },
    "id": "GHOZGXfwtfQD",
    "outputId": "3c532699-ec1b-4a48-8561-5f3872251faf"
   },
   "outputs": [
    {
     "data": {
      "text/html": [
       "<div>\n",
       "<style scoped>\n",
       "    .dataframe tbody tr th:only-of-type {\n",
       "        vertical-align: middle;\n",
       "    }\n",
       "\n",
       "    .dataframe tbody tr th {\n",
       "        vertical-align: top;\n",
       "    }\n",
       "\n",
       "    .dataframe thead th {\n",
       "        text-align: right;\n",
       "    }\n",
       "</style>\n",
       "<table border=\"1\" class=\"dataframe\">\n",
       "  <thead>\n",
       "    <tr style=\"text-align: right;\">\n",
       "      <th>fname</th>\n",
       "      <th>Amplitude_1</th>\n",
       "      <th>Amplitude_2</th>\n",
       "      <th>AndersonDarling_1</th>\n",
       "      <th>AndersonDarling_2</th>\n",
       "      <th>Autocor_length_1</th>\n",
       "      <th>Autocor_length_2</th>\n",
       "      <th>Beyond1Std_1</th>\n",
       "      <th>Beyond1Std_2</th>\n",
       "      <th>Con_1</th>\n",
       "      <th>Con_2</th>\n",
       "      <th>Eta_e_1</th>\n",
       "      <th>Eta_e_2</th>\n",
       "      <th>ExcessVar_1</th>\n",
       "      <th>ExcessVar_2</th>\n",
       "      <th>GP_DRW_sigma_1</th>\n",
       "      <th>GP_DRW_sigma_2</th>\n",
       "      <th>GP_DRW_tau_1</th>\n",
       "      <th>GP_DRW_tau_2</th>\n",
       "      <th>Gskew_1</th>\n",
       "      <th>Gskew_2</th>\n",
       "      <th>Harmonics_mag_1_1</th>\n",
       "      <th>Harmonics_mag_1_2</th>\n",
       "      <th>Harmonics_mag_2_1</th>\n",
       "      <th>Harmonics_mag_2_2</th>\n",
       "      <th>Harmonics_mag_3_1</th>\n",
       "      <th>Harmonics_mag_3_2</th>\n",
       "      <th>Harmonics_mag_4_1</th>\n",
       "      <th>Harmonics_mag_4_2</th>\n",
       "      <th>Harmonics_mag_5_1</th>\n",
       "      <th>Harmonics_mag_5_2</th>\n",
       "      <th>Harmonics_mag_6_1</th>\n",
       "      <th>Harmonics_mag_6_2</th>\n",
       "      <th>Harmonics_mag_7_1</th>\n",
       "      <th>Harmonics_mag_7_2</th>\n",
       "      <th>Harmonics_mse_1</th>\n",
       "      <th>Harmonics_mse_2</th>\n",
       "      <th>Harmonics_phase_2_1</th>\n",
       "      <th>Harmonics_phase_2_2</th>\n",
       "      <th>Harmonics_phase_3_1</th>\n",
       "      <th>Harmonics_phase_3_2</th>\n",
       "      <th>...</th>\n",
       "      <th>g-r_max_12</th>\n",
       "      <th>g-r_max_corr_12</th>\n",
       "      <th>g-r_mean_12</th>\n",
       "      <th>g-r_mean_corr_12</th>\n",
       "      <th>gal_b_0</th>\n",
       "      <th>gal_l_0</th>\n",
       "      <th>iqr_1</th>\n",
       "      <th>iqr_2</th>\n",
       "      <th>last_diffmaglim_before_fid_1</th>\n",
       "      <th>last_diffmaglim_before_fid_2</th>\n",
       "      <th>last_mjd_before_fid_1</th>\n",
       "      <th>last_mjd_before_fid_2</th>\n",
       "      <th>max_diffmaglim_after_fid_1</th>\n",
       "      <th>max_diffmaglim_after_fid_2</th>\n",
       "      <th>max_diffmaglim_before_fid_1</th>\n",
       "      <th>max_diffmaglim_before_fid_2</th>\n",
       "      <th>mean_mag_1</th>\n",
       "      <th>mean_mag_2</th>\n",
       "      <th>median_diffmaglim_after_fid_1</th>\n",
       "      <th>median_diffmaglim_after_fid_2</th>\n",
       "      <th>median_diffmaglim_before_fid_1</th>\n",
       "      <th>median_diffmaglim_before_fid_2</th>\n",
       "      <th>min_mag_1</th>\n",
       "      <th>min_mag_2</th>\n",
       "      <th>n_det_1</th>\n",
       "      <th>n_det_2</th>\n",
       "      <th>n_neg_1</th>\n",
       "      <th>n_neg_2</th>\n",
       "      <th>n_non_det_after_fid_1</th>\n",
       "      <th>n_non_det_after_fid_2</th>\n",
       "      <th>n_non_det_before_fid_1</th>\n",
       "      <th>n_non_det_before_fid_2</th>\n",
       "      <th>n_pos_1</th>\n",
       "      <th>n_pos_2</th>\n",
       "      <th>positive_fraction_1</th>\n",
       "      <th>positive_fraction_2</th>\n",
       "      <th>r-W2_0</th>\n",
       "      <th>r-W3_0</th>\n",
       "      <th>rb_0</th>\n",
       "      <th>sgscore1_0</th>\n",
       "    </tr>\n",
       "    <tr>\n",
       "      <th>oid</th>\n",
       "      <th></th>\n",
       "      <th></th>\n",
       "      <th></th>\n",
       "      <th></th>\n",
       "      <th></th>\n",
       "      <th></th>\n",
       "      <th></th>\n",
       "      <th></th>\n",
       "      <th></th>\n",
       "      <th></th>\n",
       "      <th></th>\n",
       "      <th></th>\n",
       "      <th></th>\n",
       "      <th></th>\n",
       "      <th></th>\n",
       "      <th></th>\n",
       "      <th></th>\n",
       "      <th></th>\n",
       "      <th></th>\n",
       "      <th></th>\n",
       "      <th></th>\n",
       "      <th></th>\n",
       "      <th></th>\n",
       "      <th></th>\n",
       "      <th></th>\n",
       "      <th></th>\n",
       "      <th></th>\n",
       "      <th></th>\n",
       "      <th></th>\n",
       "      <th></th>\n",
       "      <th></th>\n",
       "      <th></th>\n",
       "      <th></th>\n",
       "      <th></th>\n",
       "      <th></th>\n",
       "      <th></th>\n",
       "      <th></th>\n",
       "      <th></th>\n",
       "      <th></th>\n",
       "      <th></th>\n",
       "      <th></th>\n",
       "      <th></th>\n",
       "      <th></th>\n",
       "      <th></th>\n",
       "      <th></th>\n",
       "      <th></th>\n",
       "      <th></th>\n",
       "      <th></th>\n",
       "      <th></th>\n",
       "      <th></th>\n",
       "      <th></th>\n",
       "      <th></th>\n",
       "      <th></th>\n",
       "      <th></th>\n",
       "      <th></th>\n",
       "      <th></th>\n",
       "      <th></th>\n",
       "      <th></th>\n",
       "      <th></th>\n",
       "      <th></th>\n",
       "      <th></th>\n",
       "      <th></th>\n",
       "      <th></th>\n",
       "      <th></th>\n",
       "      <th></th>\n",
       "      <th></th>\n",
       "      <th></th>\n",
       "      <th></th>\n",
       "      <th></th>\n",
       "      <th></th>\n",
       "      <th></th>\n",
       "      <th></th>\n",
       "      <th></th>\n",
       "      <th></th>\n",
       "      <th></th>\n",
       "      <th></th>\n",
       "      <th></th>\n",
       "      <th></th>\n",
       "      <th></th>\n",
       "      <th></th>\n",
       "      <th></th>\n",
       "    </tr>\n",
       "  </thead>\n",
       "  <tbody>\n",
       "    <tr>\n",
       "      <th>ZTF17aaachjt</th>\n",
       "      <td>0.552537</td>\n",
       "      <td>0.457832</td>\n",
       "      <td>1.000000</td>\n",
       "      <td>0.999999</td>\n",
       "      <td>3.0</td>\n",
       "      <td>2.0</td>\n",
       "      <td>0.288889</td>\n",
       "      <td>0.189189</td>\n",
       "      <td>0.00000</td>\n",
       "      <td>0.0</td>\n",
       "      <td>0.001646</td>\n",
       "      <td>0.010100</td>\n",
       "      <td>0.000246</td>\n",
       "      <td>1.073482e-04</td>\n",
       "      <td>1.160049e-01</td>\n",
       "      <td>7.917502e-02</td>\n",
       "      <td>90.416503</td>\n",
       "      <td>40.589192</td>\n",
       "      <td>0.170958</td>\n",
       "      <td>0.130886</td>\n",
       "      <td>70.084966</td>\n",
       "      <td>229.314395</td>\n",
       "      <td>57.489517</td>\n",
       "      <td>183.147115</td>\n",
       "      <td>40.564271</td>\n",
       "      <td>124.276526</td>\n",
       "      <td>24.062389</td>\n",
       "      <td>69.877720</td>\n",
       "      <td>11.672462</td>\n",
       "      <td>31.337920</td>\n",
       "      <td>4.335681</td>\n",
       "      <td>10.222251</td>\n",
       "      <td>0.979499</td>\n",
       "      <td>1.822567</td>\n",
       "      <td>0.011666</td>\n",
       "      <td>0.018858</td>\n",
       "      <td>3.154664</td>\n",
       "      <td>3.143477</td>\n",
       "      <td>0.043038</td>\n",
       "      <td>0.008687</td>\n",
       "      <td>...</td>\n",
       "      <td>0.222908</td>\n",
       "      <td>0.392540</td>\n",
       "      <td>0.526972</td>\n",
       "      <td>0.623955</td>\n",
       "      <td>-24.767803</td>\n",
       "      <td>186.928312</td>\n",
       "      <td>0.221476</td>\n",
       "      <td>0.193596</td>\n",
       "      <td>NaN</td>\n",
       "      <td>19.345501</td>\n",
       "      <td>NaN</td>\n",
       "      <td>58435.332031</td>\n",
       "      <td>20.941601</td>\n",
       "      <td>20.579201</td>\n",
       "      <td>NaN</td>\n",
       "      <td>19.345501</td>\n",
       "      <td>18.437954</td>\n",
       "      <td>17.813999</td>\n",
       "      <td>19.981601</td>\n",
       "      <td>19.823000</td>\n",
       "      <td>NaN</td>\n",
       "      <td>19.345501</td>\n",
       "      <td>17.805410</td>\n",
       "      <td>17.412870</td>\n",
       "      <td>45.0</td>\n",
       "      <td>74.0</td>\n",
       "      <td>7.0</td>\n",
       "      <td>4.0</td>\n",
       "      <td>70.0</td>\n",
       "      <td>43.0</td>\n",
       "      <td>0.0</td>\n",
       "      <td>1.0</td>\n",
       "      <td>38.0</td>\n",
       "      <td>70.0</td>\n",
       "      <td>0.844444</td>\n",
       "      <td>0.945946</td>\n",
       "      <td>NaN</td>\n",
       "      <td>NaN</td>\n",
       "      <td>0.872857</td>\n",
       "      <td>0.991310</td>\n",
       "    </tr>\n",
       "    <tr>\n",
       "      <th>ZTF17aaadhjr</th>\n",
       "      <td>0.588322</td>\n",
       "      <td>0.485362</td>\n",
       "      <td>1.000000</td>\n",
       "      <td>1.000000</td>\n",
       "      <td>4.0</td>\n",
       "      <td>16.0</td>\n",
       "      <td>0.188889</td>\n",
       "      <td>0.339623</td>\n",
       "      <td>0.00000</td>\n",
       "      <td>0.0</td>\n",
       "      <td>0.006465</td>\n",
       "      <td>0.000609</td>\n",
       "      <td>0.000360</td>\n",
       "      <td>3.832995e-04</td>\n",
       "      <td>1.458411e-01</td>\n",
       "      <td>1.201024e-01</td>\n",
       "      <td>20.715388</td>\n",
       "      <td>31.543760</td>\n",
       "      <td>0.026953</td>\n",
       "      <td>0.269684</td>\n",
       "      <td>1.230523</td>\n",
       "      <td>1.014451</td>\n",
       "      <td>1.080748</td>\n",
       "      <td>0.832109</td>\n",
       "      <td>1.056423</td>\n",
       "      <td>0.692187</td>\n",
       "      <td>0.893160</td>\n",
       "      <td>0.508035</td>\n",
       "      <td>0.578024</td>\n",
       "      <td>0.350019</td>\n",
       "      <td>0.303768</td>\n",
       "      <td>0.161339</td>\n",
       "      <td>0.130696</td>\n",
       "      <td>0.086913</td>\n",
       "      <td>0.050336</td>\n",
       "      <td>0.043759</td>\n",
       "      <td>5.842978</td>\n",
       "      <td>3.738293</td>\n",
       "      <td>5.658995</td>\n",
       "      <td>0.913248</td>\n",
       "      <td>...</td>\n",
       "      <td>0.187309</td>\n",
       "      <td>0.357458</td>\n",
       "      <td>0.188533</td>\n",
       "      <td>0.391329</td>\n",
       "      <td>18.070586</td>\n",
       "      <td>201.846480</td>\n",
       "      <td>0.334912</td>\n",
       "      <td>0.551144</td>\n",
       "      <td>18.866600</td>\n",
       "      <td>NaN</td>\n",
       "      <td>58474.503906</td>\n",
       "      <td>NaN</td>\n",
       "      <td>20.939600</td>\n",
       "      <td>20.665899</td>\n",
       "      <td>20.355499</td>\n",
       "      <td>NaN</td>\n",
       "      <td>17.043311</td>\n",
       "      <td>16.651982</td>\n",
       "      <td>20.243800</td>\n",
       "      <td>19.883900</td>\n",
       "      <td>18.866600</td>\n",
       "      <td>NaN</td>\n",
       "      <td>16.069096</td>\n",
       "      <td>15.711637</td>\n",
       "      <td>90.0</td>\n",
       "      <td>106.0</td>\n",
       "      <td>11.0</td>\n",
       "      <td>47.0</td>\n",
       "      <td>36.0</td>\n",
       "      <td>49.0</td>\n",
       "      <td>5.0</td>\n",
       "      <td>0.0</td>\n",
       "      <td>79.0</td>\n",
       "      <td>59.0</td>\n",
       "      <td>0.877778</td>\n",
       "      <td>0.556604</td>\n",
       "      <td>NaN</td>\n",
       "      <td>NaN</td>\n",
       "      <td>0.924286</td>\n",
       "      <td>1.000000</td>\n",
       "    </tr>\n",
       "    <tr>\n",
       "      <th>ZTF17aaaeqnq</th>\n",
       "      <td>0.169636</td>\n",
       "      <td>0.121363</td>\n",
       "      <td>1.000000</td>\n",
       "      <td>0.999997</td>\n",
       "      <td>5.0</td>\n",
       "      <td>10.0</td>\n",
       "      <td>0.277108</td>\n",
       "      <td>0.301370</td>\n",
       "      <td>0.02439</td>\n",
       "      <td>0.0</td>\n",
       "      <td>0.511526</td>\n",
       "      <td>0.160036</td>\n",
       "      <td>0.000015</td>\n",
       "      <td>1.119375e-05</td>\n",
       "      <td>3.449542e-02</td>\n",
       "      <td>2.718389e-02</td>\n",
       "      <td>1237.638696</td>\n",
       "      <td>1058.479908</td>\n",
       "      <td>-0.131905</td>\n",
       "      <td>-0.078398</td>\n",
       "      <td>0.110009</td>\n",
       "      <td>0.083643</td>\n",
       "      <td>0.117408</td>\n",
       "      <td>0.086471</td>\n",
       "      <td>0.070841</td>\n",
       "      <td>0.043055</td>\n",
       "      <td>0.036106</td>\n",
       "      <td>0.030254</td>\n",
       "      <td>0.027371</td>\n",
       "      <td>0.017702</td>\n",
       "      <td>0.028691</td>\n",
       "      <td>0.034433</td>\n",
       "      <td>0.042758</td>\n",
       "      <td>0.020770</td>\n",
       "      <td>0.001675</td>\n",
       "      <td>0.001027</td>\n",
       "      <td>2.800516</td>\n",
       "      <td>2.395459</td>\n",
       "      <td>0.376819</td>\n",
       "      <td>5.507020</td>\n",
       "      <td>...</td>\n",
       "      <td>0.549171</td>\n",
       "      <td>0.682959</td>\n",
       "      <td>0.603916</td>\n",
       "      <td>0.735875</td>\n",
       "      <td>-30.455058</td>\n",
       "      <td>129.797429</td>\n",
       "      <td>0.063645</td>\n",
       "      <td>0.073598</td>\n",
       "      <td>20.975901</td>\n",
       "      <td>20.273600</td>\n",
       "      <td>58370.367188</td>\n",
       "      <td>58432.277344</td>\n",
       "      <td>21.053101</td>\n",
       "      <td>20.864300</td>\n",
       "      <td>21.117599</td>\n",
       "      <td>20.849600</td>\n",
       "      <td>17.050879</td>\n",
       "      <td>16.315004</td>\n",
       "      <td>20.246599</td>\n",
       "      <td>20.114901</td>\n",
       "      <td>21.021900</td>\n",
       "      <td>20.404699</td>\n",
       "      <td>16.786095</td>\n",
       "      <td>16.103136</td>\n",
       "      <td>166.0</td>\n",
       "      <td>146.0</td>\n",
       "      <td>158.0</td>\n",
       "      <td>142.0</td>\n",
       "      <td>157.0</td>\n",
       "      <td>163.0</td>\n",
       "      <td>8.0</td>\n",
       "      <td>11.0</td>\n",
       "      <td>8.0</td>\n",
       "      <td>4.0</td>\n",
       "      <td>0.048193</td>\n",
       "      <td>0.027397</td>\n",
       "      <td>NaN</td>\n",
       "      <td>NaN</td>\n",
       "      <td>0.885000</td>\n",
       "      <td>0.358054</td>\n",
       "    </tr>\n",
       "    <tr>\n",
       "      <th>ZTF17aaafvek</th>\n",
       "      <td>0.076501</td>\n",
       "      <td>0.072550</td>\n",
       "      <td>0.987001</td>\n",
       "      <td>0.440283</td>\n",
       "      <td>1.0</td>\n",
       "      <td>1.0</td>\n",
       "      <td>0.333333</td>\n",
       "      <td>0.250000</td>\n",
       "      <td>0.00000</td>\n",
       "      <td>0.0</td>\n",
       "      <td>0.985172</td>\n",
       "      <td>0.360739</td>\n",
       "      <td>-0.000003</td>\n",
       "      <td>-5.229952e-06</td>\n",
       "      <td>4.537258e-05</td>\n",
       "      <td>4.010096e-09</td>\n",
       "      <td>0.329470</td>\n",
       "      <td>9.012482</td>\n",
       "      <td>0.012838</td>\n",
       "      <td>-0.004001</td>\n",
       "      <td>0.028834</td>\n",
       "      <td>0.010207</td>\n",
       "      <td>0.043291</td>\n",
       "      <td>0.002752</td>\n",
       "      <td>0.051591</td>\n",
       "      <td>0.027940</td>\n",
       "      <td>0.018757</td>\n",
       "      <td>0.016519</td>\n",
       "      <td>0.034571</td>\n",
       "      <td>0.031514</td>\n",
       "      <td>0.038257</td>\n",
       "      <td>0.012899</td>\n",
       "      <td>0.016315</td>\n",
       "      <td>0.015894</td>\n",
       "      <td>0.000431</td>\n",
       "      <td>0.000660</td>\n",
       "      <td>3.856020</td>\n",
       "      <td>5.565102</td>\n",
       "      <td>2.872672</td>\n",
       "      <td>4.626267</td>\n",
       "      <td>...</td>\n",
       "      <td>0.281099</td>\n",
       "      <td>0.222507</td>\n",
       "      <td>0.389963</td>\n",
       "      <td>0.217055</td>\n",
       "      <td>-65.060965</td>\n",
       "      <td>175.378264</td>\n",
       "      <td>0.022745</td>\n",
       "      <td>0.036535</td>\n",
       "      <td>20.545300</td>\n",
       "      <td>20.546301</td>\n",
       "      <td>58701.460938</td>\n",
       "      <td>58695.464844</td>\n",
       "      <td>20.655399</td>\n",
       "      <td>20.413500</td>\n",
       "      <td>20.609301</td>\n",
       "      <td>20.546301</td>\n",
       "      <td>18.415221</td>\n",
       "      <td>18.198166</td>\n",
       "      <td>19.273600</td>\n",
       "      <td>19.160900</td>\n",
       "      <td>20.572100</td>\n",
       "      <td>20.400701</td>\n",
       "      <td>18.338736</td>\n",
       "      <td>18.116228</td>\n",
       "      <td>27.0</td>\n",
       "      <td>36.0</td>\n",
       "      <td>27.0</td>\n",
       "      <td>36.0</td>\n",
       "      <td>37.0</td>\n",
       "      <td>26.0</td>\n",
       "      <td>3.0</td>\n",
       "      <td>2.0</td>\n",
       "      <td>0.0</td>\n",
       "      <td>0.0</td>\n",
       "      <td>0.000000</td>\n",
       "      <td>0.000000</td>\n",
       "      <td>NaN</td>\n",
       "      <td>NaN</td>\n",
       "      <td>0.888571</td>\n",
       "      <td>0.991786</td>\n",
       "    </tr>\n",
       "    <tr>\n",
       "      <th>ZTF17aaafwbf</th>\n",
       "      <td>0.072756</td>\n",
       "      <td>0.036968</td>\n",
       "      <td>0.993600</td>\n",
       "      <td>0.810068</td>\n",
       "      <td>1.0</td>\n",
       "      <td>1.0</td>\n",
       "      <td>0.230769</td>\n",
       "      <td>0.320000</td>\n",
       "      <td>0.00000</td>\n",
       "      <td>0.0</td>\n",
       "      <td>0.877053</td>\n",
       "      <td>0.077840</td>\n",
       "      <td>-0.000005</td>\n",
       "      <td>-7.739705e-07</td>\n",
       "      <td>7.259387e-10</td>\n",
       "      <td>3.219142e-17</td>\n",
       "      <td>4.651179</td>\n",
       "      <td>11762.036309</td>\n",
       "      <td>0.039322</td>\n",
       "      <td>-0.006960</td>\n",
       "      <td>0.022692</td>\n",
       "      <td>0.013918</td>\n",
       "      <td>0.012338</td>\n",
       "      <td>0.004548</td>\n",
       "      <td>0.003900</td>\n",
       "      <td>0.007166</td>\n",
       "      <td>0.017604</td>\n",
       "      <td>0.006663</td>\n",
       "      <td>0.008270</td>\n",
       "      <td>0.000940</td>\n",
       "      <td>0.002086</td>\n",
       "      <td>0.001357</td>\n",
       "      <td>0.007097</td>\n",
       "      <td>0.002712</td>\n",
       "      <td>0.000920</td>\n",
       "      <td>0.000178</td>\n",
       "      <td>2.393976</td>\n",
       "      <td>2.902645</td>\n",
       "      <td>4.664286</td>\n",
       "      <td>5.607367</td>\n",
       "      <td>...</td>\n",
       "      <td>0.116331</td>\n",
       "      <td>0.854111</td>\n",
       "      <td>0.318508</td>\n",
       "      <td>0.863265</td>\n",
       "      <td>-50.102455</td>\n",
       "      <td>183.675267</td>\n",
       "      <td>0.038064</td>\n",
       "      <td>0.018800</td>\n",
       "      <td>19.133301</td>\n",
       "      <td>20.056999</td>\n",
       "      <td>58745.503906</td>\n",
       "      <td>58748.441406</td>\n",
       "      <td>20.579300</td>\n",
       "      <td>20.665100</td>\n",
       "      <td>20.725100</td>\n",
       "      <td>20.681601</td>\n",
       "      <td>18.328002</td>\n",
       "      <td>17.464737</td>\n",
       "      <td>19.366650</td>\n",
       "      <td>19.228150</td>\n",
       "      <td>20.497499</td>\n",
       "      <td>20.089749</td>\n",
       "      <td>18.274187</td>\n",
       "      <td>17.420076</td>\n",
       "      <td>39.0</td>\n",
       "      <td>50.0</td>\n",
       "      <td>39.0</td>\n",
       "      <td>50.0</td>\n",
       "      <td>46.0</td>\n",
       "      <td>38.0</td>\n",
       "      <td>5.0</td>\n",
       "      <td>6.0</td>\n",
       "      <td>0.0</td>\n",
       "      <td>0.0</td>\n",
       "      <td>0.000000</td>\n",
       "      <td>0.000000</td>\n",
       "      <td>NaN</td>\n",
       "      <td>NaN</td>\n",
       "      <td>0.927143</td>\n",
       "      <td>0.036667</td>\n",
       "    </tr>\n",
       "  </tbody>\n",
       "</table>\n",
       "<p>5 rows × 179 columns</p>\n",
       "</div>"
      ],
      "text/plain": [
       "fname         Amplitude_1  Amplitude_2  ...      rb_0  sgscore1_0\n",
       "oid                                     ...                      \n",
       "ZTF17aaachjt     0.552537     0.457832  ...  0.872857    0.991310\n",
       "ZTF17aaadhjr     0.588322     0.485362  ...  0.924286    1.000000\n",
       "ZTF17aaaeqnq     0.169636     0.121363  ...  0.885000    0.358054\n",
       "ZTF17aaafvek     0.076501     0.072550  ...  0.888571    0.991786\n",
       "ZTF17aaafwbf     0.072756     0.036968  ...  0.927143    0.036667\n",
       "\n",
       "[5 rows x 179 columns]"
      ]
     },
     "execution_count": 26,
     "metadata": {
      "tags": []
     },
     "output_type": "execute_result"
    }
   ],
   "source": [
    "#parsing the dataframe\n",
    "#we add _1 and _2 for the features measured using the g band and r band, respectively.\n",
    "features[\"fname\"]=features.name + \"_\" + features.fid.astype(str)\n",
    "features_aux = features.pivot(index=\"oid\", columns=\"fname\",values=\"value\")\n",
    "features_aux.head()"
   ]
  },
  {
   "cell_type": "code",
   "execution_count": 27,
   "metadata": {
    "colab": {
     "base_uri": "https://localhost:8080/",
     "height": 301
    },
    "id": "wwtRX1sctmgH",
    "outputId": "621b52c2-914e-456e-ffa6-6d45f7ec826b"
   },
   "outputs": [
    {
     "data": {
      "text/html": [
       "<div>\n",
       "<style scoped>\n",
       "    .dataframe tbody tr th:only-of-type {\n",
       "        vertical-align: middle;\n",
       "    }\n",
       "\n",
       "    .dataframe tbody tr th {\n",
       "        vertical-align: top;\n",
       "    }\n",
       "\n",
       "    .dataframe thead th {\n",
       "        text-align: right;\n",
       "    }\n",
       "</style>\n",
       "<table border=\"1\" class=\"dataframe\">\n",
       "  <thead>\n",
       "    <tr style=\"text-align: right;\">\n",
       "      <th></th>\n",
       "      <th>meanra</th>\n",
       "      <th>meandec</th>\n",
       "      <th>ndet</th>\n",
       "      <th>firstmjd</th>\n",
       "      <th>deltajd</th>\n",
       "      <th>g_r_mean_corr</th>\n",
       "      <th>classifier_name</th>\n",
       "      <th>class_name</th>\n",
       "      <th>ranking</th>\n",
       "      <th>probability</th>\n",
       "      <th>Amplitude_1</th>\n",
       "      <th>Amplitude_2</th>\n",
       "      <th>AndersonDarling_1</th>\n",
       "      <th>AndersonDarling_2</th>\n",
       "      <th>Autocor_length_1</th>\n",
       "      <th>Autocor_length_2</th>\n",
       "      <th>Beyond1Std_1</th>\n",
       "      <th>Beyond1Std_2</th>\n",
       "      <th>Con_1</th>\n",
       "      <th>Con_2</th>\n",
       "      <th>Eta_e_1</th>\n",
       "      <th>Eta_e_2</th>\n",
       "      <th>ExcessVar_1</th>\n",
       "      <th>ExcessVar_2</th>\n",
       "      <th>GP_DRW_sigma_1</th>\n",
       "      <th>GP_DRW_sigma_2</th>\n",
       "      <th>GP_DRW_tau_1</th>\n",
       "      <th>GP_DRW_tau_2</th>\n",
       "      <th>Gskew_1</th>\n",
       "      <th>Gskew_2</th>\n",
       "      <th>Harmonics_mag_1_1</th>\n",
       "      <th>Harmonics_mag_1_2</th>\n",
       "      <th>Harmonics_mag_2_1</th>\n",
       "      <th>Harmonics_mag_2_2</th>\n",
       "      <th>Harmonics_mag_3_1</th>\n",
       "      <th>Harmonics_mag_3_2</th>\n",
       "      <th>Harmonics_mag_4_1</th>\n",
       "      <th>Harmonics_mag_4_2</th>\n",
       "      <th>Harmonics_mag_5_1</th>\n",
       "      <th>Harmonics_mag_5_2</th>\n",
       "      <th>...</th>\n",
       "      <th>g-r_max_12</th>\n",
       "      <th>g-r_max_corr_12</th>\n",
       "      <th>g-r_mean_12</th>\n",
       "      <th>g-r_mean_corr_12</th>\n",
       "      <th>gal_b_0</th>\n",
       "      <th>gal_l_0</th>\n",
       "      <th>iqr_1</th>\n",
       "      <th>iqr_2</th>\n",
       "      <th>last_diffmaglim_before_fid_1</th>\n",
       "      <th>last_diffmaglim_before_fid_2</th>\n",
       "      <th>last_mjd_before_fid_1</th>\n",
       "      <th>last_mjd_before_fid_2</th>\n",
       "      <th>max_diffmaglim_after_fid_1</th>\n",
       "      <th>max_diffmaglim_after_fid_2</th>\n",
       "      <th>max_diffmaglim_before_fid_1</th>\n",
       "      <th>max_diffmaglim_before_fid_2</th>\n",
       "      <th>mean_mag_1</th>\n",
       "      <th>mean_mag_2</th>\n",
       "      <th>median_diffmaglim_after_fid_1</th>\n",
       "      <th>median_diffmaglim_after_fid_2</th>\n",
       "      <th>median_diffmaglim_before_fid_1</th>\n",
       "      <th>median_diffmaglim_before_fid_2</th>\n",
       "      <th>min_mag_1</th>\n",
       "      <th>min_mag_2</th>\n",
       "      <th>n_det_1</th>\n",
       "      <th>n_det_2</th>\n",
       "      <th>n_neg_1</th>\n",
       "      <th>n_neg_2</th>\n",
       "      <th>n_non_det_after_fid_1</th>\n",
       "      <th>n_non_det_after_fid_2</th>\n",
       "      <th>n_non_det_before_fid_1</th>\n",
       "      <th>n_non_det_before_fid_2</th>\n",
       "      <th>n_pos_1</th>\n",
       "      <th>n_pos_2</th>\n",
       "      <th>positive_fraction_1</th>\n",
       "      <th>positive_fraction_2</th>\n",
       "      <th>r-W2_0</th>\n",
       "      <th>r-W3_0</th>\n",
       "      <th>rb_0</th>\n",
       "      <th>sgscore1_0</th>\n",
       "    </tr>\n",
       "    <tr>\n",
       "      <th>oid</th>\n",
       "      <th></th>\n",
       "      <th></th>\n",
       "      <th></th>\n",
       "      <th></th>\n",
       "      <th></th>\n",
       "      <th></th>\n",
       "      <th></th>\n",
       "      <th></th>\n",
       "      <th></th>\n",
       "      <th></th>\n",
       "      <th></th>\n",
       "      <th></th>\n",
       "      <th></th>\n",
       "      <th></th>\n",
       "      <th></th>\n",
       "      <th></th>\n",
       "      <th></th>\n",
       "      <th></th>\n",
       "      <th></th>\n",
       "      <th></th>\n",
       "      <th></th>\n",
       "      <th></th>\n",
       "      <th></th>\n",
       "      <th></th>\n",
       "      <th></th>\n",
       "      <th></th>\n",
       "      <th></th>\n",
       "      <th></th>\n",
       "      <th></th>\n",
       "      <th></th>\n",
       "      <th></th>\n",
       "      <th></th>\n",
       "      <th></th>\n",
       "      <th></th>\n",
       "      <th></th>\n",
       "      <th></th>\n",
       "      <th></th>\n",
       "      <th></th>\n",
       "      <th></th>\n",
       "      <th></th>\n",
       "      <th></th>\n",
       "      <th></th>\n",
       "      <th></th>\n",
       "      <th></th>\n",
       "      <th></th>\n",
       "      <th></th>\n",
       "      <th></th>\n",
       "      <th></th>\n",
       "      <th></th>\n",
       "      <th></th>\n",
       "      <th></th>\n",
       "      <th></th>\n",
       "      <th></th>\n",
       "      <th></th>\n",
       "      <th></th>\n",
       "      <th></th>\n",
       "      <th></th>\n",
       "      <th></th>\n",
       "      <th></th>\n",
       "      <th></th>\n",
       "      <th></th>\n",
       "      <th></th>\n",
       "      <th></th>\n",
       "      <th></th>\n",
       "      <th></th>\n",
       "      <th></th>\n",
       "      <th></th>\n",
       "      <th></th>\n",
       "      <th></th>\n",
       "      <th></th>\n",
       "      <th></th>\n",
       "      <th></th>\n",
       "      <th></th>\n",
       "      <th></th>\n",
       "      <th></th>\n",
       "      <th></th>\n",
       "      <th></th>\n",
       "      <th></th>\n",
       "      <th></th>\n",
       "      <th></th>\n",
       "      <th></th>\n",
       "    </tr>\n",
       "  </thead>\n",
       "  <tbody>\n",
       "    <tr>\n",
       "      <th>ZTF18acvtjlu</th>\n",
       "      <td>106.000655</td>\n",
       "      <td>34.140721</td>\n",
       "      <td>108</td>\n",
       "      <td>58895.158009</td>\n",
       "      <td>411.000440</td>\n",
       "      <td>0.100317</td>\n",
       "      <td>lc_classifier</td>\n",
       "      <td>QSO</td>\n",
       "      <td>1</td>\n",
       "      <td>0.569088</td>\n",
       "      <td>0.115128</td>\n",
       "      <td>0.094167</td>\n",
       "      <td>0.679438</td>\n",
       "      <td>0.653548</td>\n",
       "      <td>2.0</td>\n",
       "      <td>1.0</td>\n",
       "      <td>0.241935</td>\n",
       "      <td>0.282051</td>\n",
       "      <td>0.0</td>\n",
       "      <td>0.0</td>\n",
       "      <td>0.616774</td>\n",
       "      <td>0.405598</td>\n",
       "      <td>-0.000009</td>\n",
       "      <td>-0.000009</td>\n",
       "      <td>9.532727e-04</td>\n",
       "      <td>1.422519e-08</td>\n",
       "      <td>25.551217</td>\n",
       "      <td>13.766602</td>\n",
       "      <td>0.045384</td>\n",
       "      <td>0.015785</td>\n",
       "      <td>0.045713</td>\n",
       "      <td>0.035888</td>\n",
       "      <td>0.020227</td>\n",
       "      <td>0.008385</td>\n",
       "      <td>0.015513</td>\n",
       "      <td>0.009404</td>\n",
       "      <td>0.013852</td>\n",
       "      <td>0.023922</td>\n",
       "      <td>0.014392</td>\n",
       "      <td>0.011770</td>\n",
       "      <td>...</td>\n",
       "      <td>-0.182463</td>\n",
       "      <td>0.091850</td>\n",
       "      <td>-0.105459</td>\n",
       "      <td>0.096275</td>\n",
       "      <td>17.233956</td>\n",
       "      <td>182.845023</td>\n",
       "      <td>0.086856</td>\n",
       "      <td>0.070203</td>\n",
       "      <td>19.429100</td>\n",
       "      <td>20.183300</td>\n",
       "      <td>58890.308594</td>\n",
       "      <td>59116.421875</td>\n",
       "      <td>20.876900</td>\n",
       "      <td>20.726601</td>\n",
       "      <td>20.650101</td>\n",
       "      <td>20.620001</td>\n",
       "      <td>19.172040</td>\n",
       "      <td>19.075765</td>\n",
       "      <td>19.515800</td>\n",
       "      <td>19.954201</td>\n",
       "      <td>20.12465</td>\n",
       "      <td>20.156250</td>\n",
       "      <td>19.058531</td>\n",
       "      <td>18.966681</td>\n",
       "      <td>62.0</td>\n",
       "      <td>39.0</td>\n",
       "      <td>62.0</td>\n",
       "      <td>39.0</td>\n",
       "      <td>51.0</td>\n",
       "      <td>79.0</td>\n",
       "      <td>6.0</td>\n",
       "      <td>28.0</td>\n",
       "      <td>0.0</td>\n",
       "      <td>0.0</td>\n",
       "      <td>0.0</td>\n",
       "      <td>0.0</td>\n",
       "      <td>NaN</td>\n",
       "      <td>NaN</td>\n",
       "      <td>0.891429</td>\n",
       "      <td>0.946417</td>\n",
       "    </tr>\n",
       "    <tr>\n",
       "      <th>ZTF19abypwkv</th>\n",
       "      <td>52.879835</td>\n",
       "      <td>-0.951153</td>\n",
       "      <td>34</td>\n",
       "      <td>58722.460498</td>\n",
       "      <td>534.669132</td>\n",
       "      <td>0.245700</td>\n",
       "      <td>lc_classifier</td>\n",
       "      <td>QSO</td>\n",
       "      <td>1</td>\n",
       "      <td>0.636956</td>\n",
       "      <td>0.072034</td>\n",
       "      <td>0.065631</td>\n",
       "      <td>0.333667</td>\n",
       "      <td>0.799426</td>\n",
       "      <td>1.0</td>\n",
       "      <td>1.0</td>\n",
       "      <td>0.235294</td>\n",
       "      <td>0.312500</td>\n",
       "      <td>0.0</td>\n",
       "      <td>0.0</td>\n",
       "      <td>2.086036</td>\n",
       "      <td>0.755005</td>\n",
       "      <td>-0.000029</td>\n",
       "      <td>-0.000014</td>\n",
       "      <td>9.941626e-09</td>\n",
       "      <td>4.606277e-09</td>\n",
       "      <td>1.166218</td>\n",
       "      <td>1.614391</td>\n",
       "      <td>-0.010126</td>\n",
       "      <td>0.026110</td>\n",
       "      <td>0.168263</td>\n",
       "      <td>8.515546</td>\n",
       "      <td>0.119705</td>\n",
       "      <td>7.030081</td>\n",
       "      <td>0.190533</td>\n",
       "      <td>7.110010</td>\n",
       "      <td>0.151078</td>\n",
       "      <td>5.043197</td>\n",
       "      <td>0.085171</td>\n",
       "      <td>2.464590</td>\n",
       "      <td>...</td>\n",
       "      <td>0.113701</td>\n",
       "      <td>0.229607</td>\n",
       "      <td>0.084526</td>\n",
       "      <td>0.245118</td>\n",
       "      <td>-43.554365</td>\n",
       "      <td>185.455195</td>\n",
       "      <td>0.035173</td>\n",
       "      <td>0.032682</td>\n",
       "      <td>19.799200</td>\n",
       "      <td>20.446800</td>\n",
       "      <td>58719.500000</td>\n",
       "      <td>58735.484375</td>\n",
       "      <td>20.721600</td>\n",
       "      <td>20.619301</td>\n",
       "      <td>19.799200</td>\n",
       "      <td>20.556900</td>\n",
       "      <td>19.506063</td>\n",
       "      <td>19.260945</td>\n",
       "      <td>19.586000</td>\n",
       "      <td>19.517099</td>\n",
       "      <td>19.71060</td>\n",
       "      <td>20.446800</td>\n",
       "      <td>19.433531</td>\n",
       "      <td>19.203924</td>\n",
       "      <td>17.0</td>\n",
       "      <td>16.0</td>\n",
       "      <td>17.0</td>\n",
       "      <td>16.0</td>\n",
       "      <td>23.0</td>\n",
       "      <td>23.0</td>\n",
       "      <td>3.0</td>\n",
       "      <td>5.0</td>\n",
       "      <td>0.0</td>\n",
       "      <td>0.0</td>\n",
       "      <td>0.0</td>\n",
       "      <td>0.0</td>\n",
       "      <td>NaN</td>\n",
       "      <td>NaN</td>\n",
       "      <td>0.894286</td>\n",
       "      <td>0.998750</td>\n",
       "    </tr>\n",
       "    <tr>\n",
       "      <th>ZTF19abeyxmu</th>\n",
       "      <td>357.580628</td>\n",
       "      <td>35.875529</td>\n",
       "      <td>77</td>\n",
       "      <td>58663.461829</td>\n",
       "      <td>566.697188</td>\n",
       "      <td>0.391540</td>\n",
       "      <td>lc_classifier</td>\n",
       "      <td>QSO</td>\n",
       "      <td>1</td>\n",
       "      <td>0.706624</td>\n",
       "      <td>0.174949</td>\n",
       "      <td>NaN</td>\n",
       "      <td>0.992810</td>\n",
       "      <td>NaN</td>\n",
       "      <td>1.0</td>\n",
       "      <td>NaN</td>\n",
       "      <td>0.200000</td>\n",
       "      <td>NaN</td>\n",
       "      <td>0.0</td>\n",
       "      <td>NaN</td>\n",
       "      <td>1.091892</td>\n",
       "      <td>NaN</td>\n",
       "      <td>0.000000</td>\n",
       "      <td>NaN</td>\n",
       "      <td>0.000000e+00</td>\n",
       "      <td>0.000000e+00</td>\n",
       "      <td>0.995360</td>\n",
       "      <td>0.977559</td>\n",
       "      <td>0.208717</td>\n",
       "      <td>NaN</td>\n",
       "      <td>281.149411</td>\n",
       "      <td>1.913418</td>\n",
       "      <td>383.995009</td>\n",
       "      <td>1.844951</td>\n",
       "      <td>382.822427</td>\n",
       "      <td>4.986334</td>\n",
       "      <td>301.789553</td>\n",
       "      <td>2.946406</td>\n",
       "      <td>178.139483</td>\n",
       "      <td>1.856934</td>\n",
       "      <td>...</td>\n",
       "      <td>-0.225195</td>\n",
       "      <td>0.327564</td>\n",
       "      <td>0.038433</td>\n",
       "      <td>0.384375</td>\n",
       "      <td>-25.368766</td>\n",
       "      <td>109.262875</td>\n",
       "      <td>0.136549</td>\n",
       "      <td>0.062560</td>\n",
       "      <td>20.465200</td>\n",
       "      <td>20.813200</td>\n",
       "      <td>58666.477407</td>\n",
       "      <td>58697.434306</td>\n",
       "      <td>21.044100</td>\n",
       "      <td>20.932899</td>\n",
       "      <td>20.566000</td>\n",
       "      <td>20.859600</td>\n",
       "      <td>20.008016</td>\n",
       "      <td>19.623640</td>\n",
       "      <td>20.196701</td>\n",
       "      <td>20.227350</td>\n",
       "      <td>20.20100</td>\n",
       "      <td>20.564600</td>\n",
       "      <td>19.911051</td>\n",
       "      <td>19.583487</td>\n",
       "      <td>15.0</td>\n",
       "      <td>4.0</td>\n",
       "      <td>15.0</td>\n",
       "      <td>4.0</td>\n",
       "      <td>86.0</td>\n",
       "      <td>88.0</td>\n",
       "      <td>6.0</td>\n",
       "      <td>11.0</td>\n",
       "      <td>0.0</td>\n",
       "      <td>0.0</td>\n",
       "      <td>0.0</td>\n",
       "      <td>0.0</td>\n",
       "      <td>NaN</td>\n",
       "      <td>NaN</td>\n",
       "      <td>0.900000</td>\n",
       "      <td>0.994375</td>\n",
       "    </tr>\n",
       "    <tr>\n",
       "      <th>ZTF20aaxcwje</th>\n",
       "      <td>256.209850</td>\n",
       "      <td>48.376110</td>\n",
       "      <td>35</td>\n",
       "      <td>58941.493657</td>\n",
       "      <td>369.953507</td>\n",
       "      <td>NaN</td>\n",
       "      <td>lc_classifier</td>\n",
       "      <td>QSO</td>\n",
       "      <td>1</td>\n",
       "      <td>0.735456</td>\n",
       "      <td>0.066587</td>\n",
       "      <td>NaN</td>\n",
       "      <td>0.997456</td>\n",
       "      <td>NaN</td>\n",
       "      <td>1.0</td>\n",
       "      <td>NaN</td>\n",
       "      <td>0.205882</td>\n",
       "      <td>NaN</td>\n",
       "      <td>0.0</td>\n",
       "      <td>NaN</td>\n",
       "      <td>1.628363</td>\n",
       "      <td>NaN</td>\n",
       "      <td>-0.000002</td>\n",
       "      <td>NaN</td>\n",
       "      <td>2.008053e-04</td>\n",
       "      <td>NaN</td>\n",
       "      <td>127.989450</td>\n",
       "      <td>NaN</td>\n",
       "      <td>0.048685</td>\n",
       "      <td>NaN</td>\n",
       "      <td>0.016552</td>\n",
       "      <td>NaN</td>\n",
       "      <td>0.014741</td>\n",
       "      <td>NaN</td>\n",
       "      <td>0.006301</td>\n",
       "      <td>NaN</td>\n",
       "      <td>0.010974</td>\n",
       "      <td>NaN</td>\n",
       "      <td>0.016380</td>\n",
       "      <td>NaN</td>\n",
       "      <td>...</td>\n",
       "      <td>NaN</td>\n",
       "      <td>NaN</td>\n",
       "      <td>NaN</td>\n",
       "      <td>NaN</td>\n",
       "      <td>37.301865</td>\n",
       "      <td>74.658208</td>\n",
       "      <td>0.032152</td>\n",
       "      <td>NaN</td>\n",
       "      <td>19.932199</td>\n",
       "      <td>NaN</td>\n",
       "      <td>58940.468750</td>\n",
       "      <td>NaN</td>\n",
       "      <td>21.165899</td>\n",
       "      <td>NaN</td>\n",
       "      <td>19.932199</td>\n",
       "      <td>NaN</td>\n",
       "      <td>18.516898</td>\n",
       "      <td>NaN</td>\n",
       "      <td>20.069950</td>\n",
       "      <td>NaN</td>\n",
       "      <td>19.57745</td>\n",
       "      <td>NaN</td>\n",
       "      <td>18.457178</td>\n",
       "      <td>NaN</td>\n",
       "      <td>34.0</td>\n",
       "      <td>NaN</td>\n",
       "      <td>34.0</td>\n",
       "      <td>NaN</td>\n",
       "      <td>46.0</td>\n",
       "      <td>NaN</td>\n",
       "      <td>2.0</td>\n",
       "      <td>NaN</td>\n",
       "      <td>0.0</td>\n",
       "      <td>NaN</td>\n",
       "      <td>0.0</td>\n",
       "      <td>NaN</td>\n",
       "      <td>NaN</td>\n",
       "      <td>NaN</td>\n",
       "      <td>0.890714</td>\n",
       "      <td>1.000000</td>\n",
       "    </tr>\n",
       "    <tr>\n",
       "      <th>ZTF19acblzma</th>\n",
       "      <td>55.737639</td>\n",
       "      <td>-24.623923</td>\n",
       "      <td>75</td>\n",
       "      <td>58733.480185</td>\n",
       "      <td>521.645498</td>\n",
       "      <td>0.230239</td>\n",
       "      <td>lc_classifier</td>\n",
       "      <td>QSO</td>\n",
       "      <td>1</td>\n",
       "      <td>0.562972</td>\n",
       "      <td>0.137422</td>\n",
       "      <td>0.100077</td>\n",
       "      <td>0.772856</td>\n",
       "      <td>0.620711</td>\n",
       "      <td>3.0</td>\n",
       "      <td>1.0</td>\n",
       "      <td>0.371429</td>\n",
       "      <td>0.281250</td>\n",
       "      <td>0.0</td>\n",
       "      <td>0.0</td>\n",
       "      <td>0.625945</td>\n",
       "      <td>0.401247</td>\n",
       "      <td>-0.000017</td>\n",
       "      <td>-0.000009</td>\n",
       "      <td>1.003637e-03</td>\n",
       "      <td>1.310040e-03</td>\n",
       "      <td>29.096631</td>\n",
       "      <td>347.050675</td>\n",
       "      <td>-0.054420</td>\n",
       "      <td>-0.062025</td>\n",
       "      <td>1.105007</td>\n",
       "      <td>1.077166</td>\n",
       "      <td>1.039643</td>\n",
       "      <td>1.026579</td>\n",
       "      <td>0.845875</td>\n",
       "      <td>0.765368</td>\n",
       "      <td>0.655069</td>\n",
       "      <td>0.585739</td>\n",
       "      <td>0.447398</td>\n",
       "      <td>0.413150</td>\n",
       "      <td>...</td>\n",
       "      <td>-0.113552</td>\n",
       "      <td>0.191032</td>\n",
       "      <td>-0.114056</td>\n",
       "      <td>0.221590</td>\n",
       "      <td>-51.523869</td>\n",
       "      <td>219.119640</td>\n",
       "      <td>0.096063</td>\n",
       "      <td>0.060749</td>\n",
       "      <td>NaN</td>\n",
       "      <td>19.878901</td>\n",
       "      <td>NaN</td>\n",
       "      <td>58733.503906</td>\n",
       "      <td>20.148100</td>\n",
       "      <td>20.067900</td>\n",
       "      <td>NaN</td>\n",
       "      <td>19.878901</td>\n",
       "      <td>18.684136</td>\n",
       "      <td>18.462546</td>\n",
       "      <td>18.928150</td>\n",
       "      <td>19.248699</td>\n",
       "      <td>NaN</td>\n",
       "      <td>19.878901</td>\n",
       "      <td>18.516209</td>\n",
       "      <td>18.325176</td>\n",
       "      <td>35.0</td>\n",
       "      <td>32.0</td>\n",
       "      <td>35.0</td>\n",
       "      <td>32.0</td>\n",
       "      <td>24.0</td>\n",
       "      <td>28.0</td>\n",
       "      <td>0.0</td>\n",
       "      <td>1.0</td>\n",
       "      <td>0.0</td>\n",
       "      <td>0.0</td>\n",
       "      <td>0.0</td>\n",
       "      <td>0.0</td>\n",
       "      <td>NaN</td>\n",
       "      <td>NaN</td>\n",
       "      <td>0.890000</td>\n",
       "      <td>1.000000</td>\n",
       "    </tr>\n",
       "  </tbody>\n",
       "</table>\n",
       "<p>5 rows × 189 columns</p>\n",
       "</div>"
      ],
      "text/plain": [
       "                  meanra    meandec  ndet  ...  r-W3_0      rb_0  sgscore1_0\n",
       "oid                                        ...                              \n",
       "ZTF18acvtjlu  106.000655  34.140721   108  ...     NaN  0.891429    0.946417\n",
       "ZTF19abypwkv   52.879835  -0.951153    34  ...     NaN  0.894286    0.998750\n",
       "ZTF19abeyxmu  357.580628  35.875529    77  ...     NaN  0.900000    0.994375\n",
       "ZTF20aaxcwje  256.209850  48.376110    35  ...     NaN  0.890714    1.000000\n",
       "ZTF19acblzma   55.737639 -24.623923    75  ...     NaN  0.890000    1.000000\n",
       "\n",
       "[5 rows x 189 columns]"
      ]
     },
     "execution_count": 27,
     "metadata": {
      "tags": []
     },
     "output_type": "execute_result"
    }
   ],
   "source": [
    "#joining the objects and features dataframes\n",
    "objects = objects.join(features_aux)\n",
    "objects.head()"
   ]
  },
  {
   "cell_type": "markdown",
   "metadata": {
    "id": "yXww0M5ItiX9"
   },
   "source": [
    "Now let's see the distribution of the Damp Random Walk (DRW) parameters.  A DRW model is defined by a stochastic differential equation which includes a damping term that pushes the signal back to its mean: $$dX(t)=-\\frac{1}{\\tau_{DRW}}X(t)dt+\\sigma_{DRW}\\sqrt{dt}\\,\\epsilon(t)+b\\,dt,    \\quad      \\tau_{DRW},\\sigma_{DRW},t>0.$$  $\\tau_{DRW}$ corresponds to the characteristic time for the time series to become roughly uncorrelated, $\\sigma_{DRW}$ corresponds to the amplitude of the variability at short timescales ($t \\ll \\tau_{DRW}$), and $\\epsilon(t)$ is a white noise process with zero mean and variance equal to 1. DRW modelling is typically used to describe light curves of active galactic nuclei ([Kelly et al. 2009](https://ui.adsabs.harvard.edu/abs/2009ApJ...698..895K/abstract)). In this case we obtained the $\\sigma_{DRW}$ and $\\tau_{DRW}$ parameters using Gaussian process regression, with a Ornstein-Uhlenbeck kernel, as in [Graham et al. 2017](https://ui.adsabs.harvard.edu/abs/2017MNRAS.470.4112G/abstract). GP\\_DRW\\_sigma denote $\\sigma_{DRW}$, while GP\\_DRW\\_tau denote  $\\tau_{DRW}$.\n",
    "\n",
    "\n",
    "Below we plot the distribution of GP\\_DRW\\_tau and GP\\_DRW\\_sigma in the $g$ band, for QSOs, AGNs, and Blazars. "
   ]
  },
  {
   "cell_type": "code",
   "execution_count": 28,
   "metadata": {
    "colab": {
     "base_uri": "https://localhost:8080/",
     "height": 531
    },
    "id": "YZ46O2Myt0Ae",
    "outputId": "d3c453ba-33ae-4c73-a006-b93e4bd8d305"
   },
   "outputs": [
    {
     "data": {
      "text/plain": [
       "(-4.5, 0.3)"
      ]
     },
     "execution_count": 28,
     "metadata": {
      "tags": []
     },
     "output_type": "execute_result"
    },
    {
     "data": {
      "image/png": "[encoded data removed]",
      "text/plain": [
       "<Figure size 576x576 with 1 Axes>"
      ]
     },
     "metadata": {
      "needs_background": "light",
      "tags": []
     },
     "output_type": "display_data"
    }
   ],
   "source": [
    "#defining the features to be plotted\n",
    "feature_x='GP_DRW_sigma_1'\n",
    "feature_y='GP_DRW_tau_1'\n",
    "\n",
    "#creating the figure\n",
    "fig, ax = plt.subplots(figsize = (8,8)) \n",
    "\n",
    "objects_aux = objects[(objects[feature_x]>=1e-4) & (objects[feature_y]>=1)] # we want to avoid incorrect measurements \n",
    "\n",
    "for class_name, color in [(\"QSO\",\"lightsteelblue\"),(\"AGN\",\"lightcoral\"),(\"Blazar\",\"olivedrab\")]:\n",
    "  plt.scatter(np.log10(objects_aux.loc[objects_aux[\"class_name\"]==class_name,feature_x].values),np.log10(objects_aux.loc[objects_aux[\"class_name\"]==class_name,feature_y].values),c=color,s=2,label=class_name)\n",
    "\n",
    "\n",
    "plt.ylabel(\"log10(%s)\" % (feature_y),fontsize=15)\n",
    "plt.xlabel(\"log10(%s)\" % (feature_x),fontsize=15)\n",
    "plt.xticks(fontsize = 15)\n",
    "plt.yticks(fontsize = 15)\n",
    "plt.legend(fontsize = 15,markerscale=5)\n",
    "plt.ylim(0,4)\n",
    "plt.xlim(-4.5,0.3)"
   ]
  },
  {
   "cell_type": "markdown",
   "metadata": {
    "id": "AgFIaGhat5bc"
   },
   "source": [
    "It can be seen that QSOs, AGNs, and Blazars occupy different locations in this plot, with Blazars showing larger values of GP\\_DRW\\_sigma\\_1. This behavior was also found in a previous analysis presented by [Ruan et al. 2012](https://ui.adsabs.harvard.edu/abs/2012ApJ...760...51R/abstract)."
   ]
  },
  {
   "cell_type": "markdown",
   "metadata": {
    "id": "FwoB3JOF9dku"
   },
   "source": [
    "If you want to learn more about active galaxies with ALeRCE, please visit the following notebook:\n",
    "* https://github.com/alercebroker/usecases/blob/master/notebooks/ALeRCE_ZTF_ActiveGalaxies.ipynb: detailed AGN notebook, including examples on how to use the ALeRCE client, and complex queries to the database."
   ]
  },
  {
   "cell_type": "code",
   "execution_count": 28,
   "metadata": {
    "id": "-a4-Rz5v9tQn"
   },
   "outputs": [],
   "source": []
  }
 ],
 "metadata": {
  "colab": {
   "collapsed_sections": [],
   "name": "ALeRCE-Extragalactic-notebook-brokers-workshop-2021.ipynb",
   "provenance": [],
   "toc_visible": true
  },
  "kernelspec": {
   "display_name": "Python 3",
   "language": "python",
   "name": "python3"
  },
  "language_info": {
   "codemirror_mode": {
    "name": "ipython",
    "version": 3
   },
   "file_extension": ".py",
   "mimetype": "text/x-python",
   "name": "python",
   "nbconvert_exporter": "python",
   "pygments_lexer": "ipython3",
   "version": "3.6.5"
  },
  "toc": {
   "base_numbering": 1,
   "nav_menu": {},
   "number_sections": true,
   "sideBar": true,
   "skip_h1_title": false,
   "title_cell": "Table of Contents",
   "title_sidebar": "Contents",
   "toc_cell": false,
   "toc_position": {},
   "toc_section_display": true,
   "toc_window_display": true
  }
 },
 "nbformat": 4,
 "nbformat_minor": 1
}
