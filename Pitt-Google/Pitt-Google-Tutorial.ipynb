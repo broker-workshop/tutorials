{
  "nbformat": 4,
  "nbformat_minor": 0,
  "metadata": {
    "colab": {
      "name": "Pitt-Google-Tutorial.ipynb",
      "provenance": [],
      "collapsed_sections": [
        "4ZEcM1Bnavm4",
        "cCcdjz1v3fuJ",
        "pdVlJmWWawvx",
        "tXTEuyccOJoa",
        "gVNNwPBfOBrZ",
        "s2kX-kEJemYD",
        "AbTyVXUko6-d",
        "ob8VDnewmsbg",
        "id1fk4u06Bcq",
        "3nDSzXh1khgt",
        "jwxBVDcgVsOZ",
        "bHoxCS-EAH4J",
        "z-TsZDqwDC8O",
        "VbkGy7YPV8IH",
        "0lM2UnLgY5bn",
        "bXGtYU4aGg5h",
        "XaZ4wfvY55bm",
        "u7F6Pa7M2RDv"
      ],
      "authorship_tag": "ABX9TyM6WTNc6M9OWz0OzezJPJUk",
      "include_colab_link": true
    },
    "kernelspec": {
      "name": "python3",
      "display_name": "Python 3"
    },
    "language_info": {
      "name": "python"
    }
  },
  "cells": [
    {
      "cell_type": "markdown",
      "metadata": {
        "id": "view-in-github",
        "colab_type": "text"
      },
      "source": [
        "<a href=\"https://colab.research.google.com/github/broker-workshop/tutorials/blob/main/Pitt-Google/Pitt-Google-Tutorial.ipynb\" target=\"_parent\"><img src=\"https://colab.research.google.com/assets/colab-badge.svg\" alt=\"Open In Colab\"/></a>"
      ]
    },
    {
      "cell_type": "markdown",
      "metadata": {
        "id": "HLKPXqDBCCHh"
      },
      "source": [
        "# Pitt-Google Broker Tutorial"
      ]
    },
    {
      "cell_type": "markdown",
      "metadata": {
        "id": "S_oOEo3Rr8cP"
      },
      "source": [
        "| | Learning Objective | Section | Notes |\n",
        "|---|---|---|---|\n",
        "| 1. | Understand What, Where, How to access | 1) Introduction | ZTF data. Google Cloud SDK (Python, command-line). `pgb-utils` Python package. |\n",
        "| 2. | Access the data | 3) BigQuery Database | Alert data (no cutouts), lightcurves, cone search. Standard SQL queries (Python, command-line). `pgb-utils` helper functions. |\n",
        "| | | 4) Files in Cloud Storage | Alert packets in Avro file format (includes cutouts). Direct downloads. |\n",
        "| 3. | Process the data | 5) Apache Beam data pipelines |  End-to-end, working examples with templates for user-defined functions. |\n",
        "\n",
        "---\n",
        "If this is your first time here, you may wish to start with the condensed version: [Pitt-Google-Tutorial-Code-Samples.ipynb](https://colab.research.google.com/github/broker-workshop/tutorials/blob/main/Pitt-Google/Pitt-Google-Tutorial-Code-Samples.ipynb)."
      ]
    },
    {
      "cell_type": "markdown",
      "metadata": {
        "id": "4ZEcM1Bnavm4"
      },
      "source": [
        "# Notebook Outline"
      ]
    },
    {
      "cell_type": "markdown",
      "metadata": {
        "id": "WZSn7nx19UVP"
      },
      "source": [
        "1. Introduction\n",
        "    - 1a. Data overview\n",
        "    - 1b. `pgb_utils` overview\n",
        "    - 1c. Note on costs\n",
        "\n",
        "2. Setup\n",
        "\n",
        "3. BigQuery Database\n",
        "    - 3a. Python\n",
        "        - Table names and schemas\n",
        "        - Query lightcurves and other history\n",
        "            - Plot a lightcurve\n",
        "        - Cone Search\n",
        "        - Direct access using `google.cloud.bigquery`\n",
        "    - 3b. Command-line tool `bq`\n",
        "\n",
        "4. Files in Cloud Storage\n",
        "    - 4a. Python\n",
        "        - Download files\n",
        "        - Plot cutouts and lightcurves\n",
        "    - 4b. Command-line tool `gsutil`\n",
        "\n",
        "5. Apache Beam data pipelines\n",
        "    - 5a. A demo example\n",
        "    - 5b. Descriptions\n",
        "    - 5c. Pitt-Google working examples\n",
        "        - Lightcurve pipeline\n",
        "        - Cone Search pipeline"
      ]
    },
    {
      "cell_type": "markdown",
      "metadata": {
        "id": "Htm4fDjtonqP"
      },
      "source": [
        "---"
      ]
    },
    {
      "cell_type": "markdown",
      "metadata": {
        "id": "cCcdjz1v3fuJ"
      },
      "source": [
        "# 1) Introduction"
      ]
    },
    {
      "cell_type": "markdown",
      "metadata": {
        "id": "a-5iWHDq13Np"
      },
      "source": [
        "## 1a) Data overview"
      ]
    },
    {
      "cell_type": "markdown",
      "metadata": {
        "id": "mC2s1Xw61E5G"
      },
      "source": [
        "We are currently ingesting the [Zwicky Transient Facility](https://www.ztf.caltech.edu/) (ZTF) nightly alert stream and publishing various filtered and derived message streams. Our database and file storage contain data from alerts since ~November 2020.\n",
        "All Pitt-Google Broker data is public and hosted by [Google Cloud Platform](https://cloud.google.com/) (GCP).\n",
        "\n",
        "__Data Access__:\n",
        "\n",
        "All data and resources can be accessed via Google's [Cloud SDK](https://cloud.google.com/sdk) by way of the command-line, Python, and many other languages.\n",
        "In addition, we are developing the `pgb_utils` Python package which provides convience functions for common tasks such as querying the database for lightcurves or cone searches, decoding, plotting, and processing the data.\n",
        "This tutorial demonstrates access via the command-line (Cloud SDK) and Python (Cloud SDK, `pgb_utils`).\n",
        "\n",
        "In order to make API calls you will need to create a Cloud project that is associated with your Google account.\n",
        "The Setup section of the tutorial will walk you through this.\n",
        "You do not need to enable billing for this tutorial; everything we do will fall under the \"Free Tier\".\n",
        "Some notes on pricing are included in relevant sections below. \n",
        "\n",
        "__Data Products__:\n",
        "\n",
        "- Databases ([BigQuery](https://cloud.google.com/bigquery))\n",
        "    - query for:\n",
        "        - alerts (except cutouts)\n",
        "        - object lightcurves and other history\n",
        "        - cone searches\n",
        "\n",
        "- File storage ([Cloud Storage](https://cloud.google.com/storage))\n",
        "    - download the complete, original alert packets in Avro format, including cutouts\n",
        "\n",
        "- Message streams ([Pub/Sub](https://cloud.google.com/pubsub/docs/overview)) (covered in a future tutorial)\n",
        "    - streams include:\n",
        "        - ZTF stream: complete\n",
        "        - ZTF stream: filtered for purity\n",
        "        - ZTF stream: filtered for likely extragalactic transients\n",
        "        - ZTF stream + Salt2 fits (on likely extragalactic transients)"
      ]
    },
    {
      "cell_type": "markdown",
      "metadata": {
        "id": "2NKaJK3K2I1I"
      },
      "source": [
        "---"
      ]
    },
    {
      "cell_type": "markdown",
      "metadata": {
        "id": "W_JYHktO2Q7V"
      },
      "source": [
        "## 1b) `pgb_utils` overview"
      ]
    },
    {
      "cell_type": "markdown",
      "metadata": {
        "id": "bMqmWgFn2NS-"
      },
      "source": [
        "`pgb_utils` is a collection of helper functions to facilitate interaction with Pitt-Google Broker data. The tutorial will demonstrate its use. The package is essentially a set of:\n",
        "\n",
        "1. Convience wrappers for the [Google Cloud Python SDK](https://cloud.google.com/python/docs/reference)\n",
        "2. Helper functions for decoding and plotting ZTF data, provided by ZTF (see [Filtering_alerts.ipynb](https://github.com/ZwickyTransientFacility/ztf-avro-alert/blob/master/notebooks/Filtering_alerts.ipynb))\n",
        "3. Helper functions for running [Apache Beam](https://beam.apache.org/) pipelines\n",
        "\n",
        "We view it as a set of examples that demonstrate common tasks. You are encouraged to look at and alter the source code to learn how to use the underlying methods yourself.\n",
        "\n",
        "Modules and their functionality include:\n",
        "\n",
        "- `pgb_utils.beam`\n",
        "    - helper functions for running Apache Beam data pipelines\n",
        "\n",
        "- `pgb_utils.bigquery`\n",
        "    - view dataset, table, and schema information\n",
        "    - query: lightcurves\n",
        "    - query: cone search\n",
        "    - cast query results to a `pandas.DataFrame` or `json` formatted string.\n",
        "\n",
        "- `pgb_utils.figures`\n",
        "    - plot lightcurves\n",
        "    - plot cutouts\n",
        "\n",
        "- `pgb_utils.utils`\n",
        "    - general utilities such as data type casting\n"
      ]
    },
    {
      "cell_type": "markdown",
      "metadata": {
        "id": "M0kapV453LsS"
      },
      "source": [
        "---"
      ]
    },
    {
      "cell_type": "markdown",
      "metadata": {
        "id": "Cw-BDfrmoCHN"
      },
      "source": [
        "## 1c) Note on costs"
      ]
    },
    {
      "cell_type": "markdown",
      "metadata": {
        "id": "_vE16R7x4yJB"
      },
      "source": [
        "Google Cloud's pricing structure is \"pay-as-you-go\". \n",
        "Most services include a [Free Tier](https://cloud.google.com/free) monthly allotment. \n",
        "For example, when querying BigQuery, the price is $5.00 per TB of data processed, and your first 1 TB per month is free. \n",
        "\n",
        "_You do not need to setup billing for this tutorial; everything we do will remain well within the Free Tier(*)._\n",
        "If you wish to become a power-user in the future, you may need to [create a billing account](https://support.google.com/cloud/answer/6293499#enable-billing). See also: \n",
        "- [pricing structure](https://cloud.google.com/pricing) (scroll to \"Only pay for what you use\")\n",
        "- [detailed price list](https://cloud.google.com/pricing/list) (search for \"BigQuery\", \"Cloud Storage\", \"Pub/Sub\"); \n",
        "- [pricing calculator](https://cloud.google.com/products/calculator?skip_cache=true) (same search as above)\n",
        "\n",
        "(*) The Free Tier for Cloud Storage is limited to processing within US regions (which will depend on where your Colab instance is running). "
      ]
    },
    {
      "cell_type": "markdown",
      "metadata": {
        "id": "ALIGt4P12KB-"
      },
      "source": [
        "---"
      ]
    },
    {
      "cell_type": "markdown",
      "metadata": {
        "id": "pdVlJmWWawvx"
      },
      "source": [
        "# 2) Setup"
      ]
    },
    {
      "cell_type": "markdown",
      "metadata": {
        "id": "3qjOE_7Ka1zR"
      },
      "source": [
        "1. Use the [Cloud Resource Manager](https://console.cloud.google.com/cloud-resource-manager) to create a GCP project. \n",
        "It is a simple process, and you do not need to enable billing of any kind. \n",
        "Take note of the auto-generated \"Project ID\", you will need it below in order to make API calls.\n",
        "\n",
        "![create GCP project](https://raw.githubusercontent.com/mwvgroup/Pitt-Google-Broker/master/pgb_utils/tutorials/img/create_GCP_project.png)\n",
        "\n",
        "- If you work outside of Colab you may need to:\n",
        "    - enable APIs for your project: [BigQuery](https://console.cloud.google.com/flows/enableapi?apiid=bigquery); \n",
        "    - [setup authentication](https://cloud.google.com/docs/authentication/getting-started)\n",
        "\n",
        "\n",
        "2. Installs, imports, etc.:"
      ]
    },
    {
      "cell_type": "code",
      "metadata": {
        "id": "ZwISaJSymrhh"
      },
      "source": [
        "pgb_project_name = 'pitt-google-broker-prototype'\n",
        "pgb_project_id = 'ardent-cycling-243415'"
      ],
      "execution_count": 1,
      "outputs": []
    },
    {
      "cell_type": "code",
      "metadata": {
        "id": "ubkZqvJuuMrR"
      },
      "source": [
        "# ENTER YOUR GCP PROJECT ID HERE\n",
        "my_project_id = "
      ],
      "execution_count": 2,
      "outputs": []
    },
    {
      "cell_type": "code",
      "metadata": {
        "colab": {
          "base_uri": "https://localhost:8080/"
        },
        "id": "kCFKfH5pbZBN",
        "outputId": "fc90f80d-990f-4d42-a77a-e88a2f808e88"
      },
      "source": [
        "!{'pip install pgb-utils'}"
      ],
      "execution_count": 3,
      "outputs": [
        {
          "output_type": "stream",
          "text": [
            "Collecting pgb-utils\n",
            "  Downloading https://files.pythonhosted.org/packages/85/cc/cfaa8de5aed9d05835654793006d1e2a527a7772362ba1eebcc8731c1cfb/pgb_utils-0.1.3-py3-none-any.whl\n",
            "Requirement already satisfied: google-cloud-bigquery in /usr/local/lib/python3.7/dist-packages (from pgb-utils) (1.21.0)\n",
            "Collecting astropy==3.2.1\n",
            "\u001b[?25l  Downloading https://files.pythonhosted.org/packages/ae/27/4cd019143d3af49be9dd2a8ac69b27bd08a66cee8e43f8639bc59d374ae3/astropy-3.2.1-cp37-cp37m-manylinux1_x86_64.whl (6.3MB)\n",
            "\u001b[K     |████████████████████████████████| 6.3MB 14.7MB/s \n",
            "\u001b[?25hCollecting apache-beam\n",
            "\u001b[?25l  Downloading https://files.pythonhosted.org/packages/e1/e7/d6e5a3786d9a037a38af966bf154bcd6cb3cbea2edffda00cf6c417cc9a2/apache_beam-2.28.0-cp37-cp37m-manylinux2010_x86_64.whl (9.0MB)\n",
            "\u001b[K     |████████████████████████████████| 9.0MB 33.3MB/s \n",
            "\u001b[?25hCollecting beautifulsoup4==4.8\n",
            "\u001b[?25l  Downloading https://files.pythonhosted.org/packages/1a/b7/34eec2fe5a49718944e215fde81288eec1fa04638aa3fb57c1c6cd0f98c3/beautifulsoup4-4.8.0-py3-none-any.whl (97kB)\n",
            "\u001b[K     |████████████████████████████████| 102kB 12.1MB/s \n",
            "\u001b[?25hRequirement already satisfied: matplotlib in /usr/local/lib/python3.7/dist-packages (from pgb-utils) (3.2.2)\n",
            "Requirement already satisfied: pandas in /usr/local/lib/python3.7/dist-packages (from pgb-utils) (1.1.5)\n",
            "Requirement already satisfied: tabulate in /usr/local/lib/python3.7/dist-packages (from pgb-utils) (0.8.9)\n",
            "Collecting google-apitools\n",
            "\u001b[?25l  Downloading https://files.pythonhosted.org/packages/19/da/aefc4cf4c168b5d875344cd9dddc77e3a2d11986b630251af5ce47dd2843/google-apitools-0.5.31.tar.gz (173kB)\n",
            "\u001b[K     |████████████████████████████████| 174kB 42.5MB/s \n",
            "\u001b[?25hCollecting typing\n",
            "\u001b[?25l  Downloading https://files.pythonhosted.org/packages/05/d9/6eebe19d46bd05360c9a9aae822e67a80f9242aabbfc58b641b957546607/typing-3.7.4.3.tar.gz (78kB)\n",
            "\u001b[K     |████████████████████████████████| 81kB 9.4MB/s \n",
            "\u001b[?25hRequirement already satisfied: google-cloud-storage in /usr/local/lib/python3.7/dist-packages (from pgb-utils) (1.18.1)\n",
            "Collecting aplpy\n",
            "\u001b[?25l  Downloading https://files.pythonhosted.org/packages/92/5b/cb15d46774105bc536165f2ffa9e114509915f5983c51666512752635b8c/APLpy-2.0.3-py2.py3-none-any.whl (89kB)\n",
            "\u001b[K     |████████████████████████████████| 92kB 11.3MB/s \n",
            "\u001b[?25hCollecting astropy-healpix==0.6\n",
            "\u001b[?25l  Downloading https://files.pythonhosted.org/packages/50/53/3158aaf86e25f5062555d18903519e501b93df556c1b675f30b1e18d9400/astropy_healpix-0.6-cp37-cp37m-manylinux2010_x86_64.whl (208kB)\n",
            "\u001b[K     |████████████████████████████████| 215kB 48.1MB/s \n",
            "\u001b[?25hRequirement already satisfied: numpy in /usr/local/lib/python3.7/dist-packages (from pgb-utils) (1.19.5)\n",
            "Requirement already satisfied: protobuf>=3.6.0 in /usr/local/lib/python3.7/dist-packages (from google-cloud-bigquery->pgb-utils) (3.12.4)\n",
            "Requirement already satisfied: google-resumable-media!=0.4.0,<0.5.0dev,>=0.3.1 in /usr/local/lib/python3.7/dist-packages (from google-cloud-bigquery->pgb-utils) (0.4.1)\n",
            "Requirement already satisfied: google-cloud-core<2.0dev,>=1.0.3 in /usr/local/lib/python3.7/dist-packages (from google-cloud-bigquery->pgb-utils) (1.0.3)\n",
            "Collecting pyarrow<3.0.0,>=0.15.1\n",
            "\u001b[?25l  Downloading https://files.pythonhosted.org/packages/2e/8d/c002e27767595f22aa09ed0d364327922f673d12b36526c967a2bf6b2ed7/pyarrow-2.0.0-cp37-cp37m-manylinux2014_x86_64.whl (17.7MB)\n",
            "\u001b[K     |████████████████████████████████| 17.7MB 248kB/s \n",
            "\u001b[?25hCollecting requests<3.0.0,>=2.24.0\n",
            "\u001b[?25l  Downloading https://files.pythonhosted.org/packages/29/c1/24814557f1d22c56d50280771a17307e6bf87b70727d975fd6b2ce6b014a/requests-2.25.1-py2.py3-none-any.whl (61kB)\n",
            "\u001b[K     |████████████████████████████████| 61kB 8.1MB/s \n",
            "\u001b[?25hRequirement already satisfied: pydot<2,>=1.2.0 in /usr/local/lib/python3.7/dist-packages (from apache-beam->pgb-utils) (1.3.0)\n",
            "Requirement already satisfied: grpcio<2,>=1.29.0 in /usr/local/lib/python3.7/dist-packages (from apache-beam->pgb-utils) (1.32.0)\n",
            "Collecting hdfs<3.0.0,>=2.1.0\n",
            "  Downloading https://files.pythonhosted.org/packages/08/f7/4c3fad73123a24d7394b6f40d1ec9c1cbf2e921cfea1797216ffd0a51fb1/hdfs-2.6.0-py3-none-any.whl\n",
            "Requirement already satisfied: pymongo<4.0.0,>=3.8.0 in /usr/local/lib/python3.7/dist-packages (from apache-beam->pgb-utils) (3.11.3)\n",
            "Collecting avro-python3!=1.9.2,<1.10.0,>=1.8.1\n",
            "  Downloading https://files.pythonhosted.org/packages/5a/80/acd1455bea0a9fcdc60a748a97dcbb3ff624726fb90987a0fc1c19e7a5a5/avro-python3-1.9.2.1.tar.gz\n",
            "Requirement already satisfied: crcmod<2.0,>=1.7 in /usr/local/lib/python3.7/dist-packages (from apache-beam->pgb-utils) (1.7)\n",
            "Requirement already satisfied: typing-extensions<3.8.0,>=3.7.0 in /usr/local/lib/python3.7/dist-packages (from apache-beam->pgb-utils) (3.7.4.3)\n",
            "Requirement already satisfied: oauth2client<5,>=2.0.1 in /usr/local/lib/python3.7/dist-packages (from apache-beam->pgb-utils) (4.1.3)\n",
            "Requirement already satisfied: httplib2<0.18.0,>=0.8 in /usr/local/lib/python3.7/dist-packages (from apache-beam->pgb-utils) (0.17.4)\n",
            "Requirement already satisfied: pytz>=2018.3 in /usr/local/lib/python3.7/dist-packages (from apache-beam->pgb-utils) (2018.9)\n",
            "Collecting dill<0.3.2,>=0.3.1.1\n",
            "\u001b[?25l  Downloading https://files.pythonhosted.org/packages/c7/11/345f3173809cea7f1a193bfbf02403fff250a3360e0e118a1630985e547d/dill-0.3.1.1.tar.gz (151kB)\n",
            "\u001b[K     |████████████████████████████████| 153kB 49.1MB/s \n",
            "\u001b[?25hCollecting mock<3.0.0,>=1.0.1\n",
            "\u001b[?25l  Downloading https://files.pythonhosted.org/packages/e6/35/f187bdf23be87092bd0f1200d43d23076cee4d0dec109f195173fd3ebc79/mock-2.0.0-py2.py3-none-any.whl (56kB)\n",
            "\u001b[K     |████████████████████████████████| 61kB 7.7MB/s \n",
            "\u001b[?25hCollecting fastavro<2,>=0.21.4\n",
            "\u001b[?25l  Downloading https://files.pythonhosted.org/packages/c5/c7/9ef9fda5e178aa5f5cda00c0d7505749506c540f9caf876d23c6cf915bf9/fastavro-1.3.5-cp37-cp37m-manylinux2014_x86_64.whl (2.2MB)\n",
            "\u001b[K     |████████████████████████████████| 2.2MB 46.0MB/s \n",
            "\u001b[?25hRequirement already satisfied: python-dateutil<3,>=2.8.0 in /usr/local/lib/python3.7/dist-packages (from apache-beam->pgb-utils) (2.8.1)\n",
            "Collecting future<1.0.0,>=0.18.2\n",
            "\u001b[?25l  Downloading https://files.pythonhosted.org/packages/45/0b/38b06fd9b92dc2b68d58b75f900e97884c45bedd2ff83203d933cf5851c9/future-0.18.2.tar.gz (829kB)\n",
            "\u001b[K     |████████████████████████████████| 829kB 41.6MB/s \n",
            "\u001b[?25hCollecting soupsieve>=1.2\n",
            "  Downloading https://files.pythonhosted.org/packages/36/69/d82d04022f02733bf9a72bc3b96332d360c0c5307096d76f6bb7489f7e57/soupsieve-2.2.1-py3-none-any.whl\n",
            "Requirement already satisfied: pyparsing!=2.0.4,!=2.1.2,!=2.1.6,>=2.0.1 in /usr/local/lib/python3.7/dist-packages (from matplotlib->pgb-utils) (2.4.7)\n",
            "Requirement already satisfied: kiwisolver>=1.0.1 in /usr/local/lib/python3.7/dist-packages (from matplotlib->pgb-utils) (1.3.1)\n",
            "Requirement already satisfied: cycler>=0.10 in /usr/local/lib/python3.7/dist-packages (from matplotlib->pgb-utils) (0.10.0)\n",
            "Collecting fasteners>=0.14\n",
            "  Downloading https://files.pythonhosted.org/packages/78/20/c862d765287e9e8b29f826749ebae8775bdca50b2cb2ca079346d5fbfd76/fasteners-0.16-py2.py3-none-any.whl\n",
            "Requirement already satisfied: six>=1.12.0 in /usr/local/lib/python3.7/dist-packages (from google-apitools->pgb-utils) (1.15.0)\n",
            "Requirement already satisfied: google-auth>=1.2.0 in /usr/local/lib/python3.7/dist-packages (from google-cloud-storage->pgb-utils) (1.28.0)\n",
            "Requirement already satisfied: pillow>=4.0 in /usr/local/lib/python3.7/dist-packages (from aplpy->pgb-utils) (7.1.2)\n",
            "Collecting pyavm>=0.9.4\n",
            "\u001b[?25l  Downloading https://files.pythonhosted.org/packages/dc/d6/af61e7fcdd39b7d2303e6cafaee3b043bd59938d0ef69a4b7cb7bdbdb892/PyAVM-0.9.5-py2.py3-none-any.whl (378kB)\n",
            "\u001b[K     |████████████████████████████████| 378kB 37.0MB/s \n",
            "\u001b[?25hRequirement already satisfied: shapely>=1.6 in /usr/local/lib/python3.7/dist-packages (from aplpy->pgb-utils) (1.7.1)\n",
            "Requirement already satisfied: scikit-image>=0.14 in /usr/local/lib/python3.7/dist-packages (from aplpy->pgb-utils) (0.16.2)\n",
            "Collecting reproject>=0.4\n",
            "\u001b[?25l  Downloading https://files.pythonhosted.org/packages/31/94/94e1d697cec0e965ea00fb08dd787859e04dfe7531886c97de5cfa4130cc/reproject-0.7.1-cp37-cp37m-manylinux2010_x86_64.whl (1.3MB)\n",
            "\u001b[K     |████████████████████████████████| 1.3MB 46.2MB/s \n",
            "\u001b[?25hCollecting pyregion>=2.0\n",
            "\u001b[?25l  Downloading https://files.pythonhosted.org/packages/9d/e9/739397a25a6197f9af396e8ab249ea04d3cc2eb32e96870e2aafcfccf7f4/pyregion-2.0.tar.gz (1.1MB)\n",
            "\u001b[K     |████████████████████████████████| 1.1MB 25.9MB/s \n",
            "\u001b[?25hRequirement already satisfied: setuptools in /usr/local/lib/python3.7/dist-packages (from protobuf>=3.6.0->google-cloud-bigquery->pgb-utils) (54.2.0)\n",
            "Requirement already satisfied: google-api-core<2.0.0dev,>=1.14.0 in /usr/local/lib/python3.7/dist-packages (from google-cloud-core<2.0dev,>=1.0.3->google-cloud-bigquery->pgb-utils) (1.26.2)\n",
            "Requirement already satisfied: chardet<5,>=3.0.2 in /usr/local/lib/python3.7/dist-packages (from requests<3.0.0,>=2.24.0->apache-beam->pgb-utils) (3.0.4)\n",
            "Requirement already satisfied: urllib3<1.27,>=1.21.1 in /usr/local/lib/python3.7/dist-packages (from requests<3.0.0,>=2.24.0->apache-beam->pgb-utils) (1.24.3)\n",
            "Requirement already satisfied: certifi>=2017.4.17 in /usr/local/lib/python3.7/dist-packages (from requests<3.0.0,>=2.24.0->apache-beam->pgb-utils) (2020.12.5)\n",
            "Requirement already satisfied: idna<3,>=2.5 in /usr/local/lib/python3.7/dist-packages (from requests<3.0.0,>=2.24.0->apache-beam->pgb-utils) (2.10)\n",
            "Requirement already satisfied: docopt in /usr/local/lib/python3.7/dist-packages (from hdfs<3.0.0,>=2.1.0->apache-beam->pgb-utils) (0.6.2)\n",
            "Requirement already satisfied: rsa>=3.1.4 in /usr/local/lib/python3.7/dist-packages (from oauth2client<5,>=2.0.1->apache-beam->pgb-utils) (4.7.2)\n",
            "Requirement already satisfied: pyasn1-modules>=0.0.5 in /usr/local/lib/python3.7/dist-packages (from oauth2client<5,>=2.0.1->apache-beam->pgb-utils) (0.2.8)\n",
            "Requirement already satisfied: pyasn1>=0.1.7 in /usr/local/lib/python3.7/dist-packages (from oauth2client<5,>=2.0.1->apache-beam->pgb-utils) (0.4.8)\n",
            "Collecting pbr>=0.11\n",
            "\u001b[?25l  Downloading https://files.pythonhosted.org/packages/fb/48/69046506f6ac61c1eaa9a0d42d22d54673b69e176d30ca98e3f61513e980/pbr-5.5.1-py2.py3-none-any.whl (106kB)\n",
            "\u001b[K     |████████████████████████████████| 112kB 50.2MB/s \n",
            "\u001b[?25hRequirement already satisfied: cachetools<5.0,>=2.0.0 in /usr/local/lib/python3.7/dist-packages (from google-auth>=1.2.0->google-cloud-storage->pgb-utils) (4.2.1)\n",
            "Requirement already satisfied: scipy>=0.19.0 in /usr/local/lib/python3.7/dist-packages (from scikit-image>=0.14->aplpy->pgb-utils) (1.4.1)\n",
            "Requirement already satisfied: PyWavelets>=0.4.0 in /usr/local/lib/python3.7/dist-packages (from scikit-image>=0.14->aplpy->pgb-utils) (1.1.1)\n",
            "Requirement already satisfied: networkx>=2.0 in /usr/local/lib/python3.7/dist-packages (from scikit-image>=0.14->aplpy->pgb-utils) (2.5)\n",
            "Requirement already satisfied: imageio>=2.3.0 in /usr/local/lib/python3.7/dist-packages (from scikit-image>=0.14->aplpy->pgb-utils) (2.4.1)\n",
            "Requirement already satisfied: Cython in /usr/local/lib/python3.7/dist-packages (from pyregion>=2.0->aplpy->pgb-utils) (0.29.22)\n",
            "Requirement already satisfied: googleapis-common-protos<2.0dev,>=1.6.0 in /usr/local/lib/python3.7/dist-packages (from google-api-core<2.0.0dev,>=1.14.0->google-cloud-core<2.0dev,>=1.0.3->google-cloud-bigquery->pgb-utils) (1.53.0)\n",
            "Requirement already satisfied: packaging>=14.3 in /usr/local/lib/python3.7/dist-packages (from google-api-core<2.0.0dev,>=1.14.0->google-cloud-core<2.0dev,>=1.0.3->google-cloud-bigquery->pgb-utils) (20.9)\n",
            "Requirement already satisfied: decorator>=4.3.0 in /usr/local/lib/python3.7/dist-packages (from networkx>=2.0->scikit-image>=0.14->aplpy->pgb-utils) (4.4.2)\n",
            "Building wheels for collected packages: google-apitools, typing, avro-python3, dill, future, pyregion\n",
            "  Building wheel for google-apitools (setup.py) ... \u001b[?25l\u001b[?25hdone\n",
            "  Created wheel for google-apitools: filename=google_apitools-0.5.31-cp37-none-any.whl size=131043 sha256=b4a24407a30d07e7dc49cc93be2df0348d08bc3308def124f3aad8b90c94d708\n",
            "  Stored in directory: /root/.cache/pip/wheels/3b/43/31/09a9dad88d3aec6fed2d63bd35dfc532fca372e2edec5af5bf\n",
            "  Building wheel for typing (setup.py) ... \u001b[?25l\u001b[?25hdone\n",
            "  Created wheel for typing: filename=typing-3.7.4.3-cp37-none-any.whl size=26308 sha256=fc8679785f2d89ba7e02304af36cde069a9e94a9e333b4fa971d4ac7c8703a1a\n",
            "  Stored in directory: /root/.cache/pip/wheels/2d/04/41/8e1836e79581989c22eebac3f4e70aaac9af07b0908da173be\n",
            "  Building wheel for avro-python3 (setup.py) ... \u001b[?25l\u001b[?25hdone\n",
            "  Created wheel for avro-python3: filename=avro_python3-1.9.2.1-cp37-none-any.whl size=43516 sha256=b08ba13e8bfbd5f9545e495af2c6181ddc7ba9d96ceed77085221ece6d3e2b80\n",
            "  Stored in directory: /root/.cache/pip/wheels/5a/d3/be/86620c9dd3fca68986c33b9c616510289fc0abb81ec9aa70bd\n",
            "  Building wheel for dill (setup.py) ... \u001b[?25l\u001b[?25hdone\n",
            "  Created wheel for dill: filename=dill-0.3.1.1-cp37-none-any.whl size=78532 sha256=ff9ed155a88dc4072a7cfae7007a3c77caed20ffbfe7c9c4ada5c37c49365938\n",
            "  Stored in directory: /root/.cache/pip/wheels/59/b1/91/f02e76c732915c4015ab4010f3015469866c1eb9b14058d8e7\n",
            "  Building wheel for future (setup.py) ... \u001b[?25l\u001b[?25hdone\n",
            "  Created wheel for future: filename=future-0.18.2-cp37-none-any.whl size=491058 sha256=01be604b27ef03209ef3aa51d5d19c4b7566b91170c2c470bfb37cb2d936eb1c\n",
            "  Stored in directory: /root/.cache/pip/wheels/8b/99/a0/81daf51dcd359a9377b110a8a886b3895921802d2fc1b2397e\n",
            "  Building wheel for pyregion (setup.py) ... \u001b[?25l\u001b[?25hdone\n",
            "  Created wheel for pyregion: filename=pyregion-2.0-cp37-cp37m-linux_x86_64.whl size=309334 sha256=c9770217a5002118917b2d400fa8214742a533eb246ca72c229d366d1d599d30\n",
            "  Stored in directory: /root/.cache/pip/wheels/ca/2c/2b/c95350df7d42ba9044b7528c5ba549bead550433b189008a7f\n",
            "Successfully built google-apitools typing avro-python3 dill future pyregion\n",
            "\u001b[31mERROR: multiprocess 0.70.11.1 has requirement dill>=0.3.3, but you'll have dill 0.3.1.1 which is incompatible.\u001b[0m\n",
            "\u001b[31mERROR: google-colab 1.0.0 has requirement requests~=2.23.0, but you'll have requests 2.25.1 which is incompatible.\u001b[0m\n",
            "\u001b[31mERROR: datascience 0.10.6 has requirement folium==0.2.1, but you'll have folium 0.8.3 which is incompatible.\u001b[0m\n",
            "Installing collected packages: astropy, pyarrow, requests, hdfs, avro-python3, dill, pbr, mock, fastavro, future, apache-beam, soupsieve, beautifulsoup4, fasteners, google-apitools, typing, pyavm, astropy-healpix, reproject, pyregion, aplpy, pgb-utils\n",
            "  Found existing installation: astropy 4.2\n",
            "    Uninstalling astropy-4.2:\n",
            "      Successfully uninstalled astropy-4.2\n",
            "  Found existing installation: pyarrow 3.0.0\n",
            "    Uninstalling pyarrow-3.0.0:\n",
            "      Successfully uninstalled pyarrow-3.0.0\n",
            "  Found existing installation: requests 2.23.0\n",
            "    Uninstalling requests-2.23.0:\n",
            "      Successfully uninstalled requests-2.23.0\n",
            "  Found existing installation: dill 0.3.3\n",
            "    Uninstalling dill-0.3.3:\n",
            "      Successfully uninstalled dill-0.3.3\n",
            "  Found existing installation: future 0.16.0\n",
            "    Uninstalling future-0.16.0:\n",
            "      Successfully uninstalled future-0.16.0\n",
            "  Found existing installation: beautifulsoup4 4.6.3\n",
            "    Uninstalling beautifulsoup4-4.6.3:\n",
            "      Successfully uninstalled beautifulsoup4-4.6.3\n",
            "Successfully installed apache-beam-2.28.0 aplpy-2.0.3 astropy-3.2.1 astropy-healpix-0.6 avro-python3-1.9.2.1 beautifulsoup4-4.8.0 dill-0.3.1.1 fastavro-1.3.5 fasteners-0.16 future-0.18.2 google-apitools-0.5.31 hdfs-2.6.0 mock-2.0.0 pbr-5.5.1 pgb-utils-0.1.3 pyarrow-2.0.0 pyavm-0.9.5 pyregion-2.0 reproject-0.7.1 requests-2.25.1 soupsieve-2.2.1 typing-3.7.4.3\n"
          ],
          "name": "stdout"
        }
      ]
    },
    {
      "cell_type": "code",
      "metadata": {
        "id": "IaFC3geYYfyn"
      },
      "source": [
        "import apache_beam as beam\n",
        "import aplpy\n",
        "from astropy import coordinates as coord\n",
        "from astropy import units as u\n",
        "from astropy.io import fits\n",
        "import fastavro\n",
        "from google.colab import auth, drive\n",
        "import gzip\n",
        "import io\n",
        "from matplotlib import pyplot as plt\n",
        "import pandas as pd\n",
        "from pathlib import Path\n",
        "\n",
        "from google.cloud import bigquery, storage\n",
        "\n",
        "import pgb_utils as pgb"
      ],
      "execution_count": 4,
      "outputs": []
    },
    {
      "cell_type": "code",
      "metadata": {
        "id": "hm8S4HbIQlK1"
      },
      "source": [
        "auth.authenticate_user()\n",
        "# follow the instructions to authorize Google Cloud SDK "
      ],
      "execution_count": 5,
      "outputs": []
    },
    {
      "cell_type": "code",
      "metadata": {
        "id": "DKcureCHfJRu"
      },
      "source": [
        "# For demonstration of command-line tools, create a fnc for running shell commands\n",
        "def run(cmd: str):\n",
        "  print('>> {}'.format(cmd))\n",
        "  !{cmd}\n",
        "  print('')"
      ],
      "execution_count": 6,
      "outputs": []
    },
    {
      "cell_type": "code",
      "metadata": {
        "id": "XqvwOxg40f-e",
        "colab": {
          "base_uri": "https://localhost:8080/"
        },
        "outputId": "7994b925-c03a-451a-e50d-9f34571106f5"
      },
      "source": [
        "# Connect your Google Drive file system\n",
        "# to be used in the sections on File Storage and Apache Beam pipelines\n",
        "drive.mount('/content/drive') \n",
        "# follow the instructions to authorize access\n",
        "\n",
        "# create a path for later\n",
        "colabpath = '/content/drive/MyDrive/Colab\\ Notebooks/PGB_tutorial'\n",
        "colabpath_noesc = '/content/drive/MyDrive/Colab Notebooks/PGB_tutorial'\n",
        "run(f'mkdir -p {colabpath}')\n",
        "\n",
        "# Colab Hint: Click the \"Files\" icon on the left to view a file browser.\n",
        "\n",
        "# Colab Hint: Click the \"Code snippets\" icon (<>) on the left and search for \n",
        "#       \"access drive\" to learn how to interact with Drive."
      ],
      "execution_count": 7,
      "outputs": [
        {
          "output_type": "stream",
          "text": [
            "Mounted at /content/drive\n",
            ">> mkdir -p /content/drive/MyDrive/Colab\\ Notebooks/PGB_tutorial\n",
            "\n"
          ],
          "name": "stdout"
        }
      ]
    },
    {
      "cell_type": "markdown",
      "metadata": {
        "id": "6P6I0SsNNEFk"
      },
      "source": [
        "---"
      ]
    },
    {
      "cell_type": "markdown",
      "metadata": {
        "id": "tXTEuyccOJoa"
      },
      "source": [
        "# 3) BigQuery Database"
      ]
    },
    {
      "cell_type": "markdown",
      "metadata": {
        "id": "j2JAzIQ9OBrY"
      },
      "source": [
        "Some links if you're interested. Otherwise, skip down to the code.\n",
        "\n",
        "- [Overview of querying BigQuery data](https://cloud.google.com/bigquery/docs/query-overview)\n",
        "\n",
        "- [Intro to BigQuery API Client Libraries](https://cloud.google.com/bigquery/docs/reference/libraries) (includes [Python](https://googleapis.dev/python/bigquery/latest/index.html), Java, C#, Go, Node.js, PHP, and Ruby)\n",
        "\n",
        "- [BigQuery How-to guides](https://cloud.google.com/bigquery/docs/how-to). There are many! Here are some of note:\n",
        "    - [Introduction to interacting with BigQuery](https://cloud.google.com/bigquery/docs/interacting-with-bigquery)\n",
        "\n",
        "    - [Queries](https://cloud.google.com/bigquery/docs/running-queries) (covered in this tutorial)\n",
        "\n",
        "    - [Writing query results to your own BigQuery table](https://cloud.google.com/bigquery/docs/writing-results#permanent-table) (also see other sections on that page)\n",
        "\n",
        "    - [Export table data to a file in Google Cloud Storage](https://cloud.google.com/bigquery/docs/exporting-data)\n",
        "        - Note the [Exporting data stored in BigQuery](https://cloud.google.com/bigquery/docs/exporting-data#exporting_data_stored_in) section of that page.\n",
        "\n",
        "    - [Best practices](https://cloud.google.com/bigquery/docs/how-to#best-practices) (e.g., Controlling costs, Optimizing query performance)\n",
        "\n",
        "- Other Colab tutorials:\n",
        "\n",
        "    - [Getting started with BigQuery](https://colab.research.google.com/notebooks/bigquery.ipynb)\n",
        "\n",
        "- Pricing:\n",
        "    - [Overview of BigQuery pricing](https://cloud.google.com/bigquery/pricing)\n",
        "        - [Query pricing](https://cloud.google.com/bigquery/docs/query-overview#query_pricing). Query charges are based on number of bytes processed. The first 1 TB of data processed per month, per billing account, is free. Beyond this, the price is $5.00 per TB.\n",
        "        - [Storage pricing](https://cloud.google.com/bigquery/pricing#storage). The first 10 GB of BigQuery storage per month is free (you only pay for tables you create in your own project).\n",
        "\n",
        "    - [Using cached query results](https://cloud.google.com/bigquery/docs/cached-results)\n",
        "        - BigQuery writes all query results to a temporary (~24 hours), cached results table (unless you explicitly specify a destination table). When you run a duplicate query, BigQuery attempts to reuse cached results. If it is successful, you are not charged for the query."
      ]
    },
    {
      "cell_type": "markdown",
      "metadata": {
        "id": "gVNNwPBfOBrZ"
      },
      "source": [
        "## 3a) Python\n",
        "\n",
        "- [Python Client Documentation](https://googleapis.dev/python/bigquery/latest/index.html) (Google Cloud SDK)\n",
        "- [Colab Snippets](https://colab.research.google.com/notebooks/snippets/bigquery.ipynb#scrollTo=jl97S3vfNHdz) (more examples)"
      ]
    },
    {
      "cell_type": "markdown",
      "metadata": {
        "id": "s2kX-kEJemYD"
      },
      "source": [
        "### Table names and schemas"
      ]
    },
    {
      "cell_type": "code",
      "metadata": {
        "colab": {
          "base_uri": "https://localhost:8080/"
        },
        "id": "SNGTZsy8xw_3",
        "outputId": "7ad94517-07c5-460b-86b0-2e64b0d543a3"
      },
      "source": [
        "# Create a Client for the BigQuery connections below\n",
        "pgb.bigquery.create_client(my_project_id)\n",
        "# this is just a convenience wrapper, as are many pgb functions. look at\n",
        "# its source code for guidance on using `google.cloud` libraries directly.\n",
        "\n",
        "# Colab Hint: Mouse over the function name to see its definition and\n",
        "#             source code (make sure the cell is selected)."
      ],
      "execution_count": 8,
      "outputs": [
        {
          "output_type": "stream",
          "text": [
            "\n",
            "Instantiating a BigQuery client with project_id: ardent-cycling-243415\n",
            "\n"
          ],
          "name": "stdout"
        }
      ]
    },
    {
      "cell_type": "code",
      "metadata": {
        "id": "6sfxgU9AeuVY",
        "colab": {
          "base_uri": "https://localhost:8080/"
        },
        "outputId": "bbb1aa57-ede1-4506-b839-06256d2da528"
      },
      "source": [
        "pgb.bigquery.get_dataset_table_names()"
      ],
      "execution_count": 9,
      "outputs": [
        {
          "output_type": "stream",
          "text": [
            "Getting table names for dataset: ztf_alerts\n"
          ],
          "name": "stdout"
        }
      ]
    },
    {
      "cell_type": "code",
      "metadata": {
        "id": "zNuQD35Zq7yJ",
        "colab": {
          "base_uri": "https://localhost:8080/"
        },
        "outputId": "78aaa5d7-60dd-4f63-8438-08e9efeb0834"
      },
      "source": [
        "pgb.bigquery.get_table_info('DIASource')\n",
        "\n",
        "# Colab Hint: Right-click this cell and select \"Copy to scratch cell\"\n",
        "#             so you can use this as a reference in later queries."
      ],
      "execution_count": 10,
      "outputs": [
        {
          "output_type": "stream",
          "text": [
            "ardent-cycling-243415.ztf_alerts.DIASource\n",
            "+-----+------------------------+------------------------------------------------------------------------------------------------------------------------------------------------------------------------------------------------------------------------------+---------+\n",
            "|     | column_name            | description                                                                                                                                                                                                                  | type    |\n",
            "+=====+========================+==============================================================================================================================================================================================================================+=========+\n",
            "|   0 | schemavsn              | schema version used                                                                                                                                                                                                          | STRING  |\n",
            "+-----+------------------------+------------------------------------------------------------------------------------------------------------------------------------------------------------------------------------------------------------------------------+---------+\n",
            "|   1 | publisher              | origin of alert packet                                                                                                                                                                                                       | STRING  |\n",
            "+-----+------------------------+------------------------------------------------------------------------------------------------------------------------------------------------------------------------------------------------------------------------------+---------+\n",
            "|   2 | objectId               | object identifier or name                                                                                                                                                                                                    | STRING  |\n",
            "+-----+------------------------+------------------------------------------------------------------------------------------------------------------------------------------------------------------------------------------------------------------------------+---------+\n",
            "|   3 | candid                 | Candidate ID from operations DB                                                                                                                                                                                              | INTEGER |\n",
            "+-----+------------------------+------------------------------------------------------------------------------------------------------------------------------------------------------------------------------------------------------------------------------+---------+\n",
            "|   4 | jd                     | Observation Julian date at start of exposure [days]                                                                                                                                                                          | FLOAT   |\n",
            "+-----+------------------------+------------------------------------------------------------------------------------------------------------------------------------------------------------------------------------------------------------------------------+---------+\n",
            "|   5 | fid                    | Filter ID (1=g; 2=R; 3=i)                                                                                                                                                                                                    | INTEGER |\n",
            "+-----+------------------------+------------------------------------------------------------------------------------------------------------------------------------------------------------------------------------------------------------------------------+---------+\n",
            "|   6 | pid                    | Processing ID for science image to facilitate archive retrieval                                                                                                                                                              | INTEGER |\n",
            "+-----+------------------------+------------------------------------------------------------------------------------------------------------------------------------------------------------------------------------------------------------------------------+---------+\n",
            "|   7 | diffmaglim             | Expected 5-sigma mag limit in difference image based on global noise estimate [mag]                                                                                                                                          | FLOAT   |\n",
            "+-----+------------------------+------------------------------------------------------------------------------------------------------------------------------------------------------------------------------------------------------------------------------+---------+\n",
            "|   8 | pdiffimfilename        | filename of positive (sci minus ref) difference image                                                                                                                                                                        | STRING  |\n",
            "+-----+------------------------+------------------------------------------------------------------------------------------------------------------------------------------------------------------------------------------------------------------------------+---------+\n",
            "|   9 | programpi              | Principal investigator attached to program ID                                                                                                                                                                                | STRING  |\n",
            "+-----+------------------------+------------------------------------------------------------------------------------------------------------------------------------------------------------------------------------------------------------------------------+---------+\n",
            "|  10 | programid              | Program ID: encodes either public, collab, or caltech mode                                                                                                                                                                   | INTEGER |\n",
            "+-----+------------------------+------------------------------------------------------------------------------------------------------------------------------------------------------------------------------------------------------------------------------+---------+\n",
            "|  11 | isdiffpos              | t or 1 => candidate is from positive (sci minus ref) subtraction; f or 0 => candidate is from negative (ref minus sci) subtraction                                                                                           | STRING  |\n",
            "+-----+------------------------+------------------------------------------------------------------------------------------------------------------------------------------------------------------------------------------------------------------------------+---------+\n",
            "|  12 | tblid                  | Internal pipeline table extraction ID                                                                                                                                                                                        | INTEGER |\n",
            "+-----+------------------------+------------------------------------------------------------------------------------------------------------------------------------------------------------------------------------------------------------------------------+---------+\n",
            "|  13 | nid                    | Night ID                                                                                                                                                                                                                     | INTEGER |\n",
            "+-----+------------------------+------------------------------------------------------------------------------------------------------------------------------------------------------------------------------------------------------------------------------+---------+\n",
            "|  14 | rcid                   | Readout channel ID [00 .. 63]                                                                                                                                                                                                | INTEGER |\n",
            "+-----+------------------------+------------------------------------------------------------------------------------------------------------------------------------------------------------------------------------------------------------------------------+---------+\n",
            "|  15 | field                  | ZTF field ID                                                                                                                                                                                                                 | INTEGER |\n",
            "+-----+------------------------+------------------------------------------------------------------------------------------------------------------------------------------------------------------------------------------------------------------------------+---------+\n",
            "|  16 | xpos                   | x-image position of candidate [pixels]                                                                                                                                                                                       | FLOAT   |\n",
            "+-----+------------------------+------------------------------------------------------------------------------------------------------------------------------------------------------------------------------------------------------------------------------+---------+\n",
            "|  17 | ypos                   | y-image position of candidate [pixels]                                                                                                                                                                                       | FLOAT   |\n",
            "+-----+------------------------+------------------------------------------------------------------------------------------------------------------------------------------------------------------------------------------------------------------------------+---------+\n",
            "|  18 | ra                     | Right Ascension of candidate; J2000 [deg]                                                                                                                                                                                    | FLOAT   |\n",
            "+-----+------------------------+------------------------------------------------------------------------------------------------------------------------------------------------------------------------------------------------------------------------------+---------+\n",
            "|  19 | dec                    | Declination of candidate; J2000 [deg]                                                                                                                                                                                        | FLOAT   |\n",
            "+-----+------------------------+------------------------------------------------------------------------------------------------------------------------------------------------------------------------------------------------------------------------------+---------+\n",
            "|  20 | magpsf                 | Magnitude from PSF-fit photometry [mag]                                                                                                                                                                                      | FLOAT   |\n",
            "+-----+------------------------+------------------------------------------------------------------------------------------------------------------------------------------------------------------------------------------------------------------------------+---------+\n",
            "|  21 | sigmapsf               | 1-sigma uncertainty in magpsf [mag]                                                                                                                                                                                          | FLOAT   |\n",
            "+-----+------------------------+------------------------------------------------------------------------------------------------------------------------------------------------------------------------------------------------------------------------------+---------+\n",
            "|  22 | chipsf                 | Reduced chi-square for PSF-fit                                                                                                                                                                                               | FLOAT   |\n",
            "+-----+------------------------+------------------------------------------------------------------------------------------------------------------------------------------------------------------------------------------------------------------------------+---------+\n",
            "|  23 | magap                  | Aperture mag using 14 pixel diameter aperture [mag]                                                                                                                                                                          | FLOAT   |\n",
            "+-----+------------------------+------------------------------------------------------------------------------------------------------------------------------------------------------------------------------------------------------------------------------+---------+\n",
            "|  24 | sigmagap               | 1-sigma uncertainty in magap [mag]                                                                                                                                                                                           | FLOAT   |\n",
            "+-----+------------------------+------------------------------------------------------------------------------------------------------------------------------------------------------------------------------------------------------------------------------+---------+\n",
            "|  25 | distnr                 | distance to nearest source in reference image PSF-catalog [pixels]                                                                                                                                                           | FLOAT   |\n",
            "+-----+------------------------+------------------------------------------------------------------------------------------------------------------------------------------------------------------------------------------------------------------------------+---------+\n",
            "|  26 | magnr                  | magnitude of nearest source in reference image PSF-catalog [mag]                                                                                                                                                             | FLOAT   |\n",
            "+-----+------------------------+------------------------------------------------------------------------------------------------------------------------------------------------------------------------------------------------------------------------------+---------+\n",
            "|  27 | sigmagnr               | 1-sigma uncertainty in magnr [mag]                                                                                                                                                                                           | FLOAT   |\n",
            "+-----+------------------------+------------------------------------------------------------------------------------------------------------------------------------------------------------------------------------------------------------------------------+---------+\n",
            "|  28 | chinr                  | DAOPhot chi parameter of nearest source in reference image PSF-catalog                                                                                                                                                       | FLOAT   |\n",
            "+-----+------------------------+------------------------------------------------------------------------------------------------------------------------------------------------------------------------------------------------------------------------------+---------+\n",
            "|  29 | sharpnr                | DAOPhot sharp parameter of nearest source in reference image PSF-catalog                                                                                                                                                     | FLOAT   |\n",
            "+-----+------------------------+------------------------------------------------------------------------------------------------------------------------------------------------------------------------------------------------------------------------------+---------+\n",
            "|  30 | sky                    | Local sky background estimate [DN]                                                                                                                                                                                           | FLOAT   |\n",
            "+-----+------------------------+------------------------------------------------------------------------------------------------------------------------------------------------------------------------------------------------------------------------------+---------+\n",
            "|  31 | magdiff                | Difference: magap - magpsf [mag]                                                                                                                                                                                             | FLOAT   |\n",
            "+-----+------------------------+------------------------------------------------------------------------------------------------------------------------------------------------------------------------------------------------------------------------------+---------+\n",
            "|  32 | fwhm                   | Full Width Half Max assuming a Gaussian core, from SExtractor [pixels]                                                                                                                                                       | FLOAT   |\n",
            "+-----+------------------------+------------------------------------------------------------------------------------------------------------------------------------------------------------------------------------------------------------------------------+---------+\n",
            "|  33 | classtar               | Star/Galaxy classification score from SExtractor                                                                                                                                                                             | FLOAT   |\n",
            "+-----+------------------------+------------------------------------------------------------------------------------------------------------------------------------------------------------------------------------------------------------------------------+---------+\n",
            "|  34 | mindtoedge             | Distance to nearest edge in image [pixels]                                                                                                                                                                                   | FLOAT   |\n",
            "+-----+------------------------+------------------------------------------------------------------------------------------------------------------------------------------------------------------------------------------------------------------------------+---------+\n",
            "|  35 | magfromlim             | Difference: diffmaglim - magap [mag]                                                                                                                                                                                         | FLOAT   |\n",
            "+-----+------------------------+------------------------------------------------------------------------------------------------------------------------------------------------------------------------------------------------------------------------------+---------+\n",
            "|  36 | seeratio               | Ratio: difffwhm / fwhm                                                                                                                                                                                                       | FLOAT   |\n",
            "+-----+------------------------+------------------------------------------------------------------------------------------------------------------------------------------------------------------------------------------------------------------------------+---------+\n",
            "|  37 | aimage                 | Windowed profile RMS afloat major axis from SExtractor [pixels]                                                                                                                                                              | FLOAT   |\n",
            "+-----+------------------------+------------------------------------------------------------------------------------------------------------------------------------------------------------------------------------------------------------------------------+---------+\n",
            "|  38 | bimage                 | Windowed profile RMS afloat minor axis from SExtractor [pixels]                                                                                                                                                              | FLOAT   |\n",
            "+-----+------------------------+------------------------------------------------------------------------------------------------------------------------------------------------------------------------------------------------------------------------------+---------+\n",
            "|  39 | aimagerat              | Ratio: aimage / fwhm                                                                                                                                                                                                         | FLOAT   |\n",
            "+-----+------------------------+------------------------------------------------------------------------------------------------------------------------------------------------------------------------------------------------------------------------------+---------+\n",
            "|  40 | bimagerat              | Ratio: bimage / fwhm                                                                                                                                                                                                         | FLOAT   |\n",
            "+-----+------------------------+------------------------------------------------------------------------------------------------------------------------------------------------------------------------------------------------------------------------------+---------+\n",
            "|  41 | elong                  | Ratio: aimage / bimage                                                                                                                                                                                                       | FLOAT   |\n",
            "+-----+------------------------+------------------------------------------------------------------------------------------------------------------------------------------------------------------------------------------------------------------------------+---------+\n",
            "|  42 | nneg                   | number of negative pixels in a 5 x 5 pixel stamp                                                                                                                                                                             | INTEGER |\n",
            "+-----+------------------------+------------------------------------------------------------------------------------------------------------------------------------------------------------------------------------------------------------------------------+---------+\n",
            "|  43 | nbad                   | number of prior-tagged bad pixels in a 5 x 5 pixel stamp                                                                                                                                                                     | INTEGER |\n",
            "+-----+------------------------+------------------------------------------------------------------------------------------------------------------------------------------------------------------------------------------------------------------------------+---------+\n",
            "|  44 | rb                     | RealBogus quality score from Random Forest classifier; range is 0 to 1 where closer to 1 is more reliable                                                                                                                    | FLOAT   |\n",
            "+-----+------------------------+------------------------------------------------------------------------------------------------------------------------------------------------------------------------------------------------------------------------------+---------+\n",
            "|  45 | ssdistnr               | distance to nearest known solar system object if exists within 30 arcsec [arcsec]                                                                                                                                            | FLOAT   |\n",
            "+-----+------------------------+------------------------------------------------------------------------------------------------------------------------------------------------------------------------------------------------------------------------------+---------+\n",
            "|  46 | ssmagnr                | magnitude of nearest known solar system object if exists within 30 arcsec (usually V-band from MPC archive) [mag]                                                                                                            | FLOAT   |\n",
            "+-----+------------------------+------------------------------------------------------------------------------------------------------------------------------------------------------------------------------------------------------------------------------+---------+\n",
            "|  47 | ssnamenr               | name of nearest known solar system object if exists within 30 arcsec (from MPC archive)                                                                                                                                      | STRING  |\n",
            "+-----+------------------------+------------------------------------------------------------------------------------------------------------------------------------------------------------------------------------------------------------------------------+---------+\n",
            "|  48 | sumrat                 | Ratio: sum(pixels) / sum(|pixels|) in a 5 x 5 pixel stamp where stamp is first median-filtered to mitigate outliers                                                                                                          | FLOAT   |\n",
            "+-----+------------------------+------------------------------------------------------------------------------------------------------------------------------------------------------------------------------------------------------------------------------+---------+\n",
            "|  49 | magapbig               | Aperture mag using 18 pixel diameter aperture [mag]                                                                                                                                                                          | FLOAT   |\n",
            "+-----+------------------------+------------------------------------------------------------------------------------------------------------------------------------------------------------------------------------------------------------------------------+---------+\n",
            "|  50 | sigmagapbig            | 1-sigma uncertainty in magapbig [mag]                                                                                                                                                                                        | FLOAT   |\n",
            "+-----+------------------------+------------------------------------------------------------------------------------------------------------------------------------------------------------------------------------------------------------------------------+---------+\n",
            "|  51 | ranr                   | Right Ascension of nearest source in reference image PSF-catalog; J2000 [deg]                                                                                                                                                | FLOAT   |\n",
            "+-----+------------------------+------------------------------------------------------------------------------------------------------------------------------------------------------------------------------------------------------------------------------+---------+\n",
            "|  52 | decnr                  | Declination of nearest source in reference image PSF-catalog; J2000 [deg]                                                                                                                                                    | FLOAT   |\n",
            "+-----+------------------------+------------------------------------------------------------------------------------------------------------------------------------------------------------------------------------------------------------------------------+---------+\n",
            "|  53 | sgmag1                 | g-band PSF-fit magnitude of closest source from PS1 catalog; if exists within 30 arcsec [mag]                                                                                                                                | FLOAT   |\n",
            "+-----+------------------------+------------------------------------------------------------------------------------------------------------------------------------------------------------------------------------------------------------------------------+---------+\n",
            "|  54 | srmag1                 | r-band PSF-fit magnitude of closest source from PS1 catalog; if exists within 30 arcsec [mag]                                                                                                                                | FLOAT   |\n",
            "+-----+------------------------+------------------------------------------------------------------------------------------------------------------------------------------------------------------------------------------------------------------------------+---------+\n",
            "|  55 | simag1                 | i-band PSF-fit magnitude of closest source from PS1 catalog; if exists within 30 arcsec [mag]                                                                                                                                | FLOAT   |\n",
            "+-----+------------------------+------------------------------------------------------------------------------------------------------------------------------------------------------------------------------------------------------------------------------+---------+\n",
            "|  56 | szmag1                 | z-band PSF-fit magnitude of closest source from PS1 catalog; if exists within 30 arcsec [mag]                                                                                                                                | FLOAT   |\n",
            "+-----+------------------------+------------------------------------------------------------------------------------------------------------------------------------------------------------------------------------------------------------------------------+---------+\n",
            "|  57 | sgscore1               | Star/Galaxy score of closest source from PS1 catalog; if exists within 30 arcsec: 0 <= sgscore <= 1 where closer to 1 implies higher likelihood of being a star                                                              | FLOAT   |\n",
            "+-----+------------------------+------------------------------------------------------------------------------------------------------------------------------------------------------------------------------------------------------------------------------+---------+\n",
            "|  58 | distpsnr1              | Distance to closest source from PS1 catalog; if exists within 30 arcsec [arcsec]                                                                                                                                             | FLOAT   |\n",
            "+-----+------------------------+------------------------------------------------------------------------------------------------------------------------------------------------------------------------------------------------------------------------------+---------+\n",
            "|  59 | ndethist               | Number of spatially-coincident detections falling within 1.5 arcsec going back to beginning of survey; only detections that fell on the same field and readout-channel ID where the input candidate was observed are counted | INTEGER |\n",
            "+-----+------------------------+------------------------------------------------------------------------------------------------------------------------------------------------------------------------------------------------------------------------------+---------+\n",
            "|  60 | ncovhist               | Number of times input candidate position fell on any field and readout-channel going back to beginning of survey                                                                                                             | INTEGER |\n",
            "+-----+------------------------+------------------------------------------------------------------------------------------------------------------------------------------------------------------------------------------------------------------------------+---------+\n",
            "|  61 | jdstarthist            | Earliest Julian date of epoch corresponding to ndethist [days]                                                                                                                                                               | FLOAT   |\n",
            "+-----+------------------------+------------------------------------------------------------------------------------------------------------------------------------------------------------------------------------------------------------------------------+---------+\n",
            "|  62 | jdendhist              | Latest Julian date of epoch corresponding to ndethist [days]                                                                                                                                                                 | FLOAT   |\n",
            "+-----+------------------------+------------------------------------------------------------------------------------------------------------------------------------------------------------------------------------------------------------------------------+---------+\n",
            "|  63 | scorr                  | Peak-pixel signal-to-noise ratio in point source matched-filtered detection image                                                                                                                                            | FLOAT   |\n",
            "+-----+------------------------+------------------------------------------------------------------------------------------------------------------------------------------------------------------------------------------------------------------------------+---------+\n",
            "|  64 | tooflag                | 1 => candidate is from a Target-of-Opportunity (ToO) exposure; 0 => candidate is from a non-ToO exposure                                                                                                                     | INTEGER |\n",
            "+-----+------------------------+------------------------------------------------------------------------------------------------------------------------------------------------------------------------------------------------------------------------------+---------+\n",
            "|  65 | objectidps1            | Object ID of closest source from PS1 catalog; if exists within 30 arcsec                                                                                                                                                     | INTEGER |\n",
            "+-----+------------------------+------------------------------------------------------------------------------------------------------------------------------------------------------------------------------------------------------------------------------+---------+\n",
            "|  66 | objectidps2            | Object ID of second closest source from PS1 catalog; if exists within 30 arcsec                                                                                                                                              | INTEGER |\n",
            "+-----+------------------------+------------------------------------------------------------------------------------------------------------------------------------------------------------------------------------------------------------------------------+---------+\n",
            "|  67 | sgmag2                 | g-band PSF-fit magnitude of second closest source from PS1 catalog; if exists within 30 arcsec [mag]                                                                                                                         | FLOAT   |\n",
            "+-----+------------------------+------------------------------------------------------------------------------------------------------------------------------------------------------------------------------------------------------------------------------+---------+\n",
            "|  68 | srmag2                 | r-band PSF-fit magnitude of second closest source from PS1 catalog; if exists within 30 arcsec [mag]                                                                                                                         | FLOAT   |\n",
            "+-----+------------------------+------------------------------------------------------------------------------------------------------------------------------------------------------------------------------------------------------------------------------+---------+\n",
            "|  69 | simag2                 | i-band PSF-fit magnitude of second closest source from PS1 catalog; if exists within 30 arcsec [mag]                                                                                                                         | FLOAT   |\n",
            "+-----+------------------------+------------------------------------------------------------------------------------------------------------------------------------------------------------------------------------------------------------------------------+---------+\n",
            "|  70 | szmag2                 | z-band PSF-fit magnitude of second closest source from PS1 catalog; if exists within 30 arcsec [mag]                                                                                                                         | FLOAT   |\n",
            "+-----+------------------------+------------------------------------------------------------------------------------------------------------------------------------------------------------------------------------------------------------------------------+---------+\n",
            "|  71 | sgscore2               | Star/Galaxy score of second closest source from PS1 catalog; if exists within 30 arcsec: 0 <= sgscore <= 1 where closer to 1 implies higher likelihood of being a star                                                       | FLOAT   |\n",
            "+-----+------------------------+------------------------------------------------------------------------------------------------------------------------------------------------------------------------------------------------------------------------------+---------+\n",
            "|  72 | distpsnr2              | Distance to second closest source from PS1 catalog; if exists within 30 arcsec [arcsec]                                                                                                                                      | FLOAT   |\n",
            "+-----+------------------------+------------------------------------------------------------------------------------------------------------------------------------------------------------------------------------------------------------------------------+---------+\n",
            "|  73 | objectidps3            | Object ID of third closest source from PS1 catalog; if exists within 30 arcsec                                                                                                                                               | INTEGER |\n",
            "+-----+------------------------+------------------------------------------------------------------------------------------------------------------------------------------------------------------------------------------------------------------------------+---------+\n",
            "|  74 | sgmag3                 | g-band PSF-fit magnitude of third closest source from PS1 catalog; if exists within 30 arcsec [mag]                                                                                                                          | FLOAT   |\n",
            "+-----+------------------------+------------------------------------------------------------------------------------------------------------------------------------------------------------------------------------------------------------------------------+---------+\n",
            "|  75 | srmag3                 | r-band PSF-fit magnitude of third closest source from PS1 catalog; if exists within 30 arcsec [mag]                                                                                                                          | FLOAT   |\n",
            "+-----+------------------------+------------------------------------------------------------------------------------------------------------------------------------------------------------------------------------------------------------------------------+---------+\n",
            "|  76 | simag3                 | i-band PSF-fit magnitude of third closest source from PS1 catalog; if exists within 30 arcsec [mag]                                                                                                                          | FLOAT   |\n",
            "+-----+------------------------+------------------------------------------------------------------------------------------------------------------------------------------------------------------------------------------------------------------------------+---------+\n",
            "|  77 | szmag3                 | z-band PSF-fit magnitude of third closest source from PS1 catalog; if exists within 30 arcsec [mag]                                                                                                                          | FLOAT   |\n",
            "+-----+------------------------+------------------------------------------------------------------------------------------------------------------------------------------------------------------------------------------------------------------------------+---------+\n",
            "|  78 | sgscore3               | Star/Galaxy score of third closest source from PS1 catalog; if exists within 30 arcsec: 0 <= sgscore <= 1 where closer to 1 implies higher likelihood of being a star                                                        | FLOAT   |\n",
            "+-----+------------------------+------------------------------------------------------------------------------------------------------------------------------------------------------------------------------------------------------------------------------+---------+\n",
            "|  79 | distpsnr3              | Distance to third closest source from PS1 catalog; if exists within 30 arcsec [arcsec]                                                                                                                                       | FLOAT   |\n",
            "+-----+------------------------+------------------------------------------------------------------------------------------------------------------------------------------------------------------------------------------------------------------------------+---------+\n",
            "|  80 | nmtchps                | Number of source matches from PS1 catalog falling within 30 arcsec                                                                                                                                                           | INTEGER |\n",
            "+-----+------------------------+------------------------------------------------------------------------------------------------------------------------------------------------------------------------------------------------------------------------------+---------+\n",
            "|  81 | rfid                   | Processing ID for reference image to facilitate archive retrieval                                                                                                                                                            | INTEGER |\n",
            "+-----+------------------------+------------------------------------------------------------------------------------------------------------------------------------------------------------------------------------------------------------------------------+---------+\n",
            "|  82 | jdstartref             | Observation Julian date of earliest exposure used to generate reference image [days]                                                                                                                                         | FLOAT   |\n",
            "+-----+------------------------+------------------------------------------------------------------------------------------------------------------------------------------------------------------------------------------------------------------------------+---------+\n",
            "|  83 | jdendref               | Observation Julian date of latest exposure used to generate reference image [days]                                                                                                                                           | FLOAT   |\n",
            "+-----+------------------------+------------------------------------------------------------------------------------------------------------------------------------------------------------------------------------------------------------------------------+---------+\n",
            "|  84 | nframesref             | Number of frames (epochal images) used to generate reference image                                                                                                                                                           | INTEGER |\n",
            "+-----+------------------------+------------------------------------------------------------------------------------------------------------------------------------------------------------------------------------------------------------------------------+---------+\n",
            "|  85 | rbversion              | version of Random Forest classifier model used to assign RealBogus (rb) quality score                                                                                                                                        | STRING  |\n",
            "+-----+------------------------+------------------------------------------------------------------------------------------------------------------------------------------------------------------------------------------------------------------------------+---------+\n",
            "|  86 | dsnrms                 | Ratio: D/stddev(D) on event position where D = difference image                                                                                                                                                              | FLOAT   |\n",
            "+-----+------------------------+------------------------------------------------------------------------------------------------------------------------------------------------------------------------------------------------------------------------------+---------+\n",
            "|  87 | ssnrms                 | Ratio: S/stddev(S) on event position where S = image of convolution: D (x) PSF(D)                                                                                                                                            | FLOAT   |\n",
            "+-----+------------------------+------------------------------------------------------------------------------------------------------------------------------------------------------------------------------------------------------------------------------+---------+\n",
            "|  88 | dsdiff                 | Difference of statistics: dsnrms - ssnrms                                                                                                                                                                                    | FLOAT   |\n",
            "+-----+------------------------+------------------------------------------------------------------------------------------------------------------------------------------------------------------------------------------------------------------------------+---------+\n",
            "|  89 | magzpsci               | Magnitude zero point for photometry estimates [mag]                                                                                                                                                                          | FLOAT   |\n",
            "+-----+------------------------+------------------------------------------------------------------------------------------------------------------------------------------------------------------------------------------------------------------------------+---------+\n",
            "|  90 | magzpsciunc            | Magnitude zero point uncertainty (in magzpsci) [mag]                                                                                                                                                                         | FLOAT   |\n",
            "+-----+------------------------+------------------------------------------------------------------------------------------------------------------------------------------------------------------------------------------------------------------------------+---------+\n",
            "|  91 | magzpscirms            | RMS (deviation from average) in all differences between instrumental photometry and matched photometric calibrators from science image processing [mag]                                                                      | FLOAT   |\n",
            "+-----+------------------------+------------------------------------------------------------------------------------------------------------------------------------------------------------------------------------------------------------------------------+---------+\n",
            "|  92 | nmatches               | Number of PS1 photometric calibrators used to calibrate science image from science image processing                                                                                                                          | INTEGER |\n",
            "+-----+------------------------+------------------------------------------------------------------------------------------------------------------------------------------------------------------------------------------------------------------------------+---------+\n",
            "|  93 | clrcoeff               | Color coefficient from linear fit from photometric calibration of science image                                                                                                                                              | FLOAT   |\n",
            "+-----+------------------------+------------------------------------------------------------------------------------------------------------------------------------------------------------------------------------------------------------------------------+---------+\n",
            "|  94 | clrcounc               | Color coefficient uncertainty from linear fit (corresponding to clrcoeff)                                                                                                                                                    | FLOAT   |\n",
            "+-----+------------------------+------------------------------------------------------------------------------------------------------------------------------------------------------------------------------------------------------------------------------+---------+\n",
            "|  95 | zpclrcov               | Covariance in magzpsci and clrcoeff from science image processing [mag^2]                                                                                                                                                    | FLOAT   |\n",
            "+-----+------------------------+------------------------------------------------------------------------------------------------------------------------------------------------------------------------------------------------------------------------------+---------+\n",
            "|  96 | zpmed                  | Magnitude zero point from median of all differences between instrumental photometry and matched photometric calibrators from science image processing [mag]                                                                  | FLOAT   |\n",
            "+-----+------------------------+------------------------------------------------------------------------------------------------------------------------------------------------------------------------------------------------------------------------------+---------+\n",
            "|  97 | clrmed                 | Median color of all PS1 photometric calibrators used from science image processing [mag]: for filter (fid) = 1, 2, 3, PS1 color used = g-r, g-r, r-i respectively                                                            | FLOAT   |\n",
            "+-----+------------------------+------------------------------------------------------------------------------------------------------------------------------------------------------------------------------------------------------------------------------+---------+\n",
            "|  98 | clrrms                 | RMS color (deviation from average) of all PS1 photometric calibrators used from science image processing [mag]                                                                                                               | FLOAT   |\n",
            "+-----+------------------------+------------------------------------------------------------------------------------------------------------------------------------------------------------------------------------------------------------------------------+---------+\n",
            "|  99 | neargaia               | Distance to closest source from Gaia DR1 catalog irrespective of magnitude; if exists within 90 arcsec [arcsec]                                                                                                              | FLOAT   |\n",
            "+-----+------------------------+------------------------------------------------------------------------------------------------------------------------------------------------------------------------------------------------------------------------------+---------+\n",
            "| 100 | neargaiabright         | Distance to closest source from Gaia DR1 catalog brighter than magnitude 14; if exists within 90 arcsec [arcsec]                                                                                                             | FLOAT   |\n",
            "+-----+------------------------+------------------------------------------------------------------------------------------------------------------------------------------------------------------------------------------------------------------------------+---------+\n",
            "| 101 | maggaia                | Gaia (G-band) magnitude of closest source from Gaia DR1 catalog irrespective of magnitude; if exists within 90 arcsec [mag]                                                                                                  | FLOAT   |\n",
            "+-----+------------------------+------------------------------------------------------------------------------------------------------------------------------------------------------------------------------------------------------------------------------+---------+\n",
            "| 102 | maggaiabright          | Gaia (G-band) magnitude of closest source from Gaia DR1 catalog brighter than magnitude 14; if exists within 90 arcsec [mag]                                                                                                 | FLOAT   |\n",
            "+-----+------------------------+------------------------------------------------------------------------------------------------------------------------------------------------------------------------------------------------------------------------------+---------+\n",
            "| 103 | exptime                | Integration time of camera exposure [sec]                                                                                                                                                                                    | FLOAT   |\n",
            "+-----+------------------------+------------------------------------------------------------------------------------------------------------------------------------------------------------------------------------------------------------------------------+---------+\n",
            "| 104 | drb                    | RealBogus quality score from Deep-Learning-based classifier; range is 0 to 1 where closer to 1 is more reliable                                                                                                              | FLOAT   |\n",
            "+-----+------------------------+------------------------------------------------------------------------------------------------------------------------------------------------------------------------------------------------------------------------------+---------+\n",
            "| 105 | drbversion             | version of Deep-Learning-based classifier model used to assign RealBogus (drb) quality score                                                                                                                                 | STRING  |\n",
            "+-----+------------------------+------------------------------------------------------------------------------------------------------------------------------------------------------------------------------------------------------------------------------+---------+\n",
            "| 106 | prv_candidates_candids | Candidate IDs from previous candidate's in the original alert packet (prv_candidates.candid)                                                                                                                                 | STRING  |\n",
            "+-----+------------------------+------------------------------------------------------------------------------------------------------------------------------------------------------------------------------------------------------------------------------+---------+\n",
            "\n",
            "ardent-cycling-243415.ztf_alerts.DIASource has 154325 rows.\n",
            "\n"
          ],
          "name": "stdout"
        }
      ]
    },
    {
      "cell_type": "markdown",
      "metadata": {
        "id": "cdy9BeSKT60F"
      },
      "source": [
        "---"
      ]
    },
    {
      "cell_type": "markdown",
      "metadata": {
        "id": "AbTyVXUko6-d"
      },
      "source": [
        "### Query lightcurves and other history"
      ]
    },
    {
      "cell_type": "code",
      "metadata": {
        "id": "-7VY4RP6748V"
      },
      "source": [
        "# Choose the history data you want returned\n",
        "columns = ['jd', 'fid', 'magpsf', 'sigmapsf']\n",
        "# 'objectId' and 'candid' will be included automatically\n",
        "# options are in the 'DIASource' table\n",
        "# pgb.bigquery.get_table_info('DIASource')"
      ],
      "execution_count": 11,
      "outputs": []
    },
    {
      "cell_type": "code",
      "metadata": {
        "id": "SxEnRTvie2DK"
      },
      "source": [
        "# Optional\n",
        "# choose specific objects\n",
        "objectIds = ['ZTF18aczuwfe', 'ZTF18aczvqcr', 'ZTF20acqgklx', 'ZTF18acexdlh']\n",
        "# limit to a sample of the table\n",
        "# limit = 1000  # add this keyword to query_objects() below"
      ],
      "execution_count": 12,
      "outputs": []
    },
    {
      "cell_type": "markdown",
      "metadata": {
        "id": "V4JfqzMTXIpk"
      },
      "source": [
        "To retrieve lightcurves and other history, we must query for objects' \"DIASource\" observations and aggregate the results by `objectId`.\n",
        "\n",
        "`pgb.bigquery.query_objects()` is a convenience wrapper that let's you grab all the results at once, or step through them using a generator.\n",
        "It's options are demonstrated below."
      ]
    },
    {
      "cell_type": "code",
      "metadata": {
        "id": "YtJ2C1gS9vdC",
        "colab": {
          "base_uri": "https://localhost:8080/",
          "height": 536
        },
        "outputId": "02bb2ce8-cf1f-4563-d0ae-a2272c9157b6"
      },
      "source": [
        "# Option 1: Get a single DataFrame of all results\n",
        "\n",
        "lcs_df = pgb.bigquery.query_objects(columns, objectIds=objectIds)\n",
        "# This will execute a dry run and tell you how much data will be processed.\n",
        "# You will be asked to confirm before proceeding.\n",
        "# In the future we'll skip this using\n",
        "dry_run = False\n",
        "\n",
        "lcs_df.sample(10)\n",
        "# cleaned of duplicates"
      ],
      "execution_count": 13,
      "outputs": [
        {
          "output_type": "stream",
          "text": [
            "\n",
            "Query statement:\n",
            "\n",
            "\"SELECT objectId, ARRAY_AGG(candid ORDER BY candidate.jd) AS candid, ARRAY_AGG(candidate.magpsf ORDER BY candidate.jd) AS magpsf, ARRAY_AGG(candidate.fid ORDER BY candidate.jd) AS fid, ARRAY_AGG(candidate.sigmapsf ORDER BY candidate.jd) AS sigmapsf, ARRAY_AGG(candidate.jd ORDER BY candidate.jd) AS jd FROM `ardent-cycling-243415.ztf_alerts.alerts` WHERE objectId IN (\"ZTF18aczuwfe\",\"ZTF18aczvqcr\",\"ZTF20acqgklx\",\"ZTF18acexdlh\") GROUP BY objectId\"\n",
            "\n",
            "will process 1662626196 bytes of data.\n",
            "(0.151% of your 1 TiB Free Tier monthly allotment.)\n",
            "Continue? [y/N]: y\n"
          ],
          "name": "stdout"
        },
        {
          "output_type": "execute_result",
          "data": {
            "text/html": [
              "<div>\n",
              "<style scoped>\n",
              "    .dataframe tbody tr th:only-of-type {\n",
              "        vertical-align: middle;\n",
              "    }\n",
              "\n",
              "    .dataframe tbody tr th {\n",
              "        vertical-align: top;\n",
              "    }\n",
              "\n",
              "    .dataframe thead th {\n",
              "        text-align: right;\n",
              "    }\n",
              "</style>\n",
              "<table border=\"1\" class=\"dataframe\">\n",
              "  <thead>\n",
              "    <tr style=\"text-align: right;\">\n",
              "      <th></th>\n",
              "      <th></th>\n",
              "      <th>magpsf</th>\n",
              "      <th>fid</th>\n",
              "      <th>sigmapsf</th>\n",
              "      <th>jd</th>\n",
              "    </tr>\n",
              "    <tr>\n",
              "      <th>objectId</th>\n",
              "      <th>candid</th>\n",
              "      <th></th>\n",
              "      <th></th>\n",
              "      <th></th>\n",
              "      <th></th>\n",
              "    </tr>\n",
              "  </thead>\n",
              "  <tbody>\n",
              "    <tr>\n",
              "      <th rowspan=\"3\" valign=\"top\">ZTF18acexdlh</th>\n",
              "      <th>1503212520315010086</th>\n",
              "      <td>19.016151</td>\n",
              "      <td>2</td>\n",
              "      <td>0.085761</td>\n",
              "      <td>2.459258e+06</td>\n",
              "    </tr>\n",
              "    <tr>\n",
              "      <th>1442395721415015008</th>\n",
              "      <td>18.693060</td>\n",
              "      <td>2</td>\n",
              "      <td>0.149418</td>\n",
              "      <td>2.459197e+06</td>\n",
              "    </tr>\n",
              "    <tr>\n",
              "      <th>1451221995615015009</th>\n",
              "      <td>19.552464</td>\n",
              "      <td>2</td>\n",
              "      <td>0.147900</td>\n",
              "      <td>2.459206e+06</td>\n",
              "    </tr>\n",
              "    <tr>\n",
              "      <th>ZTF20acqgklx</th>\n",
              "      <th>1477168705215015013</th>\n",
              "      <td>19.084263</td>\n",
              "      <td>2</td>\n",
              "      <td>0.142221</td>\n",
              "      <td>2.459232e+06</td>\n",
              "    </tr>\n",
              "    <tr>\n",
              "      <th rowspan=\"3\" valign=\"top\">ZTF18acexdlh</th>\n",
              "      <th>1444421260315010067</th>\n",
              "      <td>18.870811</td>\n",
              "      <td>2</td>\n",
              "      <td>0.110772</td>\n",
              "      <td>2.459199e+06</td>\n",
              "    </tr>\n",
              "    <tr>\n",
              "      <th>1552155151415010084</th>\n",
              "      <td>19.882732</td>\n",
              "      <td>1</td>\n",
              "      <td>0.193498</td>\n",
              "      <td>2.459307e+06</td>\n",
              "    </tr>\n",
              "    <tr>\n",
              "      <th>1514190021415010034</th>\n",
              "      <td>19.466700</td>\n",
              "      <td>1</td>\n",
              "      <td>0.202327</td>\n",
              "      <td>2.459269e+06</td>\n",
              "    </tr>\n",
              "    <tr>\n",
              "      <th>ZTF18aczuwfe</th>\n",
              "      <th>1444285643415015001</th>\n",
              "      <td>19.927372</td>\n",
              "      <td>2</td>\n",
              "      <td>0.209740</td>\n",
              "      <td>2.459199e+06</td>\n",
              "    </tr>\n",
              "    <tr>\n",
              "      <th rowspan=\"2\" valign=\"top\">ZTF18acexdlh</th>\n",
              "      <th>1436373241415015008</th>\n",
              "      <td>19.320747</td>\n",
              "      <td>1</td>\n",
              "      <td>0.173271</td>\n",
              "      <td>2.459191e+06</td>\n",
              "    </tr>\n",
              "    <tr>\n",
              "      <th>1552154685615010004</th>\n",
              "      <td>19.835110</td>\n",
              "      <td>1</td>\n",
              "      <td>0.169000</td>\n",
              "      <td>2.459307e+06</td>\n",
              "    </tr>\n",
              "  </tbody>\n",
              "</table>\n",
              "</div>"
            ],
            "text/plain": [
              "                                     magpsf  fid  sigmapsf            jd\n",
              "objectId     candid                                                     \n",
              "ZTF18acexdlh 1503212520315010086  19.016151    2  0.085761  2.459258e+06\n",
              "             1442395721415015008  18.693060    2  0.149418  2.459197e+06\n",
              "             1451221995615015009  19.552464    2  0.147900  2.459206e+06\n",
              "ZTF20acqgklx 1477168705215015013  19.084263    2  0.142221  2.459232e+06\n",
              "ZTF18acexdlh 1444421260315010067  18.870811    2  0.110772  2.459199e+06\n",
              "             1552155151415010084  19.882732    1  0.193498  2.459307e+06\n",
              "             1514190021415010034  19.466700    1  0.202327  2.459269e+06\n",
              "ZTF18aczuwfe 1444285643415015001  19.927372    2  0.209740  2.459199e+06\n",
              "ZTF18acexdlh 1436373241415015008  19.320747    1  0.173271  2.459191e+06\n",
              "             1552154685615010004  19.835110    1  0.169000  2.459307e+06"
            ]
          },
          "metadata": {
            "tags": []
          },
          "execution_count": 13
        }
      ]
    },
    {
      "cell_type": "markdown",
      "metadata": {
        "id": "MrCb9wKBg-JC"
      },
      "source": [
        "Congratulations! You've now retrieved your first data from the transient table. \n",
        "It is a DataFrame containing the candidate observations for every object we requested, indexed by `objectId` and `candid` (candidate ID). It includes the columns we requested in the query.\n",
        "\n",
        "`fid` is the filter, mapped to an integer. You can see the filter's common name in the table schema we looked at earlier, or you can use `pgb.utils.ztf_fid_names()` which returns a dictionary of the mapping."
      ]
    },
    {
      "cell_type": "code",
      "metadata": {
        "colab": {
          "base_uri": "https://localhost:8080/",
          "height": 245
        },
        "id": "SS30ZgYzkPTY",
        "outputId": "9e57d4d0-aa46-4138-8303-b714e210858f"
      },
      "source": [
        "# map fid column to the filter's common name\n",
        "fid_names = pgb.utils.ztf_fid_names()  # dict\n",
        "print(fid_names)\n",
        "\n",
        "lcs_df['filter'] = lcs_df['fid'].map(fid_names)\n",
        "lcs_df.head()"
      ],
      "execution_count": 14,
      "outputs": [
        {
          "output_type": "stream",
          "text": [
            "{1: 'g', 2: 'R', 3: 'i'}\n"
          ],
          "name": "stdout"
        },
        {
          "output_type": "execute_result",
          "data": {
            "text/html": [
              "<div>\n",
              "<style scoped>\n",
              "    .dataframe tbody tr th:only-of-type {\n",
              "        vertical-align: middle;\n",
              "    }\n",
              "\n",
              "    .dataframe tbody tr th {\n",
              "        vertical-align: top;\n",
              "    }\n",
              "\n",
              "    .dataframe thead th {\n",
              "        text-align: right;\n",
              "    }\n",
              "</style>\n",
              "<table border=\"1\" class=\"dataframe\">\n",
              "  <thead>\n",
              "    <tr style=\"text-align: right;\">\n",
              "      <th></th>\n",
              "      <th></th>\n",
              "      <th>magpsf</th>\n",
              "      <th>fid</th>\n",
              "      <th>sigmapsf</th>\n",
              "      <th>jd</th>\n",
              "      <th>filter</th>\n",
              "    </tr>\n",
              "    <tr>\n",
              "      <th>objectId</th>\n",
              "      <th>candid</th>\n",
              "      <th></th>\n",
              "      <th></th>\n",
              "      <th></th>\n",
              "      <th></th>\n",
              "      <th></th>\n",
              "    </tr>\n",
              "  </thead>\n",
              "  <tbody>\n",
              "    <tr>\n",
              "      <th rowspan=\"5\" valign=\"top\">ZTF18aczuwfe</th>\n",
              "      <th>1440303993415015003</th>\n",
              "      <td>19.807590</td>\n",
              "      <td>2</td>\n",
              "      <td>0.159926</td>\n",
              "      <td>2.459195e+06</td>\n",
              "      <td>R</td>\n",
              "    </tr>\n",
              "    <tr>\n",
              "      <th>1440322513415015004</th>\n",
              "      <td>19.819330</td>\n",
              "      <td>1</td>\n",
              "      <td>0.127621</td>\n",
              "      <td>2.459195e+06</td>\n",
              "      <td>g</td>\n",
              "    </tr>\n",
              "    <tr>\n",
              "      <th>1442328323415015002</th>\n",
              "      <td>19.782700</td>\n",
              "      <td>1</td>\n",
              "      <td>0.172808</td>\n",
              "      <td>2.459197e+06</td>\n",
              "      <td>g</td>\n",
              "    </tr>\n",
              "    <tr>\n",
              "      <th>1444285643415015001</th>\n",
              "      <td>19.927372</td>\n",
              "      <td>2</td>\n",
              "      <td>0.209740</td>\n",
              "      <td>2.459199e+06</td>\n",
              "      <td>R</td>\n",
              "    </tr>\n",
              "    <tr>\n",
              "      <th>1449226053415015000</th>\n",
              "      <td>19.965925</td>\n",
              "      <td>2</td>\n",
              "      <td>0.170471</td>\n",
              "      <td>2.459204e+06</td>\n",
              "      <td>R</td>\n",
              "    </tr>\n",
              "  </tbody>\n",
              "</table>\n",
              "</div>"
            ],
            "text/plain": [
              "                                     magpsf  fid  sigmapsf            jd filter\n",
              "objectId     candid                                                            \n",
              "ZTF18aczuwfe 1440303993415015003  19.807590    2  0.159926  2.459195e+06      R\n",
              "             1440322513415015004  19.819330    1  0.127621  2.459195e+06      g\n",
              "             1442328323415015002  19.782700    1  0.172808  2.459197e+06      g\n",
              "             1444285643415015001  19.927372    2  0.209740  2.459199e+06      R\n",
              "             1449226053415015000  19.965925    2  0.170471  2.459204e+06      R"
            ]
          },
          "metadata": {
            "tags": []
          },
          "execution_count": 14
        }
      ]
    },
    {
      "cell_type": "markdown",
      "metadata": {
        "id": "Hu0dbKbbpJLj"
      },
      "source": [
        "Queries can return large datasets. You may want to use a generator to step through objects individually, and avoid loading the entire dataset into memory at once.\n",
        "`query_objects()` can return one for you:"
      ]
    },
    {
      "cell_type": "code",
      "metadata": {
        "id": "kEBGXlyM_P33",
        "colab": {
          "base_uri": "https://localhost:8080/"
        },
        "outputId": "e8cc6b0e-d9c6-47a3-a644-2473bd4a2386"
      },
      "source": [
        "# Option 2: Get a generator that yields a DataFrame for each objectId\n",
        "\n",
        "iterator = True\n",
        "objects = pgb.bigquery.query_objects(columns, \n",
        "                                     objectIds=objectIds, \n",
        "                                     iterator=iterator,\n",
        "                                     dry_run=dry_run\n",
        "                                     )\n",
        "                                     # cleaned of duplicates\n",
        "\n",
        "for lc_df in objects:\n",
        "    print(f'\\nobjectId: {lc_df.objectId}')  # objectId in metadata\n",
        "    print(lc_df.sample(5))"
      ],
      "execution_count": 15,
      "outputs": [
        {
          "output_type": "stream",
          "text": [
            "\n",
            "objectId: ZTF18aczuwfe\n",
            "                        magpsf  fid  sigmapsf            jd\n",
            "candid                                                     \n",
            "1442328323415015002  19.782700    1  0.172808  2.459197e+06\n",
            "1499283323415015000  19.891897    2  0.193669  2.459254e+06\n",
            "1477214243415015002  19.980097    1  0.200380  2.459232e+06\n",
            "1479193393415015001  19.793205    1  0.212453  2.459234e+06\n",
            "1449226053415015000  19.965925    2  0.170471  2.459204e+06\n",
            "\n",
            "objectId: ZTF18aczvqcr\n",
            "                        magpsf  fid  sigmapsf            jd\n",
            "candid                                                     \n",
            "1497191033615015018  20.005791    2  0.175402  2.459252e+06\n",
            "1479243343615015028  19.856361    2  0.169868  2.459234e+06\n",
            "1442363703615015023  19.403717    2  0.149243  2.459197e+06\n",
            "1560159313615015014  19.857533    2  0.179579  2.459315e+06\n",
            "1522151113615015015  20.005157    2  0.163534  2.459277e+06\n",
            "\n",
            "objectId: ZTF18acexdlh\n",
            "                        magpsf  fid  sigmapsf            jd\n",
            "candid                                                     \n",
            "1508273721415015040  19.474018    1  0.132851  2.459263e+06\n",
            "1559158980315015009  19.744965    1  0.213597  2.459314e+06\n",
            "1478333065615010007  18.646866    2  0.067843  2.459233e+06\n",
            "1500242465615010011  19.942972    1  0.164062  2.459255e+06\n",
            "1561160130315010025  18.863237    2  0.185695  2.459316e+06\n",
            "\n",
            "objectId: ZTF20acqgklx\n",
            "                        magpsf  fid  sigmapsf            jd\n",
            "candid                                                     \n",
            "1416400905215015017  19.761951    2  0.163898  2.459171e+06\n",
            "1451280085215015013  19.161543    1  0.128571  2.459206e+06\n",
            "1449226055215015021  18.821552    2  0.089061  2.459204e+06\n",
            "1501172065215015058  20.130812    1  0.169640  2.459256e+06\n",
            "1469186965215015010  19.468784    1  0.116364  2.459224e+06\n"
          ],
          "name": "stdout"
        }
      ]
    },
    {
      "cell_type": "markdown",
      "metadata": {
        "id": "lW-xTS7vqW12"
      },
      "source": [
        "Each DataFrame contains data on a single object, and is indexed by `candid`. The `objectId` is in the metadata."
      ]
    },
    {
      "cell_type": "markdown",
      "metadata": {
        "id": "-v0F-SgwrlEm"
      },
      "source": [
        "`query_objects()` can also return a json formatted string of the query results:"
      ]
    },
    {
      "cell_type": "code",
      "metadata": {
        "id": "wOtHmRP7_Pvm",
        "colab": {
          "base_uri": "https://localhost:8080/",
          "height": 235
        },
        "outputId": "15014d47-46d2-41d7-895e-3ccb9861fd82"
      },
      "source": [
        "# Option 3: Get a single json string with all the results\n",
        "\n",
        "format = 'json'\n",
        "lcsjson = pgb.bigquery.query_objects(columns, \n",
        "                                     objectIds=objectIds, \n",
        "                                     format=format,\n",
        "                                     dry_run=dry_run\n",
        "                                     )\n",
        "                                     # cleaned of duplicates\n",
        "print(lcsjson)\n",
        "\n",
        "# read it back in\n",
        "df = pd.read_json(lcsjson)\n",
        "df.head()"
      ],
      "execution_count": 16,
      "outputs": [
        {
          "output_type": "stream",
          "text": [
            "{\"objectId\":{\"0\":\"ZTF18aczvqcr\",\"1\":\"ZTF18aczvqcr\",\"2\":\"ZTF18aczvqcr\",\"3\":\"ZTF18aczvqcr\",\"4\":\"ZTF18aczvqcr\",\"5\":\"ZTF18aczvqcr\",\"6\":\"ZTF18aczvqcr\",\"7\":\"ZTF18aczvqcr\",\"8\":\"ZTF18aczvqcr\",\"9\":\"ZTF18aczvqcr\",\"10\":\"ZTF18aczvqcr\",\"11\":\"ZTF18aczvqcr\",\"12\":\"ZTF18aczvqcr\",\"13\":\"ZTF18aczvqcr\",\"14\":\"ZTF18aczvqcr\",\"15\":\"ZTF18aczvqcr\",\"16\":\"ZTF18aczvqcr\",\"17\":\"ZTF18aczvqcr\",\"18\":\"ZTF18aczvqcr\",\"19\":\"ZTF18aczvqcr\",\"20\":\"ZTF18aczvqcr\",\"21\":\"ZTF18aczvqcr\",\"22\":\"ZTF18aczvqcr\",\"23\":\"ZTF18aczvqcr\",\"24\":\"ZTF18aczvqcr\",\"25\":\"ZTF18aczvqcr\",\"26\":\"ZTF18aczvqcr\",\"27\":\"ZTF18aczvqcr\",\"28\":\"ZTF18aczvqcr\",\"29\":\"ZTF18acexdlh\",\"30\":\"ZTF18acexdlh\",\"31\":\"ZTF18acexdlh\",\"32\":\"ZTF18acexdlh\",\"33\":\"ZTF18acexdlh\",\"34\":\"ZTF18acexdlh\",\"35\":\"ZTF18acexdlh\",\"36\":\"ZTF18acexdlh\",\"37\":\"ZTF18acexdlh\",\"38\":\"ZTF18acexdlh\",\"39\":\"ZTF18acexdlh\",\"40\":\"ZTF18acexdlh\",\"41\":\"ZTF18acexdlh\",\"42\":\"ZTF18acexdlh\",\"43\":\"ZTF18acexdlh\",\"44\":\"ZTF18acexdlh\",\"45\":\"ZTF18acexdlh\",\"46\":\"ZTF18acexdlh\",\"47\":\"ZTF18acexdlh\",\"48\":\"ZTF18acexdlh\",\"49\":\"ZTF18acexdlh\",\"50\":\"ZTF18acexdlh\",\"51\":\"ZTF18acexdlh\",\"52\":\"ZTF18acexdlh\",\"53\":\"ZTF18acexdlh\",\"54\":\"ZTF18acexdlh\",\"55\":\"ZTF18acexdlh\",\"56\":\"ZTF18acexdlh\",\"57\":\"ZTF18acexdlh\",\"58\":\"ZTF18acexdlh\",\"59\":\"ZTF18acexdlh\",\"60\":\"ZTF18acexdlh\",\"61\":\"ZTF18acexdlh\",\"62\":\"ZTF18acexdlh\",\"63\":\"ZTF18acexdlh\",\"64\":\"ZTF18acexdlh\",\"65\":\"ZTF18acexdlh\",\"66\":\"ZTF18acexdlh\",\"67\":\"ZTF18acexdlh\",\"68\":\"ZTF18acexdlh\",\"69\":\"ZTF18acexdlh\",\"70\":\"ZTF18acexdlh\",\"71\":\"ZTF18acexdlh\",\"72\":\"ZTF18acexdlh\",\"73\":\"ZTF18acexdlh\",\"74\":\"ZTF18acexdlh\",\"75\":\"ZTF18acexdlh\",\"76\":\"ZTF18acexdlh\",\"77\":\"ZTF18acexdlh\",\"78\":\"ZTF18acexdlh\",\"79\":\"ZTF18acexdlh\",\"80\":\"ZTF18acexdlh\",\"81\":\"ZTF18acexdlh\",\"82\":\"ZTF18acexdlh\",\"83\":\"ZTF18acexdlh\",\"84\":\"ZTF18acexdlh\",\"85\":\"ZTF18acexdlh\",\"86\":\"ZTF18acexdlh\",\"87\":\"ZTF18acexdlh\",\"88\":\"ZTF18acexdlh\",\"89\":\"ZTF18acexdlh\",\"90\":\"ZTF18acexdlh\",\"91\":\"ZTF18acexdlh\",\"92\":\"ZTF18acexdlh\",\"93\":\"ZTF18acexdlh\",\"94\":\"ZTF18acexdlh\",\"95\":\"ZTF18acexdlh\",\"96\":\"ZTF18acexdlh\",\"97\":\"ZTF18acexdlh\",\"98\":\"ZTF18acexdlh\",\"99\":\"ZTF18acexdlh\",\"100\":\"ZTF18acexdlh\",\"101\":\"ZTF18acexdlh\",\"102\":\"ZTF18acexdlh\",\"103\":\"ZTF18acexdlh\",\"104\":\"ZTF18acexdlh\",\"105\":\"ZTF18acexdlh\",\"106\":\"ZTF18acexdlh\",\"107\":\"ZTF18acexdlh\",\"108\":\"ZTF18acexdlh\",\"109\":\"ZTF18acexdlh\",\"110\":\"ZTF18acexdlh\",\"111\":\"ZTF18acexdlh\",\"112\":\"ZTF18acexdlh\",\"113\":\"ZTF18acexdlh\",\"114\":\"ZTF18acexdlh\",\"115\":\"ZTF18acexdlh\",\"116\":\"ZTF18acexdlh\",\"117\":\"ZTF18acexdlh\",\"118\":\"ZTF18acexdlh\",\"119\":\"ZTF20acqgklx\",\"120\":\"ZTF20acqgklx\",\"121\":\"ZTF20acqgklx\",\"122\":\"ZTF20acqgklx\",\"123\":\"ZTF20acqgklx\",\"124\":\"ZTF20acqgklx\",\"125\":\"ZTF20acqgklx\",\"126\":\"ZTF20acqgklx\",\"127\":\"ZTF20acqgklx\",\"128\":\"ZTF20acqgklx\",\"129\":\"ZTF20acqgklx\",\"130\":\"ZTF20acqgklx\",\"131\":\"ZTF20acqgklx\",\"132\":\"ZTF20acqgklx\",\"133\":\"ZTF20acqgklx\",\"134\":\"ZTF20acqgklx\",\"135\":\"ZTF20acqgklx\",\"136\":\"ZTF20acqgklx\",\"137\":\"ZTF20acqgklx\",\"138\":\"ZTF20acqgklx\",\"139\":\"ZTF20acqgklx\",\"140\":\"ZTF20acqgklx\",\"141\":\"ZTF20acqgklx\",\"142\":\"ZTF20acqgklx\",\"143\":\"ZTF20acqgklx\",\"144\":\"ZTF20acqgklx\",\"145\":\"ZTF20acqgklx\",\"146\":\"ZTF20acqgklx\",\"147\":\"ZTF20acqgklx\",\"148\":\"ZTF20acqgklx\",\"149\":\"ZTF20acqgklx\",\"150\":\"ZTF20acqgklx\",\"151\":\"ZTF20acqgklx\",\"152\":\"ZTF20acqgklx\",\"153\":\"ZTF20acqgklx\",\"154\":\"ZTF20acqgklx\",\"155\":\"ZTF18aczuwfe\",\"156\":\"ZTF18aczuwfe\",\"157\":\"ZTF18aczuwfe\",\"158\":\"ZTF18aczuwfe\",\"159\":\"ZTF18aczuwfe\",\"160\":\"ZTF18aczuwfe\",\"161\":\"ZTF18aczuwfe\",\"162\":\"ZTF18aczuwfe\",\"163\":\"ZTF18aczuwfe\",\"164\":\"ZTF18aczuwfe\",\"165\":\"ZTF18aczuwfe\",\"166\":\"ZTF18aczuwfe\",\"167\":\"ZTF18aczuwfe\",\"168\":\"ZTF18aczuwfe\",\"169\":\"ZTF18aczuwfe\",\"170\":\"ZTF18aczuwfe\",\"171\":\"ZTF18aczuwfe\",\"172\":\"ZTF18aczuwfe\",\"173\":\"ZTF18aczuwfe\",\"174\":\"ZTF18aczuwfe\",\"175\":\"ZTF18aczuwfe\"},\"candid\":{\"0\":1410421083615015027,\"1\":1414350743615015012,\"2\":1416402323615015029,\"3\":1416428113615015031,\"4\":1425356333615015016,\"5\":1439340303615015028,\"6\":1442343863615015028,\"7\":1442363703615015023,\"8\":1444284213615015013,\"9\":1444343243615015022,\"10\":1449279243615015021,\"11\":1451224353615015022,\"12\":1467249443615015021,\"13\":1469312763615015029,\"14\":1471254023615015025,\"15\":1479243343615015028,\"16\":1495206403615015026,\"17\":1497191033615015018,\"18\":1499281903615015021,\"19\":1501264493615015022,\"20\":1503184653615015029,\"21\":1503238313615015028,\"22\":1522151113615015015,\"23\":1526166113615015039,\"24\":1538207903615015018,\"25\":1549165843615015018,\"26\":1552205863615015010,\"27\":1554175053615015021,\"28\":1560159313615015014,\"29\":1413467435615010006,\"30\":1413504165615010011,\"31\":1415503721415015012,\"32\":1415504180315015015,\"33\":1436373241415015008,\"34\":1436375135615015006,\"35\":1439302740315010057,\"36\":1439309435615010008,\"37\":1442359450315015010,\"38\":1442395721415015008,\"39\":1442400040315015017,\"40\":1444357385615015003,\"41\":1444421260315010067,\"42\":1444421735615010004,\"43\":1446436925615015006,\"44\":1448358771415015039,\"45\":1448390991415015011,\"46\":1449286970315015012,\"47\":1449424165615015013,\"48\":1450323131415015015,\"49\":1451221995615015009,\"50\":1451300350315010084,\"51\":1451326010315010064,\"52\":1451374545615015010,\"53\":1462325575615015004,\"54\":1463324060315010036,\"55\":1465332371415015016,\"56\":1466295465615010001,\"57\":1467253281415015014,\"58\":1467316120315015017,\"59\":1470275475615015007,\"60\":1471281340315010047,\"61\":1471354471415015030,\"62\":1471368571415015016,\"63\":1472314715615010006,\"64\":1475323921415010069,\"65\":1476316865615015005,\"66\":1478333065615010007,\"67\":1479318241415015023,\"68\":1479321040315015030,\"69\":1494233125615010009,\"70\":1496214185615015015,\"71\":1497227461415010058,\"72\":1497227930315010065,\"73\":1498210305615015006,\"74\":1500242465615010011,\"75\":1500253245615010006,\"76\":1501189450315015054,\"77\":1501273131415010069,\"78\":1501273610315010065,\"79\":1502252925615015010,\"80\":1503212520315010086,\"81\":1503213471415010084,\"82\":1508190460315010046,\"83\":1508273721415015040,\"84\":1508274200315015010,\"85\":1510187151415015015,\"86\":1513210705615015004,\"87\":1514190021415010034,\"88\":1514253651415015005,\"89\":1516293901415010012,\"90\":1521150675615015010,\"91\":1521234075615010003,\"92\":1524151215615015018,\"93\":1526191181415010139,\"94\":1526191655615010009,\"95\":1526205790315010079,\"96\":1536190005615015006,\"97\":1536190470315015010,\"98\":1536203621415015012,\"99\":1538147615615015006,\"100\":1538191665615010011,\"101\":1538192121415010038,\"102\":1538193070315010046,\"103\":1540149315615010004,\"104\":1540149791415010056,\"105\":1549151215615010007,\"106\":1549154021415010024,\"107\":1549154500315010042,\"108\":1552154685615010004,\"109\":1552155151415010084,\"110\":1553213650315010054,\"111\":1554197511415015015,\"112\":1558187191415010050,\"113\":1558187675615010004,\"114\":1559158980315015009,\"115\":1560192221415015015,\"116\":1561160130315010025,\"117\":1562156705615015006,\"118\":1562157171415015007,\"119\":1414351235215015023,\"120\":1414365935215015038,\"121\":1416400905215015017,\"122\":1416427635215015028,\"123\":1427289515215015014,\"124\":1431341885215015008,\"125\":1438294975215015018,\"126\":1440303995215015015,\"127\":1440322515215015022,\"128\":1442282165215015017,\"129\":1442328325215015021,\"130\":1444285645215015017,\"131\":1444320905215015016,\"132\":1446323875215015047,\"133\":1449226055215015021,\"134\":1449333365215015022,\"135\":1451204595215015021,\"136\":1451280085215015013,\"137\":1461235915215015011,\"138\":1467211215215015018,\"139\":1469186965215015010,\"140\":1469258285215015019,\"141\":1471269095215015023,\"142\":1475232495215015014,\"143\":1477168705215015013,\"144\":1477214245215015017,\"145\":1479193395215015012,\"146\":1479213075215015022,\"147\":1495204985215015017,\"148\":1497208625215015030,\"149\":1499283325215015017,\"150\":1501172065215015058,\"151\":1501265425215015012,\"152\":1503208145215015012,\"153\":1508194315215015016,\"154\":1510148925215015017,\"155\":1440303993415015003,\"156\":1440322513415015004,\"157\":1442328323415015002,\"158\":1444285643415015001,\"159\":1449226053415015000,\"160\":1451204593415015000,\"161\":1467211213415015002,\"162\":1469258283415015005,\"163\":1477168703415015002,\"164\":1477214243415015002,\"165\":1479193393415015001,\"166\":1479213073415015001,\"167\":1497147413415015000,\"168\":1497208623415015000,\"169\":1499171573415015000,\"170\":1499283323415015000,\"171\":1501265423415015001,\"172\":1503183253415015010,\"173\":1503208143415015003,\"174\":1510148923415015004,\"175\":1510206363415015002},\"magpsf\":{\"0\":20.1263103485,\"1\":19.6437110901,\"2\":19.7170677185,\"3\":20.3240432739,\"4\":19.5522918701,\"5\":20.1467914581,\"6\":19.9527130127,\"7\":19.403717041,\"8\":19.5403175354,\"9\":20.1612243652,\"10\":19.4995422363,\"11\":19.6900405884,\"12\":19.6480388641,\"13\":19.7055225372,\"14\":19.5911617279,\"15\":19.8563613892,\"16\":19.7718143463,\"17\":20.0057907104,\"18\":19.8509178162,\"19\":19.8474159241,\"20\":20.4788990021,\"21\":19.7942714691,\"22\":20.0051574707,\"23\":19.9091053009,\"24\":19.768371582,\"25\":19.7214546204,\"26\":19.8386001587,\"27\":19.6664218903,\"28\":19.8575325012,\"29\":19.8268566132,\"30\":19.8025054932,\"31\":19.2952232361,\"32\":19.3238334656,\"33\":19.3207473755,\"34\":19.4572944641,\"35\":19.0933704376,\"36\":19.3234081268,\"37\":19.1367301941,\"38\":18.6930599213,\"39\":19.4556865692,\"40\":20.1104717255,\"41\":18.8708114624,\"42\":18.7824554443,\"43\":19.3794403076,\"44\":19.6682052612,\"45\":18.8913421631,\"46\":19.093000412,\"47\":19.0823097229,\"48\":19.4249267578,\"49\":19.5524635315,\"50\":19.825044632,\"51\":19.5840873718,\"52\":19.5697441101,\"53\":19.1650981903,\"54\":18.7645988464,\"55\":18.9482727051,\"56\":19.039642334,\"57\":19.4139556885,\"58\":19.689453125,\"59\":19.2286338806,\"60\":19.2097969055,\"61\":19.599319458,\"62\":19.2868270874,\"63\":19.6072025299,\"64\":19.5153026581,\"65\":19.7858905792,\"66\":18.6468658447,\"67\":19.6824550629,\"68\":19.652633667,\"69\":18.6746578217,\"70\":19.6613197327,\"71\":18.6823368073,\"72\":18.5505580902,\"73\":19.4911193848,\"74\":19.9429721832,\"75\":19.4177837372,\"76\":19.6528587341,\"77\":19.0573062897,\"78\":19.0586452484,\"79\":19.4718608856,\"80\":19.0161514282,\"81\":19.1813392639,\"82\":18.8287391663,\"83\":19.4740180969,\"84\":19.3122196198,\"85\":19.1544284821,\"86\":19.4045372009,\"87\":19.4666996002,\"88\":18.9718360901,\"89\":19.0561885834,\"90\":19.4800453186,\"91\":18.9732608795,\"92\":19.1910591125,\"93\":19.5630970001,\"94\":19.5016765594,\"95\":19.8212680817,\"96\":19.5846748352,\"97\":19.3526096344,\"98\":19.7169017792,\"99\":19.6593894958,\"100\":19.0484580994,\"101\":19.3083934784,\"102\":19.1910533905,\"103\":19.6239757538,\"104\":19.5349445343,\"105\":18.8311252594,\"106\":18.9605674744,\"107\":18.737827301,\"108\":19.8351097107,\"109\":19.8827323914,\"110\":18.6768608093,\"111\":18.9829883575,\"112\":18.8710403442,\"113\":18.8675327301,\"114\":19.7449645996,\"115\":19.6105651855,\"116\":18.863237381,\"117\":19.1760253906,\"118\":19.1666030884,\"119\":19.8983020782,\"120\":20.0880413055,\"121\":19.7619514465,\"122\":20.11170578,\"123\":19.2475509644,\"124\":19.1077766418,\"125\":19.2282066345,\"126\":19.0181903839,\"127\":19.2426280975,\"128\":18.9577732086,\"129\":19.1942749023,\"130\":18.8844013214,\"131\":19.3058395386,\"132\":18.6996116638,\"133\":18.8215522766,\"134\":19.2747612,\"135\":18.8396377563,\"136\":19.1615428925,\"137\":18.6582202911,\"138\":18.8197555542,\"139\":19.4687843323,\"140\":18.8498764038,\"141\":18.9527015686,\"142\":19.0104389191,\"143\":19.0842628479,\"144\":19.8295040131,\"145\":19.8285655975,\"146\":18.985918045,\"147\":19.1864910126,\"148\":19.2962207794,\"149\":19.2554168701,\"150\":20.1308116913,\"151\":19.3559875488,\"152\":19.3853111267,\"153\":19.4201126099,\"154\":19.3689403534,\"155\":19.8075904846,\"156\":19.8193302155,\"157\":19.782699585,\"158\":19.9273719788,\"159\":19.9659252167,\"160\":20.0367927551,\"161\":19.8974628448,\"162\":20.287065506,\"163\":19.468252182,\"164\":19.980096817,\"165\":19.7932052612,\"166\":19.8938179016,\"167\":19.7973613739,\"168\":19.8168411255,\"169\":20.1171741486,\"170\":19.8918972015,\"171\":20.1915397644,\"172\":20.3401679993,\"173\":19.9926147461,\"174\":20.0997200012,\"175\":19.8034667969},\"fid\":{\"0\":1,\"1\":2,\"2\":2,\"3\":1,\"4\":2,\"5\":1,\"6\":1,\"7\":2,\"8\":2,\"9\":1,\"10\":2,\"11\":2,\"12\":2,\"13\":2,\"14\":2,\"15\":2,\"16\":2,\"17\":2,\"18\":2,\"19\":2,\"20\":1,\"21\":2,\"22\":2,\"23\":2,\"24\":2,\"25\":2,\"26\":2,\"27\":2,\"28\":2,\"29\":2,\"30\":1,\"31\":2,\"32\":2,\"33\":1,\"34\":1,\"35\":2,\"36\":2,\"37\":2,\"38\":2,\"39\":1,\"40\":1,\"41\":2,\"42\":2,\"43\":1,\"44\":1,\"45\":2,\"46\":2,\"47\":2,\"48\":1,\"49\":2,\"50\":1,\"51\":2,\"52\":1,\"53\":2,\"54\":2,\"55\":2,\"56\":2,\"57\":2,\"58\":1,\"59\":2,\"60\":2,\"61\":1,\"62\":2,\"63\":1,\"64\":1,\"65\":1,\"66\":2,\"67\":1,\"68\":1,\"69\":2,\"70\":2,\"71\":2,\"72\":2,\"73\":2,\"74\":1,\"75\":2,\"76\":1,\"77\":2,\"78\":2,\"79\":1,\"80\":2,\"81\":2,\"82\":2,\"83\":1,\"84\":1,\"85\":2,\"86\":1,\"87\":1,\"88\":2,\"89\":2,\"90\":1,\"91\":2,\"92\":2,\"93\":1,\"94\":1,\"95\":1,\"96\":1,\"97\":1,\"98\":1,\"99\":1,\"100\":2,\"101\":2,\"102\":2,\"103\":1,\"104\":1,\"105\":2,\"106\":2,\"107\":2,\"108\":1,\"109\":1,\"110\":2,\"111\":2,\"112\":2,\"113\":2,\"114\":1,\"115\":1,\"116\":2,\"117\":2,\"118\":2,\"119\":2,\"120\":1,\"121\":2,\"122\":1,\"123\":2,\"124\":2,\"125\":1,\"126\":2,\"127\":1,\"128\":2,\"129\":1,\"130\":2,\"131\":1,\"132\":2,\"133\":2,\"134\":1,\"135\":2,\"136\":1,\"137\":2,\"138\":2,\"139\":1,\"140\":2,\"141\":2,\"142\":2,\"143\":2,\"144\":1,\"145\":1,\"146\":2,\"147\":2,\"148\":2,\"149\":2,\"150\":1,\"151\":2,\"152\":2,\"153\":2,\"154\":2,\"155\":2,\"156\":1,\"157\":1,\"158\":2,\"159\":2,\"160\":2,\"161\":2,\"162\":2,\"163\":2,\"164\":1,\"165\":1,\"166\":2,\"167\":1,\"168\":2,\"169\":1,\"170\":2,\"171\":2,\"172\":1,\"173\":2,\"174\":2,\"175\":1},\"sigmapsf\":{\"0\":0.1478390694,\"1\":0.1786457896,\"2\":0.1201419905,\"3\":0.2137282491,\"4\":0.1828130335,\"5\":0.1821027398,\"6\":0.2136308253,\"7\":0.1492431909,\"8\":0.1586374938,\"9\":0.1832898408,\"10\":0.1459459364,\"11\":0.1616570801,\"12\":0.1174216121,\"13\":0.1229797304,\"14\":0.1835189313,\"15\":0.1698679477,\"16\":0.1528984904,\"17\":0.1754024476,\"18\":0.1329197288,\"19\":0.1521711051,\"20\":0.2028204799,\"21\":0.1494113058,\"22\":0.1635341197,\"23\":0.1689478308,\"24\":0.1784726828,\"25\":0.2108649015,\"26\":0.1988516301,\"27\":0.166205436,\"28\":0.1795794368,\"29\":0.166471079,\"30\":0.1982113123,\"31\":0.1436278522,\"32\":0.1827476174,\"33\":0.1732711494,\"34\":0.1292448491,\"35\":0.1334878355,\"36\":0.1030881926,\"37\":0.1931912452,\"38\":0.1494179666,\"39\":0.194694981,\"40\":0.1934221983,\"41\":0.110772334,\"42\":0.085393846,\"43\":0.1752748042,\"44\":0.1582897753,\"45\":0.1048191637,\"46\":0.1570589244,\"47\":0.1452776939,\"48\":0.1594612896,\"49\":0.1478998661,\"50\":0.1850521863,\"51\":0.1430486143,\"52\":0.1413708627,\"53\":0.1413699836,\"54\":0.1237830892,\"55\":0.1287691295,\"56\":0.1021512598,\"57\":0.1442752928,\"58\":0.1397793293,\"59\":0.1391918659,\"60\":0.1517655849,\"61\":0.1585345417,\"62\":0.1860979348,\"63\":0.170794338,\"64\":0.1785945594,\"65\":0.1654670537,\"66\":0.067843467,\"67\":0.1701034456,\"68\":0.1705574095,\"69\":0.1152474731,\"70\":0.1750061512,\"71\":0.1080057696,\"72\":0.0957293659,\"73\":0.1647046953,\"74\":0.1640618742,\"75\":0.1012184918,\"76\":0.1615906656,\"77\":0.1343318671,\"78\":0.138542518,\"79\":0.1471510977,\"80\":0.0857612789,\"81\":0.1454363465,\"82\":0.1053173617,\"83\":0.1328511089,\"84\":0.1626281291,\"85\":0.1079596505,\"86\":0.160642162,\"87\":0.2023270279,\"88\":0.1370065957,\"89\":0.2132719308,\"90\":0.1868943423,\"91\":0.1182063222,\"92\":0.1570535302,\"93\":0.1405311823,\"94\":0.119683668,\"95\":0.1513423324,\"96\":0.1528785378,\"97\":0.1510368586,\"98\":0.1426501125,\"99\":0.1654674262,\"100\":0.120326221,\"101\":0.1584199667,\"102\":0.1522795111,\"103\":0.1847443283,\"104\":0.1614545584,\"105\":0.0884646922,\"106\":0.1590909213,\"107\":0.1212802902,\"108\":0.1689998806,\"109\":0.1934976131,\"110\":0.1366003901,\"111\":0.1021697819,\"112\":0.1357565373,\"113\":0.0892153159,\"114\":0.2135970592,\"115\":0.1324667186,\"116\":0.1856953651,\"117\":0.1375641972,\"118\":0.1548442394,\"119\":0.171336174,\"120\":0.1520067751,\"121\":0.1638982892,\"122\":0.1722908914,\"123\":0.1803994179,\"124\":0.1763110161,\"125\":0.1915530562,\"126\":0.1221162975,\"127\":0.108531788,\"128\":0.1465175152,\"129\":0.1097503155,\"130\":0.0956753269,\"131\":0.1312362254,\"132\":0.1842149049,\"133\":0.0890605375,\"134\":0.1322681755,\"135\":0.1062524319,\"136\":0.128571257,\"137\":0.1441874355,\"138\":0.0945616737,\"139\":0.1163638309,\"140\":0.1142768562,\"141\":0.0919400677,\"142\":0.1705875844,\"143\":0.1422212124,\"144\":0.1563364565,\"145\":0.1784083098,\"146\":0.0934783742,\"147\":0.1186497435,\"148\":0.0947879553,\"149\":0.1173490658,\"150\":0.1696402431,\"151\":0.1248271763,\"152\":0.1245876551,\"153\":0.1650092453,\"154\":0.1512905806,\"155\":0.1599257737,\"156\":0.127621159,\"157\":0.1728081405,\"158\":0.2097401619,\"159\":0.170470953,\"160\":0.1815263033,\"161\":0.1776263118,\"162\":0.2123211473,\"163\":0.2115102559,\"164\":0.2003795207,\"165\":0.2124526799,\"166\":0.1783928424,\"167\":0.184142381,\"168\":0.1533806324,\"169\":0.2169205546,\"170\":0.1936687827,\"171\":0.1730027348,\"172\":0.1664137542,\"173\":0.1472844481,\"174\":0.1752548069,\"175\":0.1648100466},\"jd\":{\"0\":2459164.9210879998,\"1\":2459168.8507407,\"2\":2459170.9023263999,\"3\":2459170.9281134,\"4\":2459179.8563310001,\"5\":2459193.8403008999,\"6\":2459196.8438657001,\"7\":2459196.8637036998,\"8\":2459198.784213,\"9\":2459198.8432407002,\"10\":2459203.7792476998,\"11\":2459205.7243519002,\"12\":2459221.7494444,\"13\":2459223.8127661999,\"14\":2459225.7540278002,\"15\":2459233.7433449002,\"16\":2459249.7064005001,\"17\":2459251.6910301,\"18\":2459253.7819097,\"19\":2459255.7644906999,\"20\":2459257.6846528002,\"21\":2459257.7383102002,\"22\":2459276.6511110999,\"23\":2459280.6661111,\"24\":2459292.7079051002,\"25\":2459303.6658449001,\"26\":2459306.7058680998,\"27\":2459308.6750579001,\"28\":2459314.6593171,\"29\":2459167.9674306,\"30\":2459168.0041666999,\"31\":2459170.0037269001,\"32\":2459170.0041898,\"33\":2459190.8732407,\"34\":2459190.8751388998,\"35\":2459193.8027431001,\"36\":2459193.8094329,\"37\":2459196.8594559999,\"38\":2459196.8957292,\"39\":2459196.9000463001,\"40\":2459198.8573842999,\"41\":2459198.9212616002,\"42\":2459198.9217361002,\"43\":2459200.9369212999,\"44\":2459202.8587731002,\"45\":2459202.8909954,\"46\":2459203.7869791999,\"47\":2459203.9241666999,\"48\":2459204.8231366002,\"49\":2459205.7219906999,\"50\":2459205.8003588002,\"51\":2459205.8260185001,\"52\":2459205.8745486001,\"53\":2459216.8255786998,\"54\":2459217.8240625001,\"55\":2459219.8323726999,\"56\":2459220.795463,\"57\":2459221.7532870001,\"58\":2459221.8161227,\"59\":2459224.7754744999,\"60\":2459225.7813426,\"61\":2459225.8544792002,\"62\":2459225.8685764,\"63\":2459226.8147105998,\"64\":2459229.8239235999,\"65\":2459230.8168633999,\"66\":2459232.8330671,\"67\":2459233.8182406998,\"68\":2459233.8210417,\"69\":2459248.7331249998,\"70\":2459250.7141898,\"71\":2459251.7274652999,\"72\":2459251.7279397999,\"73\":2459252.7103009,\"74\":2459254.7424653,\"75\":2459254.7532406999,\"76\":2459255.689456,\"77\":2459255.7731365999,\"78\":2459255.7736110999,\"79\":2459256.7529282002,\"80\":2459257.7125231,\"81\":2459257.7134722001,\"82\":2459262.690463,\"83\":2459262.7737269001,\"84\":2459262.7742014001,\"85\":2459264.6871528002,\"86\":2459267.7107060002,\"87\":2459268.6900231,\"88\":2459268.7536574001,\"89\":2459270.7939005001,\"90\":2459275.6506713,\"91\":2459275.7340740999,\"92\":2459278.6512153,\"93\":2459280.6911805999,\"94\":2459280.6916550999,\"95\":2459280.7057985999,\"96\":2459290.6899999999,\"97\":2459290.6904744999,\"98\":2459290.7036227002,\"99\":2459292.6476157,\"100\":2459292.6916666999,\"101\":2459292.6921295999,\"102\":2459292.6930787,\"103\":2459294.6493171002,\"104\":2459294.6497916998,\"105\":2459303.6512153,\"106\":2459303.6540278001,\"107\":2459303.6545023001,\"108\":2459306.6546875001,\"109\":2459306.6551505001,\"110\":2459307.7136574001,\"111\":2459308.6975115999,\"112\":2459312.6871990999,\"113\":2459312.6876735999,\"114\":2459313.6589815002,\"115\":2459314.6922221999,\"116\":2459315.6601388999,\"117\":2459316.6567013999,\"118\":2459316.6571758999,\"119\":2459168.8512384002,\"120\":2459168.8659374998,\"121\":2459170.9009027998,\"122\":2459170.9276389,\"123\":2459181.7895138999,\"124\":2459185.8418866,\"125\":2459192.7949768999,\"126\":2459194.8039930998,\"127\":2459194.8225115999,\"128\":2459196.7821644,\"129\":2459196.8283218001,\"130\":2459198.7856481001,\"131\":2459198.8209028002,\"132\":2459200.8238773001,\"133\":2459203.7260532002,\"134\":2459203.8333681002,\"135\":2459205.7045948999,\"136\":2459205.7800810002,\"137\":2459215.7359143998,\"138\":2459221.7112153,\"139\":2459223.6869676001,\"140\":2459223.758287,\"141\":2459225.7690972001,\"142\":2459229.7324999999,\"143\":2459231.6687037,\"144\":2459231.7142476998,\"145\":2459233.6933912002,\"146\":2459233.7130787,\"147\":2459249.7049884,\"148\":2459251.7086227001,\"149\":2459253.7833218002,\"150\":2459255.6720602,\"151\":2459255.7654281999,\"152\":2459257.7081480999,\"153\":2459262.6943171001,\"154\":2459264.6489236001,\"155\":2459194.8039930998,\"156\":2459194.8225115999,\"157\":2459196.8283218001,\"158\":2459198.7856481001,\"159\":2459203.7260532002,\"160\":2459205.7045948999,\"161\":2459221.7112153,\"162\":2459223.758287,\"163\":2459231.6687037,\"164\":2459231.7142476998,\"165\":2459233.6933912002,\"166\":2459233.7130787,\"167\":2459251.647419,\"168\":2459251.7086227001,\"169\":2459253.6715740999,\"170\":2459253.7833218002,\"171\":2459255.7654281999,\"172\":2459257.6832523001,\"173\":2459257.7081480999,\"174\":2459264.6489236001,\"175\":2459264.7063656999}}\n"
          ],
          "name": "stdout"
        },
        {
          "output_type": "execute_result",
          "data": {
            "text/html": [
              "<div>\n",
              "<style scoped>\n",
              "    .dataframe tbody tr th:only-of-type {\n",
              "        vertical-align: middle;\n",
              "    }\n",
              "\n",
              "    .dataframe tbody tr th {\n",
              "        vertical-align: top;\n",
              "    }\n",
              "\n",
              "    .dataframe thead th {\n",
              "        text-align: right;\n",
              "    }\n",
              "</style>\n",
              "<table border=\"1\" class=\"dataframe\">\n",
              "  <thead>\n",
              "    <tr style=\"text-align: right;\">\n",
              "      <th></th>\n",
              "      <th>objectId</th>\n",
              "      <th>candid</th>\n",
              "      <th>magpsf</th>\n",
              "      <th>fid</th>\n",
              "      <th>sigmapsf</th>\n",
              "      <th>jd</th>\n",
              "    </tr>\n",
              "  </thead>\n",
              "  <tbody>\n",
              "    <tr>\n",
              "      <th>0</th>\n",
              "      <td>ZTF18aczvqcr</td>\n",
              "      <td>1410421083615015027</td>\n",
              "      <td>20.126310</td>\n",
              "      <td>1</td>\n",
              "      <td>0.147839</td>\n",
              "      <td>2.459165e+06</td>\n",
              "    </tr>\n",
              "    <tr>\n",
              "      <th>1</th>\n",
              "      <td>ZTF18aczvqcr</td>\n",
              "      <td>1414350743615015012</td>\n",
              "      <td>19.643711</td>\n",
              "      <td>2</td>\n",
              "      <td>0.178646</td>\n",
              "      <td>2.459169e+06</td>\n",
              "    </tr>\n",
              "    <tr>\n",
              "      <th>2</th>\n",
              "      <td>ZTF18aczvqcr</td>\n",
              "      <td>1416402323615015029</td>\n",
              "      <td>19.717068</td>\n",
              "      <td>2</td>\n",
              "      <td>0.120142</td>\n",
              "      <td>2.459171e+06</td>\n",
              "    </tr>\n",
              "    <tr>\n",
              "      <th>3</th>\n",
              "      <td>ZTF18aczvqcr</td>\n",
              "      <td>1416428113615015031</td>\n",
              "      <td>20.324043</td>\n",
              "      <td>1</td>\n",
              "      <td>0.213728</td>\n",
              "      <td>2.459171e+06</td>\n",
              "    </tr>\n",
              "    <tr>\n",
              "      <th>4</th>\n",
              "      <td>ZTF18aczvqcr</td>\n",
              "      <td>1425356333615015016</td>\n",
              "      <td>19.552292</td>\n",
              "      <td>2</td>\n",
              "      <td>0.182813</td>\n",
              "      <td>2.459180e+06</td>\n",
              "    </tr>\n",
              "  </tbody>\n",
              "</table>\n",
              "</div>"
            ],
            "text/plain": [
              "       objectId               candid     magpsf  fid  sigmapsf            jd\n",
              "0  ZTF18aczvqcr  1410421083615015027  20.126310    1  0.147839  2.459165e+06\n",
              "1  ZTF18aczvqcr  1414350743615015012  19.643711    2  0.178646  2.459169e+06\n",
              "2  ZTF18aczvqcr  1416402323615015029  19.717068    2  0.120142  2.459171e+06\n",
              "3  ZTF18aczvqcr  1416428113615015031  20.324043    1  0.213728  2.459171e+06\n",
              "4  ZTF18aczvqcr  1425356333615015016  19.552292    2  0.182813  2.459180e+06"
            ]
          },
          "metadata": {
            "tags": []
          },
          "execution_count": 16
        }
      ]
    },
    {
      "cell_type": "code",
      "metadata": {
        "id": "_lumcgl6_RsY",
        "colab": {
          "base_uri": "https://localhost:8080/"
        },
        "outputId": "9b4ef0a6-dd98-41cc-a017-a2d67f3dfd5f"
      },
      "source": [
        "# Option 4: Get a generator that yields a json string for a single objectId\n",
        "\n",
        "format = 'json'\n",
        "iterator = True\n",
        "jobj = pgb.bigquery.query_objects(columns, \n",
        "                                  objectIds=objectIds, \n",
        "                                  format=format, \n",
        "                                  iterator=iterator,\n",
        "                                  dry_run=dry_run\n",
        "                                  )\n",
        "                                  # cleaned of duplicates\n",
        "\n",
        "for lcjson in jobj:\n",
        "    print(lcjson)\n",
        "    # lc_df = pd.read_json(lcjson)  # read back to a df"
      ],
      "execution_count": 17,
      "outputs": [
        {
          "output_type": "stream",
          "text": [
            "{\"candid\":{\"0\":1440303993415015003,\"1\":1440322513415015004,\"2\":1442328323415015002,\"3\":1444285643415015001,\"4\":1449226053415015000,\"5\":1451204593415015000,\"6\":1467211213415015002,\"7\":1469258283415015005,\"8\":1477168703415015002,\"9\":1477214243415015002,\"10\":1479193393415015001,\"11\":1479213073415015001,\"12\":1497147413415015000,\"13\":1497208623415015000,\"14\":1499171573415015000,\"15\":1499283323415015000,\"16\":1501265423415015001,\"17\":1503183253415015010,\"18\":1503208143415015003,\"19\":1510148923415015004,\"20\":1510206363415015002},\"magpsf\":{\"0\":19.8075904846,\"1\":19.8193302155,\"2\":19.782699585,\"3\":19.9273719788,\"4\":19.9659252167,\"5\":20.0367927551,\"6\":19.8974628448,\"7\":20.287065506,\"8\":19.468252182,\"9\":19.980096817,\"10\":19.7932052612,\"11\":19.8938179016,\"12\":19.7973613739,\"13\":19.8168411255,\"14\":20.1171741486,\"15\":19.8918972015,\"16\":20.1915397644,\"17\":20.3401679993,\"18\":19.9926147461,\"19\":20.0997200012,\"20\":19.8034667969},\"fid\":{\"0\":2,\"1\":1,\"2\":1,\"3\":2,\"4\":2,\"5\":2,\"6\":2,\"7\":2,\"8\":2,\"9\":1,\"10\":1,\"11\":2,\"12\":1,\"13\":2,\"14\":1,\"15\":2,\"16\":2,\"17\":1,\"18\":2,\"19\":2,\"20\":1},\"sigmapsf\":{\"0\":0.1599257737,\"1\":0.127621159,\"2\":0.1728081405,\"3\":0.2097401619,\"4\":0.170470953,\"5\":0.1815263033,\"6\":0.1776263118,\"7\":0.2123211473,\"8\":0.2115102559,\"9\":0.2003795207,\"10\":0.2124526799,\"11\":0.1783928424,\"12\":0.184142381,\"13\":0.1533806324,\"14\":0.2169205546,\"15\":0.1936687827,\"16\":0.1730027348,\"17\":0.1664137542,\"18\":0.1472844481,\"19\":0.1752548069,\"20\":0.1648100466},\"jd\":{\"0\":2459194.8039930998,\"1\":2459194.8225115999,\"2\":2459196.8283218001,\"3\":2459198.7856481001,\"4\":2459203.7260532002,\"5\":2459205.7045948999,\"6\":2459221.7112153,\"7\":2459223.758287,\"8\":2459231.6687037,\"9\":2459231.7142476998,\"10\":2459233.6933912002,\"11\":2459233.7130787,\"12\":2459251.647419,\"13\":2459251.7086227001,\"14\":2459253.6715740999,\"15\":2459253.7833218002,\"16\":2459255.7654281999,\"17\":2459257.6832523001,\"18\":2459257.7081480999,\"19\":2459264.6489236001,\"20\":2459264.7063656999},\"objectId\":{\"0\":\"ZTF18aczuwfe\",\"1\":\"ZTF18aczuwfe\",\"2\":\"ZTF18aczuwfe\",\"3\":\"ZTF18aczuwfe\",\"4\":\"ZTF18aczuwfe\",\"5\":\"ZTF18aczuwfe\",\"6\":\"ZTF18aczuwfe\",\"7\":\"ZTF18aczuwfe\",\"8\":\"ZTF18aczuwfe\",\"9\":\"ZTF18aczuwfe\",\"10\":\"ZTF18aczuwfe\",\"11\":\"ZTF18aczuwfe\",\"12\":\"ZTF18aczuwfe\",\"13\":\"ZTF18aczuwfe\",\"14\":\"ZTF18aczuwfe\",\"15\":\"ZTF18aczuwfe\",\"16\":\"ZTF18aczuwfe\",\"17\":\"ZTF18aczuwfe\",\"18\":\"ZTF18aczuwfe\",\"19\":\"ZTF18aczuwfe\",\"20\":\"ZTF18aczuwfe\"}}\n",
            "{\"candid\":{\"0\":1413467435615010006,\"1\":1413504165615010011,\"2\":1415503721415015012,\"3\":1415504180315015015,\"4\":1436373241415015008,\"5\":1436375135615015006,\"6\":1439302740315010057,\"7\":1439309435615010008,\"8\":1442359450315015010,\"9\":1442395721415015008,\"10\":1442400040315015017,\"11\":1444357385615015003,\"12\":1444421260315010067,\"13\":1444421735615010004,\"14\":1446436925615015006,\"15\":1448358771415015039,\"16\":1448390991415015011,\"17\":1449286970315015012,\"18\":1449424165615015013,\"19\":1450323131415015015,\"20\":1451221995615015009,\"21\":1451300350315010084,\"22\":1451326010315010064,\"23\":1451374545615015010,\"24\":1462325575615015004,\"25\":1463324060315010036,\"26\":1465332371415015016,\"27\":1466295465615010001,\"28\":1467253281415015014,\"29\":1467316120315015017,\"30\":1470275475615015007,\"31\":1471281340315010047,\"32\":1471354471415015030,\"33\":1471368571415015016,\"34\":1472314715615010006,\"35\":1475323921415010069,\"36\":1476316865615015005,\"37\":1478333065615010007,\"38\":1479318241415015023,\"39\":1479321040315015030,\"40\":1494233125615010009,\"41\":1496214185615015015,\"42\":1497227461415010058,\"43\":1497227930315010065,\"44\":1498210305615015006,\"45\":1500242465615010011,\"46\":1500253245615010006,\"47\":1501189450315015054,\"48\":1501273131415010069,\"49\":1501273610315010065,\"50\":1502252925615015010,\"51\":1503212520315010086,\"52\":1503213471415010084,\"53\":1508190460315010046,\"54\":1508273721415015040,\"55\":1508274200315015010,\"56\":1510187151415015015,\"57\":1513210705615015004,\"58\":1514190021415010034,\"59\":1514253651415015005,\"60\":1516293901415010012,\"61\":1521150675615015010,\"62\":1521234075615010003,\"63\":1524151215615015018,\"64\":1526191181415010139,\"65\":1526191655615010009,\"66\":1526205790315010079,\"67\":1536190005615015006,\"68\":1536190470315015010,\"69\":1536203621415015012,\"70\":1538147615615015006,\"71\":1538191665615010011,\"72\":1538192121415010038,\"73\":1538193070315010046,\"74\":1540149315615010004,\"75\":1540149791415010056,\"76\":1549151215615010007,\"77\":1549154021415010024,\"78\":1549154500315010042,\"79\":1552154685615010004,\"80\":1552155151415010084,\"81\":1553213650315010054,\"82\":1554197511415015015,\"83\":1558187191415010050,\"84\":1558187675615010004,\"85\":1559158980315015009,\"86\":1560192221415015015,\"87\":1561160130315010025,\"88\":1562156705615015006,\"89\":1562157171415015007},\"magpsf\":{\"0\":19.8268566132,\"1\":19.8025054932,\"2\":19.2952232361,\"3\":19.3238334656,\"4\":19.3207473755,\"5\":19.4572944641,\"6\":19.0933704376,\"7\":19.3234081268,\"8\":19.1367301941,\"9\":18.6930599213,\"10\":19.4556865692,\"11\":20.1104717255,\"12\":18.8708114624,\"13\":18.7824554443,\"14\":19.3794403076,\"15\":19.6682052612,\"16\":18.8913421631,\"17\":19.093000412,\"18\":19.0823097229,\"19\":19.4249267578,\"20\":19.5524635315,\"21\":19.825044632,\"22\":19.5840873718,\"23\":19.5697441101,\"24\":19.1650981903,\"25\":18.7645988464,\"26\":18.9482727051,\"27\":19.039642334,\"28\":19.4139556885,\"29\":19.689453125,\"30\":19.2286338806,\"31\":19.2097969055,\"32\":19.599319458,\"33\":19.2868270874,\"34\":19.6072025299,\"35\":19.5153026581,\"36\":19.7858905792,\"37\":18.6468658447,\"38\":19.6824550629,\"39\":19.652633667,\"40\":18.6746578217,\"41\":19.6613197327,\"42\":18.6823368073,\"43\":18.5505580902,\"44\":19.4911193848,\"45\":19.9429721832,\"46\":19.4177837372,\"47\":19.6528587341,\"48\":19.0573062897,\"49\":19.0586452484,\"50\":19.4718608856,\"51\":19.0161514282,\"52\":19.1813392639,\"53\":18.8287391663,\"54\":19.4740180969,\"55\":19.3122196198,\"56\":19.1544284821,\"57\":19.4045372009,\"58\":19.4666996002,\"59\":18.9718360901,\"60\":19.0561885834,\"61\":19.4800453186,\"62\":18.9732608795,\"63\":19.1910591125,\"64\":19.5630970001,\"65\":19.5016765594,\"66\":19.8212680817,\"67\":19.5846748352,\"68\":19.3526096344,\"69\":19.7169017792,\"70\":19.6593894958,\"71\":19.0484580994,\"72\":19.3083934784,\"73\":19.1910533905,\"74\":19.6239757538,\"75\":19.5349445343,\"76\":18.8311252594,\"77\":18.9605674744,\"78\":18.737827301,\"79\":19.8351097107,\"80\":19.8827323914,\"81\":18.6768608093,\"82\":18.9829883575,\"83\":18.8710403442,\"84\":18.8675327301,\"85\":19.7449645996,\"86\":19.6105651855,\"87\":18.863237381,\"88\":19.1760253906,\"89\":19.1666030884},\"fid\":{\"0\":2,\"1\":1,\"2\":2,\"3\":2,\"4\":1,\"5\":1,\"6\":2,\"7\":2,\"8\":2,\"9\":2,\"10\":1,\"11\":1,\"12\":2,\"13\":2,\"14\":1,\"15\":1,\"16\":2,\"17\":2,\"18\":2,\"19\":1,\"20\":2,\"21\":1,\"22\":2,\"23\":1,\"24\":2,\"25\":2,\"26\":2,\"27\":2,\"28\":2,\"29\":1,\"30\":2,\"31\":2,\"32\":1,\"33\":2,\"34\":1,\"35\":1,\"36\":1,\"37\":2,\"38\":1,\"39\":1,\"40\":2,\"41\":2,\"42\":2,\"43\":2,\"44\":2,\"45\":1,\"46\":2,\"47\":1,\"48\":2,\"49\":2,\"50\":1,\"51\":2,\"52\":2,\"53\":2,\"54\":1,\"55\":1,\"56\":2,\"57\":1,\"58\":1,\"59\":2,\"60\":2,\"61\":1,\"62\":2,\"63\":2,\"64\":1,\"65\":1,\"66\":1,\"67\":1,\"68\":1,\"69\":1,\"70\":1,\"71\":2,\"72\":2,\"73\":2,\"74\":1,\"75\":1,\"76\":2,\"77\":2,\"78\":2,\"79\":1,\"80\":1,\"81\":2,\"82\":2,\"83\":2,\"84\":2,\"85\":1,\"86\":1,\"87\":2,\"88\":2,\"89\":2},\"sigmapsf\":{\"0\":0.166471079,\"1\":0.1982113123,\"2\":0.1436278522,\"3\":0.1827476174,\"4\":0.1732711494,\"5\":0.1292448491,\"6\":0.1334878355,\"7\":0.1030881926,\"8\":0.1931912452,\"9\":0.1494179666,\"10\":0.194694981,\"11\":0.1934221983,\"12\":0.110772334,\"13\":0.085393846,\"14\":0.1752748042,\"15\":0.1582897753,\"16\":0.1048191637,\"17\":0.1570589244,\"18\":0.1452776939,\"19\":0.1594612896,\"20\":0.1478998661,\"21\":0.1850521863,\"22\":0.1430486143,\"23\":0.1413708627,\"24\":0.1413699836,\"25\":0.1237830892,\"26\":0.1287691295,\"27\":0.1021512598,\"28\":0.1442752928,\"29\":0.1397793293,\"30\":0.1391918659,\"31\":0.1517655849,\"32\":0.1585345417,\"33\":0.1860979348,\"34\":0.170794338,\"35\":0.1785945594,\"36\":0.1654670537,\"37\":0.067843467,\"38\":0.1701034456,\"39\":0.1705574095,\"40\":0.1152474731,\"41\":0.1750061512,\"42\":0.1080057696,\"43\":0.0957293659,\"44\":0.1647046953,\"45\":0.1640618742,\"46\":0.1012184918,\"47\":0.1615906656,\"48\":0.1343318671,\"49\":0.138542518,\"50\":0.1471510977,\"51\":0.0857612789,\"52\":0.1454363465,\"53\":0.1053173617,\"54\":0.1328511089,\"55\":0.1626281291,\"56\":0.1079596505,\"57\":0.160642162,\"58\":0.2023270279,\"59\":0.1370065957,\"60\":0.2132719308,\"61\":0.1868943423,\"62\":0.1182063222,\"63\":0.1570535302,\"64\":0.1405311823,\"65\":0.119683668,\"66\":0.1513423324,\"67\":0.1528785378,\"68\":0.1510368586,\"69\":0.1426501125,\"70\":0.1654674262,\"71\":0.120326221,\"72\":0.1584199667,\"73\":0.1522795111,\"74\":0.1847443283,\"75\":0.1614545584,\"76\":0.0884646922,\"77\":0.1590909213,\"78\":0.1212802902,\"79\":0.1689998806,\"80\":0.1934976131,\"81\":0.1366003901,\"82\":0.1021697819,\"83\":0.1357565373,\"84\":0.0892153159,\"85\":0.2135970592,\"86\":0.1324667186,\"87\":0.1856953651,\"88\":0.1375641972,\"89\":0.1548442394},\"jd\":{\"0\":2459167.9674306,\"1\":2459168.0041666999,\"2\":2459170.0037269001,\"3\":2459170.0041898,\"4\":2459190.8732407,\"5\":2459190.8751388998,\"6\":2459193.8027431001,\"7\":2459193.8094329,\"8\":2459196.8594559999,\"9\":2459196.8957292,\"10\":2459196.9000463001,\"11\":2459198.8573842999,\"12\":2459198.9212616002,\"13\":2459198.9217361002,\"14\":2459200.9369212999,\"15\":2459202.8587731002,\"16\":2459202.8909954,\"17\":2459203.7869791999,\"18\":2459203.9241666999,\"19\":2459204.8231366002,\"20\":2459205.7219906999,\"21\":2459205.8003588002,\"22\":2459205.8260185001,\"23\":2459205.8745486001,\"24\":2459216.8255786998,\"25\":2459217.8240625001,\"26\":2459219.8323726999,\"27\":2459220.795463,\"28\":2459221.7532870001,\"29\":2459221.8161227,\"30\":2459224.7754744999,\"31\":2459225.7813426,\"32\":2459225.8544792002,\"33\":2459225.8685764,\"34\":2459226.8147105998,\"35\":2459229.8239235999,\"36\":2459230.8168633999,\"37\":2459232.8330671,\"38\":2459233.8182406998,\"39\":2459233.8210417,\"40\":2459248.7331249998,\"41\":2459250.7141898,\"42\":2459251.7274652999,\"43\":2459251.7279397999,\"44\":2459252.7103009,\"45\":2459254.7424653,\"46\":2459254.7532406999,\"47\":2459255.689456,\"48\":2459255.7731365999,\"49\":2459255.7736110999,\"50\":2459256.7529282002,\"51\":2459257.7125231,\"52\":2459257.7134722001,\"53\":2459262.690463,\"54\":2459262.7737269001,\"55\":2459262.7742014001,\"56\":2459264.6871528002,\"57\":2459267.7107060002,\"58\":2459268.6900231,\"59\":2459268.7536574001,\"60\":2459270.7939005001,\"61\":2459275.6506713,\"62\":2459275.7340740999,\"63\":2459278.6512153,\"64\":2459280.6911805999,\"65\":2459280.6916550999,\"66\":2459280.7057985999,\"67\":2459290.6899999999,\"68\":2459290.6904744999,\"69\":2459290.7036227002,\"70\":2459292.6476157,\"71\":2459292.6916666999,\"72\":2459292.6921295999,\"73\":2459292.6930787,\"74\":2459294.6493171002,\"75\":2459294.6497916998,\"76\":2459303.6512153,\"77\":2459303.6540278001,\"78\":2459303.6545023001,\"79\":2459306.6546875001,\"80\":2459306.6551505001,\"81\":2459307.7136574001,\"82\":2459308.6975115999,\"83\":2459312.6871990999,\"84\":2459312.6876735999,\"85\":2459313.6589815002,\"86\":2459314.6922221999,\"87\":2459315.6601388999,\"88\":2459316.6567013999,\"89\":2459316.6571758999},\"objectId\":{\"0\":\"ZTF18acexdlh\",\"1\":\"ZTF18acexdlh\",\"2\":\"ZTF18acexdlh\",\"3\":\"ZTF18acexdlh\",\"4\":\"ZTF18acexdlh\",\"5\":\"ZTF18acexdlh\",\"6\":\"ZTF18acexdlh\",\"7\":\"ZTF18acexdlh\",\"8\":\"ZTF18acexdlh\",\"9\":\"ZTF18acexdlh\",\"10\":\"ZTF18acexdlh\",\"11\":\"ZTF18acexdlh\",\"12\":\"ZTF18acexdlh\",\"13\":\"ZTF18acexdlh\",\"14\":\"ZTF18acexdlh\",\"15\":\"ZTF18acexdlh\",\"16\":\"ZTF18acexdlh\",\"17\":\"ZTF18acexdlh\",\"18\":\"ZTF18acexdlh\",\"19\":\"ZTF18acexdlh\",\"20\":\"ZTF18acexdlh\",\"21\":\"ZTF18acexdlh\",\"22\":\"ZTF18acexdlh\",\"23\":\"ZTF18acexdlh\",\"24\":\"ZTF18acexdlh\",\"25\":\"ZTF18acexdlh\",\"26\":\"ZTF18acexdlh\",\"27\":\"ZTF18acexdlh\",\"28\":\"ZTF18acexdlh\",\"29\":\"ZTF18acexdlh\",\"30\":\"ZTF18acexdlh\",\"31\":\"ZTF18acexdlh\",\"32\":\"ZTF18acexdlh\",\"33\":\"ZTF18acexdlh\",\"34\":\"ZTF18acexdlh\",\"35\":\"ZTF18acexdlh\",\"36\":\"ZTF18acexdlh\",\"37\":\"ZTF18acexdlh\",\"38\":\"ZTF18acexdlh\",\"39\":\"ZTF18acexdlh\",\"40\":\"ZTF18acexdlh\",\"41\":\"ZTF18acexdlh\",\"42\":\"ZTF18acexdlh\",\"43\":\"ZTF18acexdlh\",\"44\":\"ZTF18acexdlh\",\"45\":\"ZTF18acexdlh\",\"46\":\"ZTF18acexdlh\",\"47\":\"ZTF18acexdlh\",\"48\":\"ZTF18acexdlh\",\"49\":\"ZTF18acexdlh\",\"50\":\"ZTF18acexdlh\",\"51\":\"ZTF18acexdlh\",\"52\":\"ZTF18acexdlh\",\"53\":\"ZTF18acexdlh\",\"54\":\"ZTF18acexdlh\",\"55\":\"ZTF18acexdlh\",\"56\":\"ZTF18acexdlh\",\"57\":\"ZTF18acexdlh\",\"58\":\"ZTF18acexdlh\",\"59\":\"ZTF18acexdlh\",\"60\":\"ZTF18acexdlh\",\"61\":\"ZTF18acexdlh\",\"62\":\"ZTF18acexdlh\",\"63\":\"ZTF18acexdlh\",\"64\":\"ZTF18acexdlh\",\"65\":\"ZTF18acexdlh\",\"66\":\"ZTF18acexdlh\",\"67\":\"ZTF18acexdlh\",\"68\":\"ZTF18acexdlh\",\"69\":\"ZTF18acexdlh\",\"70\":\"ZTF18acexdlh\",\"71\":\"ZTF18acexdlh\",\"72\":\"ZTF18acexdlh\",\"73\":\"ZTF18acexdlh\",\"74\":\"ZTF18acexdlh\",\"75\":\"ZTF18acexdlh\",\"76\":\"ZTF18acexdlh\",\"77\":\"ZTF18acexdlh\",\"78\":\"ZTF18acexdlh\",\"79\":\"ZTF18acexdlh\",\"80\":\"ZTF18acexdlh\",\"81\":\"ZTF18acexdlh\",\"82\":\"ZTF18acexdlh\",\"83\":\"ZTF18acexdlh\",\"84\":\"ZTF18acexdlh\",\"85\":\"ZTF18acexdlh\",\"86\":\"ZTF18acexdlh\",\"87\":\"ZTF18acexdlh\",\"88\":\"ZTF18acexdlh\",\"89\":\"ZTF18acexdlh\"}}\n",
            "{\"candid\":{\"0\":1414351235215015023,\"1\":1414365935215015038,\"2\":1416400905215015017,\"3\":1416427635215015028,\"4\":1427289515215015014,\"5\":1431341885215015008,\"6\":1438294975215015018,\"7\":1440303995215015015,\"8\":1440322515215015022,\"9\":1442282165215015017,\"10\":1442328325215015021,\"11\":1444285645215015017,\"12\":1444320905215015016,\"13\":1446323875215015047,\"14\":1449226055215015021,\"15\":1449333365215015022,\"16\":1451204595215015021,\"17\":1451280085215015013,\"18\":1461235915215015011,\"19\":1467211215215015018,\"20\":1469186965215015010,\"21\":1469258285215015019,\"22\":1471269095215015023,\"23\":1475232495215015014,\"24\":1477168705215015013,\"25\":1477214245215015017,\"26\":1479193395215015012,\"27\":1479213075215015022,\"28\":1495204985215015017,\"29\":1497208625215015030,\"30\":1499283325215015017,\"31\":1501172065215015058,\"32\":1501265425215015012,\"33\":1503208145215015012,\"34\":1508194315215015016,\"35\":1510148925215015017},\"magpsf\":{\"0\":19.8983020782,\"1\":20.0880413055,\"2\":19.7619514465,\"3\":20.11170578,\"4\":19.2475509644,\"5\":19.1077766418,\"6\":19.2282066345,\"7\":19.0181903839,\"8\":19.2426280975,\"9\":18.9577732086,\"10\":19.1942749023,\"11\":18.8844013214,\"12\":19.3058395386,\"13\":18.6996116638,\"14\":18.8215522766,\"15\":19.2747612,\"16\":18.8396377563,\"17\":19.1615428925,\"18\":18.6582202911,\"19\":18.8197555542,\"20\":19.4687843323,\"21\":18.8498764038,\"22\":18.9527015686,\"23\":19.0104389191,\"24\":19.0842628479,\"25\":19.8295040131,\"26\":19.8285655975,\"27\":18.985918045,\"28\":19.1864910126,\"29\":19.2962207794,\"30\":19.2554168701,\"31\":20.1308116913,\"32\":19.3559875488,\"33\":19.3853111267,\"34\":19.4201126099,\"35\":19.3689403534},\"fid\":{\"0\":2,\"1\":1,\"2\":2,\"3\":1,\"4\":2,\"5\":2,\"6\":1,\"7\":2,\"8\":1,\"9\":2,\"10\":1,\"11\":2,\"12\":1,\"13\":2,\"14\":2,\"15\":1,\"16\":2,\"17\":1,\"18\":2,\"19\":2,\"20\":1,\"21\":2,\"22\":2,\"23\":2,\"24\":2,\"25\":1,\"26\":1,\"27\":2,\"28\":2,\"29\":2,\"30\":2,\"31\":1,\"32\":2,\"33\":2,\"34\":2,\"35\":2},\"sigmapsf\":{\"0\":0.171336174,\"1\":0.1520067751,\"2\":0.1638982892,\"3\":0.1722908914,\"4\":0.1803994179,\"5\":0.1763110161,\"6\":0.1915530562,\"7\":0.1221162975,\"8\":0.108531788,\"9\":0.1465175152,\"10\":0.1097503155,\"11\":0.0956753269,\"12\":0.1312362254,\"13\":0.1842149049,\"14\":0.0890605375,\"15\":0.1322681755,\"16\":0.1062524319,\"17\":0.128571257,\"18\":0.1441874355,\"19\":0.0945616737,\"20\":0.1163638309,\"21\":0.1142768562,\"22\":0.0919400677,\"23\":0.1705875844,\"24\":0.1422212124,\"25\":0.1563364565,\"26\":0.1784083098,\"27\":0.0934783742,\"28\":0.1186497435,\"29\":0.0947879553,\"30\":0.1173490658,\"31\":0.1696402431,\"32\":0.1248271763,\"33\":0.1245876551,\"34\":0.1650092453,\"35\":0.1512905806},\"jd\":{\"0\":2459168.8512384002,\"1\":2459168.8659374998,\"2\":2459170.9009027998,\"3\":2459170.9276389,\"4\":2459181.7895138999,\"5\":2459185.8418866,\"6\":2459192.7949768999,\"7\":2459194.8039930998,\"8\":2459194.8225115999,\"9\":2459196.7821644,\"10\":2459196.8283218001,\"11\":2459198.7856481001,\"12\":2459198.8209028002,\"13\":2459200.8238773001,\"14\":2459203.7260532002,\"15\":2459203.8333681002,\"16\":2459205.7045948999,\"17\":2459205.7800810002,\"18\":2459215.7359143998,\"19\":2459221.7112153,\"20\":2459223.6869676001,\"21\":2459223.758287,\"22\":2459225.7690972001,\"23\":2459229.7324999999,\"24\":2459231.6687037,\"25\":2459231.7142476998,\"26\":2459233.6933912002,\"27\":2459233.7130787,\"28\":2459249.7049884,\"29\":2459251.7086227001,\"30\":2459253.7833218002,\"31\":2459255.6720602,\"32\":2459255.7654281999,\"33\":2459257.7081480999,\"34\":2459262.6943171001,\"35\":2459264.6489236001},\"objectId\":{\"0\":\"ZTF20acqgklx\",\"1\":\"ZTF20acqgklx\",\"2\":\"ZTF20acqgklx\",\"3\":\"ZTF20acqgklx\",\"4\":\"ZTF20acqgklx\",\"5\":\"ZTF20acqgklx\",\"6\":\"ZTF20acqgklx\",\"7\":\"ZTF20acqgklx\",\"8\":\"ZTF20acqgklx\",\"9\":\"ZTF20acqgklx\",\"10\":\"ZTF20acqgklx\",\"11\":\"ZTF20acqgklx\",\"12\":\"ZTF20acqgklx\",\"13\":\"ZTF20acqgklx\",\"14\":\"ZTF20acqgklx\",\"15\":\"ZTF20acqgklx\",\"16\":\"ZTF20acqgklx\",\"17\":\"ZTF20acqgklx\",\"18\":\"ZTF20acqgklx\",\"19\":\"ZTF20acqgklx\",\"20\":\"ZTF20acqgklx\",\"21\":\"ZTF20acqgklx\",\"22\":\"ZTF20acqgklx\",\"23\":\"ZTF20acqgklx\",\"24\":\"ZTF20acqgklx\",\"25\":\"ZTF20acqgklx\",\"26\":\"ZTF20acqgklx\",\"27\":\"ZTF20acqgklx\",\"28\":\"ZTF20acqgklx\",\"29\":\"ZTF20acqgklx\",\"30\":\"ZTF20acqgklx\",\"31\":\"ZTF20acqgklx\",\"32\":\"ZTF20acqgklx\",\"33\":\"ZTF20acqgklx\",\"34\":\"ZTF20acqgklx\",\"35\":\"ZTF20acqgklx\"}}\n",
            "{\"candid\":{\"0\":1410421083615015027,\"1\":1414350743615015012,\"2\":1416402323615015029,\"3\":1416428113615015031,\"4\":1425356333615015016,\"5\":1439340303615015028,\"6\":1442343863615015028,\"7\":1442363703615015023,\"8\":1444284213615015013,\"9\":1444343243615015022,\"10\":1449279243615015021,\"11\":1451224353615015022,\"12\":1467249443615015021,\"13\":1469312763615015029,\"14\":1471254023615015025,\"15\":1479243343615015028,\"16\":1495206403615015026,\"17\":1497191033615015018,\"18\":1499281903615015021,\"19\":1501264493615015022,\"20\":1503184653615015029,\"21\":1503238313615015028,\"22\":1522151113615015015,\"23\":1526166113615015039,\"24\":1538207903615015018,\"25\":1549165843615015018,\"26\":1552205863615015010,\"27\":1554175053615015021,\"28\":1560159313615015014},\"magpsf\":{\"0\":20.1263103485,\"1\":19.6437110901,\"2\":19.7170677185,\"3\":20.3240432739,\"4\":19.5522918701,\"5\":20.1467914581,\"6\":19.9527130127,\"7\":19.403717041,\"8\":19.5403175354,\"9\":20.1612243652,\"10\":19.4995422363,\"11\":19.6900405884,\"12\":19.6480388641,\"13\":19.7055225372,\"14\":19.5911617279,\"15\":19.8563613892,\"16\":19.7718143463,\"17\":20.0057907104,\"18\":19.8509178162,\"19\":19.8474159241,\"20\":20.4788990021,\"21\":19.7942714691,\"22\":20.0051574707,\"23\":19.9091053009,\"24\":19.768371582,\"25\":19.7214546204,\"26\":19.8386001587,\"27\":19.6664218903,\"28\":19.8575325012},\"fid\":{\"0\":1,\"1\":2,\"2\":2,\"3\":1,\"4\":2,\"5\":1,\"6\":1,\"7\":2,\"8\":2,\"9\":1,\"10\":2,\"11\":2,\"12\":2,\"13\":2,\"14\":2,\"15\":2,\"16\":2,\"17\":2,\"18\":2,\"19\":2,\"20\":1,\"21\":2,\"22\":2,\"23\":2,\"24\":2,\"25\":2,\"26\":2,\"27\":2,\"28\":2},\"sigmapsf\":{\"0\":0.1478390694,\"1\":0.1786457896,\"2\":0.1201419905,\"3\":0.2137282491,\"4\":0.1828130335,\"5\":0.1821027398,\"6\":0.2136308253,\"7\":0.1492431909,\"8\":0.1586374938,\"9\":0.1832898408,\"10\":0.1459459364,\"11\":0.1616570801,\"12\":0.1174216121,\"13\":0.1229797304,\"14\":0.1835189313,\"15\":0.1698679477,\"16\":0.1528984904,\"17\":0.1754024476,\"18\":0.1329197288,\"19\":0.1521711051,\"20\":0.2028204799,\"21\":0.1494113058,\"22\":0.1635341197,\"23\":0.1689478308,\"24\":0.1784726828,\"25\":0.2108649015,\"26\":0.1988516301,\"27\":0.166205436,\"28\":0.1795794368},\"jd\":{\"0\":2459164.9210879998,\"1\":2459168.8507407,\"2\":2459170.9023263999,\"3\":2459170.9281134,\"4\":2459179.8563310001,\"5\":2459193.8403008999,\"6\":2459196.8438657001,\"7\":2459196.8637036998,\"8\":2459198.784213,\"9\":2459198.8432407002,\"10\":2459203.7792476998,\"11\":2459205.7243519002,\"12\":2459221.7494444,\"13\":2459223.8127661999,\"14\":2459225.7540278002,\"15\":2459233.7433449002,\"16\":2459249.7064005001,\"17\":2459251.6910301,\"18\":2459253.7819097,\"19\":2459255.7644906999,\"20\":2459257.6846528002,\"21\":2459257.7383102002,\"22\":2459276.6511110999,\"23\":2459280.6661111,\"24\":2459292.7079051002,\"25\":2459303.6658449001,\"26\":2459306.7058680998,\"27\":2459308.6750579001,\"28\":2459314.6593171},\"objectId\":{\"0\":\"ZTF18aczvqcr\",\"1\":\"ZTF18aczvqcr\",\"2\":\"ZTF18aczvqcr\",\"3\":\"ZTF18aczvqcr\",\"4\":\"ZTF18aczvqcr\",\"5\":\"ZTF18aczvqcr\",\"6\":\"ZTF18aczvqcr\",\"7\":\"ZTF18aczvqcr\",\"8\":\"ZTF18aczvqcr\",\"9\":\"ZTF18aczvqcr\",\"10\":\"ZTF18aczvqcr\",\"11\":\"ZTF18aczvqcr\",\"12\":\"ZTF18aczvqcr\",\"13\":\"ZTF18aczvqcr\",\"14\":\"ZTF18aczvqcr\",\"15\":\"ZTF18aczvqcr\",\"16\":\"ZTF18aczvqcr\",\"17\":\"ZTF18aczvqcr\",\"18\":\"ZTF18aczvqcr\",\"19\":\"ZTF18aczvqcr\",\"20\":\"ZTF18aczvqcr\",\"21\":\"ZTF18aczvqcr\",\"22\":\"ZTF18aczvqcr\",\"23\":\"ZTF18aczvqcr\",\"24\":\"ZTF18aczvqcr\",\"25\":\"ZTF18aczvqcr\",\"26\":\"ZTF18aczvqcr\",\"27\":\"ZTF18aczvqcr\",\"28\":\"ZTF18aczvqcr\"}}\n"
          ],
          "name": "stdout"
        }
      ]
    },
    {
      "cell_type": "markdown",
      "metadata": {
        "id": "uNSyjMGArw3k"
      },
      "source": [
        "Finally, `query_objects()` can return the raw query job object that it gets from its API call using `google.cloud.bigquery`'s `query()` method."
      ]
    },
    {
      "cell_type": "code",
      "metadata": {
        "id": "BsY_T60i8YjT"
      },
      "source": [
        "# Option 5: Get the `query_job` object\n",
        "#           (see the section on using google.cloud.bigquery directly)\n",
        "\n",
        "query_job = pgb.bigquery.query_objects(columns, \n",
        "                                       objectIds=objectIds, \n",
        "                                       format='query_job',\n",
        "                                       dry_run=dry_run\n",
        "                                       )\n",
        "# query_job is iterable\n",
        "# each element contains the aggregated history for a single objectId\n",
        "# Beware: this has not been cleaned of duplicate entries"
      ],
      "execution_count": 18,
      "outputs": []
    },
    {
      "cell_type": "code",
      "metadata": {
        "id": "vNwVq3kkpf7t",
        "colab": {
          "base_uri": "https://localhost:8080/"
        },
        "outputId": "f64e77b0-6ad2-42db-94c6-8b8e7336b799"
      },
      "source": [
        "# Option 5 continued: parse query_job results row by row\n",
        "\n",
        "for row in query_job:\n",
        "    # values can be accessed by field name or index\n",
        "    print(f\"objectId={row[0]}, magpsf={row['magpsf']}\")\n",
        "\n",
        "    # pgb can cast to a DataFrame or json string\n",
        "    # this option also cleans the duplicates\n",
        "    lc_df = pgb.bigquery.format_history_query_results(row=row)\n",
        "    print(f'\\nobjectId: {lc_df.objectId}')  # objectId in metadata\n",
        "    print(lc_df.head(1))\n",
        "    lcjson = pgb.bigquery.format_history_query_results(row=row, format='json')\n",
        "    print('\\n', lcjson)\n",
        "\n",
        "    break"
      ],
      "execution_count": 19,
      "outputs": [
        {
          "output_type": "stream",
          "text": [
            "objectId=ZTF18aczvqcr, magpsf=[20.126310348510742, 19.64371109008789, 19.71706771850586, 20.32404327392578, 19.552291870117188, 20.146791458129883, 19.952713012695312, 19.952713012695312, 19.403717041015625, 19.403717041015625, 19.54031753540039, 19.54031753540039, 20.161224365234375, 20.161224365234375, 19.499542236328125, 19.690040588378906, 19.648038864135742, 19.705522537231445, 19.591161727905273, 19.856361389160156, 19.771814346313477, 20.00579071044922, 19.85091781616211, 19.847415924072266, 20.478899002075195, 19.79427146911621, 20.005157470703125, 19.90910530090332, 19.76837158203125, 19.721454620361328, 19.838600158691406, 19.66642189025879, 19.857532501220703]\n",
            "\n",
            "objectId: ZTF18aczvqcr\n",
            "                       magpsf  fid  sigmapsf            jd\n",
            "candid                                                    \n",
            "1410421083615015027  20.12631    1  0.147839  2.459165e+06\n",
            "\n",
            " {\"candid\":{\"0\":1410421083615015027,\"1\":1414350743615015012,\"2\":1416402323615015029,\"3\":1416428113615015031,\"4\":1425356333615015016,\"5\":1439340303615015028,\"6\":1442343863615015028,\"7\":1442363703615015023,\"8\":1444284213615015013,\"9\":1444343243615015022,\"10\":1449279243615015021,\"11\":1451224353615015022,\"12\":1467249443615015021,\"13\":1469312763615015029,\"14\":1471254023615015025,\"15\":1479243343615015028,\"16\":1495206403615015026,\"17\":1497191033615015018,\"18\":1499281903615015021,\"19\":1501264493615015022,\"20\":1503184653615015029,\"21\":1503238313615015028,\"22\":1522151113615015015,\"23\":1526166113615015039,\"24\":1538207903615015018,\"25\":1549165843615015018,\"26\":1552205863615015010,\"27\":1554175053615015021,\"28\":1560159313615015014},\"magpsf\":{\"0\":20.1263103485,\"1\":19.6437110901,\"2\":19.7170677185,\"3\":20.3240432739,\"4\":19.5522918701,\"5\":20.1467914581,\"6\":19.9527130127,\"7\":19.403717041,\"8\":19.5403175354,\"9\":20.1612243652,\"10\":19.4995422363,\"11\":19.6900405884,\"12\":19.6480388641,\"13\":19.7055225372,\"14\":19.5911617279,\"15\":19.8563613892,\"16\":19.7718143463,\"17\":20.0057907104,\"18\":19.8509178162,\"19\":19.8474159241,\"20\":20.4788990021,\"21\":19.7942714691,\"22\":20.0051574707,\"23\":19.9091053009,\"24\":19.768371582,\"25\":19.7214546204,\"26\":19.8386001587,\"27\":19.6664218903,\"28\":19.8575325012},\"fid\":{\"0\":1,\"1\":2,\"2\":2,\"3\":1,\"4\":2,\"5\":1,\"6\":1,\"7\":2,\"8\":2,\"9\":1,\"10\":2,\"11\":2,\"12\":2,\"13\":2,\"14\":2,\"15\":2,\"16\":2,\"17\":2,\"18\":2,\"19\":2,\"20\":1,\"21\":2,\"22\":2,\"23\":2,\"24\":2,\"25\":2,\"26\":2,\"27\":2,\"28\":2},\"sigmapsf\":{\"0\":0.1478390694,\"1\":0.1786457896,\"2\":0.1201419905,\"3\":0.2137282491,\"4\":0.1828130335,\"5\":0.1821027398,\"6\":0.2136308253,\"7\":0.1492431909,\"8\":0.1586374938,\"9\":0.1832898408,\"10\":0.1459459364,\"11\":0.1616570801,\"12\":0.1174216121,\"13\":0.1229797304,\"14\":0.1835189313,\"15\":0.1698679477,\"16\":0.1528984904,\"17\":0.1754024476,\"18\":0.1329197288,\"19\":0.1521711051,\"20\":0.2028204799,\"21\":0.1494113058,\"22\":0.1635341197,\"23\":0.1689478308,\"24\":0.1784726828,\"25\":0.2108649015,\"26\":0.1988516301,\"27\":0.166205436,\"28\":0.1795794368},\"jd\":{\"0\":2459164.9210879998,\"1\":2459168.8507407,\"2\":2459170.9023263999,\"3\":2459170.9281134,\"4\":2459179.8563310001,\"5\":2459193.8403008999,\"6\":2459196.8438657001,\"7\":2459196.8637036998,\"8\":2459198.784213,\"9\":2459198.8432407002,\"10\":2459203.7792476998,\"11\":2459205.7243519002,\"12\":2459221.7494444,\"13\":2459223.8127661999,\"14\":2459225.7540278002,\"15\":2459233.7433449002,\"16\":2459249.7064005001,\"17\":2459251.6910301,\"18\":2459253.7819097,\"19\":2459255.7644906999,\"20\":2459257.6846528002,\"21\":2459257.7383102002,\"22\":2459276.6511110999,\"23\":2459280.6661111,\"24\":2459292.7079051002,\"25\":2459303.6658449001,\"26\":2459306.7058680998,\"27\":2459308.6750579001,\"28\":2459314.6593171},\"objectId\":{\"0\":\"ZTF18aczvqcr\",\"1\":\"ZTF18aczvqcr\",\"2\":\"ZTF18aczvqcr\",\"3\":\"ZTF18aczvqcr\",\"4\":\"ZTF18aczvqcr\",\"5\":\"ZTF18aczvqcr\",\"6\":\"ZTF18aczvqcr\",\"7\":\"ZTF18aczvqcr\",\"8\":\"ZTF18aczvqcr\",\"9\":\"ZTF18aczvqcr\",\"10\":\"ZTF18aczvqcr\",\"11\":\"ZTF18aczvqcr\",\"12\":\"ZTF18aczvqcr\",\"13\":\"ZTF18aczvqcr\",\"14\":\"ZTF18aczvqcr\",\"15\":\"ZTF18aczvqcr\",\"16\":\"ZTF18aczvqcr\",\"17\":\"ZTF18aczvqcr\",\"18\":\"ZTF18aczvqcr\",\"19\":\"ZTF18aczvqcr\",\"20\":\"ZTF18aczvqcr\",\"21\":\"ZTF18aczvqcr\",\"22\":\"ZTF18aczvqcr\",\"23\":\"ZTF18aczvqcr\",\"24\":\"ZTF18aczvqcr\",\"25\":\"ZTF18aczvqcr\",\"26\":\"ZTF18aczvqcr\",\"27\":\"ZTF18aczvqcr\",\"28\":\"ZTF18aczvqcr\"}}\n"
          ],
          "name": "stdout"
        }
      ]
    },
    {
      "cell_type": "markdown",
      "metadata": {
        "id": "wmeLC30rPwKF"
      },
      "source": [
        "---"
      ]
    },
    {
      "cell_type": "markdown",
      "metadata": {
        "id": "FLEcUP3jtVh9"
      },
      "source": [
        "#### Plot a lightcurve"
      ]
    },
    {
      "cell_type": "code",
      "metadata": {
        "id": "NqJAkLgxBO7H"
      },
      "source": [
        "# Get an object's lightcurve DataFrame with the minimum required columns\n",
        "columns = ['jd','fid','magpsf','sigmapsf','diffmaglim']\n",
        "objectId = 'ZTF20acqgklx'\n",
        "lc_df = pgb.bigquery.query_objects(columns, objectIds=[objectId], dry_run=False)"
      ],
      "execution_count": 20,
      "outputs": []
    },
    {
      "cell_type": "code",
      "metadata": {
        "colab": {
          "base_uri": "https://localhost:8080/",
          "height": 295
        },
        "id": "5-hdnhcQtZ42",
        "outputId": "84dcc5e8-c7cc-4b70-b912-cba4a9bc37e0"
      },
      "source": [
        "# make the plot\n",
        "pgb.figures.plot_lightcurve(lc_df, objectId=objectId)\n",
        "# this function was adapted from:\n",
        "# https://github.com/ZwickyTransientFacility/ztf-avro-alert/blob/master/notebooks/Filtering_alerts.ipynb"
      ],
      "execution_count": 21,
      "outputs": [
        {
          "output_type": "display_data",
          "data": {
            "image/png": "[encoded data removed]",
            "text/plain": [
              "<Figure size 432x288 with 1 Axes>"
            ]
          },
          "metadata": {
            "tags": [],
            "needs_background": "light"
          }
        }
      ]
    },
    {
      "cell_type": "markdown",
      "metadata": {
        "id": "305r1rCItVLU"
      },
      "source": [
        "---"
      ]
    },
    {
      "cell_type": "markdown",
      "metadata": {
        "id": "ob8VDnewmsbg"
      },
      "source": [
        "### Cone Search"
      ]
    },
    {
      "cell_type": "markdown",
      "metadata": {
        "id": "fgUtTQlhiryF"
      },
      "source": [
        "To perform a cone search, we query for object histories and then check whether they are within the cone. \n",
        "`pgb.bigquery.cone_search()` is a convenience wrapper for this.\n",
        "\n",
        "First we set the search parameters."
      ]
    },
    {
      "cell_type": "code",
      "metadata": {
        "id": "Cw-XtkifnNXu"
      },
      "source": [
        "center = coord.SkyCoord(76.91, 6.02, frame='icrs', unit='deg')\n",
        "radius = coord.Angle(2, unit=u.deg)\n",
        "\n",
        "columns = ['jd', 'fid', 'magpsf', 'sigmapsf']\n",
        "# 'objectId' and 'candid' will be included automatically\n",
        "# options are in the 'DIASource' table\n",
        "# pgb.bigquery.get_table_info('DIASource')\n",
        "dry_run = False\n",
        "\n",
        "# we'll restrict to a handful of objects to reduce runtime, but this is optional\n",
        "objectIds = ['ZTF18aczuwfe', 'ZTF18aczvqcr', 'ZTF20acqgklx', 'ZTF18acexdlh']"
      ],
      "execution_count": 22,
      "outputs": []
    },
    {
      "cell_type": "markdown",
      "metadata": {
        "id": "ZJEFLK2IuWXQ"
      },
      "source": [
        "`cone_search()` has similar options to `query_objects()`:"
      ]
    },
    {
      "cell_type": "code",
      "metadata": {
        "id": "SReMyuJXnOMA",
        "colab": {
          "base_uri": "https://localhost:8080/",
          "height": 228
        },
        "outputId": "1e01dbd5-fb17-4a8f-c7b1-dc0882a01cf1"
      },
      "source": [
        "# Option 1: Get a single df of all objects in the cone\n",
        "\n",
        "objects_in_cone = pgb.bigquery.cone_search(center, radius, columns, \n",
        "                                           objectIds=objectIds, \n",
        "                                           dry_run=dry_run\n",
        "                                           )\n",
        "objects_in_cone.sample(5)"
      ],
      "execution_count": 23,
      "outputs": [
        {
          "output_type": "execute_result",
          "data": {
            "text/html": [
              "<div>\n",
              "<style scoped>\n",
              "    .dataframe tbody tr th:only-of-type {\n",
              "        vertical-align: middle;\n",
              "    }\n",
              "\n",
              "    .dataframe tbody tr th {\n",
              "        vertical-align: top;\n",
              "    }\n",
              "\n",
              "    .dataframe thead th {\n",
              "        text-align: right;\n",
              "    }\n",
              "</style>\n",
              "<table border=\"1\" class=\"dataframe\">\n",
              "  <thead>\n",
              "    <tr style=\"text-align: right;\">\n",
              "      <th></th>\n",
              "      <th></th>\n",
              "      <th>magpsf</th>\n",
              "      <th>fid</th>\n",
              "      <th>jd</th>\n",
              "      <th>dec</th>\n",
              "      <th>sigmapsf</th>\n",
              "      <th>ra</th>\n",
              "    </tr>\n",
              "    <tr>\n",
              "      <th>objectId</th>\n",
              "      <th>candid</th>\n",
              "      <th></th>\n",
              "      <th></th>\n",
              "      <th></th>\n",
              "      <th></th>\n",
              "      <th></th>\n",
              "      <th></th>\n",
              "    </tr>\n",
              "  </thead>\n",
              "  <tbody>\n",
              "    <tr>\n",
              "      <th rowspan=\"4\" valign=\"top\">ZTF20acqgklx</th>\n",
              "      <th>1431341885215015008</th>\n",
              "      <td>19.107777</td>\n",
              "      <td>2</td>\n",
              "      <td>2.459186e+06</td>\n",
              "      <td>7.760146</td>\n",
              "      <td>0.176311</td>\n",
              "      <td>76.633692</td>\n",
              "    </tr>\n",
              "    <tr>\n",
              "      <th>1442282165215015017</th>\n",
              "      <td>18.957773</td>\n",
              "      <td>2</td>\n",
              "      <td>2.459197e+06</td>\n",
              "      <td>7.760036</td>\n",
              "      <td>0.146518</td>\n",
              "      <td>76.633643</td>\n",
              "    </tr>\n",
              "    <tr>\n",
              "      <th>1440322515215015022</th>\n",
              "      <td>19.242628</td>\n",
              "      <td>1</td>\n",
              "      <td>2.459195e+06</td>\n",
              "      <td>7.760093</td>\n",
              "      <td>0.108532</td>\n",
              "      <td>76.633675</td>\n",
              "    </tr>\n",
              "    <tr>\n",
              "      <th>1501265425215015012</th>\n",
              "      <td>19.355988</td>\n",
              "      <td>2</td>\n",
              "      <td>2.459256e+06</td>\n",
              "      <td>7.760102</td>\n",
              "      <td>0.124827</td>\n",
              "      <td>76.633697</td>\n",
              "    </tr>\n",
              "    <tr>\n",
              "      <th>ZTF18aczuwfe</th>\n",
              "      <th>1501265423415015001</th>\n",
              "      <td>20.191540</td>\n",
              "      <td>2</td>\n",
              "      <td>2.459256e+06</td>\n",
              "      <td>5.387391</td>\n",
              "      <td>0.173003</td>\n",
              "      <td>77.496681</td>\n",
              "    </tr>\n",
              "  </tbody>\n",
              "</table>\n",
              "</div>"
            ],
            "text/plain": [
              "                                     magpsf  fid  ...  sigmapsf         ra\n",
              "objectId     candid                               ...                     \n",
              "ZTF20acqgklx 1431341885215015008  19.107777    2  ...  0.176311  76.633692\n",
              "             1442282165215015017  18.957773    2  ...  0.146518  76.633643\n",
              "             1440322515215015022  19.242628    1  ...  0.108532  76.633675\n",
              "             1501265425215015012  19.355988    2  ...  0.124827  76.633697\n",
              "ZTF18aczuwfe 1501265423415015001  20.191540    2  ...  0.173003  77.496681\n",
              "\n",
              "[5 rows x 6 columns]"
            ]
          },
          "metadata": {
            "tags": []
          },
          "execution_count": 23
        }
      ]
    },
    {
      "cell_type": "code",
      "metadata": {
        "id": "FiXoz826nODh",
        "colab": {
          "base_uri": "https://localhost:8080/",
          "height": 156
        },
        "outputId": "2a5ff359-399d-4a77-c931-8015b274e84e"
      },
      "source": [
        "# Option 2: Get a single json string of all objects in the cone\n",
        "format = 'json'\n",
        "\n",
        "objects_in_cone = pgb.bigquery.cone_search(center, radius, columns, \n",
        "                                           objectIds=objectIds, \n",
        "                                           format=format, \n",
        "                                           dry_run=dry_run\n",
        "                                           )\n",
        "objects_in_cone"
      ],
      "execution_count": 24,
      "outputs": [
        {
          "output_type": "execute_result",
          "data": {
            "application/vnd.google.colaboratory.intrinsic+json": {
              "type": "string"
            },
            "text/plain": [
              "'{\"objectId\":{\"0\":\"ZTF20acqgklx\",\"1\":\"ZTF20acqgklx\",\"2\":\"ZTF20acqgklx\",\"3\":\"ZTF20acqgklx\",\"4\":\"ZTF20acqgklx\",\"5\":\"ZTF20acqgklx\",\"6\":\"ZTF20acqgklx\",\"7\":\"ZTF20acqgklx\",\"8\":\"ZTF20acqgklx\",\"9\":\"ZTF20acqgklx\",\"10\":\"ZTF20acqgklx\",\"11\":\"ZTF20acqgklx\",\"12\":\"ZTF20acqgklx\",\"13\":\"ZTF20acqgklx\",\"14\":\"ZTF20acqgklx\",\"15\":\"ZTF20acqgklx\",\"16\":\"ZTF20acqgklx\",\"17\":\"ZTF20acqgklx\",\"18\":\"ZTF20acqgklx\",\"19\":\"ZTF20acqgklx\",\"20\":\"ZTF20acqgklx\",\"21\":\"ZTF20acqgklx\",\"22\":\"ZTF20acqgklx\",\"23\":\"ZTF20acqgklx\",\"24\":\"ZTF20acqgklx\",\"25\":\"ZTF20acqgklx\",\"26\":\"ZTF20acqgklx\",\"27\":\"ZTF20acqgklx\",\"28\":\"ZTF20acqgklx\",\"29\":\"ZTF20acqgklx\",\"30\":\"ZTF20acqgklx\",\"31\":\"ZTF20acqgklx\",\"32\":\"ZTF20acqgklx\",\"33\":\"ZTF20acqgklx\",\"34\":\"ZTF20acqgklx\",\"35\":\"ZTF20acqgklx\",\"36\":\"ZTF18aczuwfe\",\"37\":\"ZTF18aczuwfe\",\"38\":\"ZTF18aczuwfe\",\"39\":\"ZTF18aczuwfe\",\"40\":\"ZTF18aczuwfe\",\"41\":\"ZTF18aczuwfe\",\"42\":\"ZTF18aczuwfe\",\"43\":\"ZTF18aczuwfe\",\"44\":\"ZTF18aczuwfe\",\"45\":\"ZTF18aczuwfe\",\"46\":\"ZTF18aczuwfe\",\"47\":\"ZTF18aczuwfe\",\"48\":\"ZTF18aczuwfe\",\"49\":\"ZTF18aczuwfe\",\"50\":\"ZTF18aczuwfe\",\"51\":\"ZTF18aczuwfe\",\"52\":\"ZTF18aczuwfe\",\"53\":\"ZTF18aczuwfe\",\"54\":\"ZTF18aczuwfe\",\"55\":\"ZTF18aczuwfe\",\"56\":\"ZTF18aczuwfe\"},\"candid\":{\"0\":1414351235215015023,\"1\":1414365935215015038,\"2\":1416400905215015017,\"3\":1416427635215015028,\"4\":1427289515215015014,\"5\":1431341885215015008,\"6\":1438294975215015018,\"7\":1440303995215015015,\"8\":1440322515215015022,\"9\":1442282165215015017,\"10\":1442328325215015021,\"11\":1444285645215015017,\"12\":1444320905215015016,\"13\":1446323875215015047,\"14\":1449226055215015021,\"15\":1449333365215015022,\"16\":1451204595215015021,\"17\":1451280085215015013,\"18\":1461235915215015011,\"19\":1467211215215015018,\"20\":1469186965215015010,\"21\":1469258285215015019,\"22\":1471269095215015023,\"23\":1475232495215015014,\"24\":1477168705215015013,\"25\":1477214245215015017,\"26\":1479193395215015012,\"27\":1479213075215015022,\"28\":1495204985215015017,\"29\":1497208625215015030,\"30\":1499283325215015017,\"31\":1501172065215015058,\"32\":1501265425215015012,\"33\":1503208145215015012,\"34\":1508194315215015016,\"35\":1510148925215015017,\"36\":1440303993415015003,\"37\":1440322513415015004,\"38\":1442328323415015002,\"39\":1444285643415015001,\"40\":1449226053415015000,\"41\":1451204593415015000,\"42\":1467211213415015002,\"43\":1469258283415015005,\"44\":1477168703415015002,\"45\":1477214243415015002,\"46\":1479193393415015001,\"47\":1479213073415015001,\"48\":1497147413415015000,\"49\":1497208623415015000,\"50\":1499171573415015000,\"51\":1499283323415015000,\"52\":1501265423415015001,\"53\":1503183253415015010,\"54\":1503208143415015003,\"55\":1510148923415015004,\"56\":1510206363415015002},\"magpsf\":{\"0\":19.8983020782,\"1\":20.0880413055,\"2\":19.7619514465,\"3\":20.11170578,\"4\":19.2475509644,\"5\":19.1077766418,\"6\":19.2282066345,\"7\":19.0181903839,\"8\":19.2426280975,\"9\":18.9577732086,\"10\":19.1942749023,\"11\":18.8844013214,\"12\":19.3058395386,\"13\":18.6996116638,\"14\":18.8215522766,\"15\":19.2747612,\"16\":18.8396377563,\"17\":19.1615428925,\"18\":18.6582202911,\"19\":18.8197555542,\"20\":19.4687843323,\"21\":18.8498764038,\"22\":18.9527015686,\"23\":19.0104389191,\"24\":19.0842628479,\"25\":19.8295040131,\"26\":19.8285655975,\"27\":18.985918045,\"28\":19.1864910126,\"29\":19.2962207794,\"30\":19.2554168701,\"31\":20.1308116913,\"32\":19.3559875488,\"33\":19.3853111267,\"34\":19.4201126099,\"35\":19.3689403534,\"36\":19.8075904846,\"37\":19.8193302155,\"38\":19.782699585,\"39\":19.9273719788,\"40\":19.9659252167,\"41\":20.0367927551,\"42\":19.8974628448,\"43\":20.287065506,\"44\":19.468252182,\"45\":19.980096817,\"46\":19.7932052612,\"47\":19.8938179016,\"48\":19.7973613739,\"49\":19.8168411255,\"50\":20.1171741486,\"51\":19.8918972015,\"52\":20.1915397644,\"53\":20.3401679993,\"54\":19.9926147461,\"55\":20.0997200012,\"56\":19.8034667969},\"fid\":{\"0\":2,\"1\":1,\"2\":2,\"3\":1,\"4\":2,\"5\":2,\"6\":1,\"7\":2,\"8\":1,\"9\":2,\"10\":1,\"11\":2,\"12\":1,\"13\":2,\"14\":2,\"15\":1,\"16\":2,\"17\":1,\"18\":2,\"19\":2,\"20\":1,\"21\":2,\"22\":2,\"23\":2,\"24\":2,\"25\":1,\"26\":1,\"27\":2,\"28\":2,\"29\":2,\"30\":2,\"31\":1,\"32\":2,\"33\":2,\"34\":2,\"35\":2,\"36\":2,\"37\":1,\"38\":1,\"39\":2,\"40\":2,\"41\":2,\"42\":2,\"43\":2,\"44\":2,\"45\":1,\"46\":1,\"47\":2,\"48\":1,\"49\":2,\"50\":1,\"51\":2,\"52\":2,\"53\":1,\"54\":2,\"55\":2,\"56\":1},\"jd\":{\"0\":2459168.8512384002,\"1\":2459168.8659374998,\"2\":2459170.9009027998,\"3\":2459170.9276389,\"4\":2459181.7895138999,\"5\":2459185.8418866,\"6\":2459192.7949768999,\"7\":2459194.8039930998,\"8\":2459194.8225115999,\"9\":2459196.7821644,\"10\":2459196.8283218001,\"11\":2459198.7856481001,\"12\":2459198.8209028002,\"13\":2459200.8238773001,\"14\":2459203.7260532002,\"15\":2459203.8333681002,\"16\":2459205.7045948999,\"17\":2459205.7800810002,\"18\":2459215.7359143998,\"19\":2459221.7112153,\"20\":2459223.6869676001,\"21\":2459223.758287,\"22\":2459225.7690972001,\"23\":2459229.7324999999,\"24\":2459231.6687037,\"25\":2459231.7142476998,\"26\":2459233.6933912002,\"27\":2459233.7130787,\"28\":2459249.7049884,\"29\":2459251.7086227001,\"30\":2459253.7833218002,\"31\":2459255.6720602,\"32\":2459255.7654281999,\"33\":2459257.7081480999,\"34\":2459262.6943171001,\"35\":2459264.6489236001,\"36\":2459194.8039930998,\"37\":2459194.8225115999,\"38\":2459196.8283218001,\"39\":2459198.7856481001,\"40\":2459203.7260532002,\"41\":2459205.7045948999,\"42\":2459221.7112153,\"43\":2459223.758287,\"44\":2459231.6687037,\"45\":2459231.7142476998,\"46\":2459233.6933912002,\"47\":2459233.7130787,\"48\":2459251.647419,\"49\":2459251.7086227001,\"50\":2459253.6715740999,\"51\":2459253.7833218002,\"52\":2459255.7654281999,\"53\":2459257.6832523001,\"54\":2459257.7081480999,\"55\":2459264.6489236001,\"56\":2459264.7063656999},\"dec\":{\"0\":7.7601491,\"1\":7.7601311,\"2\":7.760113,\"3\":7.760097,\"4\":7.7601185,\"5\":7.7601462,\"6\":7.7601382,\"7\":7.7601075,\"8\":7.760093,\"9\":7.760036,\"10\":7.760094,\"11\":7.7601101,\"12\":7.7601095,\"13\":7.7601503,\"14\":7.7600756,\"15\":7.7601105,\"16\":7.7601354,\"17\":7.7601159,\"18\":7.7601193,\"19\":7.7601317,\"20\":7.7600808,\"21\":7.7601317,\"22\":7.7601355,\"23\":7.7601352,\"24\":7.7600648,\"25\":7.7600323,\"26\":7.7601065,\"27\":7.7601319,\"28\":7.7600979,\"29\":7.7601315,\"30\":7.7601408,\"31\":7.7601188,\"32\":7.7601017,\"33\":7.7601286,\"34\":7.760111,\"35\":7.7601302,\"36\":5.3874165,\"37\":5.387412,\"38\":5.38738,\"39\":5.3872464,\"40\":5.387483,\"41\":5.3874589,\"42\":5.3874569,\"43\":5.3874142,\"44\":5.387562,\"45\":5.3872398,\"46\":5.3874461,\"47\":5.3873628,\"48\":5.3873717,\"49\":5.3873639,\"50\":5.38744,\"51\":5.3874191,\"52\":5.3873912,\"53\":5.3873755,\"54\":5.3873779,\"55\":5.3874122,\"56\":5.3874497},\"sigmapsf\":{\"0\":0.171336174,\"1\":0.1520067751,\"2\":0.1638982892,\"3\":0.1722908914,\"4\":0.1803994179,\"5\":0.1763110161,\"6\":0.1915530562,\"7\":0.1221162975,\"8\":0.108531788,\"9\":0.1465175152,\"10\":0.1097503155,\"11\":0.0956753269,\"12\":0.1312362254,\"13\":0.1842149049,\"14\":0.0890605375,\"15\":0.1322681755,\"16\":0.1062524319,\"17\":0.128571257,\"18\":0.1441874355,\"19\":0.0945616737,\"20\":0.1163638309,\"21\":0.1142768562,\"22\":0.0919400677,\"23\":0.1705875844,\"24\":0.1422212124,\"25\":0.1563364565,\"26\":0.1784083098,\"27\":0.0934783742,\"28\":0.1186497435,\"29\":0.0947879553,\"30\":0.1173490658,\"31\":0.1696402431,\"32\":0.1248271763,\"33\":0.1245876551,\"34\":0.1650092453,\"35\":0.1512905806,\"36\":0.1599257737,\"37\":0.127621159,\"38\":0.1728081405,\"39\":0.2097401619,\"40\":0.170470953,\"41\":0.1815263033,\"42\":0.1776263118,\"43\":0.2123211473,\"44\":0.2115102559,\"45\":0.2003795207,\"46\":0.2124526799,\"47\":0.1783928424,\"48\":0.184142381,\"49\":0.1533806324,\"50\":0.2169205546,\"51\":0.1936687827,\"52\":0.1730027348,\"53\":0.1664137542,\"54\":0.1472844481,\"55\":0.1752548069,\"56\":0.1648100466},\"ra\":{\"0\":76.6337364,\"1\":76.6336455,\"2\":76.6337185,\"3\":76.6336907,\"4\":76.6336291,\"5\":76.6336916,\"6\":76.6337059,\"7\":76.6336987,\"8\":76.6336754,\"9\":76.6336433,\"10\":76.6337114,\"11\":76.633711,\"12\":76.6336478,\"13\":76.633696,\"14\":76.6336947,\"15\":76.6337114,\"16\":76.6336857,\"17\":76.633705,\"18\":76.6337068,\"19\":76.6337048,\"20\":76.633726,\"21\":76.6337087,\"22\":76.6337082,\"23\":76.6336816,\"24\":76.6337475,\"25\":76.6337401,\"26\":76.6336617,\"27\":76.6336993,\"28\":76.6336502,\"29\":76.6337006,\"30\":76.6337207,\"31\":76.6336483,\"32\":76.6336968,\"33\":76.6336855,\"34\":76.6337576,\"35\":76.633721,\"36\":77.4967414,\"37\":77.4967321,\"38\":77.4967302,\"39\":77.4968264,\"40\":77.4967744,\"41\":77.4967577,\"42\":77.4967176,\"43\":77.4968039,\"44\":77.4967067,\"45\":77.4968379,\"46\":77.4967014,\"47\":77.4965744,\"48\":77.4966655,\"49\":77.4967094,\"50\":77.4967176,\"51\":77.4967367,\"52\":77.4966814,\"53\":77.4967869,\"54\":77.4967563,\"55\":77.4965964,\"56\":77.4966476}}'"
            ]
          },
          "metadata": {
            "tags": []
          },
          "execution_count": 24
        }
      ]
    },
    {
      "cell_type": "code",
      "metadata": {
        "id": "XY3IO_3EzewP",
        "colab": {
          "base_uri": "https://localhost:8080/"
        },
        "outputId": "a40203b5-0155-4e37-8927-473df94180fa"
      },
      "source": [
        "# Option 3: Get a generator that yields dfs of individual objects in the cone\n",
        "iterator = True\n",
        "\n",
        "objects_in_cone = pgb.bigquery.cone_search(center, radius, columns, \n",
        "                                           objectIds=objectIds, \n",
        "                                           iterator=iterator, \n",
        "                                           dry_run=dry_run\n",
        "                                           )\n",
        "for obj in objects_in_cone:\n",
        "    print(f'objectId: {obj.objectId}')  # objectId in metadata\n",
        "    print(obj.head())"
      ],
      "execution_count": 25,
      "outputs": [
        {
          "output_type": "stream",
          "text": [
            "objectId: ZTF20acqgklx\n",
            "                        magpsf  fid  ...  sigmapsf         ra\n",
            "candid                               ...                     \n",
            "1414351235215015023  19.898302    2  ...  0.171336  76.633736\n",
            "1414365935215015038  20.088041    1  ...  0.152007  76.633646\n",
            "1416400905215015017  19.761951    2  ...  0.163898  76.633719\n",
            "1416427635215015028  20.111706    1  ...  0.172291  76.633691\n",
            "1427289515215015014  19.247551    2  ...  0.180399  76.633629\n",
            "\n",
            "[5 rows x 6 columns]\n",
            "objectId: ZTF18aczuwfe\n",
            "                        magpsf  fid  ...  sigmapsf         ra\n",
            "candid                               ...                     \n",
            "1440303993415015003  19.807590    2  ...  0.159926  77.496741\n",
            "1440322513415015004  19.819330    1  ...  0.127621  77.496732\n",
            "1442328323415015002  19.782700    1  ...  0.172808  77.496730\n",
            "1444285643415015001  19.927372    2  ...  0.209740  77.496826\n",
            "1449226053415015000  19.965925    2  ...  0.170471  77.496774\n",
            "\n",
            "[5 rows x 6 columns]\n"
          ],
          "name": "stdout"
        }
      ]
    },
    {
      "cell_type": "code",
      "metadata": {
        "id": "xiFyTS8Jzem2",
        "colab": {
          "base_uri": "https://localhost:8080/"
        },
        "outputId": "a2a616b6-83ec-490b-e89a-4a2fe9d7946b"
      },
      "source": [
        "# Get a generator that yields a json string of individual objects in the cone\n",
        "format = 'json'\n",
        "iterator = True\n",
        "\n",
        "objects_in_cone = pgb.bigquery.cone_search(center, radius, columns, \n",
        "                                           objectIds=objectIds, \n",
        "                                           format=format, \n",
        "                                           iterator=iterator, \n",
        "                                           dry_run=dry_run\n",
        "                                           )\n",
        "for obj in objects_in_cone:\n",
        "    print(obj)"
      ],
      "execution_count": 26,
      "outputs": [
        {
          "output_type": "stream",
          "text": [
            "{\"candid\":{\"0\":1440303993415015003,\"1\":1440322513415015004,\"2\":1442328323415015002,\"3\":1444285643415015001,\"4\":1449226053415015000,\"5\":1451204593415015000,\"6\":1467211213415015002,\"7\":1469258283415015005,\"8\":1477168703415015002,\"9\":1477214243415015002,\"10\":1479193393415015001,\"11\":1479213073415015001,\"12\":1497147413415015000,\"13\":1497208623415015000,\"14\":1499171573415015000,\"15\":1499283323415015000,\"16\":1501265423415015001,\"17\":1503183253415015010,\"18\":1503208143415015003,\"19\":1510148923415015004,\"20\":1510206363415015002},\"magpsf\":{\"0\":19.8075904846,\"1\":19.8193302155,\"2\":19.782699585,\"3\":19.9273719788,\"4\":19.9659252167,\"5\":20.0367927551,\"6\":19.8974628448,\"7\":20.287065506,\"8\":19.468252182,\"9\":19.980096817,\"10\":19.7932052612,\"11\":19.8938179016,\"12\":19.7973613739,\"13\":19.8168411255,\"14\":20.1171741486,\"15\":19.8918972015,\"16\":20.1915397644,\"17\":20.3401679993,\"18\":19.9926147461,\"19\":20.0997200012,\"20\":19.8034667969},\"fid\":{\"0\":2,\"1\":1,\"2\":1,\"3\":2,\"4\":2,\"5\":2,\"6\":2,\"7\":2,\"8\":2,\"9\":1,\"10\":1,\"11\":2,\"12\":1,\"13\":2,\"14\":1,\"15\":2,\"16\":2,\"17\":1,\"18\":2,\"19\":2,\"20\":1},\"jd\":{\"0\":2459194.8039930998,\"1\":2459194.8225115999,\"2\":2459196.8283218001,\"3\":2459198.7856481001,\"4\":2459203.7260532002,\"5\":2459205.7045948999,\"6\":2459221.7112153,\"7\":2459223.758287,\"8\":2459231.6687037,\"9\":2459231.7142476998,\"10\":2459233.6933912002,\"11\":2459233.7130787,\"12\":2459251.647419,\"13\":2459251.7086227001,\"14\":2459253.6715740999,\"15\":2459253.7833218002,\"16\":2459255.7654281999,\"17\":2459257.6832523001,\"18\":2459257.7081480999,\"19\":2459264.6489236001,\"20\":2459264.7063656999},\"dec\":{\"0\":5.3874165,\"1\":5.387412,\"2\":5.38738,\"3\":5.3872464,\"4\":5.387483,\"5\":5.3874589,\"6\":5.3874569,\"7\":5.3874142,\"8\":5.387562,\"9\":5.3872398,\"10\":5.3874461,\"11\":5.3873628,\"12\":5.3873717,\"13\":5.3873639,\"14\":5.38744,\"15\":5.3874191,\"16\":5.3873912,\"17\":5.3873755,\"18\":5.3873779,\"19\":5.3874122,\"20\":5.3874497},\"sigmapsf\":{\"0\":0.1599257737,\"1\":0.127621159,\"2\":0.1728081405,\"3\":0.2097401619,\"4\":0.170470953,\"5\":0.1815263033,\"6\":0.1776263118,\"7\":0.2123211473,\"8\":0.2115102559,\"9\":0.2003795207,\"10\":0.2124526799,\"11\":0.1783928424,\"12\":0.184142381,\"13\":0.1533806324,\"14\":0.2169205546,\"15\":0.1936687827,\"16\":0.1730027348,\"17\":0.1664137542,\"18\":0.1472844481,\"19\":0.1752548069,\"20\":0.1648100466},\"ra\":{\"0\":77.4967414,\"1\":77.4967321,\"2\":77.4967302,\"3\":77.4968264,\"4\":77.4967744,\"5\":77.4967577,\"6\":77.4967176,\"7\":77.4968039,\"8\":77.4967067,\"9\":77.4968379,\"10\":77.4967014,\"11\":77.4965744,\"12\":77.4966655,\"13\":77.4967094,\"14\":77.4967176,\"15\":77.4967367,\"16\":77.4966814,\"17\":77.4967869,\"18\":77.4967563,\"19\":77.4965964,\"20\":77.4966476},\"objectId\":{\"0\":\"ZTF18aczuwfe\",\"1\":\"ZTF18aczuwfe\",\"2\":\"ZTF18aczuwfe\",\"3\":\"ZTF18aczuwfe\",\"4\":\"ZTF18aczuwfe\",\"5\":\"ZTF18aczuwfe\",\"6\":\"ZTF18aczuwfe\",\"7\":\"ZTF18aczuwfe\",\"8\":\"ZTF18aczuwfe\",\"9\":\"ZTF18aczuwfe\",\"10\":\"ZTF18aczuwfe\",\"11\":\"ZTF18aczuwfe\",\"12\":\"ZTF18aczuwfe\",\"13\":\"ZTF18aczuwfe\",\"14\":\"ZTF18aczuwfe\",\"15\":\"ZTF18aczuwfe\",\"16\":\"ZTF18aczuwfe\",\"17\":\"ZTF18aczuwfe\",\"18\":\"ZTF18aczuwfe\",\"19\":\"ZTF18aczuwfe\",\"20\":\"ZTF18aczuwfe\"}}\n",
            "{\"candid\":{\"0\":1414351235215015023,\"1\":1414365935215015038,\"2\":1416400905215015017,\"3\":1416427635215015028,\"4\":1427289515215015014,\"5\":1431341885215015008,\"6\":1438294975215015018,\"7\":1440303995215015015,\"8\":1440322515215015022,\"9\":1442282165215015017,\"10\":1442328325215015021,\"11\":1444285645215015017,\"12\":1444320905215015016,\"13\":1446323875215015047,\"14\":1449226055215015021,\"15\":1449333365215015022,\"16\":1451204595215015021,\"17\":1451280085215015013,\"18\":1461235915215015011,\"19\":1467211215215015018,\"20\":1469186965215015010,\"21\":1469258285215015019,\"22\":1471269095215015023,\"23\":1475232495215015014,\"24\":1477168705215015013,\"25\":1477214245215015017,\"26\":1479193395215015012,\"27\":1479213075215015022,\"28\":1495204985215015017,\"29\":1497208625215015030,\"30\":1499283325215015017,\"31\":1501172065215015058,\"32\":1501265425215015012,\"33\":1503208145215015012,\"34\":1508194315215015016,\"35\":1510148925215015017},\"magpsf\":{\"0\":19.8983020782,\"1\":20.0880413055,\"2\":19.7619514465,\"3\":20.11170578,\"4\":19.2475509644,\"5\":19.1077766418,\"6\":19.2282066345,\"7\":19.0181903839,\"8\":19.2426280975,\"9\":18.9577732086,\"10\":19.1942749023,\"11\":18.8844013214,\"12\":19.3058395386,\"13\":18.6996116638,\"14\":18.8215522766,\"15\":19.2747612,\"16\":18.8396377563,\"17\":19.1615428925,\"18\":18.6582202911,\"19\":18.8197555542,\"20\":19.4687843323,\"21\":18.8498764038,\"22\":18.9527015686,\"23\":19.0104389191,\"24\":19.0842628479,\"25\":19.8295040131,\"26\":19.8285655975,\"27\":18.985918045,\"28\":19.1864910126,\"29\":19.2962207794,\"30\":19.2554168701,\"31\":20.1308116913,\"32\":19.3559875488,\"33\":19.3853111267,\"34\":19.4201126099,\"35\":19.3689403534},\"fid\":{\"0\":2,\"1\":1,\"2\":2,\"3\":1,\"4\":2,\"5\":2,\"6\":1,\"7\":2,\"8\":1,\"9\":2,\"10\":1,\"11\":2,\"12\":1,\"13\":2,\"14\":2,\"15\":1,\"16\":2,\"17\":1,\"18\":2,\"19\":2,\"20\":1,\"21\":2,\"22\":2,\"23\":2,\"24\":2,\"25\":1,\"26\":1,\"27\":2,\"28\":2,\"29\":2,\"30\":2,\"31\":1,\"32\":2,\"33\":2,\"34\":2,\"35\":2},\"jd\":{\"0\":2459168.8512384002,\"1\":2459168.8659374998,\"2\":2459170.9009027998,\"3\":2459170.9276389,\"4\":2459181.7895138999,\"5\":2459185.8418866,\"6\":2459192.7949768999,\"7\":2459194.8039930998,\"8\":2459194.8225115999,\"9\":2459196.7821644,\"10\":2459196.8283218001,\"11\":2459198.7856481001,\"12\":2459198.8209028002,\"13\":2459200.8238773001,\"14\":2459203.7260532002,\"15\":2459203.8333681002,\"16\":2459205.7045948999,\"17\":2459205.7800810002,\"18\":2459215.7359143998,\"19\":2459221.7112153,\"20\":2459223.6869676001,\"21\":2459223.758287,\"22\":2459225.7690972001,\"23\":2459229.7324999999,\"24\":2459231.6687037,\"25\":2459231.7142476998,\"26\":2459233.6933912002,\"27\":2459233.7130787,\"28\":2459249.7049884,\"29\":2459251.7086227001,\"30\":2459253.7833218002,\"31\":2459255.6720602,\"32\":2459255.7654281999,\"33\":2459257.7081480999,\"34\":2459262.6943171001,\"35\":2459264.6489236001},\"dec\":{\"0\":7.7601491,\"1\":7.7601311,\"2\":7.760113,\"3\":7.760097,\"4\":7.7601185,\"5\":7.7601462,\"6\":7.7601382,\"7\":7.7601075,\"8\":7.760093,\"9\":7.760036,\"10\":7.760094,\"11\":7.7601101,\"12\":7.7601095,\"13\":7.7601503,\"14\":7.7600756,\"15\":7.7601105,\"16\":7.7601354,\"17\":7.7601159,\"18\":7.7601193,\"19\":7.7601317,\"20\":7.7600808,\"21\":7.7601317,\"22\":7.7601355,\"23\":7.7601352,\"24\":7.7600648,\"25\":7.7600323,\"26\":7.7601065,\"27\":7.7601319,\"28\":7.7600979,\"29\":7.7601315,\"30\":7.7601408,\"31\":7.7601188,\"32\":7.7601017,\"33\":7.7601286,\"34\":7.760111,\"35\":7.7601302},\"sigmapsf\":{\"0\":0.171336174,\"1\":0.1520067751,\"2\":0.1638982892,\"3\":0.1722908914,\"4\":0.1803994179,\"5\":0.1763110161,\"6\":0.1915530562,\"7\":0.1221162975,\"8\":0.108531788,\"9\":0.1465175152,\"10\":0.1097503155,\"11\":0.0956753269,\"12\":0.1312362254,\"13\":0.1842149049,\"14\":0.0890605375,\"15\":0.1322681755,\"16\":0.1062524319,\"17\":0.128571257,\"18\":0.1441874355,\"19\":0.0945616737,\"20\":0.1163638309,\"21\":0.1142768562,\"22\":0.0919400677,\"23\":0.1705875844,\"24\":0.1422212124,\"25\":0.1563364565,\"26\":0.1784083098,\"27\":0.0934783742,\"28\":0.1186497435,\"29\":0.0947879553,\"30\":0.1173490658,\"31\":0.1696402431,\"32\":0.1248271763,\"33\":0.1245876551,\"34\":0.1650092453,\"35\":0.1512905806},\"ra\":{\"0\":76.6337364,\"1\":76.6336455,\"2\":76.6337185,\"3\":76.6336907,\"4\":76.6336291,\"5\":76.6336916,\"6\":76.6337059,\"7\":76.6336987,\"8\":76.6336754,\"9\":76.6336433,\"10\":76.6337114,\"11\":76.633711,\"12\":76.6336478,\"13\":76.633696,\"14\":76.6336947,\"15\":76.6337114,\"16\":76.6336857,\"17\":76.633705,\"18\":76.6337068,\"19\":76.6337048,\"20\":76.633726,\"21\":76.6337087,\"22\":76.6337082,\"23\":76.6336816,\"24\":76.6337475,\"25\":76.6337401,\"26\":76.6336617,\"27\":76.6336993,\"28\":76.6336502,\"29\":76.6337006,\"30\":76.6337207,\"31\":76.6336483,\"32\":76.6336968,\"33\":76.6336855,\"34\":76.6337576,\"35\":76.633721},\"objectId\":{\"0\":\"ZTF20acqgklx\",\"1\":\"ZTF20acqgklx\",\"2\":\"ZTF20acqgklx\",\"3\":\"ZTF20acqgklx\",\"4\":\"ZTF20acqgklx\",\"5\":\"ZTF20acqgklx\",\"6\":\"ZTF20acqgklx\",\"7\":\"ZTF20acqgklx\",\"8\":\"ZTF20acqgklx\",\"9\":\"ZTF20acqgklx\",\"10\":\"ZTF20acqgklx\",\"11\":\"ZTF20acqgklx\",\"12\":\"ZTF20acqgklx\",\"13\":\"ZTF20acqgklx\",\"14\":\"ZTF20acqgklx\",\"15\":\"ZTF20acqgklx\",\"16\":\"ZTF20acqgklx\",\"17\":\"ZTF20acqgklx\",\"18\":\"ZTF20acqgklx\",\"19\":\"ZTF20acqgklx\",\"20\":\"ZTF20acqgklx\",\"21\":\"ZTF20acqgklx\",\"22\":\"ZTF20acqgklx\",\"23\":\"ZTF20acqgklx\",\"24\":\"ZTF20acqgklx\",\"25\":\"ZTF20acqgklx\",\"26\":\"ZTF20acqgklx\",\"27\":\"ZTF20acqgklx\",\"28\":\"ZTF20acqgklx\",\"29\":\"ZTF20acqgklx\",\"30\":\"ZTF20acqgklx\",\"31\":\"ZTF20acqgklx\",\"32\":\"ZTF20acqgklx\",\"33\":\"ZTF20acqgklx\",\"34\":\"ZTF20acqgklx\",\"35\":\"ZTF20acqgklx\"}}\n"
          ],
          "name": "stdout"
        }
      ]
    },
    {
      "cell_type": "markdown",
      "metadata": {
        "id": "mrMNVezhjqEy"
      },
      "source": [
        "---"
      ]
    },
    {
      "cell_type": "markdown",
      "metadata": {
        "id": "id1fk4u06Bcq"
      },
      "source": [
        "### Direct access: Google Cloud SDK"
      ]
    },
    {
      "cell_type": "markdown",
      "metadata": {
        "id": "Pyk8BL3URAsY"
      },
      "source": [
        "The previous sections demonstrated convenience wrappers for querying with `google.cloud.bigquery`. Here we demonstrate using these tools directly with some basic examples. View `pgb_utils` source code for more examples.\n",
        "\n",
        "Links to more information:\n",
        "- [Query syntax in Standard SQL](https://cloud.google.com/bigquery/docs/reference/standard-sql/query-syntax)\n",
        "- [`google.cloud.bigquery` docs](https://googleapis.dev/python/bigquery/latest/index.html)"
      ]
    },
    {
      "cell_type": "markdown",
      "metadata": {
        "id": "k_kyHjzdtFpD"
      },
      "source": [
        "Query setup:"
      ]
    },
    {
      "cell_type": "code",
      "metadata": {
        "id": "XzfwhW2iQvrG"
      },
      "source": [
        "# Create a BigQuery Client to handle the connections\n",
        "bq_client = bigquery.Client(project=my_project_id)"
      ],
      "execution_count": 27,
      "outputs": []
    },
    {
      "cell_type": "code",
      "metadata": {
        "id": "xv5lFH3aQvrG"
      },
      "source": [
        "# Write the standard SQL query statement\n",
        "\n",
        "# pgb.bigquery.get_dataset_table_names()  # view available tables\n",
        "# pgb.bigquery.get_table_info('<table>')  # view available column names\n",
        "\n",
        "# construct the full table name\n",
        "table = 'salt2'\n",
        "dataset = 'ztf_alerts'\n",
        "full_table_name = f'{pgb_project_id}.{dataset}.{table}'\n",
        "\n",
        "# construct the query\n",
        "query = (\n",
        "    f'SELECT objectId, candid, t0, x0, x1, c, chisq, ndof '\n",
        "    f'FROM `{full_table_name}` '\n",
        "    f'WHERE ndof>0 and chisq/ndof<2 '\n",
        ")\n",
        "\n",
        "# note: if you want to query object histories you can get the\n",
        "# query statement using `pgb.bigquery.object_history_sql_statement()`"
      ],
      "execution_count": 28,
      "outputs": []
    },
    {
      "cell_type": "code",
      "metadata": {
        "id": "nq2DeGipQvrF"
      },
      "source": [
        "# Let's create a function to execute a \"dry run\"\n",
        "# and tell us how much data will be processed.\n",
        "# This is essentially `pgb.bigquery.dry_run()`\n",
        "def dry_run(query):\n",
        "    job_config = bigquery.QueryJobConfig(dry_run=True, use_query_cache=False)\n",
        "    query_job = bq_client.query(query, job_config=job_config)\n",
        "    nbytes, TiB = query_job.total_bytes_processed, 2**40\n",
        "    pTiB = nbytes/TiB*100  # nbytes as a percent of 1 TiB\n",
        "    print(f'\\nQuery statement:')\n",
        "    print(f'\\n\"{query}\"\\n')\n",
        "    print(f'will process {nbytes} bytes of data.')\n",
        "    print(f'({pTiB:.3}% of your 1 TiB Free Tier monthly allotment.)')"
      ],
      "execution_count": 29,
      "outputs": []
    },
    {
      "cell_type": "code",
      "metadata": {
        "colab": {
          "base_uri": "https://localhost:8080/"
        },
        "id": "jz6-_tYYQvrG",
        "outputId": "f1161637-49ca-46c4-ff97-a51612eba3f0"
      },
      "source": [
        "# Find out how much data will be processed\n",
        "dry_run(query)"
      ],
      "execution_count": 30,
      "outputs": [
        {
          "output_type": "stream",
          "text": [
            "\n",
            "Query statement:\n",
            "\n",
            "\"SELECT objectId, candid, t0, x0, x1, c, chisq, ndof FROM `ardent-cycling-243415.ztf_alerts.salt2` WHERE ndof>0 and chisq/ndof<2 \"\n",
            "\n",
            "will process 95410 bytes of data.\n",
            "(8.68e-06% of your 1 TiB Free Tier monthly allotment.)\n"
          ],
          "name": "stdout"
        }
      ]
    },
    {
      "cell_type": "markdown",
      "metadata": {
        "id": "j117iwvXQvrG"
      },
      "source": [
        "Query:"
      ]
    },
    {
      "cell_type": "code",
      "metadata": {
        "id": "SeE4LYFnQvrH"
      },
      "source": [
        "# Make the API request\n",
        "query_job = bq_client.query(query)\n",
        "# Beware: the results may contain duplicate entries"
      ],
      "execution_count": 31,
      "outputs": []
    },
    {
      "cell_type": "markdown",
      "metadata": {
        "id": "4VIyok0pQvrH"
      },
      "source": [
        "Format and view results:"
      ]
    },
    {
      "cell_type": "code",
      "metadata": {
        "colab": {
          "base_uri": "https://localhost:8080/",
          "height": 492
        },
        "id": "9CWQnJXVQvrH",
        "outputId": "33b3b94b-9766-4fa3-cde1-67e9476706f9"
      },
      "source": [
        "# Option 1: dump results to a pandas.DataFrame\n",
        "df = query_job.to_dataframe()\n",
        "\n",
        "# some things you might want to do with it\n",
        "df = df.drop_duplicates()\n",
        "df = df.set_index(['objectId','candid']).sort_index()\n",
        "\n",
        "df.hist()\n",
        "df.head()"
      ],
      "execution_count": 32,
      "outputs": [
        {
          "output_type": "execute_result",
          "data": {
            "text/html": [
              "<div>\n",
              "<style scoped>\n",
              "    .dataframe tbody tr th:only-of-type {\n",
              "        vertical-align: middle;\n",
              "    }\n",
              "\n",
              "    .dataframe tbody tr th {\n",
              "        vertical-align: top;\n",
              "    }\n",
              "\n",
              "    .dataframe thead th {\n",
              "        text-align: right;\n",
              "    }\n",
              "</style>\n",
              "<table border=\"1\" class=\"dataframe\">\n",
              "  <thead>\n",
              "    <tr style=\"text-align: right;\">\n",
              "      <th></th>\n",
              "      <th></th>\n",
              "      <th>t0</th>\n",
              "      <th>x0</th>\n",
              "      <th>x1</th>\n",
              "      <th>c</th>\n",
              "      <th>chisq</th>\n",
              "      <th>ndof</th>\n",
              "    </tr>\n",
              "    <tr>\n",
              "      <th>objectId</th>\n",
              "      <th>candid</th>\n",
              "      <th></th>\n",
              "      <th></th>\n",
              "      <th></th>\n",
              "      <th></th>\n",
              "      <th></th>\n",
              "      <th></th>\n",
              "    </tr>\n",
              "  </thead>\n",
              "  <tbody>\n",
              "    <tr>\n",
              "      <th>ZTF17aaaseus</th>\n",
              "      <th>1563186680815015012</th>\n",
              "      <td>59306.000000</td>\n",
              "      <td>0.000234</td>\n",
              "      <td>3.492406</td>\n",
              "      <td>2.752259</td>\n",
              "      <td>3.695731</td>\n",
              "      <td>4</td>\n",
              "    </tr>\n",
              "    <tr>\n",
              "      <th rowspan=\"2\" valign=\"top\">ZTF18aaavffc</th>\n",
              "      <th>1563205932415015020</th>\n",
              "      <td>59292.157232</td>\n",
              "      <td>0.000710</td>\n",
              "      <td>5.000000</td>\n",
              "      <td>0.388656</td>\n",
              "      <td>13.447890</td>\n",
              "      <td>15</td>\n",
              "    </tr>\n",
              "    <tr>\n",
              "      <th>1563239942415015011</th>\n",
              "      <td>59293.457096</td>\n",
              "      <td>0.000702</td>\n",
              "      <td>5.000000</td>\n",
              "      <td>0.388491</td>\n",
              "      <td>29.502025</td>\n",
              "      <td>16</td>\n",
              "    </tr>\n",
              "    <tr>\n",
              "      <th rowspan=\"2\" valign=\"top\">ZTF18aahfssj</th>\n",
              "      <th>1563205935915015019</th>\n",
              "      <td>59295.293222</td>\n",
              "      <td>0.000487</td>\n",
              "      <td>4.997198</td>\n",
              "      <td>0.037230</td>\n",
              "      <td>13.664595</td>\n",
              "      <td>12</td>\n",
              "    </tr>\n",
              "    <tr>\n",
              "      <th>1563239945915015015</th>\n",
              "      <td>59297.344906</td>\n",
              "      <td>0.000472</td>\n",
              "      <td>4.999997</td>\n",
              "      <td>0.068011</td>\n",
              "      <td>21.455810</td>\n",
              "      <td>13</td>\n",
              "    </tr>\n",
              "  </tbody>\n",
              "</table>\n",
              "</div>"
            ],
            "text/plain": [
              "                                            t0        x0  ...      chisq  ndof\n",
              "objectId     candid                                       ...                 \n",
              "ZTF17aaaseus 1563186680815015012  59306.000000  0.000234  ...   3.695731     4\n",
              "ZTF18aaavffc 1563205932415015020  59292.157232  0.000710  ...  13.447890    15\n",
              "             1563239942415015011  59293.457096  0.000702  ...  29.502025    16\n",
              "ZTF18aahfssj 1563205935915015019  59295.293222  0.000487  ...  13.664595    12\n",
              "             1563239945915015015  59297.344906  0.000472  ...  21.455810    13\n",
              "\n",
              "[5 rows x 6 columns]"
            ]
          },
          "metadata": {
            "tags": []
          },
          "execution_count": 32
        },
        {
          "output_type": "display_data",
          "data": {
            "image/png": "[encoded data removed]",
            "text/plain": [
              "<Figure size 432x288 with 6 Axes>"
            ]
          },
          "metadata": {
            "tags": [],
            "needs_background": "light"
          }
        }
      ]
    },
    {
      "cell_type": "code",
      "metadata": {
        "colab": {
          "base_uri": "https://localhost:8080/"
        },
        "id": "3VIr_awwQvrH",
        "outputId": "be7b8a7c-477b-4319-9c86-e65712bc5341"
      },
      "source": [
        "# Option 2: parse results row by row\n",
        "for r, row in enumerate(query_job):\n",
        "    \n",
        "    # row values can be accessed by field name or index\n",
        "    print(f\"objectId={row[0]}, t0={row['t0']}\")\n",
        "    \n",
        "    if r>5: break"
      ],
      "execution_count": 33,
      "outputs": [
        {
          "output_type": "stream",
          "text": [
            "objectId=ZTF21aactwbe, t0=59280.00034567633\n",
            "objectId=ZTF18acbzvvz, t0=59299.999999925276\n",
            "objectId=ZTF18acwyjst, t0=59303.99999999153\n",
            "objectId=ZTF18aahfssj, t0=59295.293222155975\n",
            "objectId=ZTF18aamtcmw, t0=59299.999999999156\n",
            "objectId=ZTF21aarwlht, t0=59316.999999061976\n",
            "objectId=ZTF19aangwaa, t0=59301.999999855485\n"
          ],
          "name": "stdout"
        }
      ]
    },
    {
      "cell_type": "markdown",
      "metadata": {
        "id": "Nq_62zT7QvrH"
      },
      "source": [
        "---"
      ]
    },
    {
      "cell_type": "markdown",
      "metadata": {
        "id": "3nDSzXh1khgt"
      },
      "source": [
        "## 3b) Command-line tool `bq`"
      ]
    },
    {
      "cell_type": "markdown",
      "metadata": {
        "id": "c1ZRmdYixd7x"
      },
      "source": [
        "All commands in this section are executed using the `run` function we created earlier to run commands on the command-line.\n",
        "\n",
        "`bq`'s default dialect is legacy SQL. Here we use standard SQL by passing `--use_legacy_sql=false`.\n",
        "<!-- (see [change to standard SQL](https://cloud.google.com/bigquery/docs/reference/standard-sql/enabling-standard-sql#changing_from_the_default_dialect)) -->\n",
        "\n",
        "Links to more information:\n",
        "- [Quickstart using the bq command-line tool](https://cloud.google.com/bigquery/docs/quickstarts/quickstart-command-line)\n",
        "- [Reference of all `bq` commands and flags](https://cloud.google.com/bigquery/docs/reference/bq-cli-reference)\n",
        "- [Query syntax in Standard SQL](https://cloud.google.com/bigquery/docs/reference/standard-sql/query-syntax)"
      ]
    },
    {
      "cell_type": "code",
      "metadata": {
        "id": "qaUD-I_uJV3h",
        "colab": {
          "base_uri": "https://localhost:8080/"
        },
        "outputId": "f61a6e44-f823-4494-cf5d-72f45830fbe9"
      },
      "source": [
        "# Get help\n",
        "run('bq help query')"
      ],
      "execution_count": 34,
      "outputs": [
        {
          "output_type": "stream",
          "text": [
            ">> bq help query\n",
            "Python script for interacting with BigQuery.\n",
            "\n",
            "\n",
            "USAGE: bq.py [--global_flags] <command> [--command_flags] [args]\n",
            "\n",
            "\n",
            "query                      Execute a query.\n",
            "\n",
            "                           Query should be specified on command line, or passed\n",
            "                           on stdin.\n",
            "\n",
            "                           Examples:\n",
            "                           bq query 'select count(*) from\n",
            "                           publicdata:samples.shakespeare'\n",
            "                           echo 'select count(*) from\n",
            "                           publicdata:samples.shakespeare' | bq query\n",
            "\n",
            "                           Usage:\n",
            "                           query [<sql_query>]\n",
            "\n",
            "                           Flags for query:\n",
            "\n",
            "                             /tools/google-cloud-sdk/platform/bq/bq.py:\n",
            "                               --[no]allow_large_results: Enables larger\n",
            "                                 destination table sizes for legacy SQL queries.\n",
            "                               --[no]append_table: When a destination table is\n",
            "                                 specified, whether or not to append.\n",
            "                                 (default: 'false')\n",
            "                               --[no]batch: Whether to run the query in batch\n",
            "                                 mode.\n",
            "                               --clustering_fields: Comma separated field names.\n",
            "                                 Can only be specified with time based\n",
            "                                 partitioning. Data will be first partitioned\n",
            "                                 and subsequently \"clustered on these fields.\n",
            "                               --destination_kms_key: Cloud KMS key for\n",
            "                                 encryption of the destination table data.\n",
            "                               --destination_schema: Schema for the destination\n",
            "                                 table. Either a filename or a comma-separated\n",
            "                                 list of fields in the form name[:type].\n",
            "                                 (default: '')\n",
            "                               --destination_table: Name of destination table\n",
            "                                 for query results.\n",
            "                                 (default: '')\n",
            "                               --display_name: Display name for the created\n",
            "                                 scheduled query configuration.\n",
            "                                 (default: '')\n",
            "                               --[no]dry_run: Whether the query should be\n",
            "                                 validated without executing.\n",
            "                               --external_table_definition: Specifies a table\n",
            "                                 name and either an inline table definition or a\n",
            "                                 path to a file containing a JSON table\n",
            "                                 definition to use in the query. The format is\n",
            "                                 \"table_name::path_to_file_with_json_def\" or\n",
            "                                 \"table_name::schema@format=uri@connection\".\n",
            "                                 Note using connection is an experimental\n",
            "                                 feature and is still under development.For\n",
            "                                 example, \"--external_table_definition=Example::\n",
            "                                 /tmp/example_table_def.txt\" will define a table\n",
            "                                 named \"Example\" using the URIs and schema\n",
            "                                 encoded in example_table_def.txt.;\n",
            "                                 repeat this option to specify a list of values\n",
            "                               --[no]flatten_results: Whether to flatten nested\n",
            "                                 and repeated fields in the result schema for\n",
            "                                 legacy SQL queries. If not set, the default\n",
            "                                 behavior is to flatten.\n",
            "                               --job_timeout_ms: Maximum time to run the entire\n",
            "                                 script.\n",
            "                               --label: A label to set on a query job. The\n",
            "                                 format is \"key:value\";\n",
            "                                 repeat this option to specify a list of values\n",
            "                               --max_child_jobs: Maximum number of child jobs to\n",
            "                                 fetch results from after executing a script.\n",
            "                                 If the number of child jobs exceeds this limit,\n",
            "                                 only the final result will be displayed.\n",
            "                                 (default: '1000')\n",
            "                                 (an integer)\n",
            "                               -n,--max_rows: How many rows to return in the\n",
            "                                 result.\n",
            "                                 (default: '100')\n",
            "                                 (an integer)\n",
            "                               --max_statement_results: Maximum number of script\n",
            "                                 statements to display the results for.\n",
            "                                 (default: '100')\n",
            "                                 (an integer)\n",
            "                               --maximum_billing_tier: The upper limit of\n",
            "                                 billing tier for the query.\n",
            "                                 (an integer)\n",
            "                               --maximum_bytes_billed: The upper limit of bytes\n",
            "                                 billed for the query.\n",
            "                                 (an integer)\n",
            "                               --min_completion_ratio: [Experimental] The\n",
            "                                 minimum fraction of data that must be scanned\n",
            "                                 before a query returns. If not set, the default\n",
            "                                 server value (1.0) will be used.\n",
            "                                 (a number in the range [0, 1.0])\n",
            "                               --parameter: Either a file containing a JSON list\n",
            "                                 of query parameters, or a query parameter in\n",
            "                                 the form \"name:type:value\". An empty name\n",
            "                                 produces a positional parameter. The type may\n",
            "                                 be omitted to assume STRING: name::value or\n",
            "                                 ::value. The value \"NULL\" produces a null\n",
            "                                 value.;\n",
            "                                 repeat this option to specify a list of values\n",
            "                               --range_partitioning: Enables range partitioning\n",
            "                                 on the table. The format should be\n",
            "                                 \"field,start,end,interval\". The table will be\n",
            "                                 partitioned based on the value of the field.\n",
            "                                 Field must be a top-level, non-repeated INT64\n",
            "                                 field. Start, end, and interval are INT64\n",
            "                                 values defining the ranges.\n",
            "                               --[no]replace: If true, erase existing contents\n",
            "                                 before loading new data.\n",
            "                                 (default: 'false')\n",
            "                               --request_id: The request_id to use for the\n",
            "                                 jobs.query request. Only valid when used in\n",
            "                                 combination with --rpc.\n",
            "                               --[no]require_cache: Whether to only run the\n",
            "                                 query if it is already cached.\n",
            "                               --[no]require_partition_filter: Whether to\n",
            "                                 require partition filter for queries over this\n",
            "                                 table. Only apply to partitioned table.\n",
            "                               --[no]rpc: If true, use rpc-style query API\n",
            "                                 instead of jobs.insert().\n",
            "                                 (default: 'false')\n",
            "                               --schedule: Scheduled query schedule. If non-\n",
            "                                 empty, this query requests could create a\n",
            "                                 scheduled query understand the customer\n",
            "                                 project. See https://cloud.google.com/appengine\n",
            "                                 /docs/flexible/python/scheduling-jobs-with-\n",
            "                                 cron-yaml#the_schedule_format for the schedule\n",
            "                                 format\n",
            "                               --schema_update_option: Can be specified when\n",
            "                                 append to a table, or replace a table\n",
            "                                 partition. When specified, the schema of the\n",
            "                                 destination table will be updated with the\n",
            "                                 schema of the new data. One or more of the\n",
            "                                 following options can be specified:\n",
            "                                 ALLOW_FIELD_ADDITION: allow new fields to be\n",
            "                                 added\n",
            "                                 ALLOW_FIELD_RELAXATION: allow relaxing required\n",
            "                                 fields to nullable;\n",
            "                                 repeat this option to specify a list of values\n",
            "                               --script_statement_byte_budget: Maximum bytes\n",
            "                                 that can be billed for any statement in a\n",
            "                                 script.\n",
            "                               --script_statement_timeout_ms: Maximum time to\n",
            "                                 complete each statement in a script.\n",
            "                               -s,--start_row: First row to return in the\n",
            "                                 result.\n",
            "                                 (default: '0')\n",
            "                                 (an integer)\n",
            "                               --target_dataset: Target dataset used to create\n",
            "                                 scheduled query.\n",
            "                               --time_partitioning_expiration: Enables time\n",
            "                                 based partitioning on the table and sets the\n",
            "                                 number of seconds for which to keep the storage\n",
            "                                 for the partitions in the table. The storage in\n",
            "                                 a partition will have an expiration time of its\n",
            "                                 partition time plus this value.\n",
            "                                 (an integer)\n",
            "                               --time_partitioning_field: Enables time based\n",
            "                                 partitioning on the table and the table will be\n",
            "                                 partitioned based on the value of this field.\n",
            "                                 If time based partitioning is enabled without\n",
            "                                 this value, the table will be partitioned based\n",
            "                                 on the loading time.\n",
            "                               --time_partitioning_type: Enables time based\n",
            "                                 partitioning on the table and set the type. The\n",
            "                                 default value is DAY, which will generate one\n",
            "                                 partition per day. Other supported values are\n",
            "                                 HOUR, MONTH, and YEAR.\n",
            "                               --udf_resource: The URI or local filesystem path\n",
            "                                 of a code file to load and evaluate immediately\n",
            "                                 as a User-Defined Function resource.;\n",
            "                                 repeat this option to specify a list of values\n",
            "                               --[no]use_cache: Whether to use the query cache\n",
            "                                 to avoid rerunning cached queries.\n",
            "                               --[no]use_legacy_sql: Whether to use Legacy SQL\n",
            "                                 for the query. If not set, the default value is\n",
            "                                 true.\n",
            "\n",
            "                             absl.flags:\n",
            "                               --flagfile: Insert flag definitions from the\n",
            "                                 given file into the command line.\n",
            "                                 (default: '')\n",
            "                               --undefok: comma-separated list of flag names\n",
            "                                 that it is okay to specify on the command line\n",
            "                                 even if the program does not define a flag with\n",
            "                                 that name.  IMPORTANT: flags in this list that\n",
            "                                 have arguments MUST use the --flag=value\n",
            "                                 format.\n",
            "                                 (default: '')\n",
            "\n",
            "\n",
            "Run 'bq.py --help' to get help for global flags.\n",
            "Run 'bq.py help' to see the list of available commands.\n",
            "\n"
          ],
          "name": "stdout"
        }
      ]
    },
    {
      "cell_type": "code",
      "metadata": {
        "id": "XhAlHJaPH5FY",
        "colab": {
          "base_uri": "https://localhost:8080/"
        },
        "outputId": "1a14d225-e901-4d9d-cc6f-af5ba430706e"
      },
      "source": [
        "# view the schema of a table\n",
        "run('bq show --schema --format=prettyjson ardent-cycling-243415:ztf_alerts.DIASource')\n",
        "# run('bq show --schema --format=prettyjson ardent-cycling-243415:ztf_alerts.alerts')\n",
        "\n",
        "# Note: The first time you make a call with `bq` you will ask you to \n",
        "# initialize a .bigqueryrc configuration file. Follow the directions."
      ],
      "execution_count": 35,
      "outputs": [
        {
          "output_type": "stream",
          "text": [
            ">> bq show --schema --format=prettyjson ardent-cycling-243415:ztf_alerts.DIASource\n",
            "\n",
            "Welcome to BigQuery! This script will walk you through the \n",
            "process of initializing your .bigqueryrc configuration file.\n",
            "\n",
            "First, we need to set up your credentials if they do not \n",
            "already exist.\n",
            "\n",
            "Credential creation complete. Now we will select a default project.\n",
            "\n",
            "List of projects:\n",
            "[\n",
            "  {\n",
            "    \"#\": 1, \n",
            "    \"friendlyName\": \"Budget\", \n",
            "    \"projectId\": \"budget-242622\"\n",
            "  }, \n",
            "  {\n",
            "    \"#\": 2, \n",
            "    \"friendlyName\": \"Kafka to BigQuery\", \n",
            "    \"projectId\": \"kafka-to-bigquery\"\n",
            "  }, \n",
            "  {\n",
            "    \"#\": 3, \n",
            "    \"friendlyName\": \"My First Project\", \n",
            "    \"projectId\": \"smiling-timing-239918\"\n",
            "  }, \n",
            "  {\n",
            "    \"#\": 4, \n",
            "    \"friendlyName\": \"Pitt-Broker\", \n",
            "    \"projectId\": \"pitt-broker\"\n",
            "  }, \n",
            "  {\n",
            "    \"#\": 5, \n",
            "    \"friendlyName\": \"pitt-google-broker-prototype\", \n",
            "    \"projectId\": \"ardent-cycling-243415\"\n",
            "  }\n",
            "]\n",
            "Found multiple projects. Please enter a selection for \n",
            "which should be the default, or leave blank to not \n",
            "set a default.\n",
            "\n",
            "Enter a selection (1 - 5): 5\n",
            "\n",
            "BigQuery configuration complete! Type \"bq\" to get started.\n",
            "\n",
            "[\n",
            "  {\n",
            "    \"description\": \"schema version used\",\n",
            "    \"mode\": \"REQUIRED\",\n",
            "    \"name\": \"schemavsn\",\n",
            "    \"type\": \"STRING\"\n",
            "  },\n",
            "  {\n",
            "    \"description\": \"origin of alert packet\",\n",
            "    \"mode\": \"REQUIRED\",\n",
            "    \"name\": \"publisher\",\n",
            "    \"type\": \"STRING\"\n",
            "  },\n",
            "  {\n",
            "    \"description\": \"object identifier or name\",\n",
            "    \"mode\": \"REQUIRED\",\n",
            "    \"name\": \"objectId\",\n",
            "    \"type\": \"STRING\"\n",
            "  },\n",
            "  {\n",
            "    \"description\": \"Candidate ID from operations DB\",\n",
            "    \"mode\": \"REQUIRED\",\n",
            "    \"name\": \"candid\",\n",
            "    \"type\": \"INTEGER\"\n",
            "  },\n",
            "  {\n",
            "    \"description\": \"Observation Julian date at start of exposure [days]\",\n",
            "    \"mode\": \"REQUIRED\",\n",
            "    \"name\": \"jd\",\n",
            "    \"type\": \"FLOAT\"\n",
            "  },\n",
            "  {\n",
            "    \"description\": \"Filter ID (1=g; 2=R; 3=i)\",\n",
            "    \"mode\": \"REQUIRED\",\n",
            "    \"name\": \"fid\",\n",
            "    \"type\": \"INTEGER\"\n",
            "  },\n",
            "  {\n",
            "    \"description\": \"Processing ID for science image to facilitate archive retrieval\",\n",
            "    \"mode\": \"REQUIRED\",\n",
            "    \"name\": \"pid\",\n",
            "    \"type\": \"INTEGER\"\n",
            "  },\n",
            "  {\n",
            "    \"description\": \"Expected 5-sigma mag limit in difference image based on global noise estimate [mag]\",\n",
            "    \"mode\": \"NULLABLE\",\n",
            "    \"name\": \"diffmaglim\",\n",
            "    \"type\": \"FLOAT\"\n",
            "  },\n",
            "  {\n",
            "    \"description\": \"filename of positive (sci minus ref) difference image\",\n",
            "    \"mode\": \"NULLABLE\",\n",
            "    \"name\": \"pdiffimfilename\",\n",
            "    \"type\": \"STRING\"\n",
            "  },\n",
            "  {\n",
            "    \"description\": \"Principal investigator attached to program ID\",\n",
            "    \"mode\": \"NULLABLE\",\n",
            "    \"name\": \"programpi\",\n",
            "    \"type\": \"STRING\"\n",
            "  },\n",
            "  {\n",
            "    \"description\": \"Program ID: encodes either public, collab, or caltech mode\",\n",
            "    \"mode\": \"REQUIRED\",\n",
            "    \"name\": \"programid\",\n",
            "    \"type\": \"INTEGER\"\n",
            "  },\n",
            "  {\n",
            "    \"description\": \"t or 1 => candidate is from positive (sci minus ref) subtraction; f or 0 => candidate is from negative (ref minus sci) subtraction\",\n",
            "    \"mode\": \"REQUIRED\",\n",
            "    \"name\": \"isdiffpos\",\n",
            "    \"type\": \"STRING\"\n",
            "  },\n",
            "  {\n",
            "    \"description\": \"Internal pipeline table extraction ID\",\n",
            "    \"mode\": \"NULLABLE\",\n",
            "    \"name\": \"tblid\",\n",
            "    \"type\": \"INTEGER\"\n",
            "  },\n",
            "  {\n",
            "    \"description\": \"Night ID\",\n",
            "    \"mode\": \"NULLABLE\",\n",
            "    \"name\": \"nid\",\n",
            "    \"type\": \"INTEGER\"\n",
            "  },\n",
            "  {\n",
            "    \"description\": \"Readout channel ID [00 .. 63]\",\n",
            "    \"mode\": \"NULLABLE\",\n",
            "    \"name\": \"rcid\",\n",
            "    \"type\": \"INTEGER\"\n",
            "  },\n",
            "  {\n",
            "    \"description\": \"ZTF field ID\",\n",
            "    \"mode\": \"NULLABLE\",\n",
            "    \"name\": \"field\",\n",
            "    \"type\": \"INTEGER\"\n",
            "  },\n",
            "  {\n",
            "    \"description\": \"x-image position of candidate [pixels]\",\n",
            "    \"mode\": \"NULLABLE\",\n",
            "    \"name\": \"xpos\",\n",
            "    \"type\": \"FLOAT\"\n",
            "  },\n",
            "  {\n",
            "    \"description\": \"y-image position of candidate [pixels]\",\n",
            "    \"mode\": \"NULLABLE\",\n",
            "    \"name\": \"ypos\",\n",
            "    \"type\": \"FLOAT\"\n",
            "  },\n",
            "  {\n",
            "    \"description\": \"Right Ascension of candidate; J2000 [deg]\",\n",
            "    \"mode\": \"REQUIRED\",\n",
            "    \"name\": \"ra\",\n",
            "    \"type\": \"FLOAT\"\n",
            "  },\n",
            "  {\n",
            "    \"description\": \"Declination of candidate; J2000 [deg]\",\n",
            "    \"mode\": \"REQUIRED\",\n",
            "    \"name\": \"dec\",\n",
            "    \"type\": \"FLOAT\"\n",
            "  },\n",
            "  {\n",
            "    \"description\": \"Magnitude from PSF-fit photometry [mag]\",\n",
            "    \"mode\": \"REQUIRED\",\n",
            "    \"name\": \"magpsf\",\n",
            "    \"type\": \"FLOAT\"\n",
            "  },\n",
            "  {\n",
            "    \"description\": \"1-sigma uncertainty in magpsf [mag]\",\n",
            "    \"mode\": \"REQUIRED\",\n",
            "    \"name\": \"sigmapsf\",\n",
            "    \"type\": \"FLOAT\"\n",
            "  },\n",
            "  {\n",
            "    \"description\": \"Reduced chi-square for PSF-fit\",\n",
            "    \"mode\": \"NULLABLE\",\n",
            "    \"name\": \"chipsf\",\n",
            "    \"type\": \"FLOAT\"\n",
            "  },\n",
            "  {\n",
            "    \"description\": \"Aperture mag using 14 pixel diameter aperture [mag]\",\n",
            "    \"mode\": \"NULLABLE\",\n",
            "    \"name\": \"magap\",\n",
            "    \"type\": \"FLOAT\"\n",
            "  },\n",
            "  {\n",
            "    \"description\": \"1-sigma uncertainty in magap [mag]\",\n",
            "    \"mode\": \"NULLABLE\",\n",
            "    \"name\": \"sigmagap\",\n",
            "    \"type\": \"FLOAT\"\n",
            "  },\n",
            "  {\n",
            "    \"description\": \"distance to nearest source in reference image PSF-catalog [pixels]\",\n",
            "    \"mode\": \"NULLABLE\",\n",
            "    \"name\": \"distnr\",\n",
            "    \"type\": \"FLOAT\"\n",
            "  },\n",
            "  {\n",
            "    \"description\": \"magnitude of nearest source in reference image PSF-catalog [mag]\",\n",
            "    \"mode\": \"NULLABLE\",\n",
            "    \"name\": \"magnr\",\n",
            "    \"type\": \"FLOAT\"\n",
            "  },\n",
            "  {\n",
            "    \"description\": \"1-sigma uncertainty in magnr [mag]\",\n",
            "    \"mode\": \"NULLABLE\",\n",
            "    \"name\": \"sigmagnr\",\n",
            "    \"type\": \"FLOAT\"\n",
            "  },\n",
            "  {\n",
            "    \"description\": \"DAOPhot chi parameter of nearest source in reference image PSF-catalog\",\n",
            "    \"mode\": \"NULLABLE\",\n",
            "    \"name\": \"chinr\",\n",
            "    \"type\": \"FLOAT\"\n",
            "  },\n",
            "  {\n",
            "    \"description\": \"DAOPhot sharp parameter of nearest source in reference image PSF-catalog\",\n",
            "    \"mode\": \"NULLABLE\",\n",
            "    \"name\": \"sharpnr\",\n",
            "    \"type\": \"FLOAT\"\n",
            "  },\n",
            "  {\n",
            "    \"description\": \"Local sky background estimate [DN]\",\n",
            "    \"mode\": \"NULLABLE\",\n",
            "    \"name\": \"sky\",\n",
            "    \"type\": \"FLOAT\"\n",
            "  },\n",
            "  {\n",
            "    \"description\": \"Difference: magap - magpsf [mag]\",\n",
            "    \"mode\": \"NULLABLE\",\n",
            "    \"name\": \"magdiff\",\n",
            "    \"type\": \"FLOAT\"\n",
            "  },\n",
            "  {\n",
            "    \"description\": \"Full Width Half Max assuming a Gaussian core, from SExtractor [pixels]\",\n",
            "    \"mode\": \"NULLABLE\",\n",
            "    \"name\": \"fwhm\",\n",
            "    \"type\": \"FLOAT\"\n",
            "  },\n",
            "  {\n",
            "    \"description\": \"Star/Galaxy classification score from SExtractor\",\n",
            "    \"mode\": \"NULLABLE\",\n",
            "    \"name\": \"classtar\",\n",
            "    \"type\": \"FLOAT\"\n",
            "  },\n",
            "  {\n",
            "    \"description\": \"Distance to nearest edge in image [pixels]\",\n",
            "    \"mode\": \"NULLABLE\",\n",
            "    \"name\": \"mindtoedge\",\n",
            "    \"type\": \"FLOAT\"\n",
            "  },\n",
            "  {\n",
            "    \"description\": \"Difference: diffmaglim - magap [mag]\",\n",
            "    \"mode\": \"NULLABLE\",\n",
            "    \"name\": \"magfromlim\",\n",
            "    \"type\": \"FLOAT\"\n",
            "  },\n",
            "  {\n",
            "    \"description\": \"Ratio: difffwhm / fwhm\",\n",
            "    \"mode\": \"NULLABLE\",\n",
            "    \"name\": \"seeratio\",\n",
            "    \"type\": \"FLOAT\"\n",
            "  },\n",
            "  {\n",
            "    \"description\": \"Windowed profile RMS afloat major axis from SExtractor [pixels]\",\n",
            "    \"mode\": \"NULLABLE\",\n",
            "    \"name\": \"aimage\",\n",
            "    \"type\": \"FLOAT\"\n",
            "  },\n",
            "  {\n",
            "    \"description\": \"Windowed profile RMS afloat minor axis from SExtractor [pixels]\",\n",
            "    \"mode\": \"NULLABLE\",\n",
            "    \"name\": \"bimage\",\n",
            "    \"type\": \"FLOAT\"\n",
            "  },\n",
            "  {\n",
            "    \"description\": \"Ratio: aimage / fwhm\",\n",
            "    \"mode\": \"NULLABLE\",\n",
            "    \"name\": \"aimagerat\",\n",
            "    \"type\": \"FLOAT\"\n",
            "  },\n",
            "  {\n",
            "    \"description\": \"Ratio: bimage / fwhm\",\n",
            "    \"mode\": \"NULLABLE\",\n",
            "    \"name\": \"bimagerat\",\n",
            "    \"type\": \"FLOAT\"\n",
            "  },\n",
            "  {\n",
            "    \"description\": \"Ratio: aimage / bimage\",\n",
            "    \"mode\": \"NULLABLE\",\n",
            "    \"name\": \"elong\",\n",
            "    \"type\": \"FLOAT\"\n",
            "  },\n",
            "  {\n",
            "    \"description\": \"number of negative pixels in a 5 x 5 pixel stamp\",\n",
            "    \"mode\": \"NULLABLE\",\n",
            "    \"name\": \"nneg\",\n",
            "    \"type\": \"INTEGER\"\n",
            "  },\n",
            "  {\n",
            "    \"description\": \"number of prior-tagged bad pixels in a 5 x 5 pixel stamp\",\n",
            "    \"mode\": \"NULLABLE\",\n",
            "    \"name\": \"nbad\",\n",
            "    \"type\": \"INTEGER\"\n",
            "  },\n",
            "  {\n",
            "    \"description\": \"RealBogus quality score from Random Forest classifier; range is 0 to 1 where closer to 1 is more reliable\",\n",
            "    \"mode\": \"NULLABLE\",\n",
            "    \"name\": \"rb\",\n",
            "    \"type\": \"FLOAT\"\n",
            "  },\n",
            "  {\n",
            "    \"description\": \"distance to nearest known solar system object if exists within 30 arcsec [arcsec]\",\n",
            "    \"mode\": \"NULLABLE\",\n",
            "    \"name\": \"ssdistnr\",\n",
            "    \"type\": \"FLOAT\"\n",
            "  },\n",
            "  {\n",
            "    \"description\": \"magnitude of nearest known solar system object if exists within 30 arcsec (usually V-band from MPC archive) [mag]\",\n",
            "    \"mode\": \"NULLABLE\",\n",
            "    \"name\": \"ssmagnr\",\n",
            "    \"type\": \"FLOAT\"\n",
            "  },\n",
            "  {\n",
            "    \"description\": \"name of nearest known solar system object if exists within 30 arcsec (from MPC archive)\",\n",
            "    \"mode\": \"NULLABLE\",\n",
            "    \"name\": \"ssnamenr\",\n",
            "    \"type\": \"STRING\"\n",
            "  },\n",
            "  {\n",
            "    \"description\": \"Ratio: sum(pixels) / sum(|pixels|) in a 5 x 5 pixel stamp where stamp is first median-filtered to mitigate outliers\",\n",
            "    \"mode\": \"NULLABLE\",\n",
            "    \"name\": \"sumrat\",\n",
            "    \"type\": \"FLOAT\"\n",
            "  },\n",
            "  {\n",
            "    \"description\": \"Aperture mag using 18 pixel diameter aperture [mag]\",\n",
            "    \"mode\": \"NULLABLE\",\n",
            "    \"name\": \"magapbig\",\n",
            "    \"type\": \"FLOAT\"\n",
            "  },\n",
            "  {\n",
            "    \"description\": \"1-sigma uncertainty in magapbig [mag]\",\n",
            "    \"mode\": \"NULLABLE\",\n",
            "    \"name\": \"sigmagapbig\",\n",
            "    \"type\": \"FLOAT\"\n",
            "  },\n",
            "  {\n",
            "    \"description\": \"Right Ascension of nearest source in reference image PSF-catalog; J2000 [deg]\",\n",
            "    \"mode\": \"REQUIRED\",\n",
            "    \"name\": \"ranr\",\n",
            "    \"type\": \"FLOAT\"\n",
            "  },\n",
            "  {\n",
            "    \"description\": \"Declination of nearest source in reference image PSF-catalog; J2000 [deg]\",\n",
            "    \"mode\": \"REQUIRED\",\n",
            "    \"name\": \"decnr\",\n",
            "    \"type\": \"FLOAT\"\n",
            "  },\n",
            "  {\n",
            "    \"description\": \"g-band PSF-fit magnitude of closest source from PS1 catalog; if exists within 30 arcsec [mag]\",\n",
            "    \"mode\": \"NULLABLE\",\n",
            "    \"name\": \"sgmag1\",\n",
            "    \"type\": \"FLOAT\"\n",
            "  },\n",
            "  {\n",
            "    \"description\": \"r-band PSF-fit magnitude of closest source from PS1 catalog; if exists within 30 arcsec [mag]\",\n",
            "    \"mode\": \"NULLABLE\",\n",
            "    \"name\": \"srmag1\",\n",
            "    \"type\": \"FLOAT\"\n",
            "  },\n",
            "  {\n",
            "    \"description\": \"i-band PSF-fit magnitude of closest source from PS1 catalog; if exists within 30 arcsec [mag]\",\n",
            "    \"mode\": \"NULLABLE\",\n",
            "    \"name\": \"simag1\",\n",
            "    \"type\": \"FLOAT\"\n",
            "  },\n",
            "  {\n",
            "    \"description\": \"z-band PSF-fit magnitude of closest source from PS1 catalog; if exists within 30 arcsec [mag]\",\n",
            "    \"mode\": \"NULLABLE\",\n",
            "    \"name\": \"szmag1\",\n",
            "    \"type\": \"FLOAT\"\n",
            "  },\n",
            "  {\n",
            "    \"description\": \"Star/Galaxy score of closest source from PS1 catalog; if exists within 30 arcsec: 0 <= sgscore <= 1 where closer to 1 implies higher likelihood of being a star\",\n",
            "    \"mode\": \"NULLABLE\",\n",
            "    \"name\": \"sgscore1\",\n",
            "    \"type\": \"FLOAT\"\n",
            "  },\n",
            "  {\n",
            "    \"description\": \"Distance to closest source from PS1 catalog; if exists within 30 arcsec [arcsec]\",\n",
            "    \"mode\": \"NULLABLE\",\n",
            "    \"name\": \"distpsnr1\",\n",
            "    \"type\": \"FLOAT\"\n",
            "  },\n",
            "  {\n",
            "    \"description\": \"Number of spatially-coincident detections falling within 1.5 arcsec going back to beginning of survey; only detections that fell on the same field and readout-channel ID where the input candidate was observed are counted\",\n",
            "    \"mode\": \"REQUIRED\",\n",
            "    \"name\": \"ndethist\",\n",
            "    \"type\": \"INTEGER\"\n",
            "  },\n",
            "  {\n",
            "    \"description\": \"Number of times input candidate position fell on any field and readout-channel going back to beginning of survey\",\n",
            "    \"mode\": \"REQUIRED\",\n",
            "    \"name\": \"ncovhist\",\n",
            "    \"type\": \"INTEGER\"\n",
            "  },\n",
            "  {\n",
            "    \"description\": \"Earliest Julian date of epoch corresponding to ndethist [days]\",\n",
            "    \"mode\": \"NULLABLE\",\n",
            "    \"name\": \"jdstarthist\",\n",
            "    \"type\": \"FLOAT\"\n",
            "  },\n",
            "  {\n",
            "    \"description\": \"Latest Julian date of epoch corresponding to ndethist [days]\",\n",
            "    \"mode\": \"NULLABLE\",\n",
            "    \"name\": \"jdendhist\",\n",
            "    \"type\": \"FLOAT\"\n",
            "  },\n",
            "  {\n",
            "    \"description\": \"Peak-pixel signal-to-noise ratio in point source matched-filtered detection image\",\n",
            "    \"mode\": \"NULLABLE\",\n",
            "    \"name\": \"scorr\",\n",
            "    \"type\": \"FLOAT\"\n",
            "  },\n",
            "  {\n",
            "    \"description\": \"1 => candidate is from a Target-of-Opportunity (ToO) exposure; 0 => candidate is from a non-ToO exposure\",\n",
            "    \"mode\": \"NULLABLE\",\n",
            "    \"name\": \"tooflag\",\n",
            "    \"type\": \"INTEGER\"\n",
            "  },\n",
            "  {\n",
            "    \"description\": \"Object ID of closest source from PS1 catalog; if exists within 30 arcsec\",\n",
            "    \"mode\": \"NULLABLE\",\n",
            "    \"name\": \"objectidps1\",\n",
            "    \"type\": \"INTEGER\"\n",
            "  },\n",
            "  {\n",
            "    \"description\": \"Object ID of second closest source from PS1 catalog; if exists within 30 arcsec\",\n",
            "    \"mode\": \"NULLABLE\",\n",
            "    \"name\": \"objectidps2\",\n",
            "    \"type\": \"INTEGER\"\n",
            "  },\n",
            "  {\n",
            "    \"description\": \"g-band PSF-fit magnitude of second closest source from PS1 catalog; if exists within 30 arcsec [mag]\",\n",
            "    \"mode\": \"NULLABLE\",\n",
            "    \"name\": \"sgmag2\",\n",
            "    \"type\": \"FLOAT\"\n",
            "  },\n",
            "  {\n",
            "    \"description\": \"r-band PSF-fit magnitude of second closest source from PS1 catalog; if exists within 30 arcsec [mag]\",\n",
            "    \"mode\": \"NULLABLE\",\n",
            "    \"name\": \"srmag2\",\n",
            "    \"type\": \"FLOAT\"\n",
            "  },\n",
            "  {\n",
            "    \"description\": \"i-band PSF-fit magnitude of second closest source from PS1 catalog; if exists within 30 arcsec [mag]\",\n",
            "    \"mode\": \"NULLABLE\",\n",
            "    \"name\": \"simag2\",\n",
            "    \"type\": \"FLOAT\"\n",
            "  },\n",
            "  {\n",
            "    \"description\": \"z-band PSF-fit magnitude of second closest source from PS1 catalog; if exists within 30 arcsec [mag]\",\n",
            "    \"mode\": \"NULLABLE\",\n",
            "    \"name\": \"szmag2\",\n",
            "    \"type\": \"FLOAT\"\n",
            "  },\n",
            "  {\n",
            "    \"description\": \"Star/Galaxy score of second closest source from PS1 catalog; if exists within 30 arcsec: 0 <= sgscore <= 1 where closer to 1 implies higher likelihood of being a star\",\n",
            "    \"mode\": \"NULLABLE\",\n",
            "    \"name\": \"sgscore2\",\n",
            "    \"type\": \"FLOAT\"\n",
            "  },\n",
            "  {\n",
            "    \"description\": \"Distance to second closest source from PS1 catalog; if exists within 30 arcsec [arcsec]\",\n",
            "    \"mode\": \"NULLABLE\",\n",
            "    \"name\": \"distpsnr2\",\n",
            "    \"type\": \"FLOAT\"\n",
            "  },\n",
            "  {\n",
            "    \"description\": \"Object ID of third closest source from PS1 catalog; if exists within 30 arcsec\",\n",
            "    \"mode\": \"NULLABLE\",\n",
            "    \"name\": \"objectidps3\",\n",
            "    \"type\": \"INTEGER\"\n",
            "  },\n",
            "  {\n",
            "    \"description\": \"g-band PSF-fit magnitude of third closest source from PS1 catalog; if exists within 30 arcsec [mag]\",\n",
            "    \"mode\": \"NULLABLE\",\n",
            "    \"name\": \"sgmag3\",\n",
            "    \"type\": \"FLOAT\"\n",
            "  },\n",
            "  {\n",
            "    \"description\": \"r-band PSF-fit magnitude of third closest source from PS1 catalog; if exists within 30 arcsec [mag]\",\n",
            "    \"mode\": \"NULLABLE\",\n",
            "    \"name\": \"srmag3\",\n",
            "    \"type\": \"FLOAT\"\n",
            "  },\n",
            "  {\n",
            "    \"description\": \"i-band PSF-fit magnitude of third closest source from PS1 catalog; if exists within 30 arcsec [mag]\",\n",
            "    \"mode\": \"NULLABLE\",\n",
            "    \"name\": \"simag3\",\n",
            "    \"type\": \"FLOAT\"\n",
            "  },\n",
            "  {\n",
            "    \"description\": \"z-band PSF-fit magnitude of third closest source from PS1 catalog; if exists within 30 arcsec [mag]\",\n",
            "    \"mode\": \"NULLABLE\",\n",
            "    \"name\": \"szmag3\",\n",
            "    \"type\": \"FLOAT\"\n",
            "  },\n",
            "  {\n",
            "    \"description\": \"Star/Galaxy score of third closest source from PS1 catalog; if exists within 30 arcsec: 0 <= sgscore <= 1 where closer to 1 implies higher likelihood of being a star\",\n",
            "    \"mode\": \"NULLABLE\",\n",
            "    \"name\": \"sgscore3\",\n",
            "    \"type\": \"FLOAT\"\n",
            "  },\n",
            "  {\n",
            "    \"description\": \"Distance to third closest source from PS1 catalog; if exists within 30 arcsec [arcsec]\",\n",
            "    \"mode\": \"NULLABLE\",\n",
            "    \"name\": \"distpsnr3\",\n",
            "    \"type\": \"FLOAT\"\n",
            "  },\n",
            "  {\n",
            "    \"description\": \"Number of source matches from PS1 catalog falling within 30 arcsec\",\n",
            "    \"mode\": \"REQUIRED\",\n",
            "    \"name\": \"nmtchps\",\n",
            "    \"type\": \"INTEGER\"\n",
            "  },\n",
            "  {\n",
            "    \"description\": \"Processing ID for reference image to facilitate archive retrieval\",\n",
            "    \"mode\": \"REQUIRED\",\n",
            "    \"name\": \"rfid\",\n",
            "    \"type\": \"INTEGER\"\n",
            "  },\n",
            "  {\n",
            "    \"description\": \"Observation Julian date of earliest exposure used to generate reference image [days]\",\n",
            "    \"mode\": \"REQUIRED\",\n",
            "    \"name\": \"jdstartref\",\n",
            "    \"type\": \"FLOAT\"\n",
            "  },\n",
            "  {\n",
            "    \"description\": \"Observation Julian date of latest exposure used to generate reference image [days]\",\n",
            "    \"mode\": \"REQUIRED\",\n",
            "    \"name\": \"jdendref\",\n",
            "    \"type\": \"FLOAT\"\n",
            "  },\n",
            "  {\n",
            "    \"description\": \"Number of frames (epochal images) used to generate reference image\",\n",
            "    \"mode\": \"REQUIRED\",\n",
            "    \"name\": \"nframesref\",\n",
            "    \"type\": \"INTEGER\"\n",
            "  },\n",
            "  {\n",
            "    \"description\": \"version of Random Forest classifier model used to assign RealBogus (rb) quality score\",\n",
            "    \"mode\": \"REQUIRED\",\n",
            "    \"name\": \"rbversion\",\n",
            "    \"type\": \"STRING\"\n",
            "  },\n",
            "  {\n",
            "    \"description\": \"Ratio: D/stddev(D) on event position where D = difference image\",\n",
            "    \"mode\": \"NULLABLE\",\n",
            "    \"name\": \"dsnrms\",\n",
            "    \"type\": \"FLOAT\"\n",
            "  },\n",
            "  {\n",
            "    \"description\": \"Ratio: S/stddev(S) on event position where S = image of convolution: D (x) PSF(D)\",\n",
            "    \"mode\": \"NULLABLE\",\n",
            "    \"name\": \"ssnrms\",\n",
            "    \"type\": \"FLOAT\"\n",
            "  },\n",
            "  {\n",
            "    \"description\": \"Difference of statistics: dsnrms - ssnrms\",\n",
            "    \"mode\": \"NULLABLE\",\n",
            "    \"name\": \"dsdiff\",\n",
            "    \"type\": \"FLOAT\"\n",
            "  },\n",
            "  {\n",
            "    \"description\": \"Magnitude zero point for photometry estimates [mag]\",\n",
            "    \"mode\": \"NULLABLE\",\n",
            "    \"name\": \"magzpsci\",\n",
            "    \"type\": \"FLOAT\"\n",
            "  },\n",
            "  {\n",
            "    \"description\": \"Magnitude zero point uncertainty (in magzpsci) [mag]\",\n",
            "    \"mode\": \"NULLABLE\",\n",
            "    \"name\": \"magzpsciunc\",\n",
            "    \"type\": \"FLOAT\"\n",
            "  },\n",
            "  {\n",
            "    \"description\": \"RMS (deviation from average) in all differences between instrumental photometry and matched photometric calibrators from science image processing [mag]\",\n",
            "    \"mode\": \"NULLABLE\",\n",
            "    \"name\": \"magzpscirms\",\n",
            "    \"type\": \"FLOAT\"\n",
            "  },\n",
            "  {\n",
            "    \"description\": \"Number of PS1 photometric calibrators used to calibrate science image from science image processing\",\n",
            "    \"mode\": \"REQUIRED\",\n",
            "    \"name\": \"nmatches\",\n",
            "    \"type\": \"INTEGER\"\n",
            "  },\n",
            "  {\n",
            "    \"description\": \"Color coefficient from linear fit from photometric calibration of science image\",\n",
            "    \"mode\": \"NULLABLE\",\n",
            "    \"name\": \"clrcoeff\",\n",
            "    \"type\": \"FLOAT\"\n",
            "  },\n",
            "  {\n",
            "    \"description\": \"Color coefficient uncertainty from linear fit (corresponding to clrcoeff)\",\n",
            "    \"mode\": \"NULLABLE\",\n",
            "    \"name\": \"clrcounc\",\n",
            "    \"type\": \"FLOAT\"\n",
            "  },\n",
            "  {\n",
            "    \"description\": \"Covariance in magzpsci and clrcoeff from science image processing [mag^2]\",\n",
            "    \"mode\": \"NULLABLE\",\n",
            "    \"name\": \"zpclrcov\",\n",
            "    \"type\": \"FLOAT\"\n",
            "  },\n",
            "  {\n",
            "    \"description\": \"Magnitude zero point from median of all differences between instrumental photometry and matched photometric calibrators from science image processing [mag]\",\n",
            "    \"mode\": \"NULLABLE\",\n",
            "    \"name\": \"zpmed\",\n",
            "    \"type\": \"FLOAT\"\n",
            "  },\n",
            "  {\n",
            "    \"description\": \"Median color of all PS1 photometric calibrators used from science image processing [mag]: for filter (fid) = 1, 2, 3, PS1 color used = g-r, g-r, r-i respectively\",\n",
            "    \"mode\": \"NULLABLE\",\n",
            "    \"name\": \"clrmed\",\n",
            "    \"type\": \"FLOAT\"\n",
            "  },\n",
            "  {\n",
            "    \"description\": \"RMS color (deviation from average) of all PS1 photometric calibrators used from science image processing [mag]\",\n",
            "    \"mode\": \"NULLABLE\",\n",
            "    \"name\": \"clrrms\",\n",
            "    \"type\": \"FLOAT\"\n",
            "  },\n",
            "  {\n",
            "    \"description\": \"Distance to closest source from Gaia DR1 catalog irrespective of magnitude; if exists within 90 arcsec [arcsec]\",\n",
            "    \"mode\": \"NULLABLE\",\n",
            "    \"name\": \"neargaia\",\n",
            "    \"type\": \"FLOAT\"\n",
            "  },\n",
            "  {\n",
            "    \"description\": \"Distance to closest source from Gaia DR1 catalog brighter than magnitude 14; if exists within 90 arcsec [arcsec]\",\n",
            "    \"mode\": \"NULLABLE\",\n",
            "    \"name\": \"neargaiabright\",\n",
            "    \"type\": \"FLOAT\"\n",
            "  },\n",
            "  {\n",
            "    \"description\": \"Gaia (G-band) magnitude of closest source from Gaia DR1 catalog irrespective of magnitude; if exists within 90 arcsec [mag]\",\n",
            "    \"mode\": \"NULLABLE\",\n",
            "    \"name\": \"maggaia\",\n",
            "    \"type\": \"FLOAT\"\n",
            "  },\n",
            "  {\n",
            "    \"description\": \"Gaia (G-band) magnitude of closest source from Gaia DR1 catalog brighter than magnitude 14; if exists within 90 arcsec [mag]\",\n",
            "    \"mode\": \"NULLABLE\",\n",
            "    \"name\": \"maggaiabright\",\n",
            "    \"type\": \"FLOAT\"\n",
            "  },\n",
            "  {\n",
            "    \"description\": \"Integration time of camera exposure [sec]\",\n",
            "    \"mode\": \"NULLABLE\",\n",
            "    \"name\": \"exptime\",\n",
            "    \"type\": \"FLOAT\"\n",
            "  },\n",
            "  {\n",
            "    \"description\": \"RealBogus quality score from Deep-Learning-based classifier; range is 0 to 1 where closer to 1 is more reliable\",\n",
            "    \"mode\": \"NULLABLE\",\n",
            "    \"name\": \"drb\",\n",
            "    \"type\": \"FLOAT\"\n",
            "  },\n",
            "  {\n",
            "    \"description\": \"version of Deep-Learning-based classifier model used to assign RealBogus (drb) quality score\",\n",
            "    \"mode\": \"REQUIRED\",\n",
            "    \"name\": \"drbversion\",\n",
            "    \"type\": \"STRING\"\n",
            "  },\n",
            "  {\n",
            "    \"description\": \"Candidate IDs from previous candidate's in the original alert packet (prv_candidates.candid)\",\n",
            "    \"mode\": \"NULLABLE\",\n",
            "    \"name\": \"prv_candidates_candids\",\n",
            "    \"type\": \"STRING\"\n",
            "  }\n",
            "]\n",
            "\n"
          ],
          "name": "stdout"
        }
      ]
    },
    {
      "cell_type": "code",
      "metadata": {
        "id": "dFTI682_kAtG",
        "colab": {
          "base_uri": "https://localhost:8080/"
        },
        "outputId": "fc4fa25b-3220-42db-8d41-9e0a2c66d242"
      },
      "source": [
        "# Query: dry run\n",
        "\n",
        "# first we do a dry_run by including the flag --dry_run\n",
        "bq_query = \"\"\"bq query \\\n",
        "--dry_run \\\n",
        "--use_legacy_sql=false \\\n",
        "'SELECT \n",
        "    objectId, candid, t0, x0, x1, c, chisq, ndof\n",
        "FROM \n",
        "    `ardent-cycling-243415.ztf_alerts.salt2`\n",
        "WHERE \n",
        "    ndof>0 and chisq/ndof<2\n",
        "LIMIT\n",
        "    10'\n",
        "\"\"\"\n",
        "\n",
        "run(bq_query)\n",
        "# Note: to execute this directly in the command-line, enter everything \n",
        "# contained within the triple quotes."
      ],
      "execution_count": 36,
      "outputs": [
        {
          "output_type": "stream",
          "text": [
            ">> bq query --dry_run --use_legacy_sql=false 'SELECT \n",
            "    objectId, candid, t0, x0, x1, c, chisq, ndof\n",
            "FROM \n",
            "    `ardent-cycling-243415.ztf_alerts.salt2`\n",
            "WHERE \n",
            "    ndof>0 and chisq/ndof<2\n",
            "LIMIT\n",
            "    10'\n",
            "\n",
            "Query successfully validated. Assuming the tables are not modified, running this query will process 95410 bytes of data.\n",
            "\n"
          ],
          "name": "stdout"
        }
      ]
    },
    {
      "cell_type": "code",
      "metadata": {
        "id": "cPuGfMbPiUPN",
        "colab": {
          "base_uri": "https://localhost:8080/"
        },
        "outputId": "573da234-ff57-4faa-848e-391a7f30d4d1"
      },
      "source": [
        "# Query\n",
        "\n",
        "bq_query = \"\"\"bq query \\\n",
        "--use_legacy_sql=false \\\n",
        "'SELECT \n",
        "    objectId, candid, t0, x0, x1, c, chisq, ndof\n",
        "FROM \n",
        "    `ardent-cycling-243415.ztf_alerts.salt2`\n",
        "WHERE \n",
        "    ndof>0 and chisq/ndof<2\n",
        "LIMIT\n",
        "    10'\n",
        "\"\"\"\n",
        "\n",
        "run(bq_query)"
      ],
      "execution_count": 37,
      "outputs": [
        {
          "output_type": "stream",
          "text": [
            ">> bq query --use_legacy_sql=false 'SELECT \n",
            "    objectId, candid, t0, x0, x1, c, chisq, ndof\n",
            "FROM \n",
            "    `ardent-cycling-243415.ztf_alerts.salt2`\n",
            "WHERE \n",
            "    ndof>0 and chisq/ndof<2\n",
            "LIMIT\n",
            "    10'\n",
            "\n",
            "Waiting on bqjob_r7045e22e44729044_00000178ca3977a3_1 ... (0s) Current status: DONE   \n",
            "+--------------+---------------------+--------------------+-----------------------+---------------------+----------------------+--------------------+------+\n",
            "|   objectId   |       candid        |         t0         |          x0           |         x1          |          c           |       chisq        | ndof |\n",
            "+--------------+---------------------+--------------------+-----------------------+---------------------+----------------------+--------------------+------+\n",
            "| ZTF21aactwbe | 1563194074315015020 |  59280.00034567633 |  1.070378129098851E-4 |  3.3418872100970383 |   0.6608066699178483 | 3.1247765139313963 |    3 |\n",
            "| ZTF18acbzvvz | 1563202543315015006 | 59299.999999925276 | 1.9213943360541654E-4 |   4.999999980549408 |    1.194224986302257 | 21.806574901053875 |   13 |\n",
            "| ZTF18acwyjst | 1563232362215015039 |  59303.99999999153 | 4.7318575948785866E-4 |   4.999997640909928 |   0.4973432366958743 | 0.6226172090922412 |    4 |\n",
            "| ZTF18aahfssj | 1563205935915015019 | 59295.293222155975 | 4.8734714367619654E-4 |   4.997197798997965 |  0.03722973780477545 | 13.664595083074026 |   12 |\n",
            "| ZTF18aamtcmw | 1563201596215015006 | 59299.999999999156 | 2.3048858314844275E-4 |   4.999991685542062 |  0.26328471860866376 | 14.334923947339531 |   24 |\n",
            "| ZTF21aarwlht | 1563200651215015000 | 59316.999999061976 |  7.389718048477042E-4 | -1.6267529670532244 | -0.10748090886105555 |  2.892529423852256 |    6 |\n",
            "| ZTF19aangwaa | 1563192664115015009 | 59301.999999855485 |  4.102599704096993E-4 |   4.259423320088006 |   0.1291081574383215 | 3.8305113825255397 |   13 |\n",
            "| ZTF19aarnhiy | 1563197361915015013 |  59299.99999947007 |  1.873678849000276E-4 |   4.999999976179199 | -0.09097300294819544 | 13.316993168143163 |   21 |\n",
            "| ZTF21aabgjcz | 1563199721515015009 | 59300.999974893384 | 2.3906100866785378E-4 |   4.999990938175223 | -0.19186015748266172 |  5.301985124203564 |   15 |\n",
            "| ZTF21aaroezv | 1563196420815015002 | 59314.567630826765 | 1.3812367734208425E-4 |   2.256201477133941 |  0.12160331220363041 | 0.7717650329851689 |    4 |\n",
            "+--------------+---------------------+--------------------+-----------------------+---------------------+----------------------+--------------------+------+\n",
            "\n"
          ],
          "name": "stdout"
        }
      ]
    },
    {
      "cell_type": "markdown",
      "metadata": {
        "id": "quXBg_AIwJfo"
      },
      "source": [
        "---"
      ]
    },
    {
      "cell_type": "markdown",
      "metadata": {
        "id": "jwxBVDcgVsOZ"
      },
      "source": [
        "# 4) Files in Cloud Storage"
      ]
    },
    {
      "cell_type": "markdown",
      "metadata": {
        "id": "DxcGxp_1WkK8"
      },
      "source": [
        "We store the alert packets as Avro files named as \"{objectId}.{candid}.{ztf_topic}.avro\"\n",
        "\n",
        "- Pricing\n",
        "    - [Cloud Storage pricing](https://cloud.google.com/storage/pricing)\n",
        "        - [Free Tier](https://cloud.google.com/storage/pricing#cloud-storage-always-free) includes >=5000 operations per month, but is limited to US regions(*). Standard operations are $0.004-$0.05 per 10,000 operations (depending on type).\n",
        "\n",
        "(*) This will depend on where Colab is running, which is non-configurable."
      ]
    },
    {
      "cell_type": "markdown",
      "metadata": {
        "id": "bHoxCS-EAH4J"
      },
      "source": [
        "## 4a) Python"
      ]
    },
    {
      "cell_type": "markdown",
      "metadata": {
        "id": "ASizSGpQC_46"
      },
      "source": [
        "- [Python Client documentation](https://googleapis.dev/python/storage/latest/client.html) (Google Cloud SDK)"
      ]
    },
    {
      "cell_type": "markdown",
      "metadata": {
        "id": "WolBMdS2K1OV"
      },
      "source": [
        "### Download files"
      ]
    },
    {
      "cell_type": "markdown",
      "metadata": {
        "id": "Oti0W9vANHkI"
      },
      "source": [
        "Download alerts for a given `objectId`"
      ]
    },
    {
      "cell_type": "code",
      "metadata": {
        "id": "nfMQSAL4vrgP"
      },
      "source": [
        "objectId = 'ZTF17aaackje'\n",
        "bucket_name = f'{pgb_project_id}_ztf_alert_avros'\n",
        "\n",
        "# Create a client and request a list of files\n",
        "storage_client = storage.Client(my_project_id)\n",
        "bucket = storage_client.get_bucket(bucket_name)\n",
        "blobs = bucket.list_blobs(prefix=objectId)"
      ],
      "execution_count": 50,
      "outputs": []
    },
    {
      "cell_type": "code",
      "metadata": {
        "colab": {
          "base_uri": "https://localhost:8080/"
        },
        "id": "-X4xF4x-vxdF",
        "outputId": "8c082b5c-3325-4724-b6dd-ab4600039bcc"
      },
      "source": [
        "# download the files\n",
        "for blob in blobs:\n",
        "    local_path = f'{colabpath_noesc}/{blob.name}'\n",
        "    blob.download_to_filename(local_path)\n",
        "    print(f'Downloaded {local_path}')"
      ],
      "execution_count": 51,
      "outputs": [
        {
          "output_type": "stream",
          "text": [
            "Downloaded /content/drive/MyDrive/Colab Notebooks/PGB_tutorial/ZTF17aaackje.1563161493315010012.ztf_20210413_programid1.avro\n",
            "Downloaded /content/drive/MyDrive/Colab Notebooks/PGB_tutorial/ZTF17aaackje.1563186683315010018.ztf_20210413_programid1.avro\n"
          ],
          "name": "stdout"
        }
      ]
    },
    {
      "cell_type": "markdown",
      "metadata": {
        "id": "6Xz7JjM0_ow9"
      },
      "source": [
        "### Plot cutouts and lightcurves"
      ]
    },
    {
      "cell_type": "markdown",
      "metadata": {
        "id": "vlmn71r1UUuh"
      },
      "source": [
        "The functions in this section were adapted from https://github.com/ZwickyTransientFacility/ztf-avro-alert/blob/master/notebooks/Filtering_alerts.ipynb.\n"
      ]
    },
    {
      "cell_type": "markdown",
      "metadata": {
        "id": "NULKsOFDPP9G"
      },
      "source": [
        "Open a file\n",
        "(see the previous section to download files)"
      ]
    },
    {
      "cell_type": "code",
      "metadata": {
        "id": "pEZuY3Gf8czB",
        "colab": {
          "base_uri": "https://localhost:8080/"
        },
        "outputId": "9b24c2a9-91ce-490c-8e99-4f4b94eaa091"
      },
      "source": [
        "paths = Path(colabpath_noesc).glob('*.avro')\n",
        "for path in paths:\n",
        "    with open(path, 'rb') as fin:\n",
        "        alert_list = [r for r in fastavro.reader(fin)]\n",
        "    break\n",
        "alert_dict = alert_list[0]  # extract the single alert packet\n",
        "\n",
        "print(alert_dict.keys())"
      ],
      "execution_count": 52,
      "outputs": [
        {
          "output_type": "stream",
          "text": [
            "dict_keys(['schemavsn', 'publisher', 'objectId', 'candid', 'candidate', 'prv_candidates', 'cutoutScience', 'cutoutTemplate', 'cutoutDifference'])\n"
          ],
          "name": "stdout"
        }
      ]
    },
    {
      "cell_type": "markdown",
      "metadata": {
        "id": "n8ymT1kPPXWM"
      },
      "source": [
        "Plot cutouts"
      ]
    },
    {
      "cell_type": "code",
      "metadata": {
        "colab": {
          "base_uri": "https://localhost:8080/",
          "height": 432
        },
        "id": "MA-p8FaqOG90",
        "outputId": "db70f154-4f40-4e71-b460-0ce868c21f5f"
      },
      "source": [
        "pgb.figures.plot_cutouts(alert_dict)"
      ],
      "execution_count": 53,
      "outputs": [
        {
          "output_type": "stream",
          "text": [
            "WARNING: No WCS information found in header - using pixel coordinates [aplpy.header]\n"
          ],
          "name": "stderr"
        },
        {
          "output_type": "stream",
          "text": [
            "INFO: Auto-setting vmin to  2.258e+02 [aplpy.core]\n",
            "INFO: Auto-setting vmax to  4.591e+02 [aplpy.core]\n"
          ],
          "name": "stdout"
        },
        {
          "output_type": "stream",
          "text": [
            "WARNING: No WCS information found in header - using pixel coordinates [aplpy.header]\n"
          ],
          "name": "stderr"
        },
        {
          "output_type": "stream",
          "text": [
            "INFO: Auto-setting vmin to  2.351e+02 [aplpy.core]\n",
            "INFO: Auto-setting vmax to  4.794e+02 [aplpy.core]\n"
          ],
          "name": "stdout"
        },
        {
          "output_type": "stream",
          "text": [
            "WARNING: No WCS information found in header - using pixel coordinates [aplpy.header]\n"
          ],
          "name": "stderr"
        },
        {
          "output_type": "stream",
          "text": [
            "INFO: Auto-setting vmin to -1.312e+01 [aplpy.core]\n",
            "INFO: Auto-setting vmax to  5.068e+01 [aplpy.core]\n"
          ],
          "name": "stdout"
        },
        {
          "output_type": "display_data",
          "data": {
            "image/png": "[encoded data removed]",
            "text/plain": [
              "<Figure size 864x288 with 3 Axes>"
            ]
          },
          "metadata": {
            "tags": [],
            "needs_background": "light"
          }
        }
      ]
    },
    {
      "cell_type": "markdown",
      "metadata": {
        "id": "_J8JpowcPbUu"
      },
      "source": [
        "Cast to a dataframe and plot lightcurves"
      ]
    },
    {
      "cell_type": "code",
      "metadata": {
        "colab": {
          "base_uri": "https://localhost:8080/",
          "height": 295
        },
        "id": "ULrUTnXNOG0V",
        "outputId": "e5dc0fc6-fb7b-4bc5-c23f-bf0ec9d9e306"
      },
      "source": [
        "dflc = pgb.utils.alert_dict_to_dataframe(alert_dict)\n",
        "pgb.figures.plot_lightcurve(dflc)"
      ],
      "execution_count": 54,
      "outputs": [
        {
          "output_type": "display_data",
          "data": {
            "image/png": "[encoded data removed]",
            "text/plain": [
              "<Figure size 432x288 with 1 Axes>"
            ]
          },
          "metadata": {
            "tags": [],
            "needs_background": "light"
          }
        }
      ]
    },
    {
      "cell_type": "markdown",
      "metadata": {
        "id": "4S8r4d6ePffd"
      },
      "source": [
        "Plot everything together"
      ]
    },
    {
      "cell_type": "code",
      "metadata": {
        "colab": {
          "base_uri": "https://localhost:8080/",
          "height": 450
        },
        "id": "6Ok0bfCcOkw4",
        "outputId": "3609c66f-1de7-49ed-f4f2-77b135474fb8"
      },
      "source": [
        "pgb.figures.plot_lightcurve_cutouts(alert_dict)"
      ],
      "execution_count": 55,
      "outputs": [
        {
          "output_type": "stream",
          "text": [
            "WARNING: No WCS information found in header - using pixel coordinates [aplpy.header]\n"
          ],
          "name": "stderr"
        },
        {
          "output_type": "stream",
          "text": [
            "INFO: Auto-setting vmin to  2.258e+02 [aplpy.core]\n",
            "INFO: Auto-setting vmax to  4.591e+02 [aplpy.core]\n"
          ],
          "name": "stdout"
        },
        {
          "output_type": "stream",
          "text": [
            "WARNING: No WCS information found in header - using pixel coordinates [aplpy.header]\n"
          ],
          "name": "stderr"
        },
        {
          "output_type": "stream",
          "text": [
            "INFO: Auto-setting vmin to  2.351e+02 [aplpy.core]\n",
            "INFO: Auto-setting vmax to  4.794e+02 [aplpy.core]\n"
          ],
          "name": "stdout"
        },
        {
          "output_type": "stream",
          "text": [
            "WARNING: No WCS information found in header - using pixel coordinates [aplpy.header]\n"
          ],
          "name": "stderr"
        },
        {
          "output_type": "stream",
          "text": [
            "INFO: Auto-setting vmin to -1.312e+01 [aplpy.core]\n",
            "INFO: Auto-setting vmax to  5.068e+01 [aplpy.core]\n"
          ],
          "name": "stdout"
        },
        {
          "output_type": "display_data",
          "data": {
            "image/png": "[encoded data removed]",
            "text/plain": [
              "<Figure size 1152x288 with 4 Axes>"
            ]
          },
          "metadata": {
            "tags": [],
            "needs_background": "light"
          }
        }
      ]
    },
    {
      "cell_type": "markdown",
      "metadata": {
        "id": "z-TsZDqwDC8O"
      },
      "source": [
        "## 4b) Command-line tool `gsutil`"
      ]
    },
    {
      "cell_type": "markdown",
      "metadata": {
        "id": "XovgM2uZDK1Q"
      },
      "source": [
        "- [Quickstart: Using the gsutil tool](https://cloud.google.com/storage/docs/quickstart-gsutil)\n",
        "- [`gsutil cp` - Copy files and objects](https://cloud.google.com/storage/docs/gsutil/commands/cp)"
      ]
    },
    {
      "cell_type": "code",
      "metadata": {
        "colab": {
          "base_uri": "https://localhost:8080/"
        },
        "id": "Uak8D2ZTDKYe",
        "outputId": "1f117fda-f5f9-4d6e-f8b5-a4a0d086ae9c"
      },
      "source": [
        "# Get help\n",
        "# run('gsutil help')\n",
        "run('gsutil help cp')"
      ],
      "execution_count": 56,
      "outputs": [
        {
          "output_type": "stream",
          "text": [
            ">> gsutil help cp\n",
            "\u001b[1mNAME\u001b[0;0m\n",
            "  cp - Copy files and objects\n",
            "\n",
            "\n",
            "\u001b[1mSYNOPSIS\u001b[0;0m\n",
            "\n",
            "  gsutil cp [OPTION]... src_url dst_url\n",
            "  gsutil cp [OPTION]... src_url... dst_url\n",
            "  gsutil cp [OPTION]... -I dst_url\n",
            "\n",
            "\n",
            "\n",
            "\u001b[1mDESCRIPTION\u001b[0;0m\n",
            "  The ``gsutil cp`` command allows you to copy data between your local file\n",
            "  system and the cloud, within the cloud, and between\n",
            "  cloud storage providers. For example, to upload all text files from the\n",
            "  local directory to a bucket, you can run:\n",
            "\n",
            "    gsutil cp *.txt gs://my-bucket\n",
            "\n",
            "  You can also download text files from a bucket:\n",
            "\n",
            "    gsutil cp gs://my-bucket/*.txt .\n",
            "\n",
            "  Use the ``-r`` option to copy an entire directory tree.\n",
            "  For example, to upload the directory tree ``dir``:\n",
            "\n",
            "    gsutil cp -r dir gs://my-bucket\n",
            "\n",
            "  If you have a large number of files to transfer, you can perform a parallel\n",
            "  multi-threaded/multi-processing copy using the\n",
            "  top-level gsutil ``-m`` option (see \"gsutil help options\"):\n",
            "\n",
            "    gsutil -m cp -r dir gs://my-bucket\n",
            "\n",
            "  You can use the ``-I`` option with ``stdin`` to specify a list of URLs to\n",
            "  copy, one per line. This allows you to use gsutil\n",
            "  in a pipeline to upload or download objects as generated by a program:\n",
            "\n",
            "    cat filelist | gsutil -m cp -I gs://my-bucket\n",
            "\n",
            "  or:\n",
            "\n",
            "    cat filelist | gsutil -m cp -I ./download_dir\n",
            "\n",
            "  where the output of ``cat filelist`` is a list of files, cloud URLs, and\n",
            "  wildcards of files and cloud URLs.\n",
            "\n",
            "  NOTE: Shells like ``bash`` and ``zsh`` sometimes attempt to expand\n",
            "  wildcards in ways that can be surprising. You may also encounter issues when\n",
            "  attempting to copy files whose names contain wildcard characters. For more\n",
            "  details about these issues, see \"Potentially Surprising Behavior When Using Wildcards\"\n",
            "  under \"gsutil help wildcards\".\n",
            "\n",
            "\n",
            "\n",
            "\u001b[1mHOW NAMES ARE CONSTRUCTED\u001b[0;0m\n",
            "  The ``gsutil cp`` command attempts to name objects in ways that are consistent with the\n",
            "  Linux ``cp`` command. This means that names are constructed depending\n",
            "  on whether you're performing a recursive directory copy or copying\n",
            "  individually-named objects, or whether you're copying to an existing or\n",
            "  non-existent directory.\n",
            "\n",
            "  When you perform recursive directory copies, object names are constructed to\n",
            "  mirror the source directory structure starting at the point of recursive\n",
            "  processing. For example, if ``dir1/dir2`` contains the file ``a/b/c``, then the\n",
            "  following command creates the object ``gs://my-bucket/dir2/a/b/c``:\n",
            "\n",
            "    gsutil cp -r dir1/dir2 gs://my-bucket\n",
            "\n",
            "  In contrast, copying individually-named files results in objects named by\n",
            "  the final path component of the source files. For example, assuming again that\n",
            "  ``dir1/dir2`` contains ``a/b/c``, the following command creates the object\n",
            "  ``gs://my-bucket/c``:\n",
            "\n",
            "    gsutil cp dir1/dir2/** gs://my-bucket\n",
            "\n",
            "  Note that in the above example, the '**' wildcard matches all names\n",
            "  anywhere under ``dir``. The wildcard '*' matches names just one level deep. For\n",
            "  more details, see \"gsutil help wildcards\".\n",
            "\n",
            "  The same rules apply for uploads and downloads: recursive copies of buckets and\n",
            "  bucket subdirectories produce a mirrored filename structure, while copying\n",
            "  individually or wildcard-named objects produce flatly-named files.\n",
            "\n",
            "  In addition, the resulting names depend on whether the destination subdirectory\n",
            "  exists. For example, if ``gs://my-bucket/subdir`` exists as a subdirectory,\n",
            "  the following command creates the object ``gs://my-bucket/subdir/dir2/a/b/c``:\n",
            "\n",
            "    gsutil cp -r dir1/dir2 gs://my-bucket/subdir\n",
            "\n",
            "  In contrast, if ``gs://my-bucket/subdir`` does not exist, this same ``gsutil cp``\n",
            "  command creates the object ``gs://my-bucket/subdir/a/b/c``.\n",
            "\n",
            "  NOTE: The\n",
            "  `Google Cloud Platform Console <https://console.cloud.google.com>`_\n",
            "  creates folders by creating \"placeholder\" objects that end\n",
            "  with a \"/\" character. gsutil skips these objects when downloading from the\n",
            "  cloud to the local file system, because creating a file that\n",
            "  ends with a \"/\" is not allowed on Linux and macOS. We\n",
            "  recommend that you only create objects that end with \"/\" if you don't\n",
            "  intend to download such objects using gsutil.\n",
            "\n",
            "\n",
            "\n",
            "\u001b[1mCOPYING TO/FROM SUBDIRECTORIES; DISTRIBUTING TRANSFERS ACROSS MACHINES\u001b[0;0m\n",
            "  You can use gsutil to copy to and from subdirectories by using a command\n",
            "  like this:\n",
            "\n",
            "    gsutil cp -r dir gs://my-bucket/data\n",
            "\n",
            "  This causes ``dir`` and all of its files and nested subdirectories to be\n",
            "  copied under the specified destination, resulting in objects with names like\n",
            "  ``gs://my-bucket/data/dir/a/b/c``. Similarly, you can download from bucket\n",
            "  subdirectories using the following command:\n",
            "\n",
            "    gsutil cp -r gs://my-bucket/data dir\n",
            "\n",
            "  This causes everything nested under ``gs://my-bucket/data`` to be downloaded\n",
            "  into ``dir``, resulting in files with names like ``dir/data/a/b/c``.\n",
            "\n",
            "  Copying subdirectories is useful if you want to add data to an existing\n",
            "  bucket directory structure over time. It's also useful if you want\n",
            "  to parallelize uploads and downloads across multiple machines (potentially\n",
            "  reducing overall transfer time compared with running ``gsutil -m\n",
            "  cp`` on one machine). For example, if your bucket contains this structure:\n",
            "\n",
            "    gs://my-bucket/data/result_set_01/\n",
            "    gs://my-bucket/data/result_set_02/\n",
            "    ...\n",
            "    gs://my-bucket/data/result_set_99/\n",
            "\n",
            "  you can perform concurrent downloads across 3 machines by running these\n",
            "  commands on each machine, respectively:\n",
            "\n",
            "    gsutil -m cp -r gs://my-bucket/data/result_set_[0-3]* dir\n",
            "    gsutil -m cp -r gs://my-bucket/data/result_set_[4-6]* dir\n",
            "    gsutil -m cp -r gs://my-bucket/data/result_set_[7-9]* dir\n",
            "\n",
            "  Note that ``dir`` could be a local directory on each machine, or a\n",
            "  directory mounted off of a shared file server. The performance of the latter\n",
            "  depends on several factors, so we recommend experimenting\n",
            "  to find out what works best for your computing environment.\n",
            "\n",
            "\n",
            "\n",
            "\u001b[1mCOPYING IN THE CLOUD AND METADATA PRESERVATION\u001b[0;0m\n",
            "  If both the source and destination URL are cloud URLs from the same\n",
            "  provider, gsutil copies data \"in the cloud\" (without downloading\n",
            "  to and uploading from the machine where you run gsutil). In addition to\n",
            "  the performance and cost advantages of doing this, copying in the cloud\n",
            "  preserves metadata such as ``Content-Type`` and ``Cache-Control``. In contrast,\n",
            "  when you download data from the cloud, it ends up in a file with\n",
            "  no associated metadata, unless you have some way to keep\n",
            "  or re-create that metadata.\n",
            "\n",
            "  Copies spanning locations and/or storage classes cause data to be rewritten\n",
            "  in the cloud, which may take some time (but is still faster than\n",
            "  downloading and re-uploading). Such operations can be resumed with the same\n",
            "  command if they are interrupted, so long as the command parameters are\n",
            "  identical.\n",
            "\n",
            "  Note that by default, the gsutil ``cp`` command does not copy the object\n",
            "  ACL to the new object, and instead uses the default bucket ACL (see\n",
            "  \"gsutil help defacl\"). You can override this behavior with the ``-p``\n",
            "  option.\n",
            "\n",
            "  When copying in the cloud, if the destination bucket has Object Versioning\n",
            "  enabled, by default ``gsutil cp`` copies only live versions of the\n",
            "  source object. For example, the following command causes only the single live\n",
            "  version of ``gs://bucket1/obj`` to be copied to ``gs://bucket2``, even if there\n",
            "  are noncurrent versions of ``gs://bucket1/obj``:\n",
            "\n",
            "    gsutil cp gs://bucket1/obj gs://bucket2\n",
            "\n",
            "   To also copy noncurrent versions, use the ``-A`` flag:\n",
            "\n",
            "    gsutil cp -A gs://bucket1/obj gs://bucket2\n",
            "\n",
            "  The top-level gsutil ``-m`` flag is  not allowed when using the ``cp -A`` flag.\n",
            "\n",
            "\n",
            "\n",
            "\n",
            "\n",
            "\u001b[1mCHECKSUM VALIDATION\u001b[0;0m\n",
            "  At the end of every upload or download, the ``gsutil cp`` command validates that\n",
            "  the checksum it computes for the source file matches the checksum that\n",
            "  the service computes. If the checksums do not match, gsutil deletes the\n",
            "  corrupted object and prints a warning message. If this happens, contact\n",
            "  gs-team@google.com.\n",
            "\n",
            "  If you know the MD5 of a file before uploading, you can specify it in the\n",
            "  Content-MD5 header, which enables the cloud storage service to reject the\n",
            "  upload if the MD5 doesn't match the value computed by the service. For\n",
            "  example:\n",
            "\n",
            "    % gsutil hash obj\n",
            "    Hashing     obj:\n",
            "    Hashes [base64] for obj:\n",
            "            Hash (crc32c):          lIMoIw==\n",
            "            Hash (md5):             VgyllJgiiaRAbyUUIqDMmw==\n",
            "\n",
            "    % gsutil -h Content-MD5:VgyllJgiiaRAbyUUIqDMmw== cp obj gs://your-bucket/obj\n",
            "    Copying file://obj [Content-Type=text/plain]...\n",
            "    Uploading   gs://your-bucket/obj:                                182 b/182 B\n",
            "\n",
            "    If the checksums don't match, the service rejects the upload and\n",
            "    gsutil prints a message like:\n",
            "\n",
            "    BadRequestException: 400 Provided MD5 hash \"VgyllJgiiaRAbyUUIqDMmw==\"\n",
            "    doesn't match calculated MD5 hash \"7gyllJgiiaRAbyUUIqDMmw==\".\n",
            "\n",
            "  Specifying the Content-MD5 header has several advantages:\n",
            "\n",
            "  1. It prevents the corrupted object from becoming visible. If you don't\n",
            "     specify the header, the object is visible for 1-3 seconds before gsutil deletes\n",
            "     it.\n",
            "\n",
            "  2. If an object already exists with the given name, specifying the\n",
            "     Content-MD5 header prevents the existing object from being replaced.\n",
            "     Otherwise, the existing object is replaced by the corrupted object and\n",
            "     deleted a few seconds later.\n",
            "\n",
            "  3. If you don't specify the Content-MD5 header, it's possible for the gsutil\n",
            "     process to complete the upload but then be interrupted or fail before it can\n",
            "     delete the corrupted object, leaving the corrupted object in the cloud.\n",
            "\n",
            "  4. It supports a customer-to-service integrity check handoff. For example,\n",
            "     if you have a content production pipeline that generates data to be\n",
            "     uploaded to the cloud along with checksums of that data, specifying the\n",
            "     MD5 computed by your content pipeline when you run ``gsutil cp`` ensures\n",
            "     that the checksums match all the way through the process. This way, you can\n",
            "     detect if data gets corrupted on your local disk between the time it was written\n",
            "     by your content pipeline and the time it was uploaded to Google Cloud\n",
            "     Storage.\n",
            "\n",
            "  NOTE: The Content-MD5 header is ignored for composite objects, which only have\n",
            "  a CRC32C checksum.\n",
            "\n",
            "\n",
            "\n",
            "\u001b[1mRETRY HANDLING\u001b[0;0m\n",
            "  The ``cp`` command retries when failures occur, but if enough failures happen\n",
            "  during a particular copy or delete operation, the ``cp`` command skips that\n",
            "  object and moves on. If any failures were not successfully retried by the end\n",
            "  of the copy run, the ``cp`` command reports the number of failures, and\n",
            "  exits with a non-zero status.\n",
            "\n",
            "  Note that there are cases where retrying never succeeds, such as if you have\n",
            "  insufficient write permissions to the destination bucket, or if the destination\n",
            "  path for an object is longer than the maximum allowed length.\n",
            "\n",
            "  For more details about gsutil's retry handling, see\n",
            "  \"gsutil help retries\".\n",
            "\n",
            "\n",
            "\n",
            "\u001b[1mRESUMABLE TRANSFERS\u001b[0;0m\n",
            "  gsutil automatically performs a resumable upload whenever you use the ``cp``\n",
            "  command to upload an object that is larger than 8 MiB. If your upload is\n",
            "  interrupted, you can restart the upload by running the same ``cp`` command that\n",
            "  you used to start the upload. If your upload includes multiple files, you should\n",
            "  use the ``-n`` flag when restarting the upload in order to prevent re-uploading\n",
            "  files that have already completed successfully. You can adjust the minimum size\n",
            "  for performing resumable uploads by changing the ``resumable_threshold``\n",
            "  parameter in the boto configuration file.\n",
            "\n",
            "  Until the upload has completed successfully, it is not visible at the destination\n",
            "  object and does not supersede any existing object the upload is intended to\n",
            "  replace. However, `parallel composite uploads\n",
            "  <https://cloud.google.com/storage/docs/uploads-downloads#parallel-composite-uploads>`_\n",
            "  may leave temporary component objects in place during the upload process.\n",
            "\n",
            "  Similarly, gsutil automatically performs resumable downloads using standard\n",
            "  HTTP Range GET operations whenever you use the ``cp`` command, unless the\n",
            "  destination is a stream. In this case, a partially downloaded temporary file\n",
            "  is visible in the destination directory. Upon completion, the original\n",
            "  file is deleted and replaced with the downloaded contents.\n",
            "\n",
            "  Resumable uploads and downloads store state information in files under\n",
            "  ~/.gsutil, named by the destination object or file. If you attempt to resume a\n",
            "  transfer from a machine with a different directory, the transfer starts\n",
            "  over from scratch.\n",
            "\n",
            "  See \"gsutil help prod\" for details on using resumable transfers\n",
            "  in production.\n",
            "\n",
            "\n",
            "\n",
            "\u001b[1mSTREAMING TRANSFERS\u001b[0;0m\n",
            "  Use '-' in place of src_url or dst_url to perform a streaming\n",
            "  transfer. For example:\n",
            "\n",
            "    long_running_computation | gsutil cp - gs://my-bucket/obj\n",
            "\n",
            "  Streaming uploads using the JSON API (see \"gsutil help apis\") are buffered in\n",
            "  memory part-way back into the file and can thus retry in the event of network\n",
            "  or service problems.\n",
            "\n",
            "  Streaming transfers using the XML API do not support resumable\n",
            "  uploads or downloads. If you have a large amount of data to upload or download,\n",
            "  over 100 MiB for example, we recommend that you write the data to a local file and\n",
            "  copy that file rather than streaming it.\n",
            "\n",
            "  CAUTION: When performing a streaming transfer to or from Cloud Storage,\n",
            "  neither Cloud Storage nor gsutil compute a checksum. If you require data\n",
            "  validation, use a non-streaming transfer, which performs integrity checking\n",
            "  automatically.\n",
            "\n",
            "  NOTE: Streaming transfers are not allowed when the top-level gsutil ``-m`` flag\n",
            "  is used.\n",
            "\n",
            "\n",
            "\n",
            "\u001b[1mSLICED OBJECT DOWNLOADS\u001b[0;0m\n",
            "  gsutil uses HTTP Range GET requests to perform \"sliced\" downloads in parallel\n",
            "  when downloading large objects from Cloud Storage. This means that disk\n",
            "  space for the temporary download destination file is pre-allocated and\n",
            "  byte ranges (slices) within the file are downloaded in parallel. Once all\n",
            "  slices have completed downloading, the temporary file is renamed to the\n",
            "  destination file. No additional local disk space is required for this\n",
            "  operation.\n",
            "\n",
            "  This feature is only available for Cloud Storage objects because it\n",
            "  requires a fast composable checksum (CRC32C) to verify the\n",
            "  data integrity of the slices. Because sliced object downloads depend on CRC32C,\n",
            "  they require a compiled crcmod on the machine performing the download. If compiled\n",
            "  crcmod is not available, a non-sliced object download is performed instead.\n",
            "\n",
            "  NOTE: Since sliced object downloads cause multiple writes to occur at various\n",
            "  locations on disk, this mechanism can degrade performance for disks with slow\n",
            "  seek times, especially for large numbers of slices. While the default number\n",
            "  of slices is set small to avoid this problem, you can disable sliced object\n",
            "  download if necessary by setting the \"sliced_object_download_threshold\"\n",
            "  variable in the ``.boto`` config file to 0.\n",
            "\n",
            "\n",
            "\n",
            "\n",
            "\n",
            "\u001b[1mPARALLEL COMPOSITE UPLOADS\u001b[0;0m\n",
            "\n",
            "  gsutil can automatically use\n",
            "  `object composition <https://cloud.google.com/storage/docs/composite-objects>`_\n",
            "  to perform uploads in parallel for large, local files being uploaded to\n",
            "  Cloud Storage. See the `Uploads and downloads documentation\n",
            "  <https://cloud.google.com/storage/docs/uploads-downloads#parallel-composite-uploads>`_\n",
            "  for a complete discussion.\n",
            "\n",
            "\n",
            "\n",
            "\u001b[1mCHANGING TEMP DIRECTORIES\u001b[0;0m\n",
            "  gsutil writes data to a temporary directory in several cases:\n",
            "\n",
            "  - when compressing data to be uploaded (see the ``-z`` and ``-Z`` options)\n",
            "  - when decompressing data being downloaded (for example, when the data has\n",
            "    ``Content-Encoding:gzip`` as a result of being uploaded\n",
            "    using gsutil cp -z or gsutil cp -Z)\n",
            "  - when running integration tests using the gsutil test command\n",
            "\n",
            "  In these cases, it's possible the temporary file location on your system that\n",
            "  gsutil selects by default may not have enough space. If gsutil runs out of\n",
            "  space during one of these operations (for example, raising\n",
            "  \"CommandException: Inadequate temp space available to compress <your file>\"\n",
            "  during a ``gsutil cp -z`` operation), you can change where it writes these\n",
            "  temp files by setting the TMPDIR environment variable. On Linux and macOS,\n",
            "  you can set the variable as follows:\n",
            "\n",
            "    TMPDIR=/some/directory gsutil cp ...\n",
            "\n",
            "  You can also add this line to your ~/.bashrc file and restart the shell\n",
            "  before running gsutil:\n",
            "\n",
            "    export TMPDIR=/some/directory\n",
            "\n",
            "  On Windows 7, you can change the TMPDIR environment variable from Start ->\n",
            "  Computer -> System -> Advanced System Settings -> Environment Variables.\n",
            "  You need to reboot after making this change for it to take effect. Rebooting\n",
            "  is not necessary after running the export command on Linux and macOS.\n",
            "\n",
            "\n",
            "\n",
            "\u001b[1mSYNCHRONIZING OVER OS-SPECIFIC FILE TYPES (SUCH AS SYMLINKS AND DEVICES)\u001b[0;0m\n",
            "\n",
            "  Please see the section about OS-specific file types in \"gsutil help rsync\".\n",
            "  While that section refers to the ``rsync`` command, analogous\n",
            "  points apply to the ``cp`` command.\n",
            "\n",
            "\n",
            "\n",
            "\u001b[1mOPTIONS\u001b[0;0m\n",
            "  -a canned_acl  Applies the specific ``canned_acl`` to uploaded objects. See\n",
            "                 \"gsutil help acls\" for further details.\n",
            "\n",
            "  -A             Copy all source versions from a source bucket or folder.\n",
            "                 If not set, only the live version of each source object is\n",
            "                 copied.\n",
            "\n",
            "                 NOTE: This option is only useful when the destination\n",
            "                 bucket has Object Versioning enabled. Additionally, the generation\n",
            "                 numbers of copied versions do not necessarily match the order of the\n",
            "                 original generation numbers.\n",
            "\n",
            "  -c             If an error occurs, continue attempting to copy the remaining\n",
            "                 files. If any copies are unsuccessful, gsutil's exit status\n",
            "                 is non-zero, even if this flag is set. This option is\n",
            "                 implicitly set when running ``gsutil -m cp...``.\n",
            "\n",
            "                 NOTE: ``-c`` only applies to the actual copying operation. If an\n",
            "                 error, such as ``invalid Unicode file name``, occurs while iterating\n",
            "                 over the files in the local directory, gsutil prints an error\n",
            "                 message and aborts.\n",
            "\n",
            "  -D             Copy in \"daisy chain\" mode, which means copying between two buckets\n",
            "                 by first downloading to the machine where gsutil is run, then\n",
            "                 uploading to the destination bucket. The default mode is a\n",
            "                 \"copy in the cloud,\" where data is copied between two buckets without\n",
            "                 uploading or downloading.\n",
            "\n",
            "                 During a \"copy in the cloud,\" a source composite object remains composite\n",
            "                 at its destination. However, you can use \"daisy chain\" mode to change a\n",
            "                 composite object into a non-composite object. For example:\n",
            "\n",
            "                     gsutil cp -D -p gs://bucket/obj gs://bucket/obj_tmp\n",
            "                     gsutil mv -p gs://bucket/obj_tmp gs://bucket/obj\n",
            "\n",
            "                 NOTE: \"Daisy chain\" mode is automatically used when copying\n",
            "                 between providers: for example, when copying data from Cloud Storage\n",
            "                 to another provider.\n",
            "\n",
            "  -e             Exclude symlinks. When specified, symbolic links are not copied.\n",
            "\n",
            "  -I             Use ``stdin`` to specify a list of files or objects to copy. You can use\n",
            "                 gsutil in a pipeline to upload or download objects as generated by a program.\n",
            "                 For example:\n",
            "\n",
            "                   cat filelist | gsutil -m cp -I gs://my-bucket\n",
            "\n",
            "                 where the output of ``cat filelist`` is a one-per-line list of\n",
            "                 files, cloud URLs, and wildcards of files and cloud URLs.\n",
            "\n",
            "  -j <ext,...>   Applies gzip transport encoding to any file upload whose\n",
            "                 extension matches the ``-j`` extension list. This is useful when\n",
            "                 uploading files with compressible content such as .js, .css,\n",
            "                 or .html files. This also saves network bandwidth while\n",
            "                 leaving the data uncompressed in Cloud Storage.\n",
            "\n",
            "                 When you specify the ``-j`` option, files being uploaded are\n",
            "                 compressed in-memory and on-the-wire only. Both the local\n",
            "                 files and Cloud Storage objects remain uncompressed. The\n",
            "                 uploaded objects retain the ``Content-Type`` and name of the\n",
            "                 original files.\n",
            "\n",
            "                 Note that if you want to use the top-level ``-m`` option to\n",
            "                 parallelize copies along with the ``-j/-J`` options, your\n",
            "                 performance may be bottlenecked by the\n",
            "                 \"max_upload_compression_buffer_size\" boto config option,\n",
            "                 which is set to 2 GiB by default. You can change this\n",
            "                 compression buffer size to a higher limit. For example:\n",
            "\n",
            "                   gsutil -o \"GSUtil:max_upload_compression_buffer_size=8G\" \\\n",
            "                     -m cp -j html,txt -r /local/source/dir gs://bucket/path\n",
            "\n",
            "  -J             Applies gzip transport encoding to file uploads. This option\n",
            "                 works like the ``-j`` option described above, but it applies to\n",
            "                 all uploaded files, regardless of extension.\n",
            "\n",
            "                 CAUTION: If some of the source files don't compress well, such\n",
            "                 as binary data, using this option may result in longer uploads.\n",
            "\n",
            "  -L <file>      Outputs a manifest log file with detailed information about\n",
            "                 each item that was copied. This manifest contains the following\n",
            "                 information for each item:\n",
            "\n",
            "                 - Source path.\n",
            "                 - Destination path.\n",
            "                 - Source size.\n",
            "                 - Bytes transferred.\n",
            "                 - MD5 hash.\n",
            "                 - Transfer start time and date in UTC and ISO 8601 format.\n",
            "                 - Transfer completion time and date in UTC and ISO 8601 format.\n",
            "                 - Upload id, if a resumable upload was performed.\n",
            "                 - Final result of the attempted transfer, either success or failure.\n",
            "                 - Failure details, if any.\n",
            "\n",
            "                 If the log file already exists, gsutil uses the file as an\n",
            "                 input to the copy process, and appends log items to\n",
            "                 the existing file. Objects that are marked in the\n",
            "                 existing log file as having been successfully copied or\n",
            "                 skipped are ignored. Objects without entries are\n",
            "                 copied and ones previously marked as unsuccessful are\n",
            "                 retried. This option can be used in conjunction with the ``-c`` option to\n",
            "                 build a script that copies a large number of objects reliably,\n",
            "                 using a bash script like the following:\n",
            "\n",
            "                   until gsutil cp -c -L cp.log -r ./dir gs://bucket; do\n",
            "                     sleep 1\n",
            "                   done\n",
            "\n",
            "                 The -c option enables copying to continue after failures\n",
            "                 occur, and the -L option allows gsutil to pick up where it\n",
            "                 left off without duplicating work. The loop continues\n",
            "                 running as long as gsutil exits with a non-zero status. A non-zero\n",
            "                 status indicates there was at least one failure during the copy\n",
            "                 operation.\n",
            "\n",
            "                 NOTE: If you are synchronizing the contents of a\n",
            "                 directory and a bucket, or the contents of two buckets, see\n",
            "                 \"gsutil help rsync\".\n",
            "\n",
            "  -n             No-clobber. When specified, existing files or objects at the\n",
            "                 destination are not replaced. Any items that are skipped\n",
            "                 by this option are reported as skipped. gsutil\n",
            "                 performs an additional GET request to check if an item\n",
            "                 exists before attempting to upload the data. This saves gsutil\n",
            "                 from retransmitting data, but the additional HTTP requests may make\n",
            "                 small object transfers slower and more expensive.\n",
            "\n",
            "  -p             Preserves ACLs when copying in the cloud. Note\n",
            "                 that this option has performance and cost implications only when\n",
            "                 using the XML API, as the XML API requires separate HTTP calls for\n",
            "                 interacting with ACLs. You can mitigate this\n",
            "                 performance issue using ``gsutil -m cp`` to perform parallel\n",
            "                 copying. Note that this option only works if you have OWNER access\n",
            "                 to all objects that are copied. If you want all objects in the\n",
            "                 destination bucket to end up with the same ACL, you can avoid these\n",
            "                 performance issues by setting a default object ACL on that bucket\n",
            "                 instead of using ``cp -p``. See \"gsutil help defacl\".\n",
            "\n",
            "                 Note that it's not valid to specify both the ``-a`` and ``-p`` options\n",
            "                 together.\n",
            "\n",
            "  -P             Enables POSIX attributes to be preserved when objects are\n",
            "                 copied. ``gsutil cp`` copies fields provided by ``stat``. These fields\n",
            "                 are the user ID of the owner, the group\n",
            "                 ID of the owning group, the mode or permissions of the file, and\n",
            "                 the access and modification time of the file. For downloads, these\n",
            "                 attributes are only set if the source objects were uploaded\n",
            "                 with this flag enabled.\n",
            "\n",
            "                 On Windows, this flag only sets and restores access time and\n",
            "                 modification time. This is because Windows doesn't support\n",
            "                 POSIX uid/gid/mode.\n",
            "\n",
            "  -R, -r         The ``-R`` and ``-r`` options are synonymous. They enable directories,\n",
            "                 buckets, and bucket subdirectories to be copied recursively.\n",
            "                 If you don't use this option for an upload, gsutil copies objects\n",
            "                 it finds and skips directories. Similarly, if you don't\n",
            "                 specify this option for a download, gsutil copies\n",
            "                 objects at the current bucket directory level and skips subdirectories.\n",
            "\n",
            "  -s <class>     Specifies the storage class of the destination object. If not\n",
            "                 specified, the default storage class of the destination bucket\n",
            "                 is used. This option is not valid for copying to non-cloud destinations.\n",
            "\n",
            "  -U             Skips objects with unsupported object types instead of failing.\n",
            "                 Unsupported object types include Amazon S3 objects in the GLACIER\n",
            "                 storage class.\n",
            "\n",
            "  -v             Prints the version-specific URL for each uploaded object. You can\n",
            "                 use these URLs to safely make concurrent upload requests, because\n",
            "                 Cloud Storage refuses to perform an update if the current\n",
            "                 object version doesn't match the version-specific URL. See\n",
            "                 `Generation numbers and preconditions\n",
            "                 <https://cloud.google.com/storage/docs/generations-preconditions>`_\n",
            "                 for more details.\n",
            "\n",
            "  -z <ext,...>   Applies gzip content-encoding to any file upload whose\n",
            "                 extension matches the ``-z`` extension list. This is useful when\n",
            "                 uploading files with compressible content such as .js, .css,\n",
            "                 or .html files, because it reduces network bandwidth and storage\n",
            "                 sizes. This can both improve performance and reduce costs.\n",
            "\n",
            "                 When you specify the ``-z`` option, the data from your files is\n",
            "                 compressed before it is uploaded, but your actual files are\n",
            "                 left uncompressed on the local disk. The uploaded objects\n",
            "                 retain the ``Content-Type`` and name of the original files, but\n",
            "                 have their ``Content-Encoding`` metadata set to ``gzip`` to\n",
            "                 indicate that the object data stored are compressed on the\n",
            "                 Cloud Storage servers and have their ``Cache-Control`` metadata\n",
            "                 set to ``no-transform``.\n",
            "\n",
            "                 For example, the following command:\n",
            "\n",
            "                   gsutil cp -z html \\\n",
            "                     cattypes.html tabby.jpeg gs://mycats\n",
            "\n",
            "                 does the following:\n",
            "\n",
            "                 - The ``cp`` command uploads the files ``cattypes.html`` and\n",
            "                   ``tabby.jpeg`` to the bucket ``gs://mycats``.\n",
            "                 - Based on the file extensions, gsutil sets the ``Content-Type``\n",
            "                   of ``cattypes.html`` to ``text/html`` and ``tabby.jpeg`` to\n",
            "                   ``image/jpeg``.\n",
            "                 - The ``-z`` option compresses the data in the file ``cattypes.html``.\n",
            "                 - The ``-z`` option also sets the ``Content-Encoding`` for\n",
            "                   ``cattypes.html`` to ``gzip`` and the ``Cache-Control`` for\n",
            "                   ``cattypes.html`` to ``no-transform``.\n",
            "\n",
            "                 Because the ``-z/-Z`` options compress data prior to upload, they\n",
            "                 are not subject to the same compression buffer bottleneck that\n",
            "                 can affect the ``-j/-J`` options.\n",
            "\n",
            "                 Note that if you download an object with ``Content-Encoding:gzip``,\n",
            "                 gsutil decompresses the content before writing the local file.\n",
            "\n",
            "  -Z             Applies gzip content-encoding to file uploads. This option\n",
            "                 works like the ``-z`` option described above, but it applies to\n",
            "                 all uploaded files, regardless of extension.\n",
            "\n",
            "                 CAUTION: If some of the source files don't compress well, such\n",
            "                 as binary data, using this option may result in files taking up\n",
            "                 more space in the cloud than they would if left uncompressed.\n"
          ],
          "name": "stdout"
        }
      ]
    },
    {
      "cell_type": "markdown",
      "metadata": {
        "id": "zgjYFVY7Sh9W"
      },
      "source": [
        "Download a single file"
      ]
    },
    {
      "cell_type": "code",
      "metadata": {
        "colab": {
          "base_uri": "https://localhost:8080/"
        },
        "id": "6wez3NlaP0bg",
        "outputId": "636f1161-d4b1-4821-938e-445758302120"
      },
      "source": [
        "run(f'gsutil cp gs://ardent-cycling-243415_ztf_alert_avros/ZTF17aaackje.1563161493315010012.ztf_20210413_programid1.avro {colabpath}/.')"
      ],
      "execution_count": 58,
      "outputs": [
        {
          "output_type": "stream",
          "text": [
            ">> gsutil cp gs://ardent-cycling-243415_ztf_alert_avros/ZTF17aaackje.1563161493315010012.ztf_20210413_programid1.avro /content/drive/MyDrive/Colab\\ Notebooks/PGB_tutorial/.\n",
            "Copying gs://ardent-cycling-243415_ztf_alert_avros/ZTF17aaackje.1563161493315010012.ztf_20210413_programid1.avro...\n",
            "/ [1 files][ 69.6 KiB/ 69.6 KiB]                                                \n",
            "Operation completed over 1 objects/69.6 KiB.                                     \n",
            "\n"
          ],
          "name": "stdout"
        }
      ]
    },
    {
      "cell_type": "markdown",
      "metadata": {
        "id": "Vj3IHjtuXGCa"
      },
      "source": [
        "---"
      ]
    },
    {
      "cell_type": "markdown",
      "metadata": {
        "id": "VbkGy7YPV8IH"
      },
      "source": [
        "# 5) Apache Beam data pipelines"
      ]
    },
    {
      "cell_type": "markdown",
      "metadata": {
        "id": "TEMBJBYKsiVW"
      },
      "source": [
        "[Apache Beam](https://beam.apache.org/) is an SDK that facilitates writing and executing data pipelines. The [Apache Beam Programming Guide](https://beam.apache.org/documentation/programming-guide/) is very useful! \n",
        "\n",
        "- In this section of the tutorial, we will demonstrate and describe batch-mode Beam pipelines, and provide working examples that read from our BigQuery database, and execute user-defined functions (with template functions that you can play with), and write results to a text file.\n",
        "- We will develop and test them within Colab. To run large jobs, the pipelines can be executed in Dataflow (Google Cloud), on AWS, etc. See \"Note on environments\" below.\n",
        "- You can plug these same pipelines into the live alert streams to process data in real-time. See the \"Note on streaming\" below.\n",
        "\n",
        "_Note on environments_: We will execute pipelines directly in Colab, but the same pipelines can be executed on a local machine or various distributed systems using different \"runners\". \n",
        "For example, see \n",
        "[Apache Flink](https://beam.apache.org/documentation/runners/flink/), \n",
        "[Apache Spark](https://beam.apache.org/documentation/runners/spark/), \n",
        "[Google Dataflow](https://beam.apache.org/documentation/runners/dataflow/), and\n",
        "[DirectRunner](https://beam.apache.org/documentation/runners/direct/) (the last being the default, which we use below).\n",
        "The user sets a few configurations and the runner does the work of executing the pipeline, managing the required environments and resources (e.g., VM's) and distributing the work.\n",
        "\n",
        "_Note on streaming_: The cores of these pipelines (the pipeline minus the input and output functions) can also be plugged directly into an input function that reads data from our Pub/Sub streams and then executes in streaming mode, writing to a sink that accepts streaming data, like Pub/Sub or BigQuery. In this tutorial we will make some comments regarding streaming pipelines where applicable, but the details are left for a future tutorial. In the meantime, please contact us with questions."
      ]
    },
    {
      "cell_type": "markdown",
      "metadata": {
        "id": "uji-PPVDugcY"
      },
      "source": [
        "---"
      ]
    },
    {
      "cell_type": "markdown",
      "metadata": {
        "id": "0lM2UnLgY5bn"
      },
      "source": [
        "## 5a) A demo example"
      ]
    },
    {
      "cell_type": "markdown",
      "metadata": {
        "id": "tBZ623M1alsy"
      },
      "source": [
        "To demonstrate the basic steps of an Apache Beam pipeline, we'll create one that counts the words in Shakespeare's King Lear and then filters for low-frequency words.\n",
        "Adapted from [this notebook](https://colab.research.google.com/github/apache/beam/blob/master/examples/notebooks/get-started/try-apache-beam-py.ipynb).\n",
        "\n",
        "Streaming note: [here is an example](https://beam.apache.org/documentation/sdks/python-streaming/) that modifies a similar word-counting pipeline for streaming input via Pub/Sub. Note that \"windowing\" is only required because this example aggregates elements in the pipeline (by counting the frequency of each word). This is not necessary in order to, for example, process each lightcurve."
      ]
    },
    {
      "cell_type": "code",
      "metadata": {
        "id": "ybDIwJNlecm5"
      },
      "source": [
        "import re"
      ],
      "execution_count": 59,
      "outputs": []
    },
    {
      "cell_type": "markdown",
      "metadata": {
        "id": "2F3T60obsnxH"
      },
      "source": [
        "Setup: create some paths and download a copy of King Lear"
      ]
    },
    {
      "cell_type": "code",
      "metadata": {
        "colab": {
          "base_uri": "https://localhost:8080/"
        },
        "id": "1tko8YgmY3sz",
        "outputId": "84220ecf-6812-4911-96e0-717052c62cd5"
      },
      "source": [
        "kinglearpath = f'{colabpath}/kinglear'\n",
        "kinglearpath_noesc = f'{colabpath_noesc}/kinglear'\n",
        "run(f'mkdir -p {kinglearpath}')\n",
        "run(f'mkdir -p {kinglearpath}/outputs')\n",
        "\n",
        "# download the text file\n",
        "run(f'gsutil cp gs://dataflow-samples/shakespeare/kinglear.txt {kinglearpath}/')\n",
        "\n",
        "# Colab Hint: Click the \"Files\" icon on the left to view a file browser."
      ],
      "execution_count": 60,
      "outputs": [
        {
          "output_type": "stream",
          "text": [
            ">> mkdir -p /content/drive/MyDrive/Colab\\ Notebooks/PGB_tutorial/kinglear\n",
            "\n",
            ">> mkdir -p /content/drive/MyDrive/Colab\\ Notebooks/PGB_tutorial/kinglear/outputs\n",
            "\n",
            ">> gsutil cp gs://dataflow-samples/shakespeare/kinglear.txt /content/drive/MyDrive/Colab\\ Notebooks/PGB_tutorial/kinglear/\n",
            "Copying gs://dataflow-samples/shakespeare/kinglear.txt...\n",
            "/ [1 files][153.6 KiB/153.6 KiB]                                                \n",
            "Operation completed over 1 objects/153.6 KiB.                                    \n",
            "\n"
          ],
          "name": "stdout"
        }
      ]
    },
    {
      "cell_type": "markdown",
      "metadata": {
        "id": "9zG1HEC5gfF-"
      },
      "source": [
        "Define and run the pipeline.\n",
        "\n",
        "This example will give you an idea about what it possible by demonstrating the use of several different Apache Beam functions that operate on the data in various ways.\n",
        "However, don't worry about the details here.\n",
        "Steps labeled 1, 2, and 3 in the code are described further in the following subsection. Working examples that connect to our data sources will follow.\n",
        "\n",
        "Note that some [operators are overloaded](https://stackoverflow.com/questions/43796046/explain-apache-beam-python-syntax):\n",
        "- `|` means `apply`\n",
        "- `>>` allows you to name the step with the preceeding string. It is optional. We use it here to improve readability. Various UIs like Dataflow use it in their displays."
      ]
    },
    {
      "cell_type": "code",
      "metadata": {
        "colab": {
          "base_uri": "https://localhost:8080/",
          "height": 55
        },
        "id": "Qe9FYDkjbMEX",
        "outputId": "8a126950-e303-4349-c710-4052cd97cefb"
      },
      "source": [
        "input_pattern = f'{kinglearpath_noesc}/*'\n",
        "outputs_prefix = f'{kinglearpath_noesc}/outputs/part'\n",
        "\n",
        "# 0. Instantiate a pipeline object\n",
        "with beam.Pipeline() as pipeline:\n",
        "  (\n",
        "    # 1. Start the pipeline by piping it to a \"read\" function\n",
        "      pipeline\n",
        "      | 'Read lines' >> beam.io.ReadFromText(input_pattern)\n",
        "\n",
        "    # 2. PROCESS THE DATA.\n",
        "    #    These `lambda` functions are simple examples of user-defined functions \n",
        "    #    applied to the output of the previous transformation in various ways.\n",
        "      | 'Find words' >> beam.FlatMap(lambda line: re.findall(r\"[a-zA-Z']+\", line))\n",
        "      | 'Pair words with 1' >> beam.Map(lambda word: (word, 1))\n",
        "      | 'Group and sum' >> beam.CombinePerKey(sum)\n",
        "      | 'Filter for counts < 10' >> beam.Filter(lambda x: x[1]<10)\n",
        "\n",
        "    # 3. Format and output the results\n",
        "      | 'Format results' >> beam.Map(lambda word_count: str(word_count))\n",
        "      | 'Write results' >> beam.io.WriteToText(outputs_prefix)\n",
        "  )"
      ],
      "execution_count": 61,
      "outputs": [
        {
          "output_type": "stream",
          "text": [
            "WARNING:apache_beam.runners.interactive.interactive_environment:Dependencies required for Interactive Beam PCollection visualization are not available, please use: `pip install apache-beam[interactive]` to install necessary dependencies to enable all data visualization features.\n"
          ],
          "name": "stderr"
        },
        {
          "output_type": "display_data",
          "data": {
            "application/javascript": [
              "\n",
              "        if (typeof window.interactive_beam_jquery == 'undefined') {\n",
              "          var jqueryScript = document.createElement('script');\n",
              "          jqueryScript.src = 'https://code.jquery.com/jquery-3.4.1.slim.min.js';\n",
              "          jqueryScript.type = 'text/javascript';\n",
              "          jqueryScript.onload = function() {\n",
              "            var datatableScript = document.createElement('script');\n",
              "            datatableScript.src = 'https://cdn.datatables.net/1.10.20/js/jquery.dataTables.min.js';\n",
              "            datatableScript.type = 'text/javascript';\n",
              "            datatableScript.onload = function() {\n",
              "              window.interactive_beam_jquery = jQuery.noConflict(true);\n",
              "              window.interactive_beam_jquery(document).ready(function($){\n",
              "                \n",
              "              });\n",
              "            }\n",
              "            document.head.appendChild(datatableScript);\n",
              "          };\n",
              "          document.head.appendChild(jqueryScript);\n",
              "        } else {\n",
              "          window.interactive_beam_jquery(document).ready(function($){\n",
              "            \n",
              "          });\n",
              "        }"
            ]
          },
          "metadata": {
            "tags": []
          }
        }
      ]
    },
    {
      "cell_type": "markdown",
      "metadata": {
        "id": "WPxTK0lziZCU"
      },
      "source": [
        "You have just run an Apache Beam data pipeline! Let's look at the first 20 results. Beware, there are no ordering guarantees."
      ]
    },
    {
      "cell_type": "code",
      "metadata": {
        "colab": {
          "base_uri": "https://localhost:8080/"
        },
        "id": "VfgwkuFSiM5i",
        "outputId": "d3f55c20-9168-4cd7-c6d1-c55969b62c1c"
      },
      "source": [
        "outputs_prefix_esc = f'{kinglearpath}/outputs/part'\n",
        "run('head -n 20 {}-00000-of-*'.format(outputs_prefix_esc))"
      ],
      "execution_count": 62,
      "outputs": [
        {
          "output_type": "stream",
          "text": [
            ">> head -n 20 /content/drive/MyDrive/Colab\\ Notebooks/PGB_tutorial/kinglear/outputs/part-00000-of-*\n",
            "('DRAMATIS', 1)\n",
            "('PERSONAE', 1)\n",
            "('Britain', 2)\n",
            "('DUKE', 3)\n",
            "('BURGUNDY', 8)\n",
            "('EARL', 2)\n",
            "('bastard', 7)\n",
            "('CURAN', 6)\n",
            "('courtier', 1)\n",
            "('tenant', 3)\n",
            "('steward', 2)\n",
            "('employed', 1)\n",
            "('attendant', 1)\n",
            "('Herald', 6)\n",
            "('Servants', 9)\n",
            "('First', 7)\n",
            "('Second', 4)\n",
            "('Third', 4)\n",
            "('Knights', 2)\n",
            "(\"Lear's\", 4)\n",
            "\n"
          ],
          "name": "stdout"
        }
      ]
    },
    {
      "cell_type": "markdown",
      "metadata": {
        "id": "1eQh7wbUjCdP"
      },
      "source": [
        "Final note: Here we have simply chained the pipeline steps together, but the output of each transformation is an immutable collection that we can assign to a variable and pipe in to multiple transforms, as in this code fragment:\n",
        "\n",
        "```python\n",
        "      king_lear = (\n",
        "          pipeline | 'Read lines' >> \n",
        "          beam.io.ReadFromText(input_pattern)\n",
        "      )\n",
        "      word_counts = (\n",
        "          king_lear | 'Count words' >>\n",
        "          <... count words ...>\n",
        "      )\n",
        "      sentence_counts = (\n",
        "          king_lear | 'Count sentences' >>\n",
        "          <... count sentences ...>\n",
        "      )\n",
        "```"
      ]
    },
    {
      "cell_type": "markdown",
      "metadata": {
        "id": "DBRavSps54NY"
      },
      "source": [
        "---"
      ]
    },
    {
      "cell_type": "markdown",
      "metadata": {
        "id": "bXGtYU4aGg5h"
      },
      "source": [
        "## 5b) Descriptions"
      ]
    },
    {
      "cell_type": "markdown",
      "metadata": {
        "id": "StLxvVKpbVtM"
      },
      "source": [
        "Here we describe 3 basic steps of Beam pipelines, and their related functions, in a way that is specific to the \"Pitt-Google working examples\" that follow. These general steps are labeled in the code of the demo example above."
      ]
    },
    {
      "cell_type": "markdown",
      "metadata": {
        "id": "8PqEEzq43XGO"
      },
      "source": [
        "1. __Read data__\n",
        "\n",
        "Here is a table of Beam's [Built-in I/O Transforms](https://beam.apache.org/documentation/io/built-in/). We will use one to read data from BigQuery.\n",
        "\n",
        "`ReadFromBigQuery()` ([docs](https://beam.apache.org/releases/pydoc/2.25.0/apache_beam.io.gcp.bigquery.html#apache_beam.io.gcp.bigquery.ReadFromBigQuery)):\n",
        "\n",
        "Output: \n",
        "- Elements are `google.cloud.bigquery` query rows, which we discussed in the \"BigQuery Database\" section. \n",
        "    - In our example pipelines below, we will cast these to DataFrames using a class in `pgb_utils.beam`, which is a simple wrapper for the function in `pgb_utils.bigquery` that does the type casting.\n",
        "\n",
        "Parameter options (see docs for complete list):\n",
        "- `query`: to read in the results of a SQL query, pass in the query as a string. See the \"BigQuery Database\" section of this tutorial for some examples.\n",
        "- `table`: to read in an entire table, pass in the full table name as `'PROJECT:DATASET.TABLE'`. See the \"BigQuery Database\" section of this tutorial for options.\n",
        "- `gcs_location`: the table or query results will be extracted and written to temporary Avro files to be processed by the pipeline (this happens in the background). Colab does not allow users to write these (often large) files to its system, so we use this parameter to specify a Google Cloud Storage location instead. Pitt-Google Broker is providing a bucket for this purpose _for the duration of the workshop_. It is set in the examples' configs below.\n",
        "- `use_standard_sql`: `True` to use BigQuery's standard SQL dialect. (default `False`)\n",
        "- `validate`: `True` to perform some checks prior to pipeline execution. `False` (default) to skip them.\n",
        "\n",
        "Streaming note: use `ReadFromPubSub()` ([docs](https://beam.apache.org/releases/pydoc/2.25.0/apache_beam.io.gcp.pubsub.html#apache_beam.io.gcp.pubsub.ReadFromPubSub))"
      ]
    },
    {
      "cell_type": "markdown",
      "metadata": {
        "id": "PEN1BoCI6H-3"
      },
      "source": [
        "2. __Process the data__\n",
        "\n",
        "We will use of 2 of the available methods, which covers many use cases. Here, we describe them. In the next section, we will provide working examples that you can use as templates. See the demo example above and the [Beam programming guide](https://beam.apache.org/documentation/programming-guide/) for options beyond these two.\n",
        "\n",
        "- [`beam.Filter()` method](https://beam.apache.org/documentation/transforms/python/elementwise/filter/): \n",
        "    - A. Define your `my_filter()` function. It should:    \n",
        "        - accept a single object from the collection defined by the previous step in the pipeline (e.g., a lightcurve dataframe)\n",
        "        - return `True` or `False`, where `False` means the object will be dropped\n",
        "    - B. Apply it using `beam.Filter(my_filter)`\n",
        "\n",
        "- [`beam.ParDo()` method](https://beam.apache.org/documentation/transforms/python/elementwise/pardo/) for generic parallel processing:\n",
        "    - A. Define your processing function. You must call it `process()`. It should:\n",
        "        - accept a single object from the input collection\n",
        "        - return a list of one or more objects (all of the same type) that will become elements in the resulting output collection\n",
        "    - B. Wrap your function in a class, `my_processing()` (call it whatever you'd like). This should be a child class of `beam.DoFn`.\n",
        "    - C. Apply it to the input collection using `beam.ParDo(my_processing())`\n",
        "\n",
        "Some things to keep in mind:\n",
        "- The output from each step in the pipeline is an imutable _collection_ of objects.\n",
        "    - When we chain our pipeline steps, we are piping the output collection from a given function to the input of the function that follows it. Alternately, we could assign each output to a variable, and then explicitely pipe it in to one or more of any functions that follow it. See the final note in the demo example above.\n",
        "- User-defined functions should accept and operate on a _single_ object (for example, the lightcurve or history associated with a unique `objectId`). \n",
        "    - Note that whether the pipeline is operating in batch or streaming mode makes no difference to user-defined functions.\n",
        "\n"
      ]
    },
    {
      "cell_type": "markdown",
      "metadata": {
        "id": "1KTwtriR3AVw"
      },
      "source": [
        "3. __Write the results__\n",
        "\n",
        "Here is a table of Beam's [Built-in I/O Transforms](https://beam.apache.org/documentation/io/built-in/). There are many. Your favorite option is likely to be supported. We will use one to simply write results to a file.\n",
        "\n",
        "`beam.io.WriteToText()` ([docs](https://beam.apache.org/releases/pydoc/2.25.0/apache_beam.io.textio.html#apache_beam.io.textio.WriteToText)):\n",
        "\n",
        "Input:\n",
        "- we can pipe in inputs of many different types (though the elements in a single input collection must all be of the same type).\n",
        "\n",
        "Parameter options (see docs for complete list):\n",
        "- `file_path_prefix`: output files will be written to a path beginning with this prefix, followed by a shard identifier."
      ]
    },
    {
      "cell_type": "markdown",
      "metadata": {
        "id": "4s-Hol8TGvAx"
      },
      "source": [
        "---"
      ]
    },
    {
      "cell_type": "markdown",
      "metadata": {
        "id": "XaZ4wfvY55bm"
      },
      "source": [
        "## 5c) Pitt-Google working examples"
      ]
    },
    {
      "cell_type": "markdown",
      "metadata": {
        "id": "jRK4nQPbI4iO"
      },
      "source": [
        "In these examples, we will query the database for object histories and cast them to DataFrames, apply a filter and a processing function, and write the results to a text file.\n",
        "\n",
        "Here's a preview of the pipeline we will create and run."
      ]
    },
    {
      "cell_type": "markdown",
      "metadata": {
        "id": "FJZBmfgoCg2z"
      },
      "source": [
        "Pipeline:\n",
        "\n",
        "```python\n",
        "with beam.Pipeline() as pipeline:\n",
        "    (\n",
        "        pipeline\n",
        "        | 'Read from BigQuery' >> beam.io.ReadFromBigQuery(**read_args)\n",
        "        | 'Type cast to DataFrame' >> beam.ParDo(pgb.beam.ExtractHistoryDf())\n",
        "        | 'Is nearby known SS object' >> beam.Filter(nearby_ssobject)\n",
        "        | 'Calculate mean magnitudes' >> beam.ParDo(calc_mean_mags())\n",
        "        | 'Write results' >> beam.io.WriteToText(beam_outputs_prefix)\n",
        "    )\n",
        "```\n",
        "\n",
        "With comments:\n",
        "\n",
        "```python\n",
        "# 0. Instantiate a pipeline object\n",
        "with beam.Pipeline() as pipeline:\n",
        "    (\n",
        "\n",
        "# 1. Start the pipeline by piping it to a \"read\" function. Then format the incoming data as a DataFrame.\n",
        "        pipeline\n",
        "        | 'Read from BigQuery' >> beam.io.ReadFromBigQuery(**read_args)\n",
        "        | 'Type cast to DataFrame' >> beam.ParDo(pgb.beam.ExtractHistoryDf())\n",
        "        \n",
        "# 2. PROCESS the data with USER-DEFINED FUNCTIONS\n",
        "        # Apply a Filter\n",
        "        | 'Is nearby known SS object' >> beam.Filter(nearby_ssobject)\n",
        "        # Apply a processing function\n",
        "        | 'Calculate mean magnitudes' >> beam.ParDo(calc_mean_mags())\n",
        "        \n",
        "# 3. Output the results\n",
        "        | 'Write results' >> beam.io.WriteToText(beam_outputs_prefix)\n",
        "    )\n",
        "```"
      ]
    },
    {
      "cell_type": "markdown",
      "metadata": {
        "id": "14Sa3tN1FYqO"
      },
      "source": [
        "First, let's define our user-defined functions: a filter and a processing function.\n",
        "Both will take as input `lc_df`, a single object's lightcurve (or history) DataFrame.\n",
        "_The functions will work as-is, or you can use them as templates to create your own._\n",
        "\n",
        "_Colab Hint_: Right-click on one of the code cells with a function definition and select \"Copy to scratch cell\". Use the new scratch cell to change the function and experiment with the pipeline."
      ]
    },
    {
      "cell_type": "code",
      "metadata": {
        "id": "FNnbCyEVqiZq"
      },
      "source": [
        "# Filter for likely solar system objects\n",
        "\n",
        "def nearby_ssobject(lc_df):\n",
        "    \"\"\"Keep only objects that are within 5\" of a known solar system object.\n",
        "    To be called with `beam.Filter(nearby_ssobject)`.\n",
        "    \"\"\"\n",
        "\n",
        "    ssdistnr = lc_df['ssdistnr'].mean()\n",
        "    ssobject_is_near = (ssdistnr > 0) and (ssdistnr < 5)\n",
        "\n",
        "    return ssobject_is_near\n",
        "    # generally: return a bool where `True` means we keep this df, else drop it"
      ],
      "execution_count": 63,
      "outputs": []
    },
    {
      "cell_type": "code",
      "metadata": {
        "id": "98q5SjyKTiK9"
      },
      "source": [
        "# Processing: Calculate and return the mean magnitude per passband\n",
        "\n",
        "class calc_mean_mags(beam.DoFn):\n",
        "    \"\"\"Class that wraps our `process()` function to calculate mean magnitudes.\n",
        "    To be called with `beam.ParDo(calc_mean_mags())`.\n",
        "    \"\"\"\n",
        "\n",
        "    def process(self, lc_df):\n",
        "        \"\"\"Calculate mean magnitudes per passband.\"\"\"\n",
        "\n",
        "        meanmags = lc_df[['fid','magpsf']].groupby('fid').mean()\n",
        "\n",
        "        # we will write this to a file, so let's format it nicely\n",
        "        output = []\n",
        "        for fid, row in meanmags.iterrows():\n",
        "            output.append(f\"{lc_df.objectId},{fid},{row['magpsf']}\")\n",
        "\n",
        "        return output\n",
        "        # generally: return a list containing 0 or more elements (all of the same\n",
        "        # type), each of which becomes an element in the step's output collection."
      ],
      "execution_count": 64,
      "outputs": []
    },
    {
      "cell_type": "markdown",
      "metadata": {
        "id": "Fo5dFk2Nxvx-"
      },
      "source": [
        "Now let's configure and run specific pipelines."
      ]
    },
    {
      "cell_type": "markdown",
      "metadata": {
        "id": "O3yXrkBVlNKn"
      },
      "source": [
        "### Lightcurve pipeline"
      ]
    },
    {
      "cell_type": "markdown",
      "metadata": {
        "id": "-d2yNNkTPRzl"
      },
      "source": [
        "Set configs\n",
        "\n",
        "See the \"BigQuery Database\" section for options to generate the query statement, or write your own SQL.\n",
        "\n",
        "Use `pgb.bigquery.get_table_info('DIASource')` in a scratch cell to view options for column names.\n"
      ]
    },
    {
      "cell_type": "code",
      "metadata": {
        "id": "mYG-X2GUPrrR"
      },
      "source": [
        "# keyword args for `ReadFromBigQuery()`\n",
        "columns = ['jd', 'fid', 'magpsf', 'sigmapsf', 'ssdistnr']\n",
        "limit = 2000  # just to reduce runtime\n",
        "query = pgb.bigquery.object_history_sql_statement(columns, limit=limit)  # str\n",
        "read_args = {\n",
        "    'query': query, \n",
        "    'project': my_project_id,  \n",
        "    'use_standard_sql': True, \n",
        "    'gcs_location': f'gs://{pgb_project_id}-workshop_beam_test',\n",
        "    # courtesy location for temp files, available for the workshop duration\n",
        "}\n",
        "\n",
        "# path to write the results\n",
        "outputs_prefix = f'{colabpath}/outputs/meanmags'\n",
        "beam_outputs_prefix = f'{colabpath_noesc}/outputs/meanmags'"
      ],
      "execution_count": 65,
      "outputs": []
    },
    {
      "cell_type": "markdown",
      "metadata": {
        "id": "ExBgpQwD1a6Q"
      },
      "source": [
        "Define and run the pipeline"
      ]
    },
    {
      "cell_type": "code",
      "metadata": {
        "id": "fjV7ayLbH7fL",
        "colab": {
          "base_uri": "https://localhost:8080/"
        },
        "outputId": "0cec1004-0231-414a-b5ab-36408540edb1"
      },
      "source": [
        "with beam.Pipeline() as pipeline:\n",
        "    (\n",
        "        pipeline\n",
        "        | 'Read BigQuery' >> beam.io.ReadFromBigQuery(**read_args)\n",
        "        | 'Type cast to DataFrame' >> beam.ParDo(pgb.beam.ExtractHistoryDf())\n",
        "        | 'Is nearby known SS object' >> beam.Filter(nearby_ssobject)\n",
        "        | 'Calculate mean magnitudes' >> beam.ParDo(calc_mean_mags())\n",
        "        | 'Write results' >> beam.io.WriteToText(beam_outputs_prefix)\n",
        "    )"
      ],
      "execution_count": 66,
      "outputs": [
        {
          "output_type": "stream",
          "text": [
            "/usr/local/lib/python3.7/dist-packages/apache_beam/io/gcp/bigquery.py:1881: BeamDeprecationWarning: options is deprecated since First stable release. References to <pipeline>.options will not be supported\n",
            "  temp_location = pcoll.pipeline.options.view_as(\n",
            "WARNING:apache_beam.io.gcp.bigquery_tools:Dataset ardent-cycling-243415:temp_dataset_d9fec5acc54644e6b19f9d9cca7ae140 does not exist so we will create it as temporary with location=US\n",
            "WARNING:apache_beam.io.filebasedsink:Deleting 1 existing files in target path matching: -*-of-%(num_shards)05d\n"
          ],
          "name": "stderr"
        }
      ]
    },
    {
      "cell_type": "markdown",
      "metadata": {
        "id": "wV_kh2QZwdag"
      },
      "source": [
        "Congratulations! You just ran an Apache Beam pipeline that fetches ZTF data, filters and processes it, and writes out the results!\n",
        "\n",
        "Let's look at the first 10 results. Remember, there are no ordering guarantees."
      ]
    },
    {
      "cell_type": "code",
      "metadata": {
        "id": "wvqRrrFc1PXL",
        "colab": {
          "base_uri": "https://localhost:8080/"
        },
        "outputId": "efd17c0c-f400-4fb5-c344-a7b7ae4b0eb1"
      },
      "source": [
        "run('head -n 10 {}-00000-of-*'.format(outputs_prefix))"
      ],
      "execution_count": 67,
      "outputs": [
        {
          "output_type": "stream",
          "text": [
            ">> head -n 10 /content/drive/MyDrive/Colab\\ Notebooks/PGB_tutorial/outputs/meanmags-00000-of-*\n",
            "ZTF20acqutcd,1,19.93570327758789\n",
            "ZTF20acyzuld,1,19.557735443115234\n",
            "ZTF20acqmdab,1,20.059526443481445\n",
            "ZTF20acvzgxs,1,18.449440002441406\n",
            "ZTF20acvzwvf,1,17.4761905670166\n",
            "ZTF20acynsfk,1,19.433037757873535\n",
            "ZTF21aaoramd,2,19.061250686645508\n",
            "ZTF21aaocoik,2,20.095518112182617\n",
            "ZTF21aaoebaf,2,19.495492935180664\n",
            "ZTF20acyydxb,2,18.74314308166504\n",
            "\n"
          ],
          "name": "stdout"
        }
      ]
    },
    {
      "cell_type": "markdown",
      "metadata": {
        "id": "u7F6Pa7M2RDv"
      },
      "source": [
        "### Cone Search pipeline"
      ]
    },
    {
      "cell_type": "markdown",
      "metadata": {
        "id": "hSfqvQUq5Nfq"
      },
      "source": [
        "This pipeline for performing a cone search and processing the results is nearly identical to the lightcurve pipeline above. The differences are that here:\n",
        "- we need the additional columns `ra` and `dec`\n",
        "- we apply the convenience function `pgb.bigquery.object_is_in_cone()` as a filter on the results of `ReadFromBigQuery()`. We must pass a cone `center` and `radius` to the convenience function, so note the syntax below.\n",
        "\n",
        "You may wish to improve the efficency by limiting the input data via a more specific SQL query statement."
      ]
    },
    {
      "cell_type": "markdown",
      "metadata": {
        "id": "xBIOPtmf2RDz"
      },
      "source": [
        "Set configs"
      ]
    },
    {
      "cell_type": "code",
      "metadata": {
        "id": "At2e2rAS2RD0"
      },
      "source": [
        "# cone search params\n",
        "center = coord.SkyCoord(76.91, 6.02, frame='icrs', unit='deg')\n",
        "radius = coord.Angle(2, unit=u.deg)\n",
        "\n",
        "# some keyword args for `ReadFromBigQuery()`\n",
        "columns = ['jd', 'fid', 'ra', 'dec', 'magpsf', 'sigmapsf', 'ssdistnr']\n",
        "limit = 5000\n",
        "query = pgb.bigquery.object_history_sql_statement(columns, limit=limit)  # str\n",
        "read_args = {\n",
        "    'query': query, \n",
        "    'project': my_project_id,  \n",
        "    'use_standard_sql': True, \n",
        "    'gcs_location': f'gs://{pgb_project_id}-workshop_beam_test',\n",
        "    # courtesy location for temp files, available for the workshop duration\n",
        "}\n",
        "\n",
        "# path to write the results\n",
        "outputs_prefix = f'{colabpath}/outputs/conesearch'\n",
        "beam_outputs_prefix = f'{colabpath_noesc}/outputs/conesearch'"
      ],
      "execution_count": 71,
      "outputs": []
    },
    {
      "cell_type": "markdown",
      "metadata": {
        "id": "Cv73E5qb2RD0"
      },
      "source": [
        "Define and run the pipeline"
      ]
    },
    {
      "cell_type": "code",
      "metadata": {
        "colab": {
          "base_uri": "https://localhost:8080/"
        },
        "id": "hXohRptj2RD1",
        "outputId": "5f892009-d2c9-430d-8d42-99fb2f32c8c4"
      },
      "source": [
        "with beam.Pipeline() as pipeline:\n",
        "    (\n",
        "        pipeline\n",
        "        | 'Read BigQuery' >> beam.io.ReadFromBigQuery(**read_args)\n",
        "\n",
        "        # Extract the lightcurves into a DataFrame by applying a \n",
        "        # `ParDo` to a `pgb` helper function.\n",
        "        | 'Extract Lightcurve df' >> beam.ParDo(pgb.beam.ExtractHistoryDf())\n",
        "        \n",
        "        # Apply the Filter\n",
        "        | 'Cone search filter' >> beam.Filter(pgb.bigquery.object_is_in_cone, \n",
        "                                              center, \n",
        "                                              radius\n",
        "                                              )\n",
        "\n",
        "        # Apply the processing function\n",
        "        | 'Calc mean mags' >> beam.ParDo(calc_mean_mags())\n",
        "        \n",
        "        # Write the results to a text file\n",
        "        | 'Write results' >> beam.io.WriteToText(beam_outputs_prefix)\n",
        "    )"
      ],
      "execution_count": 72,
      "outputs": [
        {
          "output_type": "stream",
          "text": [
            "/usr/local/lib/python3.7/dist-packages/apache_beam/io/gcp/bigquery.py:1881: BeamDeprecationWarning: options is deprecated since First stable release. References to <pipeline>.options will not be supported\n",
            "  temp_location = pcoll.pipeline.options.view_as(\n",
            "WARNING:apache_beam.io.gcp.bigquery_tools:Dataset ardent-cycling-243415:temp_dataset_f5b5892deef54ca6a0d909bde9ee8313 does not exist so we will create it as temporary with location=US\n",
            "WARNING:apache_beam.io.filebasedsink:Deleting 1 existing files in target path matching: -*-of-%(num_shards)05d\n"
          ],
          "name": "stderr"
        }
      ]
    },
    {
      "cell_type": "code",
      "metadata": {
        "colab": {
          "base_uri": "https://localhost:8080/"
        },
        "id": "6eXZ_UZk2RD2",
        "outputId": "3dc2c8a9-fd2e-47bb-9172-5edec339524e"
      },
      "source": [
        "# Sample the first 10 results, remember there are no ordering guarantees.\n",
        "run('head -n 10 {}-00000-of-*'.format(outputs_prefix))"
      ],
      "execution_count": 73,
      "outputs": [
        {
          "output_type": "stream",
          "text": [
            ">> head -n 10 /content/drive/MyDrive/Colab\\ Notebooks/PGB_tutorial/outputs/conesearch-00000-of-*\n",
            "ZTF20acxpnkl,1,19.60205841064453\n",
            "ZTF18adfpejp,1,17.62468147277832\n",
            "ZTF18abxbdrb,1,18.931528091430664\n",
            "ZTF18abxbdrb,2,18.070329030354817\n",
            "ZTF19abpnrtn,1,18.018795437282986\n",
            "ZTF19abpnrtn,2,17.128609657287598\n",
            "\n"
          ],
          "name": "stdout"
        }
      ]
    },
    {
      "cell_type": "markdown",
      "metadata": {
        "id": "PeldH8V7Wua5"
      },
      "source": [
        "If you don't see any results, your query likely did not return any objects that fell within the cone. Try increasing the limit for `ReadFromBigQuery` or moving to a different position on the sky."
      ]
    }
  ]
}