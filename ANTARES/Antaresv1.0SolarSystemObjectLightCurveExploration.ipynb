{
 "cells": [
  {
   "cell_type": "code",
   "execution_count": 7,
   "metadata": {},
   "outputs": [],
   "source": [
    "#please uncomment and run the following command to install ANTARES client in co-lab
    "!pip install antares-client
   ]
  },
    {
   "cell_type": "code",
   "execution_count": 8,
   "metadata": {},
   "outputs": [],
   "source": [
    "__author__ = 'Chien-Hsiu Lee <lee@noao.edu> and Thomas Matheson <matheson@noao.edu>'\n",
    "__version__ = '20200806' # yyyymmdd\n",
    "__datasets__ = ['']\n",
    "__keywords__ = ['ANTARES', 'movingobject']"
   ]
  },
  {
   "cell_type": "markdown",
   "metadata": {},
   "source": [
    "# Exploring Elastic Search Database to Investigate Moving Object Lightcurves\n",
    "\n",
    "*Chien-Hsiu Lee, Thomas Matheson & ANTARES Team*"
   ]
  },
  {
   "cell_type": "markdown",
   "metadata": {},
   "source": [
    "### Table of contents\n",
    "* [Goals & notebook summary](#goals)\n",
    "* [Disclaimer & Attribution](#attribution)\n",
    "* [Imports & setup](#import)\n",
    "* [Authentication](#auth)\n",
    "* [First chapter](#chapter1)\n",
    "* [Resources and references](#resources)"
   ]
  },
  {
   "cell_type": "markdown",
   "metadata": {},
   "source": [
    "<a class=\"anchor\" id=\"goals\"></a>\n",
    "# Goals\n",
    "This notebook is an example of how to explore the ANTARES alert database for moving objects. ZTF searches moving object database (JPL/HORIZON) and associates alerts to known moving objects. This piece of information is stored in the ANTARES alert database, so we can conveniently use the moving object information in the alerts to extract light curves."
   ]
  },
  {
   "cell_type": "markdown",
   "metadata": {},
   "source": [
    "# Summary\n",
    "\n",
    "Moving objects may undergo abrupt brightnes change due to outgassing activities or disintegration, which can be identified in their light curves. There is also a group of binary asteroids that manifest periodic brightness change.\n",
    "\n",
    "As a showcase, we obtain the light curve of 809 Lundia, a known binary asteroids with prominent eclipses. We then remove the long-term trend in the light curve and fold with its period to reveal the binary eclipses."
   ]
  },
  {
   "cell_type": "markdown",
   "metadata": {},
   "source": [
    "# Disclaimer & attribution\n",
    "If you use this notebook for your published science, please acknowledge the following:\n",
    "\n",
    "* Data Lab concept paper: Fitzpatrick et al., \"The NOAO Data Laboratory: a conceptual overview\", SPIE, 9149, 2014, http://dx.doi.org/10.1117/12.2057445\n",
    "\n",
    "* Data Lab disclaimer: http://datalab.noao.edu/disclaimers.php"
   ]
  },
  {
   "cell_type": "markdown",
   "metadata": {},
   "source": [
    "<a class=\"anchor\" id=\"import\"></a>\n",
    "# Imports and setup"
   ]
  },
  {
   "cell_type": "code",
   "execution_count": 9,
   "metadata": {},
   "outputs": [],
   "source": [
    "from antares_client.search import search\n",
    "import matplotlib.pyplot as plt\n",
    "import pandas as pd"
   ]
  },
  {
   "cell_type": "markdown",
   "metadata": {},
   "source": [
    "<a class=\"anchor\" id=\"import\"></a>\n",
    "# Querying ANTARES alert database \n",
    "\n",
    "This cell shows how to call elastic search with ANTARES API. It can search on ZTF object id, RA, Dec, or other properties. For our purpose, we search for ZTF alerts associated with 809 Lundia using the keyword ztf_ssnamenr. "
   ]
  },
  {
   "cell_type": "code",
   "execution_count": 10,
   "metadata": {},
   "outputs": [],
   "source": [
    "query = {\n",
    "        \"query\": {\n",
    "            \"bool\": {\n",
    "                \"must\": [\n",
    "                    {\n",
    "                        \"match\": {\n",
    "                            \"properties.ztf_ssnamenr\": 809\n",
    "                        }\n",
    "                    },\n",
    "                    \n",
    "                 ]\n",
    "            }\n",
    "        }\n",
    "    }\n",
    "result_set = search(query)\n",
    "\n"
   ]
  },
  {
   "cell_type": "markdown",
   "metadata": {},
   "source": [
    "<a class=\"anchor\" id=\"import\"></a>\n",
    "# Extracting light curve related properties\n",
    "\n",
    "Now the query is finished, let's extract relevant properties (MJD, Mag, Mag_err) for this moving object."
   ]
  },
  {
   "cell_type": "code",
   "execution_count": 11,
   "metadata": {},
   "outputs": [],
   "source": [
    "gmjd = []\n",
    "gmag = []\n",
    "gerr = []\n",
    "rmjd = []\n",
    "rmag = []\n",
    "rerr = []\n",
    "for locus in search(query):\n",
    "    for alert in locus.alerts:\n",
    "        if 'ztf_ssnamenr' in alert.properties:\n",
    "            if alert.properties['ant_passband'] == 'R':                \n",
    "                rmjd.append(alert.properties['ztf_jd'])\n",
    "                rmag.append(alert.properties['ant_mag'])\n",
    "                rerr.append(alert.properties['ant_magerr'])\n",
    "            if alert.properties['ant_passband'] == 'g':                \n",
    "                gmjd.append(alert.properties['ztf_jd'])\n",
    "                gmag.append(alert.properties['ant_mag'])\n",
    "                gerr.append(alert.properties['ant_magerr'])\n"
   ]
  },
  {
   "cell_type": "markdown",
   "metadata": {},
   "source": [
    "Having the time-series photometry in hand, we can plot the light curve."
   ]
  },
  {
   "cell_type": "code",
   "execution_count": 12,
   "metadata": {},
   "outputs": [
    {
     "data": {
      "text/plain": [
       "<function matplotlib.pyplot.show(*args, **kw)>"
      ]
     },
     "execution_count": 12,
     "metadata": {},
     "output_type": "execute_result"
    },
    {
     "data": {
      "image/png": "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\n",
      "text/plain": [
       "<Figure size 432x288 with 1 Axes>"
      ]
     },
     "metadata": {
      "needs_background": "light"
     },
     "output_type": "display_data"
    }
   ],
   "source": [
    "plt.scatter(rmjd, rmag, c='red', alpha=0.5)\n",
    "plt.scatter(gmjd, gmag, c='green', alpha=0.5)\n",
    "plt.title('809 Lundia light curve from ZTF')\n",
    "plt.xlabel('Time [Julian date]')\n",
    "plt.ylabel('Magnitude in g- and r-passband')\n",
    "plt.show"
   ]
  },
  {
   "cell_type": "markdown",
   "metadata": {},
   "source": [
    "Now we want to see if we can find the binary eclipses in the light curves. First we need to remove the long-term trend. This can be done by comparing with the apparent magnitude predicted by JPL/HORIZONS. It has been shown that Lundia has a period of 15.42 hours, we also fold the light curve with this period after de-trending."
   ]
  },
  {
   "cell_type": "code",
   "execution_count": 27,
   "metadata": {},
   "outputs": [],
   "source": [
    "from scipy import interpolate\n",
    "#we read in the predictions of the brightness (according to the distance to the sun) from JPL/HORIZONS\n",
    "lc = pd.read_csv('JPL809.csv')\n",
    "jpl_jd = lc['JD']\n",
    "jpl_mag = lc['Vmag']\n",
    "period=15.418/24.\n",
    "x0=[]\n",
    "y0=[]\n",
    "for i in range(len(jpl_jd)):\n",
    "    x0.append(float(jpl_jd[i]))\n",
    "    y0.append(float(jpl_mag[i]))\n",
    "\n",
    "def ref_mag(x):\n",
    "    tck0 = interpolate.splrep(x0, y0)\n",
    "    return interpolate.splev(x,tck0)\n",
    "\n",
    "mgdate=[]\n",
    "mrdate=[]\n",
    "mrmag=[]\n",
    "mgmag=[]\n",
    "\n",
    "for i in range(len(rmjd)):\n",
    "    if rmjd[i]>2459100:\n",
    "        mrdate.append((float(rmjd[i])%period)/period)\n",
    "        mrmag.append(float(rmag[i])-ref_mag(float(rmjd[i])))\n",
    "for i in range(len(gmjd)):\n",
    "    if gmjd[i]>2459100:\n",
    "        mgdate.append((float(gmjd[i])%period)/period)\n",
    "        mgmag.append(float(gmag[i])-ref_mag(float(gmjd[i])))\n"
   ]
  },
  {
   "cell_type": "markdown",
   "metadata": {},
   "source": [
    "We can now plot the de-trend and folded light curve."
   ]
  },
  {
   "cell_type": "code",
   "execution_count": 28,
   "metadata": {},
   "outputs": [
    {
     "data": {
      "text/plain": [
       "<function matplotlib.pyplot.show(*args, **kw)>"
      ]
     },
     "execution_count": 28,
     "metadata": {},
     "output_type": "execute_result"
    },
    {
     "data": {
      "image/png": "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\n",
      "text/plain": [
       "<Figure size 432x288 with 1 Axes>"
      ]
     },
     "metadata": {
      "needs_background": "light"
     },
     "output_type": "display_data"
    }
   ],
   "source": [
    "#plot folded light curve\n",
    "plt.ylim(max(mgmag)+0.5*(max(mgmag)-min(mgmag)),min(mrmag)-0.5*(max(mrmag)-min(mrmag)))\n",
    "plt.scatter(mrdate, mrmag, c='red', alpha=0.5)\n",
    "plt.scatter(mgdate, mgmag, c='green', alpha=0.5)\n",
    "plt.title('809 Lundia phase-folded light curve from ZTF')\n",
    "plt.xlabel('Phase (Period=15.42 hr)')\n",
    "plt.ylabel('Magnitude in g- and r-passband')\n",
    "\n",
    "plt.show"
   ]
  },
  {
   "cell_type": "markdown",
   "metadata": {},
   "source": [
    "# Concluding remarks\n",
    "\n",
    "The ZTF folded light curve manifests trace of binary eclipses, consistent with previous study by Kryszcynska et al. (2009) that first revealed the binary nature of 809 Lundia. \n",
    "<img src=\"809LundiaPhasedLC.jpeg\">"
   ]
  },
  {
   "cell_type": "markdown",
   "metadata": {},
   "source": [
    "# Resources and references\n",
    "Further reading:\n",
    "\n",
    "Kryszcynska et al. (2009) \"New binary asteroid 809 Lundia. I. Photometry and modelling\". A&A, 501, 769:\n",
    "https://ui.adsabs.harvard.edu/abs/2009A%26A...501..769K/abstract\n"
   ]
  }
 ],
 "metadata": {
  "kernelspec": {
   "display_name": "Python 3 (ANTARES 0.4)",
   "language": "python",
   "name": "antares_0.4_py3.7"
  },
  "language_info": {
   "codemirror_mode": {
    "name": "ipython",
    "version": 3
   },
   "file_extension": ".py",
   "mimetype": "text/x-python",
   "name": "python",
   "nbconvert_exporter": "python",
   "pygments_lexer": "ipython3",
   "version": "3.7.3"
  }
 },
 "nbformat": 4,
 "nbformat_minor": 4
}
